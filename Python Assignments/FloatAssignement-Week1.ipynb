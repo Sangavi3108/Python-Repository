{
 "cells": [
  {
   "cell_type": "markdown",
   "metadata": {},
   "source": [
    "Q. Declare a float value and store it in a variable.\n",
    "Check the type and print the id of the same."
   ]
  },
  {
   "cell_type": "code",
   "execution_count": 1,
   "metadata": {},
   "outputs": [
    {
     "name": "stdout",
     "output_type": "stream",
     "text": [
      "Enter a float value10.2\n",
      "10.2 They type of F is  <class 'float'>\n"
     ]
    }
   ],
   "source": [
    "\n",
    "f = eval(input(\"Enter a float value\"))\n",
    "print(f, \"They type of F is \",type(f))\n",
    "\n"
   ]
  },
  {
   "cell_type": "markdown",
   "metadata": {},
   "source": [
    "Q. Arithmetic Operations on float\n",
    "Take two different float values.\n",
    "Store them in two different variables.\n",
    "Do below operations on them:-\n",
    "Find sum of both numbers\n",
    "Find difference between them\n",
    "Find the product of both numbers.\n",
    "Find value after dividing first num with second number\n",
    "Find the remainder after dividing first number with second number\n",
    "Find the quotient after dividing first number with second number\n",
    "Find the result of the first num to the power of the second number.\n"
   ]
  },
  {
   "cell_type": "code",
   "execution_count": 2,
   "metadata": {},
   "outputs": [
    {
     "name": "stdout",
     "output_type": "stream",
     "text": [
      "Enter the value of a10.2\n",
      "Enter the value of b20.2\n",
      "The sum of a and b is: 30.4\n",
      "The difference of a and b is: -10.0\n",
      "The product of a and b is: 206.04\n",
      "a divided by b gives is: 0.504950495049505\n",
      "The reminder of a/b is: 10.2\n",
      "The Quotient of a/b is : 0.0\n",
      "a to the power of b is 2.364413713591828e+20\n"
     ]
    }
   ],
   "source": [
    "\n",
    "a = float(input(\"Enter the value of a\"))\n",
    "b = float(input(\"Enter the value of b\"))\n",
    "\n",
    "print(\"The sum of a and b is:\" ,a + b)\n",
    "print(\"The difference of a and b is:\", a - b)\n",
    "print(\"The product of a and b is:\", a * b)\n",
    "print(\"a divided by b gives is:\", a / b)\n",
    "print(\"The reminder of a/b is:\" ,a % b)\n",
    "print(\"The Quotient of a/b is :\" ,a // b)\n",
    "print(\"a to the power of b is\" ,a ** b)\n",
    "\n"
   ]
  },
  {
   "cell_type": "markdown",
   "metadata": {},
   "source": [
    "Q. Comparison Operators on float\n",
    "Take two different float values.\n",
    "Store them in two different variables.\n",
    "Do below operations on them:-\n",
    "Compare these two numbers with below operator:-\n",
    "Greater than, '>'\n",
    "Smaller than, '<'\n",
    "Greater than or equal to, '>='\n",
    "Less than or equal to, '<='\n",
    "Observe their output(return type should be boolean)"
   ]
  },
  {
   "cell_type": "code",
   "execution_count": 3,
   "metadata": {},
   "outputs": [
    {
     "name": "stdout",
     "output_type": "stream",
     "text": [
      "Enter the value of a10.0\n",
      "Enter the value of b10.01\n",
      "False\n",
      "True\n",
      "False\n",
      "True\n"
     ]
    }
   ],
   "source": [
    "\n",
    "\n",
    "a = float(input(\"Enter the value of a\"))\n",
    "b = float(input(\"Enter the value of b\"))\n",
    "\n",
    "print( a > b )\n",
    "print( a < b )\n",
    "print( a >= b )\n",
    "print( a <= b )\n",
    "\n"
   ]
  },
  {
   "cell_type": "markdown",
   "metadata": {},
   "source": [
    "Q. Equality Operator\n",
    "Take two different float values.\n",
    "Store them in two different variables.\n",
    "Equate them using equality operators (==, !=)\n",
    "Observe the output(return type should be boolean)"
   ]
  },
  {
   "cell_type": "code",
   "execution_count": 4,
   "metadata": {},
   "outputs": [
    {
     "name": "stdout",
     "output_type": "stream",
     "text": [
      "Enter the value of a10.0\n",
      "Enter the value of b10.01\n",
      "False\n",
      "True\n"
     ]
    }
   ],
   "source": [
    "\n",
    "\n",
    "a = float(input(\"Enter the value of a\"))\n",
    "b = float(input(\"Enter the value of b\"))\n",
    "\n",
    "print(a == b)\n",
    "print(a != b)\n",
    "\n"
   ]
  },
  {
   "cell_type": "code",
   "execution_count": 6,
   "metadata": {},
   "outputs": [
    {
     "name": "stdout",
     "output_type": "stream",
     "text": [
      "0.0\n",
      "20.2\n",
      "0.0\n",
      "0.0\n",
      "10.2\n",
      "10.2\n",
      "20.0\n",
      "0.0\n",
      "False\n",
      "True\n"
     ]
    }
   ],
   "source": [
    "#Logical Operators AND \n",
    "print(10.2 and 0.0) #First is true so, it goes to second\n",
    "print(10.2 and 20.2) # Both are true hence returns second\n",
    "print(0.0 and 10.2) # First is false, hence false\n",
    "print(0.0 and 0.0) # First is false , so doesn not check second\n",
    "\n",
    "#Logical Operators OR\n",
    "print(0.0 or 10.2) #Takes second since first is false\n",
    "print(10.2 or 20.0) # Takes first, since first is true\n",
    "print(20.0 or 0.0) # Takes first since first is truee, doesnt even check the second\n",
    "print(0.0 or 0.0) # checks if second is true, since it is false it returns the second oprand\n",
    "\n",
    "#Logical Not\n",
    "print(not 10.2)\n",
    "print(not 0.0)\n",
    "\n",
    "\n",
    "\n"
   ]
  },
  {
   "cell_type": "markdown",
   "metadata": {},
   "source": [
    "Q. What is the output of expression inside print statement. Cross check\n",
    "before running the program."
   ]
  },
  {
   "cell_type": "code",
   "execution_count": 15,
   "metadata": {},
   "outputs": [
    {
     "name": "stdout",
     "output_type": "stream",
     "text": [
      "False 2416927374064 2416927374032\n",
      "True\n"
     ]
    }
   ],
   "source": [
    "f = 10.20\n",
    "k = 10.20\n",
    "print(f is k,id(f),id(k)) #True or False? True 10.20<256\n",
    "print(f is not k) #True or False? False\n"
   ]
  },
  {
   "cell_type": "markdown",
   "metadata": {},
   "source": [
    "Q. Bitwise operation is not applicable between instances of float.\n",
    "Why the Id of float values are different when the same value is\n",
    "assigned to two different variables\n",
    "ex: a = 10.5 b=10.5. but id will be same if I assign the variable\n",
    "having float i.e. a=c then both a and c's Id are same\n",
    "Object reusability concept is not applicable on float values.\n",
    "\n"
   ]
  },
  {
   "cell_type": "code",
   "execution_count": 16,
   "metadata": {},
   "outputs": [
    {
     "name": "stdout",
     "output_type": "stream",
     "text": [
      "2416927374064 2416927374032\n",
      "2416927374064 2416927374032 2416927374064\n",
      "False\n",
      "True\n"
     ]
    }
   ],
   "source": [
    "print(id(f),id(k))\n",
    "j = f\n",
    "print(id(f),id(k),id(j))\n",
    "print(f is k)\n",
    "print(f is j)"
   ]
  },
  {
   "cell_type": "markdown",
   "metadata": {},
   "source": [
    "Q. Membership operation\n",
    "in, not in are two membership operators and it returns boolean value"
   ]
  },
  {
   "cell_type": "code",
   "execution_count": 9,
   "metadata": {},
   "outputs": [
    {
     "name": "stdout",
     "output_type": "stream",
     "text": [
      "True\n",
      "True\n",
      "True\n",
      "True\n",
      "True\n",
      "True\n"
     ]
    }
   ],
   "source": [
    "\n",
    "\n",
    "print('2.7' in 'Python2.7.8') #True\n",
    "print(10.2 in [10,10.20,10+20j,'Python']) #True\n",
    "print(10.20 in (10,10.20,10+20j,'Python')) # True\n",
    "print(20.30 in {1,20.30,30+40j}) # True\n",
    "print(2.3 in {1:100, 2.3:200, 30+40j:300}) # True\n",
    "print(10 in range(20)) # True\n",
    "\n",
    "\n",
    "\n"
   ]
  },
  {
   "cell_type": "code",
   "execution_count": null,
   "metadata": {},
   "outputs": [],
   "source": []
  },
  {
   "cell_type": "code",
   "execution_count": null,
   "metadata": {},
   "outputs": [],
   "source": []
  },
  {
   "cell_type": "code",
   "execution_count": null,
   "metadata": {},
   "outputs": [],
   "source": []
  },
  {
   "cell_type": "code",
   "execution_count": null,
   "metadata": {},
   "outputs": [],
   "source": []
  },
  {
   "cell_type": "code",
   "execution_count": null,
   "metadata": {},
   "outputs": [],
   "source": []
  }
 ],
 "metadata": {
  "kernelspec": {
   "display_name": "Python 3",
   "language": "python",
   "name": "python3"
  },
  "language_info": {
   "codemirror_mode": {
    "name": "ipython",
    "version": 3
   },
   "file_extension": ".py",
   "mimetype": "text/x-python",
   "name": "python",
   "nbconvert_exporter": "python",
   "pygments_lexer": "ipython3",
   "version": "3.8.5"
  }
 },
 "nbformat": 4,
 "nbformat_minor": 4
}
