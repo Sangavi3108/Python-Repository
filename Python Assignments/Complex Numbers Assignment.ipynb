{
 "cells": [
  {
   "cell_type": "markdown",
   "metadata": {},
   "source": [
    "# Complex Numbers Assignment"
   ]
  },
  {
   "cell_type": "markdown",
   "metadata": {},
   "source": [
    "Q. Declare a complex number and store it in a variable.\n",
    "Check the type and print the id of the same."
   ]
  },
  {
   "cell_type": "code",
   "execution_count": 9,
   "metadata": {},
   "outputs": [
    {
     "name": "stdout",
     "output_type": "stream",
     "text": [
      "Enter a complex number10 + 2j\n",
      "(10+2j) <class 'complex'> 10.0 2.0\n"
     ]
    }
   ],
   "source": [
    "a = eval(input(\"Enter a complex number\"))\n",
    "print(a , type(a), a.real,a.imag)\n"
   ]
  },
  {
   "cell_type": "markdown",
   "metadata": {},
   "source": [
    "Q. Arithmetic Operations on complex number\n",
    "Take two different complex numbers.\n",
    "Store them in two different variables.\n",
    "Do below operations on them:-\n",
    "Find sum of both numbers\n",
    "Find difference between them\n",
    "Find the product of both numbers.\n",
    "Find value after dividing first num with second number\n",
    "Find the result of the first num to the power of the second number."
   ]
  },
  {
   "cell_type": "code",
   "execution_count": 13,
   "metadata": {},
   "outputs": [
    {
     "name": "stdout",
     "output_type": "stream",
     "text": [
      "Enter a complex number10 + 2j\n",
      "Enter a complex number20 + 4j\n",
      "Sum of a and b is : (30+6j)\n",
      "Difference between a and b is : (-10-2j)\n",
      "Product of a and b is : (192+80j)\n",
      "Dividing a by b gives:  (0.5+0j)\n",
      "b to the power of a is : (5.266577608303381e+19+4.175232327141492e+19j)\n"
     ]
    }
   ],
   "source": [
    "a = eval(input(\"Enter a complex number\"))\n",
    "b = eval(input(\"Enter a complex number\"))\n",
    "print(\"Sum of a and b is :\", a + b)\n",
    "print(\"Difference between a and b is :\", a - b)\n",
    "print(\"Product of a and b is :\", a * b )\n",
    "print(\"Dividing a by b gives: \", a / b)\n",
    "\n",
    "print(\"b to the power of a is :\" ,a ** b)"
   ]
  },
  {
   "cell_type": "markdown",
   "metadata": {},
   "source": [
    "Q. Comparison Operation not applicable between instance of complex\n",
    "values.\n",
    "Object reusability concept is not applicable on complex number"
   ]
  },
  {
   "cell_type": "markdown",
   "metadata": {},
   "source": [
    "Q. Equality Operator\n",
    "Take two different complex numbers.\n",
    "Store them in two different variables.\n",
    "Equate them using equality operators (==, !=)\n",
    "Observe the output(return type should be boolean)"
   ]
  },
  {
   "cell_type": "code",
   "execution_count": 15,
   "metadata": {},
   "outputs": [
    {
     "name": "stdout",
     "output_type": "stream",
     "text": [
      "True\n",
      "False\n"
     ]
    }
   ],
   "source": [
    "a = 10 + 2j\n",
    "b = 10 + 2j\n",
    "print ( a == b)\n",
    "print ( a != b)"
   ]
  },
  {
   "cell_type": "code",
   "execution_count": 18,
   "metadata": {},
   "outputs": [
    {
     "name": "stdout",
     "output_type": "stream",
     "text": [
      "0j\n",
      "0j\n",
      "(20+4j)\n",
      "0j\n"
     ]
    }
   ],
   "source": [
    "#Logical Operators - And\n",
    "print(10+2j and 0+0j)#Returns second since first is positive\n",
    "print(0+0j and 0+0j)#Retuns first since the first is negative\n",
    "print(10+2j and 20+4j)#Retuns second , since Both are  positive\n",
    "print(0+0j and 10+0j)#Retuns first since the first is negative"
   ]
  },
  {
   "cell_type": "code",
   "execution_count": 20,
   "metadata": {},
   "outputs": [
    {
     "name": "stdout",
     "output_type": "stream",
     "text": [
      "(10+2j)\n",
      "0j\n",
      "(10+2j)\n",
      "(10+0j)\n"
     ]
    }
   ],
   "source": [
    "#Logical Operators - or\n",
    "print(10+2j or 0+0j)#Returns first it is positive\n",
    "print(0+0j or 0+0j)#Retuns second since the first is negative\n",
    "print(10+2j or 20+4j)#Retuns first , since first is positive\n",
    "print(0+0j or 10+0j)#Retuns second since the first is negative"
   ]
  },
  {
   "cell_type": "code",
   "execution_count": 22,
   "metadata": {},
   "outputs": [
    {
     "name": "stdout",
     "output_type": "stream",
     "text": [
      "False\n",
      "True\n"
     ]
    }
   ],
   "source": [
    "#Logical Operator - not\n",
    "print(not 10+2j)\n",
    "print(not 0+0j)"
   ]
  },
  {
   "cell_type": "markdown",
   "metadata": {},
   "source": [
    "Q. What is the output of the expression inside the print statement.\n",
    "Cross check before running the program."
   ]
  },
  {
   "cell_type": "code",
   "execution_count": 25,
   "metadata": {},
   "outputs": [
    {
     "name": "stdout",
     "output_type": "stream",
     "text": [
      "False\n",
      "True\n"
     ]
    }
   ],
   "source": [
    "a = 10+20j\n",
    "b = 10+20j\n",
    "print(a is b) #False #True or False?\n",
    "print(a is not b) #True #True or False?"
   ]
  },
  {
   "cell_type": "markdown",
   "metadata": {},
   "source": [
    "Q. Membership operation\n",
    "in, not in are two membership operators and it returns boolean value"
   ]
  },
  {
   "cell_type": "code",
   "execution_count": 26,
   "metadata": {},
   "outputs": [
    {
     "name": "stdout",
     "output_type": "stream",
     "text": [
      "True\n",
      "True\n",
      "True\n",
      "True\n",
      "True\n",
      "True\n"
     ]
    }
   ],
   "source": [
    "print('2.7' in 'Python2.7.8') #True\n",
    "print(10+20j in [10,10.20,10+20j,'Python']) #True\n",
    "print(10+20j in (10,10.20,10+20j,'Python')) #True\n",
    "print(30+40j in {1,20.30,30+40j}) #True\n",
    "print(30+40j in {1:100, 2.3:200, 30+40j:300}) #True\n",
    "print(10 in range(20)) #True"
   ]
  },
  {
   "cell_type": "code",
   "execution_count": null,
   "metadata": {},
   "outputs": [],
   "source": []
  },
  {
   "cell_type": "code",
   "execution_count": null,
   "metadata": {},
   "outputs": [],
   "source": []
  }
 ],
 "metadata": {
  "kernelspec": {
   "display_name": "Python 3",
   "language": "python",
   "name": "python3"
  },
  "language_info": {
   "codemirror_mode": {
    "name": "ipython",
    "version": 3
   },
   "file_extension": ".py",
   "mimetype": "text/x-python",
   "name": "python",
   "nbconvert_exporter": "python",
   "pygments_lexer": "ipython3",
   "version": "3.8.5"
  }
 },
 "nbformat": 4,
 "nbformat_minor": 4
}
