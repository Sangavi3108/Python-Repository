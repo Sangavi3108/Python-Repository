{
 "cells": [
  {
   "cell_type": "markdown",
   "metadata": {
    "id": "wNRNTbrsc53d"
   },
   "source": [
    "# If - elif - else statement"
   ]
  },
  {
   "cell_type": "code",
   "execution_count": null,
   "metadata": {
    "id": "MiPfTnBycxNa"
   },
   "outputs": [],
   "source": [
    "#W. A P. which takes one number from 0 to 9 from the user and prints it in the word. And if the word is not from 0 to 9 then\n",
    "#it should print that number is outside of the range and program should exit.\n",
    "# For exapmple:- \n",
    "# input = 1\n",
    "# output = one\n",
    "\n",
    "a = int(input(\"Enter a number:\"))\n",
    "if a == 0:\n",
    "    print(\"Zero\")\n",
    "elif a == 1:\n",
    "    print(\"One\")\n",
    "elif a == 2:\n",
    "    print(\"Two\")\n",
    "elif a == 3:\n",
    "    print(\"Three\")\n",
    "elif a == 4:\n",
    "    print(\"Four\")\n",
    "elif a == 5:\n",
    "    print(\"Five\")\n",
    "elif a == 6:\n",
    "    print(\"Six\")\n",
    "elif a == 7:\n",
    "    print(\"Seven\")\n",
    "elif a == 8:\n",
    "    print(\"Eight\")\n",
    "elif a == 9:\n",
    "    print(\"Nine\")\n",
    "else:\n",
    "    print(\"Out of Range\")"
   ]
  },
  {
   "cell_type": "code",
   "execution_count": null,
   "metadata": {
    "id": "vEMNOv9zdA39"
   },
   "outputs": [],
   "source": [
    "#W. A P. to implement calculator but the operation to be done and two numbers will be taken as input from user:-\n",
    "#Operation console should show below:-\n",
    "print(\"\"\"Please select any one operation from below:-\n",
    "        * To add enter 1\n",
    "        * to subtract enter 2\n",
    "        * To multiply enter 3\n",
    "        * To divide enter 4\n",
    "        * To divide and find quotient enter 5\n",
    "        * To divide and find remainder enter 6\n",
    "        * To divide and find num1 to the power of num2 enter 7\n",
    "        * To Come out of the program enter 8\"\"\")\n",
    "\n",
    "a = int(input(\"Enter a value : \"))\n",
    "x = 51\n",
    "y = 10\n",
    "if a == 1:\n",
    "    print(x + y)\n",
    "elif a == 2:\n",
    "    print(x - y)\n",
    "elif a == 3:\n",
    "    print(x * y)\n",
    "elif a == 4:\n",
    "    print(x / y)\n",
    "elif a == 5:\n",
    "    print(x//y)\n",
    "elif a == 6:\n",
    "    print(x % y)\n",
    "elif a == 7:\n",
    "    print(x **y )\n",
    "elif a == 8:\n",
    "    pass"
   ]
  },
  {
   "cell_type": "code",
   "execution_count": null,
   "metadata": {
    "id": "1e2gwYLqdC1s"
   },
   "outputs": [],
   "source": [
    "#W A P to check whether a year entered by user is an leap year or not?\n",
    "#Check with below input:-\n",
    "    #leap year:- 2012, 1968, 2004, 1200, 1600,2400\n",
    "    #Non-lear year:- 1971, 2006, 1700,1800,1900\n",
    "    \n",
    "year = int(input(\"Enter a year : \"))\n",
    "if year % 400 == 0 :\n",
    "    print(\"Leap year\")\n",
    "elif year % 100 == 0:\n",
    "    print(\"Non Leap \")\n",
    "elif year % 4 == 0:\n",
    "    print(\"leap\")\n",
    "else:print(\"Non leap\")\n"
   ]
  },
  {
   "cell_type": "code",
   "execution_count": null,
   "metadata": {
    "id": "_tpXv1EtdEre"
   },
   "outputs": [],
   "source": [
    "#W A P which takes one number from the user and checks whether it is an even or odd number?, If it even then prints number is \n",
    "#even number else prints that number is odd number.\n",
    "\n",
    "num = int(input(\"Enter a num : \"))\n",
    "if num % 2 == 0:\n",
    "    print(\"Even number\")\n",
    "else: print(\"Odd number\")"
   ]
  },
  {
   "cell_type": "code",
   "execution_count": null,
   "metadata": {
    "id": "Q1HumymCdG6i"
   },
   "outputs": [],
   "source": [
    "#W A P which takes two numbers from the user and prints below output:-\n",
    "#     1. num1 is greater than num2 if num1 is greater than num2\n",
    "#     2. num1 is smaller than num2 if num1 is smaller than num2\n",
    "#     3. num1 is equal to num2 if num1 and num2 are equal\n",
    "\n",
    "#Note:- 1. Do this problem using if - else \n",
    "#       2. Do this using ternary operator\n",
    "num1 = int(input(\"Enter a num : \"))\n",
    "num2 = int(input(\"Enter a num : \"))\n",
    "if num1 > num2:\n",
    "    print(\"First number is greater\")\n",
    "else: print(\"Second number is greater\")\n",
    "    \n",
    "#Ternary Operator\n",
    "print(num1 if num1 > num2 else num2)"
   ]
  },
  {
   "cell_type": "code",
   "execution_count": null,
   "metadata": {
    "id": "LR6TVB-DdOPf"
   },
   "outputs": [],
   "source": [
    "#W A P which takes three numbers from the user and prints below output:-\n",
    "#     1. num1 is greater than num2 and num3 if num1 is greater than num2 and num3\n",
    "#     2. num2 is greater than num1 and num3 if num2 is greater than num1 and num3\n",
    "#     3. num3 is greater than num1 and num2 if num3 is greater than num1 and num2\n",
    "\n",
    "#Note:- 1. Do this problem using if - elif - else \n",
    "#       2. Do this using ternary operator\n",
    "\n",
    "# a = a if a>b else b\n",
    "num1 = int(input(\"Enter a num : \"))\n",
    "num2 = int(input(\"Enter a num : \"))\n",
    "num3 = int(input(\"Enter a num : \"))\n",
    "if num1>num2 and num1>num3:\n",
    "    print(\"Num1 is greater\")\n",
    "elif num2>num3 and num2>num1:\n",
    "    print(\"Num2 is greater\")\n",
    "else: print(\"Num 3 is greater\")\n"
   ]
  },
  {
   "cell_type": "markdown",
   "metadata": {
    "id": "IoOLQMUGdSox"
   },
   "source": [
    "# Loops - for loop, while loop"
   ]
  },
  {
   "cell_type": "code",
   "execution_count": null,
   "metadata": {
    "id": "9K23Uld8dQfA"
   },
   "outputs": [],
   "source": [
    "#Write a Python program to find the length of the my_str using loop:-\n",
    "\n",
    "Input ='Write a Python program to find the length of the my_str'\n",
    "#Output:- 55\n",
    "count = 0\n",
    "for i in Input:\n",
    "    count += 1\n",
    "print(\"Length of input string is\", count)"
   ]
  },
  {
   "cell_type": "code",
   "execution_count": null,
   "metadata": {
    "id": "bp6AcqTsdYxy"
   },
   "outputs": [],
   "source": [
    "#Write a Python program to find the total number of times letter 'p' is appeared in the below string using loop:-\n",
    "    \n",
    "Input= 'peter piper picked a peck of pickled peppers.'\n",
    "#Output:- 9\n",
    "count = 0\n",
    "for i in range(0,len(Input)):\n",
    "    if Input[i] == 'p':\n",
    "        count +=1\n",
    "print(count)\n"
   ]
  },
  {
   "cell_type": "code",
   "execution_count": null,
   "metadata": {
    "id": "xvxSBhTJdav1"
   },
   "outputs": [],
   "source": [
    "#Write a Python Program, to print all the indexes of all occurences of letter 'p' appeared in the string using loop:-\n",
    "    \n",
    "#Input:- 'peter piper picked a peck of pickled peppers.'\n",
    "for i in range(0,len(Input)):\n",
    "    if Input[i] == 'p':\n",
    "        print(i)\n",
    "\n"
   ]
  },
  {
   "cell_type": "code",
   "execution_count": null,
   "metadata": {
    "id": "79L_feMadbmw"
   },
   "outputs": [],
   "source": [
    "#Write a python program to find below output using loop:-\n",
    "\n",
    "#Input:- 'peter piper picked a peck of pickled peppers'\n",
    "#Output:- ['peter', 'piper', 'picked', 'a', 'peck', 'of', 'pickled', 'peppers']\n",
    "\n",
    "# split_value = []\n",
    "# tmp = ''\n",
    "# for c in Input:\n",
    "#     if c == ' ':\n",
    "#         split_value.append(tmp)\n",
    "#         tmp = ''\n",
    "#     else:\n",
    "#         tmp += c\n",
    "# if tmp:\n",
    "#     split_value.append(tmp)\n",
    " \n",
    "# print(split_value)\n",
    "\n",
    "lsta = []\n",
    "for i in Input.split():\n",
    "    lsta.append(i)\n",
    "print(lsta)"
   ]
  },
  {
   "cell_type": "code",
   "execution_count": null,
   "metadata": {
    "id": "vzs5AJ53deVS"
   },
   "outputs": [],
   "source": [
    "#Write a python program to find below output using loop:-\n",
    "\n",
    "#Input:- 'peter piper picked a peck of pickled peppers.'\n",
    "#Output:- 'peppers. pickled of peck a picked piper peter'\n",
    "lsta = []\n",
    "for i in Input.split():\n",
    "     lsta.append(i)\n",
    "print(\" \".join(lsta[::-1]))"
   ]
  },
  {
   "cell_type": "code",
   "execution_count": null,
   "metadata": {
    "id": "i-HP7DrCdhwS"
   },
   "outputs": [],
   "source": [
    "#Write a python program to find below output using loop:-\n",
    "\n",
    "#Input:- 'peter piper picked a peck of pickled peppers.'\n",
    "#Output:- '.sreppep delkcip fo kcep a dekcip repip retep'\n",
    "\n",
    "lsta = []\n",
    "for i in Input.split():\n",
    "    j = i[::-1]\n",
    "    lsta.append(j)\n",
    "print(\" \".join(lsta[::-1]))"
   ]
  },
  {
   "cell_type": "code",
   "execution_count": null,
   "metadata": {
    "id": "3rt6p0ytdkq0"
   },
   "outputs": [],
   "source": [
    "#Write a python program to find below output using loop:-\n",
    "\n",
    "#Input:- 'peter piper picked a peck of pickled peppers.'\n",
    "#Output:- 'retep repip dekcip a kcep fo delkcip .sreppep'\n",
    "\n",
    "lsta = []\n",
    "for i in Input.split():\n",
    "    j = i[::-1]\n",
    "    lsta.append(j)\n",
    "print(\" \".join(lsta))"
   ]
  },
  {
   "cell_type": "code",
   "execution_count": null,
   "metadata": {
    "id": "HdlAWgT2dnKO"
   },
   "outputs": [],
   "source": [
    "#Write a python program to find below output using loop:-\n",
    "\n",
    "#Input:- 'peter piper picked a peck of pickled peppers.'\n",
    "#Output:- 'Peter Piper Picked A Peck Of Pickled Peppers'\n",
    "lsta = []\n",
    "for i in Input.split():\n",
    "    lsta.append(i.capitalize())\n",
    "print(\" \".join(lsta))"
   ]
  },
  {
   "cell_type": "code",
   "execution_count": null,
   "metadata": {
    "id": "OthUuacodrNl"
   },
   "outputs": [],
   "source": [
    "#Write a python program to find below output using loop:-\n",
    "\n",
    "Input = 'Peter Piper Picked A Peck Of Pickled Peppers.'\n",
    "#Output:- 'Peter piper picked a peck of pickled peppers'\n",
    "lsta = []\n",
    "for i in Input.split():\n",
    "    lsta.append(i)\n",
    "print(lsta)\n",
    "lstb = []\n",
    "for i in range(0,len(lsta)):\n",
    "    if i == 0:\n",
    "        lstb.append(lsta[i].capitalize())\n",
    "    else: \n",
    "        lstb.append(lsta[i].lower())\n",
    "    \n",
    "print(\" \".join(lsta))\n",
    "print(\" \".join(lstb))"
   ]
  },
  {
   "cell_type": "code",
   "execution_count": 44,
   "metadata": {
    "colab": {
     "base_uri": "https://localhost:8080/",
     "height": 34
    },
    "id": "scmDJE-ldsI9",
    "outputId": "4b1d1979-9f4a-4bc6-c505-b88b1bbd4d5d"
   },
   "outputs": [
    {
     "name": "stdout",
     "output_type": "stream",
     "text": [
      "0\n",
      "6\n",
      "12\n",
      "21\n",
      "29\n",
      "37\n"
     ]
    }
   ],
   "source": [
    "#Write a python program to implement index method using loop. If sub_str is found in my_str then it will print the index\n",
    "# of first occurrence of first character of matching string in my_str:-\n",
    "\n",
    "#Input:- \n",
    "my_str = 'Peter Piper Picked A Peck Of Pickled Peppers.'\n",
    "sub_str = 'Pickl'\n",
    "#Output:- 29\n",
    "\n",
    "for i in range(len(my_str)-len(sub_str)+1):\n",
    "    count = 0\n",
    "    for j in range(len(sub_str)):\n",
    "        if my_str[i+j] != sub_str[j]: \n",
    "            break\n",
    "        else:\n",
    "            print(i)\n",
    "            break;"
   ]
  },
  {
   "cell_type": "code",
   "execution_count": 9,
   "metadata": {
    "id": "Kq_fwdb_dvYE"
   },
   "outputs": [
    {
     "name": "stdout",
     "output_type": "stream",
     "text": [
      "Peter Piper Picked A Pack Of Pickled Peppers.\n"
     ]
    }
   ],
   "source": [
    "#Write a python program to implement replace method using loop. If sub_str is found in my_str then it will replace the first \n",
    "#occurrence of sub_str with new_str else it will will print sub_str not found:-\n",
    "\n",
    "#Input \n",
    "my_str = 'Peter Piper Picked A Peck Of Pickled Peppers.'\n",
    "sub_str = 'Peck'\n",
    "new_str = 'Pack'\n",
    "#Output:- 'Peter Piper Picked A Pack Of Pickled Peppers.'\n",
    "lst = []\n",
    "for i in my_str.split():\n",
    "    if my_str.find(sub_str)!= -1:\n",
    "        if i == sub_str:\n",
    "            lst.append(new_str)\n",
    "        else: lst.append(i)\n",
    "    else: \n",
    "      print(\"Substring Not found\")\n",
    "      break\n",
    "print(\" \".join(lst))"
   ]
  },
  {
   "cell_type": "code",
   "execution_count": null,
   "metadata": {
    "id": "4Qes5D0cdyd1"
   },
   "outputs": [],
   "source": [
    "#Write a python program to find below output (implements rjust and ljust) using loop:-\n",
    "\n",
    "Input = 'Peter Piper Picked A Peck Of Pickled Peppers.'\n",
    "sub_str = 'Peck'\n",
    "Output = '*********************Peck********************'\n",
    "lenInput = len(Input)\n",
    "print(Input.find(\"Peck\"))\n",
    "for i in range(0,lenInput):\n",
    "    if i < Input.find(sub_str) or i < lenInput-len(sub_str):\n",
    "        print(\"*\",end=\"\")\n",
    "    if i == 21:\n",
    "        print(sub_str,end='')\n",
    "\n"
   ]
  },
  {
   "cell_type": "code",
   "execution_count": null,
   "metadata": {
    "id": "DsOrb07Od0lR"
   },
   "outputs": [],
   "source": [
    "#Write a python program to find below output using loop:-\n",
    "\n",
    "#Input:- 'This is Python class', sep = ' is', \n",
    "#Output:- ['This', 'is', 'Python class']\n",
    "\n"
   ]
  },
  {
   "cell_type": "code",
   "execution_count": 48,
   "metadata": {
    "id": "jRnBVufmd2Ay"
   },
   "outputs": [
    {
     "name": "stdout",
     "output_type": "stream",
     "text": [
      "['This', 'is', 'Python', 'class']\n"
     ]
    }
   ],
   "source": [
    "Input = 'This is Python class'\n",
    "sep = ' is' \n",
    "# Output = ['This', 'is', 'Python class']\n",
    "lsta = []\n",
    "for i in Input.split(' '):\n",
    "    lsta.append(i)\n",
    "print(lsta)\n",
    "\n"
   ]
  },
  {
   "cell_type": "code",
   "execution_count": null,
   "metadata": {},
   "outputs": [],
   "source": []
  },
  {
   "cell_type": "code",
   "execution_count": null,
   "metadata": {},
   "outputs": [],
   "source": []
  }
 ],
 "metadata": {
  "colab": {
   "name": "Conditional_and_loop_assignment.ipynb",
   "provenance": []
  },
  "kernelspec": {
   "display_name": "Python 3",
   "language": "python",
   "name": "python3"
  },
  "language_info": {
   "codemirror_mode": {
    "name": "ipython",
    "version": 3
   },
   "file_extension": ".py",
   "mimetype": "text/x-python",
   "name": "python",
   "nbconvert_exporter": "python",
   "pygments_lexer": "ipython3",
   "version": "3.8.5"
  }
 },
 "nbformat": 4,
 "nbformat_minor": 1
}
