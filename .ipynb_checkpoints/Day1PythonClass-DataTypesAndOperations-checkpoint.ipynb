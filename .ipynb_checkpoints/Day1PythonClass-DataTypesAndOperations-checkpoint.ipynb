{
 "cells": [
  {
   "cell_type": "markdown",
   "metadata": {},
   "source": [
    "### DataTypes in Python \n",
    "1. Integer\n",
    "2. Float\n",
    "3. Binary\n",
    "4. Set\n",
    "5. Tupple\n",
    "6. Dictionary\n",
    "7. List \n",
    "8. String \n",
    "9. Complex"
   ]
  },
  {
   "cell_type": "code",
   "execution_count": 1,
   "metadata": {},
   "outputs": [],
   "source": [
    "a = 10;\n",
    "print(type(a))\n",
    "#Float\n",
    "a = 10.2\n",
    "print(type(a))\n",
    "#Boolean\n",
    "a = False\n",
    "print(type(a))\n",
    "#Complex\n",
    "a = 10 + 2j\n",
    "print(type(a))\n",
    "#String\n",
    "a = 'Hello'\n",
    "print(type(a))\n",
    "#Set\n",
    "a = {2,3,5}\n",
    "print(type(a))\n",
    "#List\n",
    "a = [1,2,3]\n",
    "print(type(a))\n",
    "#Dictionary\n",
    "a = {1:'String'}\n",
    "print(type(a))\n",
    "#Tupple\n",
    "a = ('Sangavi', 24)\n",
    "print(type(a))"
   ]
  },
  {
   "cell_type": "markdown",
   "metadata": {},
   "source": [
    "Types of Integer data types\n",
    "1. Binary (Base 2) 0 and 1\n",
    "2. Octal (Base 8) 0 to 7\n",
    "3. Decimal ( Base 10 ) 0 to 9\n",
    "4. Hexadecimal ( Base 16 ) 0 to 9 and A to F"
   ]
  },
  {
   "cell_type": "markdown",
   "metadata": {},
   "source": [
    "Representation : \n",
    "- Binary 0B1010\n",
    "- Octal 0O123\n",
    "- Hex 0X18\n",
    "- Decimal Normal int representation "
   ]
  },
  {
   "cell_type": "markdown",
   "metadata": {},
   "source": [
    "# Conversion of Integer Datatypes\n",
    "\n",
    "## Decimal to other Types: \n"
   ]
  },
  {
   "cell_type": "code",
   "execution_count": 2,
   "metadata": {},
   "outputs": [],
   "source": [
    "a = 10 \n",
    "print(bin(a))\n",
    "print(oct(a))\n",
    "print(hex(a))"
   ]
  },
  {
   "cell_type": "markdown",
   "metadata": {},
   "source": [
    "## Other data types to Binary"
   ]
  },
  {
   "cell_type": "code",
   "execution_count": 3,
   "metadata": {},
   "outputs": [
    {
     "name": "stdout",
     "output_type": "stream",
     "text": [
      "20\n",
      "15\n",
      "15\n"
     ]
    }
   ],
   "source": [
    "a = 0b10100\n",
    "print(a) #Binary conversion happens by default\n",
    "a = 0XF\n",
    "print(a)\n",
    "a- 0O71\n",
    "print(a)"
   ]
  },
  {
   "cell_type": "markdown",
   "metadata": {},
   "source": [
    "# Other Conversions"
   ]
  },
  {
   "cell_type": "code",
   "execution_count": 4,
   "metadata": {},
   "outputs": [
    {
     "name": "stdout",
     "output_type": "stream",
     "text": [
      "0x39\n",
      "0o125\n",
      "85\n",
      "85\n"
     ]
    }
   ],
   "source": [
    "\n",
    "a = 0O71\n",
    "b = hex(a)\n",
    "print(b)\n",
    "a = 0B1010101\n",
    "b = oct(a)\n",
    "print(b)\n",
    "print(a) \n",
    "print(eval(b))"
   ]
  },
  {
   "cell_type": "markdown",
   "metadata": {},
   "source": [
    "# Float Data types\n",
    "\n",
    "There is no concept of double in Float data types in Python \n",
    "Any value with a decimal point is called as float\n",
    "\n",
    "10.2 , 10.0002 , 10.0000000002 , 10.0\n",
    "Example: "
   ]
  },
  {
   "cell_type": "code",
   "execution_count": 5,
   "metadata": {},
   "outputs": [
    {
     "name": "stdout",
     "output_type": "stream",
     "text": [
      "<class 'float'>\n",
      "<class 'float'>\n"
     ]
    }
   ],
   "source": [
    "a = 10.000000000000010002\n",
    "print(type(a))\n",
    "a = 10.0\n",
    "print(type(a))"
   ]
  },
  {
   "cell_type": "markdown",
   "metadata": {},
   "source": [
    "  ## Type casting with Float Datatypes"
   ]
  },
  {
   "cell_type": "code",
   "execution_count": 6,
   "metadata": {},
   "outputs": [
    {
     "name": "stdout",
     "output_type": "stream",
     "text": [
      "10\n",
      "(10+0j)\n",
      "True\n",
      "10.0\n"
     ]
    }
   ],
   "source": [
    "b = int(a)\n",
    "print(b)\n",
    "b = complex(a)\n",
    "print(b)\n",
    "b = bool(a)\n",
    "print(b)\n",
    "b = str(a)\n",
    "print(b)"
   ]
  },
  {
   "cell_type": "markdown",
   "metadata": {},
   "source": [
    "# Boolean Data \n",
    "1. True\n",
    "2. False\n",
    "\n",
    "## Representation of Boolean in other data types\n",
    "- int - 0's and 1's\n",
    "- String -\n",
    "- Float 1.0 0.0\n",
    "- complex 1+0j 0+0j"
   ]
  },
  {
   "cell_type": "code",
   "execution_count": 7,
   "metadata": {},
   "outputs": [
    {
     "name": "stdout",
     "output_type": "stream",
     "text": [
      "<class 'bool'> <class 'bool'>\n",
      "1 0\n",
      "1.0 0.0\n",
      "True False\n",
      "(1+0j) 0j\n"
     ]
    }
   ],
   "source": [
    "a = True\n",
    "b= False\n",
    "print(type(a),type(b))\n",
    "print(int(a),int(b))\n",
    "print(float(a),float(b))\n",
    "print(str(a),str(b))\n",
    "print(complex(a),complex(b))"
   ]
  },
  {
   "cell_type": "markdown",
   "metadata": {},
   "source": [
    "# String data Types\n",
    "\n",
    "Any word or group of words enclosed with in single , double or Multiple quotes are called string \n",
    "Representation\n",
    "1. 'Sangavi'\n",
    "2. \"Sangavi\"\n",
    "3. \" \" \" Sangavi\" \" \" \n",
    "\n",
    "# Type conversion"
   ]
  },
  {
   "cell_type": "code",
   "execution_count": 6,
   "metadata": {},
   "outputs": [
    {
     "name": "stdout",
     "output_type": "stream",
     "text": [
      "This is Python's class\n",
      "<class 'str'>\n",
      "<class 'str'>\n",
      "<class 'str'>\n"
     ]
    }
   ],
   "source": [
    "a = 'Sangavi'\n",
    "b = \" Sangavi \"\n",
    "c = \"\"\"Hello Sangavi,\n",
    "\"How are you?\"\n",
    "I'm fine\n",
    "\"\"\"\n",
    "d = 'This is Python\\'s class' #Single apostrophe\n",
    "print(d)\n",
    "#Multiple Line String with apostrophe -  Triple Quotes\n",
    "print(type(a))\n",
    "print(type(b))\n",
    "print(type(c))"
   ]
  },
  {
   "cell_type": "markdown",
   "metadata": {},
   "source": [
    "# String Properties\n",
    "\n",
    "1. String is a sequence\n",
    "2. increasing order +ve from left to right\n",
    "3. increasing order -ve from right to left\n",
    "4. Basic operations\n",
    "\n",
    "•\tindexing \n",
    "•\tslicing\n",
    "•\tconcatenation \n",
    "•\trepetation\n",
    "•\tmembership\n",
    "•\tidentitya\n",
    "•\tlength\n"
   ]
  },
  {
   "cell_type": "code",
   "execution_count": 57,
   "metadata": {},
   "outputs": [
    {
     "name": "stdout",
     "output_type": "stream",
     "text": [
      "28\n",
      "i\n",
      "n\n",
      " Sangavi Damodaran\n",
      " Sangavi \n",
      "naradomaD ivagnaS si eman yM\n",
      "naradomaD ivagnaS\n",
      "My sister's name is Janani  Damodaran\n",
      "My sister's name is Janani 2.0\n",
      "My sister's name is Janani My sister's name is Janani \n",
      "True\n",
      "False\n",
      "False\n",
      "True\n"
     ]
    }
   ],
   "source": [
    "#To get the length of  String and Indexing\n",
    "a = \"My name is Sangavi Damodaran\"\n",
    "print(len(a))\n",
    "print((a[17])) #From Left\n",
    "print(a[-1]) #From Right\n",
    "\n",
    "# Slicing\n",
    "# - Stringname [start:stop:step]\n",
    "# +ve - forward - left to right\n",
    "# -ve - backward- right to left\n",
    "\n",
    "print(a[10::])\n",
    "print(a[10:19:])\n",
    "print(a[::-1])\n",
    "print(a[-1:-18:-1])\n",
    "\n",
    "a = \"My sister's name is Janani \"\n",
    "b = \"My sister's name is Janani \"\n",
    "#Concatination\n",
    "print(a + \" Damodaran\")\n",
    "print(a + '2.0')\n",
    "\n",
    "#Repetation\n",
    "print(a * 2)\n",
    "# print(a * 2.0) Throws error \n",
    "\n",
    "#Membership \n",
    "print ('J' in a)\n",
    "print ('j' in a)\n",
    "\n",
    "#Identity \n",
    "\n",
    "print( a is b)\n",
    "s1= \"Sangavi\"\n",
    "s2 = 'Sangavi'\n",
    "print(s1 is s2)\n"
   ]
  },
  {
   "cell_type": "code",
   "execution_count": 9,
   "metadata": {},
   "outputs": [
    {
     "name": "stdout",
     "output_type": "stream",
     "text": [
      "10 <class 'str'>\n",
      "10.0 <class 'str'>\n",
      "False <class 'str'>\n",
      "True <class 'str'>\n",
      "(3+3j)\n",
      "{1, 3, 5} <class 'set'>\n",
      "[2, 4, 6] <class 'list'>\n",
      "(1, 5, 10) <class 'tuple'>\n",
      "{(1, 5, 10): 'apple', (3+3j): 'ball'} <class 'dict'>\n"
     ]
    }
   ],
   "source": [
    "a = '10'\n",
    "print(int(a),type(a))\n",
    "a = '10.0'\n",
    "print(float(a),type(a))\n",
    "a = '' #Null Value is considered as false\n",
    "print(bool(a),type(a))\n",
    "a = \"False\" #Everything else is true in Boolean to String conversion\n",
    "print(bool(a),type(a))\n",
    "a = \"3+3j\"\n",
    "#a = \"3+   5j\"\n",
    "#a = a.replace(\" \", \"\") # will do nothing if unneeded #Purpose is to remove spaces in the String\n",
    "b = complex(a)\n",
    "print(b)\n",
    "a = {1, 3, 5 }\n",
    "print(str(a),type(a))\n",
    "a = [2,4,6]\n",
    "print(str(a),type(a))\n",
    "a = (1, 5,10)\n",
    "print(str(a),type(a))\n",
    "a = {a:'apple' ,  b : 'ball'}\n",
    "b= str(a)\n",
    "print(str(a),type(a))"
   ]
  },
  {
   "cell_type": "markdown",
   "metadata": {},
   "source": [
    "# Operators in python"
   ]
  },
  {
   "cell_type": "markdown",
   "metadata": {},
   "source": [
    "- Arithmetic\n",
    "- Comparison\n",
    "- Equality\n",
    "- Logical\n",
    "- Bitwise\n",
    "- Assignment \n",
    "- Compound Assignment\n",
    "- Membership \n",
    "- Identity Operator\n",
    "- Ternary Operator"
   ]
  },
  {
   "cell_type": "markdown",
   "metadata": {},
   "source": [
    "# Arithmetic Operators - \n",
    "### works on all Number types(Float , Complex , Int)\n",
    "(+ , - , * , /(gives floating point value), %(modulo) (reminder), //(floor division)(quotient) , ** (Exponent or power)) "
   ]
  },
  {
   "cell_type": "code",
   "execution_count": 10,
   "metadata": {},
   "outputs": [
    {
     "name": "stdout",
     "output_type": "stream",
     "text": [
      "7\n",
      "3\n",
      "10\n",
      "2.5\n",
      "1\n",
      "2\n",
      "25\n"
     ]
    }
   ],
   "source": [
    "a = 5 \n",
    "b = 2\n",
    "print(a + b)\n",
    "print(a - b)\n",
    "print(a * b)\n",
    "print(a / b) # returns float\n",
    "print(a % b) # return reminder\n",
    "print(a // b) # returns quotient\n",
    "print( a ** b) #a^b"
   ]
  },
  {
   "cell_type": "markdown",
   "metadata": {},
   "source": [
    "# Comparison Operator\n",
    "( < , > , >= , <=)\n",
    "- Comparison between int and float is possible\n",
    "- Comparison between other data types in not possible\n",
    "- comparison between complex to complex data types is not possible"
   ]
  },
  {
   "cell_type": "code",
   "execution_count": 11,
   "metadata": {},
   "outputs": [
    {
     "name": "stdout",
     "output_type": "stream",
     "text": [
      "False\n",
      "True\n",
      "True\n",
      "True\n",
      "False\n"
     ]
    }
   ],
   "source": [
    "a = 10 \n",
    "b = 10.2\n",
    "print(a > b)\n",
    "print(a < b)\n",
    "print(a <= b)\n",
    "print('Python' >= 'Python')\n",
    "print('Python' >= 'python')\n",
    "#print((2+2j)>(1+1j)) gives error"
   ]
  },
  {
   "cell_type": "markdown",
   "metadata": {},
   "source": [
    "# Equality Operator\n",
    "--> , == , != \n",
    "- Equality comparison betweeb different data type is not possible\n",
    "- Compares only the value"
   ]
  },
  {
   "cell_type": "code",
   "execution_count": 12,
   "metadata": {},
   "outputs": [
    {
     "name": "stdout",
     "output_type": "stream",
     "text": [
      "65\n",
      "B\n",
      "True\n",
      "False\n",
      "True\n"
     ]
    }
   ],
   "source": [
    "#To get the ASCII Value of a character , To convert the ASCII code to Character\n",
    "print (ord('A'))\n",
    "print(chr(66))\n",
    "print(\"A\" == 'A')\n",
    "print ('A' == 65)\n",
    "print(a != 64)"
   ]
  },
  {
   "cell_type": "markdown",
   "metadata": {},
   "source": [
    "# Logical Operators\n",
    "logic is always true or false\n",
    "+ Truth Table - AND \n",
    " - TRUE AND TRUE = TRUE\n",
    " - FALSE AND FALSE = FALSE\n",
    " - TRUE AND FALSE = FALSE\n",
    " - FALSE AND TRUE = FALSE\n",
    "+ Truth table OR\n",
    " - TRUE OR TRUE = TRUE\n",
    " - FALSE OR FALSE = FALSE\n",
    " - TRUE OR FALSE = TRUE\n",
    " - FALSE OR TRUE = TRUE\n",
    "+ Truth Table - AND \n",
    " - NOT FALSE = TRUE\n",
    " - NOT TRUE = FALSE\n",
    " "
   ]
  },
  {
   "cell_type": "code",
   "execution_count": 13,
   "metadata": {},
   "outputs": [
    {
     "name": "stdout",
     "output_type": "stream",
     "text": [
      "False\n",
      "True\n",
      "False\n",
      "False\n",
      "True\n",
      "0.1\n"
     ]
    }
   ],
   "source": [
    "print(True and False)\n",
    "print(True or False)\n",
    "print(not True)\n",
    "print((10>20) and True)\n",
    "print((10>20) or True)\n",
    "print(0 or 0.1)"
   ]
  },
  {
   "cell_type": "markdown",
   "metadata": {},
   "source": [
    "# Bitwise Operator \n",
    "(& , | , ^ , ~ , <<, >>)\n",
    "- Always works on integer\n",
    "- All numbers are converted into bits and operation is performed bit by bit\n",
    "\n",
    "## Bitwise Truth table AND\n",
    "- 1 &  0 = 0 \n",
    "- 0 & 0 = 0\n",
    "- 1 & 1 = 1\n",
    "- 0 & 1 = 0\n",
    "\n",
    "## Bitwise Truth table OR\n",
    "- 1 |  0 = 1\n",
    "- 0 | 0 = 0\n",
    "- 1 | 1 = 1\n",
    "- 0 | 1 = 1\n",
    "\n",
    "## Bitwise Truth table NOR\n",
    "- 1 ^  0 = 1 \n",
    "- 0 ^ 0 = 0\n",
    "- 1 ^ 1 = 0\n",
    "- 0 ^ 1 = 1\n",
    "\n"
   ]
  },
  {
   "cell_type": "code",
   "execution_count": 14,
   "metadata": {},
   "outputs": [
    {
     "name": "stdout",
     "output_type": "stream",
     "text": [
      "16\n",
      "407\n",
      "391\n",
      "-11\n",
      "7\n",
      "7360\n",
      "7\n"
     ]
    }
   ],
   "source": [
    "print( 23 & 400)\n",
    "print (23 | 400)\n",
    "print(23 ^ 400)\n",
    "print(~10)\n",
    "print(~-8) #Bitwise Negation\n",
    "#<< bitwise left shift and >> bitwise right shift (2 operands)\n",
    "# 1. Number to be shifted , 2. How many numbers to be shifter\n",
    "print(230 << 5)\n",
    "print(230 >> 5)"
   ]
  },
  {
   "cell_type": "markdown",
   "metadata": {},
   "source": [
    "# Assignment Operator\n",
    "    ( = )\n",
    "    a =10"
   ]
  },
  {
   "cell_type": "markdown",
   "metadata": {},
   "source": [
    "# Compoud Assignement\n",
    "\n",
    "- +=\n",
    "- -=\n",
    "- *=\n",
    "- /=\n",
    "- //=\n",
    "- %=\n",
    "- **=\n",
    "- ^=\n",
    "- <<=,  >>="
   ]
  },
  {
   "cell_type": "code",
   "execution_count": 15,
   "metadata": {},
   "outputs": [
    {
     "name": "stdout",
     "output_type": "stream",
     "text": [
      "6\n"
     ]
    }
   ],
   "source": [
    "a = 5\n",
    "a += 1 # Increment by 1\n",
    "print(a)"
   ]
  },
  {
   "cell_type": "markdown",
   "metadata": {},
   "source": [
    "# Membership operator \n",
    "checks whether a element is a part of sequence or not\n",
    " - in\n",
    " - not in\n",
    " \n",
    " ## used in \n",
    " set , tupple , dictionary , list , byte , range\n"
   ]
  },
  {
   "cell_type": "code",
   "execution_count": 16,
   "metadata": {},
   "outputs": [
    {
     "name": "stdout",
     "output_type": "stream",
     "text": [
      "False\n",
      "True\n",
      "True\n",
      "True\n"
     ]
    }
   ],
   "source": [
    "print('p' in 'Python')\n",
    "print(100 in [100,102,104])\n",
    "print (a in {a : \"apple\" , b : \"banana\" , c : \"carrot\"})\n",
    "print('fox' in ('cat', 'dog','Elepant', 'fox'))"
   ]
  },
  {
   "cell_type": "markdown",
   "metadata": {},
   "source": [
    "# Identity operator\n",
    "- is \n",
    "- is not\n",
    "+ is : \n",
    "returns true if both are same "
   ]
  },
  {
   "cell_type": "code",
   "execution_count": 17,
   "metadata": {},
   "outputs": [
    {
     "name": "stdout",
     "output_type": "stream",
     "text": [
      "True\n",
      "140721809139776\n",
      "140721809139776\n",
      "140721809145856\n",
      "140721809145856\n",
      "False\n"
     ]
    }
   ],
   "source": [
    "a = 10\n",
    "b = 10 \n",
    "print (a is b)\n",
    "\n",
    "print(id(a))\n",
    "print(id(b)) \n",
    "\n",
    "x = 200\n",
    "y = 200\n",
    "# Object reusability\n",
    "\n",
    "print(id(x))\n",
    "print(id(y))\n",
    "print( x is b)\n",
    "# Already available in memory,  when we create a object only the reference will be calculated\n",
    "# 0 to 256\n",
    "# A to Z, a to z , \n",
    "# none ,\n",
    "# true false"
   ]
  },
  {
   "cell_type": "markdown",
   "metadata": {},
   "source": [
    "# Terenary Operator\n"
   ]
  },
  {
   "cell_type": "code",
   "execution_count": 18,
   "metadata": {},
   "outputs": [
    {
     "name": "stdout",
     "output_type": "stream",
     "text": [
      " Enter a Value100\n",
      " Enter a Value120\n",
      " Enter a Value130\n",
      "130\n"
     ]
    }
   ],
   "source": [
    "a = int(input(\" Enter a Value\"))\n",
    "b = int(input(\" Enter a Value\"))\n",
    "c = int(input(\" Enter a Value\"))\n",
    "print(a if a>b and a>c else b if b>c else c )\n",
    "\n",
    "#cond?Expr1:Expr2\n"
   ]
  },
  {
   "cell_type": "markdown",
   "metadata": {},
   "source": [
    "# None Data type\n",
    "In java when we declare a variable , \n",
    "int a; \n",
    "the value stored in a will be null\n",
    "but here we need to implicitely mention the data type when you want the data type to be 'null ' \n",
    "\n",
    "- NameError: name 'R' is not defined "
   ]
  },
  {
   "cell_type": "code",
   "execution_count": 3,
   "metadata": {},
   "outputs": [
    {
     "name": "stdout",
     "output_type": "stream",
     "text": [
      "<class 'NoneType'>\n"
     ]
    }
   ],
   "source": [
    "R = None\n",
    "print(type(R))"
   ]
  },
  {
   "cell_type": "markdown",
   "metadata": {},
   "source": []
  },
  {
   "cell_type": "code",
   "execution_count": null,
   "metadata": {},
   "outputs": [],
   "source": []
  },
  {
   "cell_type": "code",
   "execution_count": null,
   "metadata": {},
   "outputs": [],
   "source": []
  }
 ],
 "metadata": {
  "kernelspec": {
   "display_name": "Python 3",
   "language": "python",
   "name": "python3"
  },
  "language_info": {
   "codemirror_mode": {
    "name": "ipython",
    "version": 3
   },
   "file_extension": ".py",
   "mimetype": "text/x-python",
   "name": "python",
   "nbconvert_exporter": "python",
   "pygments_lexer": "ipython3",
   "version": "3.8.5"
  },
  "widgets": {
   "application/vnd.jupyter.widget-state+json": {
    "state": {},
    "version_major": 2,
    "version_minor": 0
   }
  }
 },
 "nbformat": 4,
 "nbformat_minor": 4
}
