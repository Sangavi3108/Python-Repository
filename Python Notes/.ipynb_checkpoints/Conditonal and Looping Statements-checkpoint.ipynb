{
 "cells": [
  {
   "cell_type": "markdown",
   "metadata": {},
   "source": [
    "# Conditonal and Looping Statements\n",
    "- if \n",
    "- else if/ elif\n",
    "- else\n",
    "- while\n",
    "- short hand if\n",
    "- Nested if\n",
    "- Switch case"
   ]
  },
  {
   "cell_type": "code",
   "execution_count": 1,
   "metadata": {},
   "outputs": [
    {
     "name": "stdout",
     "output_type": "stream",
     "text": [
      "A\n"
     ]
    }
   ],
   "source": [
    "#Shorthand if \n",
    "a = 2900\n",
    "b = 330\n",
    "print(\"A\") if a > b else print(\"B\")"
   ]
  },
  {
   "cell_type": "code",
   "execution_count": 2,
   "metadata": {},
   "outputs": [
    {
     "name": "stdout",
     "output_type": "stream",
     "text": [
      "a and b are equal\n"
     ]
    }
   ],
   "source": [
    "#Elif\n",
    "a = 33\n",
    "b = 33\n",
    "if b > a:\n",
    "  print(\"b is greater than a\")\n",
    "elif a == b:\n",
    "  print(\"a and b are equal\")"
   ]
  },
  {
   "cell_type": "code",
   "execution_count": 3,
   "metadata": {},
   "outputs": [
    {
     "name": "stdout",
     "output_type": "stream",
     "text": [
      "a is greater than b\n"
     ]
    }
   ],
   "source": [
    "#else if \n",
    "a = 200\n",
    "b = 33\n",
    "if b > a:\n",
    "  print(\"b is greater than a\")\n",
    "elif a == b:\n",
    "  print(\"a and b are equal\")\n",
    "else:\n",
    "  print(\"a is greater than b\")"
   ]
  },
  {
   "cell_type": "code",
   "execution_count": 4,
   "metadata": {},
   "outputs": [
    {
     "name": "stdout",
     "output_type": "stream",
     "text": [
      "Above ten,\n",
      "but not above 20.\n"
     ]
    }
   ],
   "source": [
    "#Nested if\n",
    "x = 14\n",
    "\n",
    "if x > 10:\n",
    "  print(\"Above ten,\")\n",
    "  if x > 20:\n",
    "    print(\"and also above 20!\")\n",
    "  else:\n",
    "    print(\"but not above 20.\")"
   ]
  },
  {
   "cell_type": "code",
   "execution_count": 5,
   "metadata": {},
   "outputs": [],
   "source": [
    "a = 33\n",
    "b = 20\n",
    "if b > a:\n",
    "    pass\n",
    "#Empty if statement"
   ]
  },
  {
   "cell_type": "code",
   "execution_count": 6,
   "metadata": {},
   "outputs": [
    {
     "name": "stdout",
     "output_type": "stream",
     "text": [
      "0\n",
      "1\n",
      "2\n",
      "3\n",
      "4\n",
      "5\n"
     ]
    }
   ],
   "source": [
    "i=0 \n",
    "while True:  \n",
    "    print(i)  \n",
    "    i = i + 1  \n",
    "    if(i > 5):  \n",
    "        break \n",
    "#Something Similar to do while in Python "
   ]
  },
  {
   "cell_type": "code",
   "execution_count": 7,
   "metadata": {},
   "outputs": [
    {
     "name": "stdout",
     "output_type": "stream",
     "text": [
      "Not palindrome 201 102\n"
     ]
    }
   ],
   "source": [
    "a = 201\n",
    "a = str(a)\n",
    "b = a[::-1]\n",
    "if(a == b ):\n",
    "    print(\"palindrome\",a,b)\n",
    "else :\n",
    "    print(\"Not palindrome\",a,b)"
   ]
  },
  {
   "cell_type": "code",
   "execution_count": 8,
   "metadata": {},
   "outputs": [
    {
     "name": "stdout",
     "output_type": "stream",
     "text": [
      "P\n",
      "YY\n",
      "TTT\n",
      "HHHH\n",
      "OOOOO\n",
      "NNNNNN\n",
      "P\n",
      "YY\n",
      "TTT\n",
      "HHHH\n",
      "OOOOO\n",
      "NNNNNN\n"
     ]
    }
   ],
   "source": [
    "a = 'PYTHON'\n",
    "for j in range(len(a)):\n",
    "    print((a[j])*(j+1))\n",
    "j = 0\n",
    "for i in a:\n",
    "    print(a[j]*(j+1))\n",
    "    j+=1"
   ]
  },
  {
   "cell_type": "code",
   "execution_count": 9,
   "metadata": {},
   "outputs": [
    {
     "name": "stdout",
     "output_type": "stream",
     "text": [
      " Peter Piper picked a peck of pickled peppers. \n",
      "['Peter', 'Piper', 'picked', 'a', 'peck', 'of', 'pickled', 'peppers.']\n",
      "Peter Piper picked a peck of pickled peppers.\n",
      "Peter Piper picked a peck of pickled peppers.\n",
      "Hello Pam!\n"
     ]
    }
   ],
   "source": [
    "import string\n",
    "str =\" Peter Piper picked a peck of pickled peppers. \"\n",
    "print(str)\n",
    "str1 = str.split()\n",
    "print(str1)\n",
    "str1 = str.strip()\n",
    "print(str1)\n",
    "# print(str1[::-1])\n",
    "mydict = {'e':'a'}\n",
    "print(str1)\n",
    "txt = \"Hello Sam!\"\n",
    "mytable = txt.maketrans(\"S\", \"P\")\n",
    "print(txt.translate(mytable))"
   ]
  },
  {
   "cell_type": "markdown",
   "metadata": {},
   "source": [
    "# Break \n",
    "\n",
    "The break statement terminates the loop containing it. \\\n",
    "Control of the program flows to the statement immediately after the body of the loop.\n",
    "\n",
    "If the break statement is inside a nested loop (loop inside another loop), \n",
    "the break statement will terminate the innermost loop.\n",
    "\n",
    "# Pass \n",
    "the pass statement is a null statement. \n",
    "The difference between a comment and a pass statement in Python is that while the interpreter ignores a comment entirely, \n",
    "pass is not ignored.\n",
    "\n",
    "# Continue\n",
    "\n",
    "The continue statement is used to skip the rest of the code inside a loop for the current iteration only. \n",
    "Loop does not terminate but continues on with the next iteration.\n",
    "    \n",
    "    \n"
   ]
  },
  {
   "cell_type": "code",
   "execution_count": 17,
   "metadata": {},
   "outputs": [
    {
     "name": "stdout",
     "output_type": "stream",
     "text": [
      "0 0\n",
      "0 1\n",
      "0 2\n",
      "0 3\n",
      "0 4\n",
      "1 0\n",
      "1 1\n",
      "1 2\n",
      "1 3\n",
      "1 4\n",
      "2 0\n",
      "3 0\n",
      "4 0\n"
     ]
    }
   ],
   "source": [
    "for i in range(0,5):\n",
    "    for j in range(0,5):\n",
    "        if i < 2:\n",
    "            print(i,j)\n",
    "        elif i >= 2:\n",
    "            print(i,j)\n",
    "            break\n",
    "#Only J look is broken(not I)"
   ]
  },
  {
   "cell_type": "code",
   "execution_count": 19,
   "metadata": {},
   "outputs": [
    {
     "name": "stdout",
     "output_type": "stream",
     "text": [
      "0 0\n",
      "0 1\n",
      "0 2\n",
      "0 3\n",
      "0 4\n",
      "1 0\n",
      "1 1\n",
      "1 2\n",
      "1 3\n",
      "1 4\n"
     ]
    }
   ],
   "source": [
    "for i in range(0,5):\n",
    "    for j in range(0,5):\n",
    "        if i < 2:\n",
    "            print(i,j)\n",
    "        elif i >= 2:\n",
    "            continue\n",
    "            print(i,j) # This line gets skipped"
   ]
  },
  {
   "cell_type": "code",
   "execution_count": 21,
   "metadata": {},
   "outputs": [
    {
     "name": "stdout",
     "output_type": "stream",
     "text": [
      "retep repip dekcip a kcep fo delkcip sreppep "
     ]
    }
   ],
   "source": [
    "str1 = 'peter piper picked a peck of pickled peppers'\n",
    "for i in str1.split():\n",
    "    print(i[::-1],end=' ')"
   ]
  },
  {
   "cell_type": "code",
   "execution_count": 29,
   "metadata": {},
   "outputs": [
    {
     "name": "stdout",
     "output_type": "stream",
     "text": [
      "peter\n",
      "piper\n",
      "picked\n",
      "a\n",
      "peck\n",
      "of\n",
      "pickled\n",
      "['peter', 'piper', 'picked', 'a', 'peck', 'of', 'pickled', 'peppers']\n"
     ]
    }
   ],
   "source": [
    "split_value = []\n",
    "tmp = ''\n",
    "for c in str1:\n",
    "    if c == ' ':\n",
    "        split_value.append(tmp)\n",
    "        print(tmp)\n",
    "    else:\n",
    "        tmp = tmp + c\n",
    "if tmp:\n",
    "    split_value.append(tmp)\n",
    "print(split_value)\n"
   ]
  },
  {
   "cell_type": "code",
   "execution_count": null,
   "metadata": {},
   "outputs": [],
   "source": []
  }
 ],
 "metadata": {
  "kernelspec": {
   "display_name": "Python 3",
   "language": "python",
   "name": "python3"
  },
  "language_info": {
   "codemirror_mode": {
    "name": "ipython",
    "version": 3
   },
   "file_extension": ".py",
   "mimetype": "text/x-python",
   "name": "python",
   "nbconvert_exporter": "python",
   "pygments_lexer": "ipython3",
   "version": "3.8.5"
  }
 },
 "nbformat": 4,
 "nbformat_minor": 4
}
