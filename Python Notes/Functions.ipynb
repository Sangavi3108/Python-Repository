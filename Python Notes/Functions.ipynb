{
 "cells": [
  {
   "cell_type": "markdown",
   "metadata": {},
   "source": [
    "# Functions"
   ]
  },
  {
   "cell_type": "code",
   "execution_count": 1,
   "metadata": {},
   "outputs": [
    {
     "name": "stdout",
     "output_type": "stream",
     "text": [
      "[1, 2, 3, 4, 5, 6, 7, 8, 9, 10]\n",
      "55\n"
     ]
    }
   ],
   "source": [
    "def sumoflst(lst):\n",
    "  sum = 0\n",
    "  for i in lst:\n",
    "    sum = sum + i\n",
    "  print(sum)\n",
    "a = [i for i in range(1,11)]\n",
    "print(a)\n",
    "sumoflst(a)\n",
    "\n"
   ]
  },
  {
   "cell_type": "code",
   "execution_count": 2,
   "metadata": {},
   "outputs": [
    {
     "name": "stdout",
     "output_type": "stream",
     "text": [
      "50.0\n"
     ]
    }
   ],
   "source": [
    "def degtofar(deg):\n",
    "  far = deg * (9/5) +32\n",
    "  return far\n",
    "\n",
    "print(degtofar(10)) "
   ]
  },
  {
   "cell_type": "code",
   "execution_count": 3,
   "metadata": {},
   "outputs": [],
   "source": [
    "def pali(num):\n",
    "  stringnum = str(num)\n",
    "  stringnumr = stringnum[::-1]\n",
    "  if (stringnum==stringnumr):\n",
    "    return True\n",
    "  else:\n",
    "    return False"
   ]
  },
  {
   "cell_type": "code",
   "execution_count": 4,
   "metadata": {},
   "outputs": [
    {
     "name": "stdout",
     "output_type": "stream",
     "text": [
      "True\n"
     ]
    }
   ],
   "source": [
    "print(pali(101))"
   ]
  },
  {
   "cell_type": "code",
   "execution_count": 5,
   "metadata": {},
   "outputs": [
    {
     "name": "stdout",
     "output_type": "stream",
     "text": [
      "12\n"
     ]
    }
   ],
   "source": [
    "# Position matters\n",
    "def calc(n1,n2,o):\n",
    "  if o == '+':\n",
    "    return n1 + n2\n",
    "  elif o == '-':\n",
    "    return n1 - n2\n",
    "  elif o == '*':\n",
    "    return n1 * n2\n",
    "  elif o == '/':\n",
    "    return n1 // n2\n",
    "  else:\n",
    "    print(\"Invalid Operation \",o)\n",
    "    return(n1,n2)\n",
    "    \n",
    "print(calc(10,2,'+'))"
   ]
  },
  {
   "cell_type": "code",
   "execution_count": 6,
   "metadata": {},
   "outputs": [
    {
     "name": "stdout",
     "output_type": "stream",
     "text": [
      "23\n",
      "10\n",
      "13\n",
      "19\n",
      "0\n"
     ]
    }
   ],
   "source": [
    "def adder(n1=0,n2=0,n3=0,n4=0):\n",
    "  return n1+n2+n3+n4\n",
    "\n",
    "print(adder(10,2,4,7))\n",
    "print(adder(10))\n",
    "print(adder(2,4,7))\n",
    "print(adder(10,2,7))\n",
    "print(adder())"
   ]
  },
  {
   "cell_type": "code",
   "execution_count": 7,
   "metadata": {},
   "outputs": [
    {
     "name": "stdout",
     "output_type": "stream",
     "text": [
      "100\n",
      "-10\n",
      "19\n"
     ]
    }
   ],
   "source": [
    "#Keyworded Argument\n",
    "print(adder(n3=30,n4=40,n1=10,n2=20))\n",
    "print(calc(o='-',n1=10,n2=20))\n",
    "print(adder(10,2,n4 =7))# First 2 qre positioned \n"
   ]
  },
  {
   "cell_type": "code",
   "execution_count": 10,
   "metadata": {},
   "outputs": [
    {
     "name": "stdout",
     "output_type": "stream",
     "text": [
      "(10, 20, 30, 40) <class 'tuple'>\n",
      "100\n",
      "(10, 40) <class 'tuple'>\n",
      "50\n",
      "(10, 30, 40) <class 'tuple'>\n",
      "80\n",
      "(10,) <class 'tuple'>\n",
      "10\n",
      "() <class 'tuple'>\n",
      "0\n"
     ]
    }
   ],
   "source": [
    "#Variable Length\n",
    "def vararg(*args):\n",
    "  print(args,type(args))\n",
    "  total = 0 \n",
    "  for i in args:\n",
    "    total += i\n",
    "  print(total)\n",
    "\n",
    "\n",
    "vararg(10,20,30,40)\n",
    "vararg(10,40) \n",
    "vararg(10,30,40)\n",
    "vararg(10)\n",
    "vararg()"
   ]
  },
  {
   "cell_type": "code",
   "execution_count": 13,
   "metadata": {},
   "outputs": [
    {
     "name": "stdout",
     "output_type": "stream",
     "text": [
      "Name: Sangavi\n",
      "Number: 9943728935\n",
      "door: Vallalar Street\n",
      "Street: B48\n",
      "City: Chennai\n",
      "State: TN\n",
      "pin: 600106\n",
      "email: sangavi@gmail.com\n"
     ]
    }
   ],
   "source": [
    "def contact_info(name, mobile):\n",
    "    print(\"Name:\",name)\n",
    "    print(\"Number:\",mobile)\n",
    "\n",
    "def address_info(door,street,city,state,pin, **kvargs):\n",
    "    contact_info(kvargs['name'],kvargs['phone'])\n",
    "    print(\"door:\",door)\n",
    "    print(\"Street:\",street)\n",
    "    print(\"City:\",city)\n",
    "    print(\"State:\",state)\n",
    "    print(\"pin:\",pin)\n",
    "\n",
    "def email(email , **kwargs):\n",
    "    address_info(kwargs['street'],kwargs['door'],kwargs['city'],kwargs['state'],kwargs['pin'],name = kwargs['name'],phone =kwargs['phone'])\n",
    "    print(\"email:\",email)\n",
    "    \n",
    "email('sangavi@gmail.com',door = 'B48' ,street = 'Vallalar Street',city = 'Chennai' ,pin ='600106' ,state = 'TN', name ='Sangavi',phone ='9943728935')"
   ]
  },
  {
   "cell_type": "code",
   "execution_count": null,
   "metadata": {},
   "outputs": [],
   "source": [
    "#Ananymous Function"
   ]
  },
  {
   "cell_type": "code",
   "execution_count": null,
   "metadata": {},
   "outputs": [],
   "source": []
  },
  {
   "cell_type": "code",
   "execution_count": null,
   "metadata": {},
   "outputs": [],
   "source": []
  },
  {
   "cell_type": "code",
   "execution_count": null,
   "metadata": {},
   "outputs": [],
   "source": []
  },
  {
   "cell_type": "code",
   "execution_count": null,
   "metadata": {},
   "outputs": [],
   "source": []
  },
  {
   "cell_type": "code",
   "execution_count": null,
   "metadata": {},
   "outputs": [],
   "source": []
  },
  {
   "cell_type": "code",
   "execution_count": null,
   "metadata": {},
   "outputs": [],
   "source": []
  },
  {
   "cell_type": "code",
   "execution_count": null,
   "metadata": {},
   "outputs": [],
   "source": []
  },
  {
   "cell_type": "code",
   "execution_count": null,
   "metadata": {},
   "outputs": [],
   "source": []
  },
  {
   "cell_type": "code",
   "execution_count": null,
   "metadata": {},
   "outputs": [],
   "source": []
  },
  {
   "cell_type": "code",
   "execution_count": null,
   "metadata": {},
   "outputs": [],
   "source": []
  },
  {
   "cell_type": "code",
   "execution_count": null,
   "metadata": {},
   "outputs": [],
   "source": []
  }
 ],
 "metadata": {
  "kernelspec": {
   "display_name": "Python 3",
   "language": "python",
   "name": "python3"
  },
  "language_info": {
   "codemirror_mode": {
    "name": "ipython",
    "version": 3
   },
   "file_extension": ".py",
   "mimetype": "text/x-python",
   "name": "python",
   "nbconvert_exporter": "python",
   "pygments_lexer": "ipython3",
   "version": "3.8.5"
  }
 },
 "nbformat": 4,
 "nbformat_minor": 4
}
