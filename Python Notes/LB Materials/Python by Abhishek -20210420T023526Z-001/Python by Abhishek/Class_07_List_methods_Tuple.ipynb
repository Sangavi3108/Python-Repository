{
 "cells": [
  {
   "cell_type": "code",
   "execution_count": 8,
   "metadata": {
    "ExecuteTime": {
     "end_time": "2021-03-20T03:48:30.276959Z",
     "start_time": "2021-03-20T03:48:30.269408Z"
    }
   },
   "outputs": [
    {
     "name": "stdout",
     "output_type": "stream",
     "text": [
      " peppers. pickled of peck a picked piper peter\n"
     ]
    }
   ],
   "source": [
    "# Write a python program to find below output:-\n",
    "# Input:- 'peter piper picked a peck of pickled peppers.'\n",
    "# Output:- 'peppers. pickled of peck a picked piper peter'\n",
    "\n",
    "my_str = 'peter piper picked a peck of pickled peppers.'\n",
    "# print(' '.join(my_str.split()[::-1]))\n",
    "out_lst = []\n",
    "out_str = ''\n",
    "for i in range(len(my_str)):\n",
    "    if i == len(my_str)-1:\n",
    "        out_str += my_str[i]\n",
    "        out_lst += [out_str]\n",
    "        out_str = ''\n",
    "    elif my_str[i] == ' ':\n",
    "        out_lst += [out_str]\n",
    "        out_str = ''\n",
    "    else:\n",
    "        out_str += my_str[i]\n",
    "res_str = ''\n",
    "for i in range(-1, -len(out_lst)-1, -1):\n",
    "    res_str = res_str + ' ' + out_lst[i]\n",
    "print(res_str)\n",
    "\n",
    "\n",
    "\n"
   ]
  },
  {
   "cell_type": "code",
   "execution_count": 11,
   "metadata": {
    "ExecuteTime": {
     "end_time": "2021-03-20T03:49:43.504665Z",
     "start_time": "2021-03-20T03:49:43.497569Z"
    }
   },
   "outputs": [
    {
     "data": {
      "text/plain": [
       "'peppers. pickled of peck a picked piper peter'"
      ]
     },
     "execution_count": 11,
     "metadata": {},
     "output_type": "execute_result"
    }
   ],
   "source": [
    "' '.join(my_str.split()[::-1])"
   ]
  },
  {
   "cell_type": "code",
   "execution_count": 19,
   "metadata": {
    "ExecuteTime": {
     "end_time": "2021-03-20T04:09:24.223561Z",
     "start_time": "2021-03-20T04:09:24.201826Z"
    }
   },
   "outputs": [
    {
     "name": "stdout",
     "output_type": "stream",
     "text": [
      " retep repip dekcip a kcep fo delkcip .sreppep\n"
     ]
    }
   ],
   "source": [
    "'peter piper picked a peck of pickled peppers.'\n",
    "'retep repip dekcip a kcep fo dlekcip .sreppep'\n",
    "\n",
    "# Using method\n",
    "# ' '.join([i[::-1] for i in my_str.split()])\n",
    "\n",
    "# Using loop\n",
    "my_str = 'peter piper picked a peck of pickled peppers.'\n",
    "out_lst = []\n",
    "out_str = ''\n",
    "for i in range(len(my_str)):\n",
    "    if i == len(my_str)-1:\n",
    "        out_str += my_str[i]\n",
    "        out_lst += [out_str]\n",
    "        out_str = ''\n",
    "    elif my_str[i] == ' ':\n",
    "        out_lst += [out_str]\n",
    "        out_str = ''\n",
    "    else:\n",
    "        out_str += my_str[i]\n",
    "final_str = ''\n",
    "res_str = ''\n",
    "for i in out_lst:\n",
    "    for j in range(-1, -len(i)-1, -1):\n",
    "        res_str += i[j]\n",
    "    final_str = final_str + ' ' + res_str\n",
    "    res_str = ''\n",
    "print(final_str)\n",
    "\n",
    "\n"
   ]
  },
  {
   "cell_type": "code",
   "execution_count": null,
   "metadata": {},
   "outputs": [],
   "source": [
    "# List - # 'copy', \n"
   ]
  },
  {
   "cell_type": "code",
   "execution_count": 20,
   "metadata": {
    "ExecuteTime": {
     "end_time": "2021-03-20T04:11:47.073156Z",
     "start_time": "2021-03-20T04:11:47.057004Z"
    }
   },
   "outputs": [
    {
     "data": {
      "text/plain": [
       "90"
      ]
     },
     "execution_count": 20,
     "metadata": {},
     "output_type": "execute_result"
    }
   ],
   "source": [
    "my_lst = [10,20,30,40,50,60,70,80,90]\n",
    "\n",
    "# pop() - without any argument removes last eleent from the list\n",
    "# pop(index) - it will be removing the element at specified index\n",
    "# pop method removes the element and return the removed element as value\n",
    "\n",
    "\n",
    "my_lst.pop()"
   ]
  },
  {
   "cell_type": "code",
   "execution_count": 21,
   "metadata": {
    "ExecuteTime": {
     "end_time": "2021-03-20T04:12:56.036986Z",
     "start_time": "2021-03-20T04:12:56.027453Z"
    }
   },
   "outputs": [
    {
     "name": "stdout",
     "output_type": "stream",
     "text": [
      "[10, 20, 30, 40, 50, 60, 70, 80]\n"
     ]
    }
   ],
   "source": [
    "print(my_lst)"
   ]
  },
  {
   "cell_type": "code",
   "execution_count": 23,
   "metadata": {
    "ExecuteTime": {
     "end_time": "2021-03-20T04:23:21.215949Z",
     "start_time": "2021-03-20T04:23:21.205658Z"
    }
   },
   "outputs": [
    {
     "data": {
      "text/plain": [
       "70"
      ]
     },
     "execution_count": 23,
     "metadata": {},
     "output_type": "execute_result"
    }
   ],
   "source": [
    "my_lst.pop(5)\n",
    "# print(my_lst)\n"
   ]
  },
  {
   "cell_type": "code",
   "execution_count": 25,
   "metadata": {
    "ExecuteTime": {
     "end_time": "2021-03-20T04:23:42.320506Z",
     "start_time": "2021-03-20T04:23:42.297567Z"
    }
   },
   "outputs": [
    {
     "name": "stdout",
     "output_type": "stream",
     "text": [
      "[10, 20, 30, 40, 50, 80]\n",
      "None\n"
     ]
    }
   ],
   "source": [
    "# remove - it takes the value as argument and removes the value from list. This method returns None\n",
    "print(my_lst)\n",
    "print(my_lst.remove(40))\n"
   ]
  },
  {
   "cell_type": "code",
   "execution_count": 26,
   "metadata": {
    "ExecuteTime": {
     "end_time": "2021-03-20T04:24:06.082910Z",
     "start_time": "2021-03-20T04:24:06.074247Z"
    }
   },
   "outputs": [
    {
     "name": "stdout",
     "output_type": "stream",
     "text": [
      "[10, 20, 30, 50, 80]\n"
     ]
    }
   ],
   "source": [
    "print(my_lst)"
   ]
  },
  {
   "cell_type": "code",
   "execution_count": 27,
   "metadata": {
    "ExecuteTime": {
     "end_time": "2021-03-20T04:25:10.660219Z",
     "start_time": "2021-03-20T04:25:10.650224Z"
    }
   },
   "outputs": [],
   "source": [
    "my_lst.remove(50)"
   ]
  },
  {
   "cell_type": "code",
   "execution_count": 28,
   "metadata": {
    "ExecuteTime": {
     "end_time": "2021-03-20T04:25:15.499200Z",
     "start_time": "2021-03-20T04:25:15.491653Z"
    }
   },
   "outputs": [
    {
     "name": "stdout",
     "output_type": "stream",
     "text": [
      "[10, 20, 30, 80]\n"
     ]
    }
   ],
   "source": [
    "print(my_lst)"
   ]
  },
  {
   "cell_type": "code",
   "execution_count": 30,
   "metadata": {
    "ExecuteTime": {
     "end_time": "2021-03-20T04:28:31.746249Z",
     "start_time": "2021-03-20T04:28:31.735829Z"
    }
   },
   "outputs": [
    {
     "name": "stdout",
     "output_type": "stream",
     "text": [
      "None\n",
      "[]\n"
     ]
    }
   ],
   "source": [
    "# clear - clears the list i.e. it deletes all elements from list and leaves the empty list behind\n",
    "# Clear method also return None\n",
    "my_lst = [10,20,30,40,50,60,70,80,90]\n",
    "print(my_lst.clear())\n",
    "print(my_lst)\n",
    "\n"
   ]
  },
  {
   "cell_type": "code",
   "execution_count": 32,
   "metadata": {
    "ExecuteTime": {
     "end_time": "2021-03-20T04:30:42.628894Z",
     "start_time": "2021-03-20T04:30:42.609542Z"
    }
   },
   "outputs": [
    {
     "name": "stdout",
     "output_type": "stream",
     "text": [
      "6\n",
      "2\n"
     ]
    }
   ],
   "source": [
    "# 'count', 'index', \n",
    "lst = [10,2,1,20,1,200,3,30,4,1,20,2,1,50,5,6,1,1]\n",
    "print(lst.count(1))\n",
    "print(lst.index(1))\n",
    "\n",
    "# Note find, rfind and rindex are not available on list\n",
    "\n",
    "\n",
    "\n"
   ]
  },
  {
   "cell_type": "code",
   "execution_count": 44,
   "metadata": {
    "ExecuteTime": {
     "end_time": "2021-03-20T04:39:54.800198Z",
     "start_time": "2021-03-20T04:39:54.786284Z"
    }
   },
   "outputs": [
    {
     "name": "stdout",
     "output_type": "stream",
     "text": [
      "['abhishek', 'am', 'and', 'i']\n"
     ]
    }
   ],
   "source": [
    "#  'reverse', 'sort'\n",
    "\n",
    "lst = [10,2,1,20,1,200,3,30,4,1,20,2,1,50,5,6,1,1]\n",
    "# lst.reverse()\n",
    "# print(lst)\n",
    "\n",
    "# sort methods sorts the list in ascending order\n",
    "# lst.sort()\n",
    "# print(lst)\n",
    "\n",
    "# sorting in descending order\n",
    "# lst.sort(reverse = True)\n",
    "# print(lst)\n",
    "\n",
    "\n",
    "# lst = [10,20,30,'abc','pqr']\n",
    "# lst.sort()\n",
    "\n",
    "lst = ['i', 'am', 'abhishek', 'and']\n",
    "lst.sort()\n",
    "print(lst)\n"
   ]
  },
  {
   "cell_type": "markdown",
   "metadata": {},
   "source": [
    "# Tuple"
   ]
  },
  {
   "cell_type": "code",
   "execution_count": 56,
   "metadata": {
    "ExecuteTime": {
     "end_time": "2021-03-20T04:51:17.081370Z",
     "start_time": "2021-03-20T04:51:14.102072Z"
    }
   },
   "outputs": [
    {
     "name": "stdout",
     "output_type": "stream",
     "text": [
      "Enter a tuple: 1,2,3,4\n",
      "(1, 2, 3, 4) <class 'tuple'>\n"
     ]
    }
   ],
   "source": [
    "# Tuple is similar to list\n",
    "# any vaue kept inside () sepratedby comma\n",
    "# Parenthesis is optional\n",
    "# Tuple is a collection of heterogeneous elements\n",
    "# Tuple is a sequnce\n",
    "    # indexing, slicing, concatenation, repetition, membership, len\n",
    "# Tuple is immutable object\n",
    "\n",
    "# # Creating a tuple\n",
    "# tpl = (10,20.30, 10+20j, True, None, 'Python', [1,2,3])\n",
    "# print(tpl, type(tpl))\n",
    "\n",
    "# tpl = 10,20.30, 10+20j, True, None, 'Python', [1,2,3]\n",
    "# print(tpl, type(tpl))\n",
    "\n",
    "# # Creating a tuple with single element\n",
    "# tpl = 10,\n",
    "# print(tpl, type(tpl))\n",
    "\n",
    "# using tuple method\n",
    "# print(tuple([10,20,30,40]))\n",
    "# print(tuple('Python'))\n",
    "# print(tuple({1:100, 2:200, 3:300}))\n",
    "\n",
    "# tpl= ()\n",
    "# tuple(list(tpl))\n",
    "\n",
    "# eval()\n",
    "tpl = eval(input('Enter a tuple: '))\n",
    "print(tpl, type(tpl))\n",
    "\n"
   ]
  },
  {
   "cell_type": "code",
   "execution_count": 61,
   "metadata": {
    "ExecuteTime": {
     "end_time": "2021-03-20T04:54:19.086153Z",
     "start_time": "2021-03-20T04:54:19.075319Z"
    }
   },
   "outputs": [],
   "source": [
    "# Tuple packing - assigning multiplevalues to a single variable\n",
    "# tpl = 10,20,30,40,50\n",
    "# print(tpl, type(tpl))\n",
    "\n",
    "\n",
    "\n",
    "# and unpacking\n",
    "\n",
    "# tpl = (1,2,3,4,5)\n",
    "# a,b,c,d,e = tpl\n",
    "# print(a, b, c,d, e)\n",
    "\n",
    "# tpl = 10,20,30\n",
    "# a,b,c = tpl"
   ]
  },
  {
   "cell_type": "code",
   "execution_count": 63,
   "metadata": {
    "ExecuteTime": {
     "end_time": "2021-03-20T04:55:56.747119Z",
     "start_time": "2021-03-20T04:55:56.741446Z"
    }
   },
   "outputs": [],
   "source": [
    "# Tuple is immutable\n",
    "tpl = (10,2030,40)\n",
    "# tpl[0] = 11"
   ]
  },
  {
   "cell_type": "code",
   "execution_count": 69,
   "metadata": {
    "ExecuteTime": {
     "end_time": "2021-03-20T04:56:54.476836Z",
     "start_time": "2021-03-20T04:56:54.466604Z"
    }
   },
   "outputs": [
    {
     "name": "stdout",
     "output_type": "stream",
     "text": [
      "6\n",
      "2\n"
     ]
    }
   ],
   "source": [
    "# Method on tuple\n",
    "# print(dir(tpl))\n",
    "\n",
    "# 'count', 'index'\n",
    "\n",
    "\n",
    "tpl = tuple([10,2,1,20,1,200,3,30,4,1,20,2,1,50,5,6,1,1])\n",
    "print(tpl.count(1))\n",
    "print(tpl.index(1))"
   ]
  },
  {
   "cell_type": "code",
   "execution_count": null,
   "metadata": {},
   "outputs": [],
   "source": [
    "# Dictionary"
   ]
  },
  {
   "cell_type": "code",
   "execution_count": null,
   "metadata": {},
   "outputs": [],
   "source": []
  },
  {
   "cell_type": "code",
   "execution_count": null,
   "metadata": {},
   "outputs": [],
   "source": []
  },
  {
   "cell_type": "code",
   "execution_count": null,
   "metadata": {},
   "outputs": [],
   "source": []
  },
  {
   "cell_type": "code",
   "execution_count": null,
   "metadata": {},
   "outputs": [],
   "source": []
  },
  {
   "cell_type": "code",
   "execution_count": null,
   "metadata": {},
   "outputs": [],
   "source": []
  },
  {
   "cell_type": "code",
   "execution_count": null,
   "metadata": {},
   "outputs": [],
   "source": []
  },
  {
   "cell_type": "code",
   "execution_count": null,
   "metadata": {},
   "outputs": [],
   "source": []
  },
  {
   "cell_type": "code",
   "execution_count": null,
   "metadata": {},
   "outputs": [],
   "source": []
  }
 ],
 "metadata": {
  "kernelspec": {
   "display_name": "Python 3",
   "language": "python",
   "name": "python3"
  },
  "language_info": {
   "codemirror_mode": {
    "name": "ipython",
    "version": 3
   },
   "file_extension": ".py",
   "mimetype": "text/x-python",
   "name": "python",
   "nbconvert_exporter": "python",
   "pygments_lexer": "ipython3",
   "version": "3.8.2"
  },
  "latex_envs": {
   "LaTeX_envs_menu_present": true,
   "autoclose": false,
   "autocomplete": true,
   "bibliofile": "biblio.bib",
   "cite_by": "apalike",
   "current_citInitial": 1,
   "eqLabelWithNumbers": true,
   "eqNumInitial": 1,
   "hotkeys": {
    "equation": "Ctrl-E",
    "itemize": "Ctrl-I"
   },
   "labels_anchors": false,
   "latex_user_defs": false,
   "report_style_numbering": false,
   "user_envs_cfg": false
  },
  "varInspector": {
   "cols": {
    "lenName": 16,
    "lenType": 16,
    "lenVar": 40
   },
   "kernels_config": {
    "python": {
     "delete_cmd_postfix": "",
     "delete_cmd_prefix": "del ",
     "library": "var_list.py",
     "varRefreshCmd": "print(var_dic_list())"
    },
    "r": {
     "delete_cmd_postfix": ") ",
     "delete_cmd_prefix": "rm(",
     "library": "var_list.r",
     "varRefreshCmd": "cat(var_dic_list()) "
    }
   },
   "types_to_exclude": [
    "module",
    "function",
    "builtin_function_or_method",
    "instance",
    "_Feature"
   ],
   "window_display": false
  }
 },
 "nbformat": 4,
 "nbformat_minor": 2
}
