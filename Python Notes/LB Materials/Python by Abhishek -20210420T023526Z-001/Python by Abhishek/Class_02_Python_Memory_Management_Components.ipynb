{
 "cells": [
  {
   "cell_type": "code",
   "execution_count": null,
   "metadata": {},
   "outputs": [],
   "source": [
    "#     Memory Management in Python\n",
    "#     Raw Memory Allocator, Object Specific Allocator Python Virtual Machine & Interpreter\n",
    "#     Memory deallocation in Python\n",
    "#     Automatic garbage collection in Python \n",
    "#     Memory management visualisation\n",
    "#     Input and Output functions in Python\n",
    "#     Python programming components\n",
    "#     Literal, constant, variables, identifiers, Reserved Words, Expression Statements\n",
    "#     Blocks and Indentation in Python\n",
    "#     Comments in Python"
   ]
  },
  {
   "cell_type": "code",
   "execution_count": null,
   "metadata": {},
   "outputs": [],
   "source": [
    "Memory Management\n",
    "    Memory allocation\n",
    "    Memory Deallocation"
   ]
  },
  {
   "cell_type": "code",
   "execution_count": null,
   "metadata": {},
   "outputs": [],
   "source": [
    "Memory Management Tools\n",
    "    Raw Memory Allocator\n",
    "    Object Specific Allocator\n",
    "    Python Virtual Machine & Interprter"
   ]
  },
  {
   "cell_type": "code",
   "execution_count": null,
   "metadata": {},
   "outputs": [],
   "source": [
    "What is an object in Python?"
   ]
  },
  {
   "cell_type": "code",
   "execution_count": null,
   "metadata": {},
   "outputs": [],
   "source": [
    "What is an identifier/Variable/Name?"
   ]
  },
  {
   "cell_type": "code",
   "execution_count": null,
   "metadata": {},
   "outputs": [],
   "source": [
    "a = 10\n",
    "b = 10.20\n",
    "c = 10+20j\n",
    "d = 'Python'\n"
   ]
  },
  {
   "cell_type": "code",
   "execution_count": null,
   "metadata": {},
   "outputs": [],
   "source": [
    "Fundamental Data Types/Objects/Literal\n",
    "    Int\n",
    "    Float,\n",
    "    Complex\n",
    "    Boolean\n",
    "    Str\n",
    "    None"
   ]
  },
  {
   "cell_type": "code",
   "execution_count": null,
   "metadata": {},
   "outputs": [],
   "source": [
    "Derived Data Types/Objects\n",
    "    List - [10,10.20,'Python']\n",
    "    Tuple\n",
    "    Set\n",
    "    Dictionary\n",
    "    range\n",
    "    Bytes"
   ]
  },
  {
   "cell_type": "code",
   "execution_count": null,
   "metadata": {},
   "outputs": [],
   "source": [
    "def func():\n",
    "    pass"
   ]
  },
  {
   "cell_type": "code",
   "execution_count": null,
   "metadata": {},
   "outputs": [],
   "source": [
    "In Python, Everything is an object.\n",
    "Objects will always be stored in Heap Area."
   ]
  },
  {
   "cell_type": "code",
   "execution_count": 1,
   "metadata": {
    "ExecuteTime": {
     "end_time": "2021-02-28T03:58:52.209133Z",
     "start_time": "2021-02-28T03:58:52.198008Z"
    }
   },
   "outputs": [
    {
     "name": "stdout",
     "output_type": "stream",
     "text": [
      "4533627840\n",
      "4533627840\n"
     ]
    }
   ],
   "source": [
    "a = 10\n",
    "n = 10\n",
    "print(id(a))\n",
    "print(id(n))"
   ]
  },
  {
   "cell_type": "code",
   "execution_count": 2,
   "metadata": {
    "ExecuteTime": {
     "end_time": "2021-02-28T03:59:02.124440Z",
     "start_time": "2021-02-28T03:59:02.111034Z"
    }
   },
   "outputs": [
    {
     "name": "stdout",
     "output_type": "stream",
     "text": [
      "4574629296\n",
      "4574629392\n"
     ]
    }
   ],
   "source": [
    "a = 1000\n",
    "n = 1000\n",
    "print(id(a))\n",
    "print(id(n))"
   ]
  },
  {
   "cell_type": "code",
   "execution_count": null,
   "metadata": {},
   "outputs": [],
   "source": [
    "# Python Programming Components\n",
    "#     Literals\n",
    "#     Identifier\n",
    "#         Variable\n",
    "#         Constant\n",
    "#     Reserved Words\n",
    "#     Expression & Statements\n",
    "#     Blocks & Indentation\n",
    "#     Comments"
   ]
  },
  {
   "cell_type": "code",
   "execution_count": null,
   "metadata": {},
   "outputs": [],
   "source": [
    "# Literals - Any value\n",
    "    Int - 10, -10,0\n",
    "    Float - 10.20, -10.20\n",
    "    Complex - 10+20j, 10-20j\n",
    "    None\n",
    "    Boolean - True, False\n",
    "    String - '...',  \"...\", '''...''', \"\"\"...\"\"\""
   ]
  },
  {
   "cell_type": "code",
   "execution_count": null,
   "metadata": {},
   "outputs": [],
   "source": [
    "# Identifier - Any Name - Variable, Constant, Function, Class, Object\n",
    "Rules:-\n",
    "    Allowed Characters - A-Z, a-z, 0-9, _\n",
    "    Not Allowed Characters - Special Characters\n",
    "    Identifiers Should not start with a numbers.\n",
    "    Identifiers are case sensitive.\n",
    "    Reserved owrds should not be used as an identifier\n",
    "    Constant should have All capital letters.\n",
    "    No identifier should start and end with __.\n",
    "\n",
    "\n",
    "\n",
    "\n"
   ]
  },
  {
   "cell_type": "code",
   "execution_count": 3,
   "metadata": {
    "ExecuteTime": {
     "end_time": "2021-02-28T04:49:14.333098Z",
     "start_time": "2021-02-28T04:49:14.327463Z"
    }
   },
   "outputs": [
    {
     "name": "stdout",
     "output_type": "stream",
     "text": [
      "10\n",
      "100\n"
     ]
    }
   ],
   "source": [
    "# num = 10\n",
    "# Num = 100\n",
    "# print(num)\n",
    "# print(Num)"
   ]
  },
  {
   "cell_type": "code",
   "execution_count": 4,
   "metadata": {
    "ExecuteTime": {
     "end_time": "2021-02-28T04:50:01.462623Z",
     "start_time": "2021-02-28T04:50:01.450511Z"
    }
   },
   "outputs": [
    {
     "name": "stdout",
     "output_type": "stream",
     "text": [
      "['False', 'None', 'True', 'and', 'as', 'assert', 'async', 'await', 'break', 'class', 'continue', 'def', 'del', 'elif', 'else', 'except', 'finally', 'for', 'from', 'global', 'if', 'import', 'in', 'is', 'lambda', 'nonlocal', 'not', 'or', 'pass', 'raise', 'return', 'try', 'while', 'with', 'yield']\n"
     ]
    }
   ],
   "source": [
    "import keyword\n",
    "print(keyword.kwlist)\n",
    "\n",
    "# ['False', 'None', 'True', 'and', 'as', 'assert', 'async', 'await', 'break', 'class', 'continue', 'def', 'del',\n",
    "#  'elif', 'else', 'except', 'finally', 'for', 'from', 'global', 'if', 'import', 'in', 'is', 'lambda', 'nonlocal',\n",
    "#  'not', 'or', 'pass', 'raise', 'return', 'try', 'while', 'with', 'yield']"
   ]
  },
  {
   "cell_type": "code",
   "execution_count": 7,
   "metadata": {
    "ExecuteTime": {
     "end_time": "2021-02-28T04:51:26.145891Z",
     "start_time": "2021-02-28T04:51:26.137416Z"
    }
   },
   "outputs": [],
   "source": [
    "# as = 100\n",
    "# None = 200"
   ]
  },
  {
   "cell_type": "code",
   "execution_count": 8,
   "metadata": {
    "ExecuteTime": {
     "end_time": "2021-02-28T04:53:27.414885Z",
     "start_time": "2021-02-28T04:53:27.404991Z"
    }
   },
   "outputs": [],
   "source": [
    "GRAVITATIONAL_CONSTANT = 980\n",
    "GRAVITATIONAL_CONSTANT = 9.8"
   ]
  },
  {
   "cell_type": "code",
   "execution_count": 9,
   "metadata": {
    "ExecuteTime": {
     "end_time": "2021-02-28T04:54:11.716418Z",
     "start_time": "2021-02-28T04:54:11.701582Z"
    }
   },
   "outputs": [
    {
     "name": "stdout",
     "output_type": "stream",
     "text": [
      "['__abs__', '__add__', '__and__', '__bool__', '__ceil__', '__class__', '__delattr__', '__dir__', '__divmod__', '__doc__', '__eq__', '__float__', '__floor__', '__floordiv__', '__format__', '__ge__', '__getattribute__', '__getnewargs__', '__gt__', '__hash__', '__index__', '__init__', '__init_subclass__', '__int__', '__invert__', '__le__', '__lshift__', '__lt__', '__mod__', '__mul__', '__ne__', '__neg__', '__new__', '__or__', '__pos__', '__pow__', '__radd__', '__rand__', '__rdivmod__', '__reduce__', '__reduce_ex__', '__repr__', '__rfloordiv__', '__rlshift__', '__rmod__', '__rmul__', '__ror__', '__round__', '__rpow__', '__rrshift__', '__rshift__', '__rsub__', '__rtruediv__', '__rxor__', '__setattr__', '__sizeof__', '__str__', '__sub__', '__subclasshook__', '__truediv__', '__trunc__', '__xor__', 'as_integer_ratio', 'bit_length', 'conjugate', 'denominator', 'from_bytes', 'imag', 'numerator', 'real', 'to_bytes']\n"
     ]
    }
   ],
   "source": [
    "print(dir(int))"
   ]
  },
  {
   "cell_type": "code",
   "execution_count": null,
   "metadata": {},
   "outputs": [],
   "source": [
    "# __abc__ = 100"
   ]
  },
  {
   "cell_type": "code",
   "execution_count": 10,
   "metadata": {
    "ExecuteTime": {
     "end_time": "2021-02-28T04:55:29.171435Z",
     "start_time": "2021-02-28T04:55:29.148067Z"
    }
   },
   "outputs": [
    {
     "name": "stdout",
     "output_type": "stream",
     "text": [
      "__main__\n"
     ]
    }
   ],
   "source": [
    "print(__name__)"
   ]
  },
  {
   "cell_type": "code",
   "execution_count": 11,
   "metadata": {
    "ExecuteTime": {
     "end_time": "2021-02-28T04:55:43.277231Z",
     "start_time": "2021-02-28T04:55:43.265304Z"
    }
   },
   "outputs": [
    {
     "name": "stdout",
     "output_type": "stream",
     "text": [
      "100\n"
     ]
    }
   ],
   "source": [
    "__name__ = 100\n",
    "print(__name__)"
   ]
  },
  {
   "cell_type": "code",
   "execution_count": 19,
   "metadata": {
    "ExecuteTime": {
     "end_time": "2021-02-28T05:00:17.685304Z",
     "start_time": "2021-02-28T05:00:17.679900Z"
    }
   },
   "outputs": [],
   "source": [
    "# Expression & Statements\n",
    "\n",
    "# Expression - combination of operands and operators which gives some result\n",
    "# Statements - combination of operands and operators which does not give any result\n",
    "\n",
    "# 10+20\n",
    "# 10\n",
    "# 'Python'\n",
    "\n",
    "# a = 10\n",
    "# if 10<20:\n",
    "#     pass"
   ]
  },
  {
   "cell_type": "code",
   "execution_count": null,
   "metadata": {},
   "outputs": [],
   "source": [
    "# Blocks and Indentation"
   ]
  },
  {
   "cell_type": "code",
   "execution_count": 3,
   "metadata": {
    "ExecuteTime": {
     "end_time": "2021-02-28T05:08:22.897015Z",
     "start_time": "2021-02-28T05:08:22.892159Z"
    }
   },
   "outputs": [
    {
     "name": "stdout",
     "output_type": "stream",
     "text": [
      "30\n",
      "30\n"
     ]
    }
   ],
   "source": [
    "# Comments\n",
    "a = 10\n",
    "b = 20\n",
    "# c = 30\n",
    "d = a+b\n",
    "print(d)\n",
    "'''print(a)\n",
    "print(b)'''\n",
    "print(c)\n",
    "\n"
   ]
  },
  {
   "cell_type": "code",
   "execution_count": 6,
   "metadata": {
    "ExecuteTime": {
     "end_time": "2021-02-28T05:12:01.984297Z",
     "start_time": "2021-02-28T05:11:58.914294Z"
    }
   },
   "outputs": [
    {
     "name": "stdout",
     "output_type": "stream",
     "text": [
      "Enter a number: 10\n",
      "Enter a number: 20\n",
      "1020 <class 'str'>\n",
      "1020\n"
     ]
    }
   ],
   "source": [
    "# Input and Output functions in Python\n",
    "\n",
    "num1 = input('Enter a number: ')\n",
    "num2 = input('Enter a number: ')\n",
    "print(num1+num2, type(num))\n",
    "\n",
    "\n"
   ]
  },
  {
   "cell_type": "code",
   "execution_count": 7,
   "metadata": {
    "ExecuteTime": {
     "end_time": "2021-02-28T05:12:07.466484Z",
     "start_time": "2021-02-28T05:12:07.462588Z"
    }
   },
   "outputs": [
    {
     "name": "stdout",
     "output_type": "stream",
     "text": [
      "1020\n"
     ]
    }
   ],
   "source": [
    "print('10' + '20')"
   ]
  },
  {
   "cell_type": "code",
   "execution_count": 8,
   "metadata": {
    "ExecuteTime": {
     "end_time": "2021-02-28T05:13:21.021061Z",
     "start_time": "2021-02-28T05:13:20.984390Z"
    }
   },
   "outputs": [
    {
     "data": {
      "text/plain": [
       "30"
      ]
     },
     "execution_count": 8,
     "metadata": {},
     "output_type": "execute_result"
    }
   ],
   "source": [
    "# eval() - Evaluates an expression, Yakes input in string format\n",
    "\n",
    "eval('10+20')"
   ]
  },
  {
   "cell_type": "code",
   "execution_count": 13,
   "metadata": {
    "ExecuteTime": {
     "end_time": "2021-02-28T05:23:46.384897Z",
     "start_time": "2021-02-28T05:23:46.369712Z"
    }
   },
   "outputs": [
    {
     "data": {
      "text/plain": [
       "str"
      ]
     },
     "execution_count": 13,
     "metadata": {},
     "output_type": "execute_result"
    }
   ],
   "source": [
    "a = 10\n",
    "eval(num1)\n",
    "type(eval(\"'a'\"))"
   ]
  },
  {
   "cell_type": "code",
   "execution_count": 15,
   "metadata": {
    "ExecuteTime": {
     "end_time": "2021-02-28T05:24:40.724195Z",
     "start_time": "2021-02-28T05:24:37.240174Z"
    }
   },
   "outputs": [
    {
     "name": "stdout",
     "output_type": "stream",
     "text": [
      "Enter a list: [10,20,30]\n",
      "[10, 20, 30] <class 'list'>\n"
     ]
    }
   ],
   "source": [
    "lst = eval(input('Enter a list: '))\n",
    "print(lst, type(lst))"
   ]
  },
  {
   "cell_type": "code",
   "execution_count": 24,
   "metadata": {
    "ExecuteTime": {
     "end_time": "2021-02-28T05:30:34.513094Z",
     "start_time": "2021-02-28T05:30:34.504403Z"
    }
   },
   "outputs": [
    {
     "name": "stdout",
     "output_type": "stream",
     "text": [
      "10::20::30\n"
     ]
    }
   ],
   "source": [
    "# output - print(val1, val2, val3)\n",
    "print(10,20,30, sep = '::', flush = True)"
   ]
  },
  {
   "cell_type": "code",
   "execution_count": 23,
   "metadata": {
    "ExecuteTime": {
     "end_time": "2021-02-28T05:28:03.277315Z",
     "start_time": "2021-02-28T05:28:03.264395Z"
    }
   },
   "outputs": [
    {
     "name": "stdout",
     "output_type": "stream",
     "text": [
      "10*20*30*40*"
     ]
    }
   ],
   "source": [
    "# print(10, end = '*')\n",
    "# print(20, end = '*')\n",
    "# print(30, end = '*')\n",
    "# print(40, end = '*')\n"
   ]
  },
  {
   "cell_type": "code",
   "execution_count": 27,
   "metadata": {
    "ExecuteTime": {
     "end_time": "2021-02-28T05:32:19.422674Z",
     "start_time": "2021-02-28T05:32:19.416272Z"
    }
   },
   "outputs": [],
   "source": [
    "# f1 = open('dummy.txt', 'w+')\n",
    "# print('10','20', end='\\t', file=f1, flush=True)\n",
    "# f1.close()"
   ]
  },
  {
   "cell_type": "code",
   "execution_count": null,
   "metadata": {},
   "outputs": [],
   "source": [
    "# Data Types in Python\n",
    "    Fundamental - Int, float, complex, string, None, Boolean\n",
    "    Derived - List, Tuple, Dictionary, range, Bytes, Bytearray, Set, Frozeset,\n",
    "\n",
    "\n",
    "\n",
    "\n"
   ]
  },
  {
   "cell_type": "code",
   "execution_count": 43,
   "metadata": {
    "ExecuteTime": {
     "end_time": "2021-02-28T06:10:13.088122Z",
     "start_time": "2021-02-28T06:10:13.074037Z"
    }
   },
   "outputs": [
    {
     "name": "stdout",
     "output_type": "stream",
     "text": [
      "120\n",
      "40\n"
     ]
    }
   ],
   "source": [
    "# Integers - Any real number without decimal point\n",
    "# 10, -10, 0\n",
    "\n",
    "# Object reusability - -5 to 256\n",
    "\n",
    "# import sys\n",
    "# a = 10\n",
    "# b = 10\n",
    "# print(sys.getrefcount(10))\n",
    "# print(sys.getsizeof(a))\n",
    "\n",
    "# id(a)\n",
    "# type(a)\n",
    "\n",
    "# print(dir(__builtins__))\n",
    "\n",
    "# Operations on integers\n",
    "# Arithmetic - +, -, *, /(Float Division/True Division), //(Floor Division), %(Modulo), **(Exponent)\n",
    "num1 = 10\n",
    "num2 = 3\n",
    "# print(num1/num2)\n",
    "\n",
    "# print(num1//num2)\n",
    "\n",
    "# print(num1%num2)\n",
    "\n",
    "# print(num1**num2)\n",
    "\n",
    "# print(pow(num1, num2))\n",
    "\n",
    "# Comparison Operator - <, >, <=, >=, ==, !=\n",
    "# Returns Boolean Value\n",
    "# Int and float can be compared but compariosn between other data type is not possible\n",
    "# print(10<20)\n",
    "# print(10>20.30)\n",
    "\n",
    "# print(ord('A'))\n",
    "\n",
    "# print(chr(65))\n",
    "\n",
    "# print(65<='A')\n",
    "\n",
    "# print('A' == chr(65))\n",
    "\n",
    "# Logical Operator - and, or, not\n",
    "# # and Truth Table - False\n",
    "# True and True = True\n",
    "# True and False = False\n",
    "# False and True = False\n",
    "# False and False = False\n",
    "\n",
    "\n",
    "# or Truth Table - True\n",
    "# True or True = True\n",
    "# True or False = True\n",
    "# False or True = True\n",
    "# False or False = False\n",
    "\n",
    "# not truth table\n",
    "# not True = False\n",
    "# not False = True\n",
    "\n",
    "# (10==10) or (100!=100)\n",
    "\n",
    "# If A and B are values\n",
    "    # A and B - result is A if A is False else B\n",
    "    # A or B - result is A if A is True else B\n",
    "\n",
    "\n",
    "\n",
    "# print(10 or 20)\n",
    "# print(10 and 20)\n",
    "\n",
    "# print(0 and 10)\n",
    "# print(0 or 20)\n",
    "\n",
    "# print(0 and 0.0)\n",
    "# print(0 or 0.0)\n",
    "\n",
    "# Bitwise - &, |, ^, ~, <<, >>\n",
    "# These operators works on bits\n",
    "# Works only on integers\n",
    "\n",
    "# # & Truth Table\n",
    "# 0 & 0 = 0\n",
    "# 0 & 1 = 0\n",
    "# 1 & 0 = 0\n",
    "# 1 & 1 = 1\n",
    "\n",
    "# # | Truth Table\n",
    "# 0 & 0 = 0\n",
    "# 0 & 1 = 1\n",
    "# 1 & 0 = 1\n",
    "# 1 & 1 = 1\n",
    "\n",
    "# # ^ Truth Table\n",
    "# 0 & 0 = 0\n",
    "# 0 & 1 = 1\n",
    "# 1 & 0 = 1\n",
    "# 1 & 1 = 0\n",
    "\n",
    "# print(39 & 47)\n",
    "\n",
    "# print(bin(47))\n",
    "\n",
    "# 39 = 100111\n",
    "# 47 = 101111\n",
    "# ===============\n",
    "# &. = 100111\n",
    "\n",
    "\n",
    "# ~n = -(n+1)\n",
    "# print(~10)\n",
    "\n",
    "# print(True == 1)\n",
    "\n",
    "# print(~True)\n",
    "\n",
    "# print(~-9)\n",
    "\n",
    "# print(30<<2)\n",
    "# print(10>>2)\n",
    "\n",
    "# 10 => 00000000000000000000000000101000\n",
    "print(0b101000)\n",
    "\n",
    "\n"
   ]
  },
  {
   "cell_type": "code",
   "execution_count": 25,
   "metadata": {
    "ExecuteTime": {
     "end_time": "2021-02-28T05:58:44.698824Z",
     "start_time": "2021-02-28T05:58:44.679812Z"
    }
   },
   "outputs": [
    {
     "name": "stdout",
     "output_type": "stream",
     "text": [
      "False\n"
     ]
    }
   ],
   "source": [
    "print(bool(0))"
   ]
  },
  {
   "cell_type": "code",
   "execution_count": null,
   "metadata": {},
   "outputs": [],
   "source": [
    "# Python2 vs Python3\n",
    "# 10 +( 10 * 32 )// 2 ** 5 & 20 +(~( -10 ))<< 2"
   ]
  },
  {
   "cell_type": "code",
   "execution_count": null,
   "metadata": {},
   "outputs": [],
   "source": []
  },
  {
   "cell_type": "code",
   "execution_count": null,
   "metadata": {},
   "outputs": [],
   "source": []
  },
  {
   "cell_type": "code",
   "execution_count": null,
   "metadata": {},
   "outputs": [],
   "source": []
  },
  {
   "cell_type": "code",
   "execution_count": null,
   "metadata": {},
   "outputs": [],
   "source": []
  },
  {
   "cell_type": "code",
   "execution_count": null,
   "metadata": {},
   "outputs": [],
   "source": []
  },
  {
   "cell_type": "code",
   "execution_count": null,
   "metadata": {},
   "outputs": [],
   "source": []
  },
  {
   "cell_type": "code",
   "execution_count": null,
   "metadata": {},
   "outputs": [],
   "source": []
  },
  {
   "cell_type": "code",
   "execution_count": null,
   "metadata": {},
   "outputs": [],
   "source": []
  },
  {
   "cell_type": "code",
   "execution_count": null,
   "metadata": {},
   "outputs": [],
   "source": []
  },
  {
   "cell_type": "code",
   "execution_count": null,
   "metadata": {},
   "outputs": [],
   "source": []
  },
  {
   "cell_type": "code",
   "execution_count": null,
   "metadata": {},
   "outputs": [],
   "source": []
  },
  {
   "cell_type": "code",
   "execution_count": null,
   "metadata": {},
   "outputs": [],
   "source": []
  },
  {
   "cell_type": "code",
   "execution_count": null,
   "metadata": {},
   "outputs": [],
   "source": []
  },
  {
   "cell_type": "code",
   "execution_count": null,
   "metadata": {},
   "outputs": [],
   "source": []
  },
  {
   "cell_type": "code",
   "execution_count": null,
   "metadata": {},
   "outputs": [],
   "source": []
  },
  {
   "cell_type": "code",
   "execution_count": null,
   "metadata": {},
   "outputs": [],
   "source": []
  },
  {
   "cell_type": "code",
   "execution_count": null,
   "metadata": {},
   "outputs": [],
   "source": []
  },
  {
   "cell_type": "code",
   "execution_count": null,
   "metadata": {},
   "outputs": [],
   "source": []
  },
  {
   "cell_type": "code",
   "execution_count": null,
   "metadata": {},
   "outputs": [],
   "source": []
  },
  {
   "cell_type": "code",
   "execution_count": null,
   "metadata": {},
   "outputs": [],
   "source": []
  },
  {
   "cell_type": "code",
   "execution_count": null,
   "metadata": {},
   "outputs": [],
   "source": []
  },
  {
   "cell_type": "code",
   "execution_count": null,
   "metadata": {},
   "outputs": [],
   "source": []
  },
  {
   "cell_type": "code",
   "execution_count": null,
   "metadata": {},
   "outputs": [],
   "source": []
  },
  {
   "cell_type": "code",
   "execution_count": null,
   "metadata": {},
   "outputs": [],
   "source": []
  },
  {
   "cell_type": "code",
   "execution_count": null,
   "metadata": {},
   "outputs": [],
   "source": []
  },
  {
   "cell_type": "code",
   "execution_count": null,
   "metadata": {},
   "outputs": [],
   "source": []
  },
  {
   "cell_type": "code",
   "execution_count": null,
   "metadata": {},
   "outputs": [],
   "source": []
  },
  {
   "cell_type": "code",
   "execution_count": null,
   "metadata": {},
   "outputs": [],
   "source": []
  },
  {
   "cell_type": "code",
   "execution_count": null,
   "metadata": {},
   "outputs": [],
   "source": []
  },
  {
   "cell_type": "code",
   "execution_count": null,
   "metadata": {},
   "outputs": [],
   "source": []
  },
  {
   "cell_type": "code",
   "execution_count": null,
   "metadata": {},
   "outputs": [],
   "source": []
  },
  {
   "cell_type": "code",
   "execution_count": null,
   "metadata": {},
   "outputs": [],
   "source": []
  },
  {
   "cell_type": "code",
   "execution_count": null,
   "metadata": {},
   "outputs": [],
   "source": []
  },
  {
   "cell_type": "code",
   "execution_count": null,
   "metadata": {},
   "outputs": [],
   "source": []
  },
  {
   "cell_type": "code",
   "execution_count": null,
   "metadata": {},
   "outputs": [],
   "source": []
  },
  {
   "cell_type": "code",
   "execution_count": null,
   "metadata": {},
   "outputs": [],
   "source": []
  },
  {
   "cell_type": "code",
   "execution_count": null,
   "metadata": {},
   "outputs": [],
   "source": []
  },
  {
   "cell_type": "code",
   "execution_count": null,
   "metadata": {},
   "outputs": [],
   "source": []
  },
  {
   "cell_type": "code",
   "execution_count": null,
   "metadata": {},
   "outputs": [],
   "source": []
  },
  {
   "cell_type": "code",
   "execution_count": null,
   "metadata": {},
   "outputs": [],
   "source": []
  },
  {
   "cell_type": "code",
   "execution_count": null,
   "metadata": {},
   "outputs": [],
   "source": []
  },
  {
   "cell_type": "code",
   "execution_count": null,
   "metadata": {},
   "outputs": [],
   "source": []
  },
  {
   "cell_type": "code",
   "execution_count": null,
   "metadata": {},
   "outputs": [],
   "source": []
  },
  {
   "cell_type": "code",
   "execution_count": null,
   "metadata": {},
   "outputs": [],
   "source": []
  },
  {
   "cell_type": "code",
   "execution_count": null,
   "metadata": {},
   "outputs": [],
   "source": []
  },
  {
   "cell_type": "code",
   "execution_count": null,
   "metadata": {},
   "outputs": [],
   "source": []
  },
  {
   "cell_type": "code",
   "execution_count": null,
   "metadata": {},
   "outputs": [],
   "source": []
  },
  {
   "cell_type": "code",
   "execution_count": null,
   "metadata": {},
   "outputs": [],
   "source": []
  },
  {
   "cell_type": "code",
   "execution_count": null,
   "metadata": {},
   "outputs": [],
   "source": []
  },
  {
   "cell_type": "code",
   "execution_count": null,
   "metadata": {},
   "outputs": [],
   "source": []
  },
  {
   "cell_type": "code",
   "execution_count": null,
   "metadata": {},
   "outputs": [],
   "source": []
  },
  {
   "cell_type": "code",
   "execution_count": null,
   "metadata": {},
   "outputs": [],
   "source": []
  },
  {
   "cell_type": "code",
   "execution_count": null,
   "metadata": {},
   "outputs": [],
   "source": []
  },
  {
   "cell_type": "code",
   "execution_count": null,
   "metadata": {},
   "outputs": [],
   "source": []
  },
  {
   "cell_type": "code",
   "execution_count": null,
   "metadata": {},
   "outputs": [],
   "source": []
  },
  {
   "cell_type": "code",
   "execution_count": null,
   "metadata": {},
   "outputs": [],
   "source": []
  },
  {
   "cell_type": "code",
   "execution_count": null,
   "metadata": {},
   "outputs": [],
   "source": []
  },
  {
   "cell_type": "code",
   "execution_count": null,
   "metadata": {},
   "outputs": [],
   "source": []
  },
  {
   "cell_type": "code",
   "execution_count": null,
   "metadata": {},
   "outputs": [],
   "source": []
  }
 ],
 "metadata": {
  "kernelspec": {
   "display_name": "Python 3",
   "language": "python",
   "name": "python3"
  },
  "language_info": {
   "codemirror_mode": {
    "name": "ipython",
    "version": 3
   },
   "file_extension": ".py",
   "mimetype": "text/x-python",
   "name": "python",
   "nbconvert_exporter": "python",
   "pygments_lexer": "ipython3",
   "version": "3.8.2"
  },
  "latex_envs": {
   "LaTeX_envs_menu_present": true,
   "autoclose": false,
   "autocomplete": true,
   "bibliofile": "biblio.bib",
   "cite_by": "apalike",
   "current_citInitial": 1,
   "eqLabelWithNumbers": true,
   "eqNumInitial": 1,
   "hotkeys": {
    "equation": "Ctrl-E",
    "itemize": "Ctrl-I"
   },
   "labels_anchors": false,
   "latex_user_defs": false,
   "report_style_numbering": false,
   "user_envs_cfg": false
  },
  "varInspector": {
   "cols": {
    "lenName": 16,
    "lenType": 16,
    "lenVar": 40
   },
   "kernels_config": {
    "python": {
     "delete_cmd_postfix": "",
     "delete_cmd_prefix": "del ",
     "library": "var_list.py",
     "varRefreshCmd": "print(var_dic_list())"
    },
    "r": {
     "delete_cmd_postfix": ") ",
     "delete_cmd_prefix": "rm(",
     "library": "var_list.r",
     "varRefreshCmd": "cat(var_dic_list()) "
    }
   },
   "types_to_exclude": [
    "module",
    "function",
    "builtin_function_or_method",
    "instance",
    "_Feature"
   ],
   "window_display": false
  }
 },
 "nbformat": 4,
 "nbformat_minor": 2
}
