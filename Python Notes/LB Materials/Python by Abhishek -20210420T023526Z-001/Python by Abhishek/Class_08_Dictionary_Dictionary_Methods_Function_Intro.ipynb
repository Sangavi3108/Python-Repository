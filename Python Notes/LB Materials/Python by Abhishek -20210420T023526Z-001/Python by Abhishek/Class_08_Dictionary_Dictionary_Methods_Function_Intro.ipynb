{
 "cells": [
  {
   "cell_type": "code",
   "execution_count": null,
   "metadata": {},
   "outputs": [],
   "source": [
    "# Dictionary\n",
    "It is a collection of Key value pair, where value are mapped to key.\n",
    "# Key value pair are kept inside {} and they are separated by a colon (:) - key:value\n",
    "# Key should eb unique key should also be only iimutable type\n",
    "# Key value pair is called one item or element\n",
    "# Dictionary is not a seq - we can not perfomr - indexing,slicing, concatenation, repetition, Membership\n",
    "# We can access the value using same square bracket notation by placing the key inside it."
   ]
  },
  {
   "cell_type": "code",
   "execution_count": 1,
   "metadata": {
    "ExecuteTime": {
     "end_time": "2021-03-27T03:16:54.175547Z",
     "start_time": "2021-03-27T03:16:54.167011Z"
    }
   },
   "outputs": [
    {
     "name": "stdout",
     "output_type": "stream",
     "text": [
      "{1: 100, 10.2: (10+20j), 'a': [10, 20, 30], (1, 2, 3): 'Python'}\n"
     ]
    }
   ],
   "source": [
    "d = {1:100, 10.20:10+20j, 'a':[10,20,30], (1,2,3):'Python'}\n",
    "print(d)"
   ]
  },
  {
   "cell_type": "code",
   "execution_count": 2,
   "metadata": {
    "ExecuteTime": {
     "end_time": "2021-03-27T03:18:00.202997Z",
     "start_time": "2021-03-27T03:18:00.196943Z"
    }
   },
   "outputs": [
    {
     "name": "stdout",
     "output_type": "stream",
     "text": [
      "{1: 111, 10.2: (10+20j), 'a': [10, 20, 30], (1, 2, 3): 'Python'}\n"
     ]
    }
   ],
   "source": [
    "d = {1:100, 10.20:10+20j, 'a':[10,20,30], (1,2,3):'Python', 1:111}\n",
    "print(d)"
   ]
  },
  {
   "cell_type": "code",
   "execution_count": 3,
   "metadata": {
    "ExecuteTime": {
     "end_time": "2021-03-27T03:18:35.829776Z",
     "start_time": "2021-03-27T03:18:35.665147Z"
    }
   },
   "outputs": [
    {
     "ename": "TypeError",
     "evalue": "unhashable type: 'list'",
     "output_type": "error",
     "traceback": [
      "\u001b[0;31m---------------------------------------------------------------------------\u001b[0m",
      "\u001b[0;31mTypeError\u001b[0m                                 Traceback (most recent call last)",
      "\u001b[0;32m<ipython-input-3-1c306c6c3b1f>\u001b[0m in \u001b[0;36m<module>\u001b[0;34m\u001b[0m\n\u001b[0;32m----> 1\u001b[0;31m \u001b[0md\u001b[0m \u001b[0;34m=\u001b[0m \u001b[0;34m{\u001b[0m\u001b[0;36m1\u001b[0m\u001b[0;34m:\u001b[0m\u001b[0;36m100\u001b[0m\u001b[0;34m,\u001b[0m \u001b[0;36m10.20\u001b[0m\u001b[0;34m:\u001b[0m\u001b[0;36m10\u001b[0m\u001b[0;34m+\u001b[0m\u001b[0;36m20j\u001b[0m\u001b[0;34m,\u001b[0m \u001b[0;34m[\u001b[0m\u001b[0;34m'a'\u001b[0m\u001b[0;34m]\u001b[0m\u001b[0;34m:\u001b[0m\u001b[0;34m[\u001b[0m\u001b[0;36m10\u001b[0m\u001b[0;34m,\u001b[0m\u001b[0;36m20\u001b[0m\u001b[0;34m,\u001b[0m\u001b[0;36m30\u001b[0m\u001b[0;34m]\u001b[0m\u001b[0;34m,\u001b[0m \u001b[0;34m(\u001b[0m\u001b[0;36m1\u001b[0m\u001b[0;34m,\u001b[0m\u001b[0;36m2\u001b[0m\u001b[0;34m,\u001b[0m\u001b[0;36m3\u001b[0m\u001b[0;34m)\u001b[0m\u001b[0;34m:\u001b[0m\u001b[0;34m'Python'\u001b[0m\u001b[0;34m,\u001b[0m \u001b[0;36m1\u001b[0m\u001b[0;34m:\u001b[0m\u001b[0;36m111\u001b[0m\u001b[0;34m}\u001b[0m\u001b[0;34m\u001b[0m\u001b[0;34m\u001b[0m\u001b[0m\n\u001b[0m\u001b[1;32m      2\u001b[0m \u001b[0mprint\u001b[0m\u001b[0;34m(\u001b[0m\u001b[0md\u001b[0m\u001b[0;34m)\u001b[0m\u001b[0;34m\u001b[0m\u001b[0;34m\u001b[0m\u001b[0m\n",
      "\u001b[0;31mTypeError\u001b[0m: unhashable type: 'list'"
     ]
    }
   ],
   "source": [
    "d = {1:100, 10.20:10+20j, ['a']:[10,20,30], (1,2,3):'Python', 1:111}\n",
    "print(d)"
   ]
  },
  {
   "cell_type": "code",
   "execution_count": 21,
   "metadata": {
    "ExecuteTime": {
     "end_time": "2021-03-27T03:45:39.925059Z",
     "start_time": "2021-03-27T03:45:39.893371Z"
    }
   },
   "outputs": [
    {
     "name": "stdout",
     "output_type": "stream",
     "text": [
      "{1: 100, 10.2: (10+20j), 'a': 'Python', (1, 2, 3): 111}\n",
      "{103: 'ABC', 101: 'XYZ', 102: 'MNO'}\n"
     ]
    }
   ],
   "source": [
    "# Creating a dictionary using dict\n",
    "\n",
    "d = dict([(1, 100),(10.20,10+20j),('a','Python'),((1,2,3),111)])\n",
    "print(d)\n",
    "\n",
    "lst = ['abc@gmail.com', 'abcd@yahoo.com', 'pqrst@hotmail.com']\n",
    "# d = dict(enumerate(lst))\n",
    "# print(d)\n",
    "# print(list(enumerate(lst)))\n",
    "\n",
    "\n",
    "# Init signature: zip(self, /, *args, **kwargs)\n",
    "# Docstring:     \n",
    "# zip(*iterables) --> zip object\n",
    "\n",
    "# Return a zip object whose .__next__() method returns a tuple where\n",
    "# the i-th element comes from the i-th iterable argument.  The .__next__()\n",
    "# method continues until the shortest iterable in the argument sequence\n",
    "# is exhausted and then it raises StopIteration.\n",
    "# list(zip(emp_name, emp_id, lst))\n",
    "\n",
    "d = dict(zip(emp_id, emp_name))\n",
    "print(d)\n",
    "\n",
    "\n",
    "\n"
   ]
  },
  {
   "cell_type": "code",
   "execution_count": 96,
   "metadata": {
    "ExecuteTime": {
     "end_time": "2021-03-27T04:55:52.969497Z",
     "start_time": "2021-03-27T04:55:52.961999Z"
    }
   },
   "outputs": [],
   "source": [
    "emp_name = ['ABC', 'XYZ', 'MNO']\n",
    "emp_email = []\n",
    "emp_id = [103, 101, 102, 104]"
   ]
  },
  {
   "cell_type": "code",
   "execution_count": 31,
   "metadata": {
    "ExecuteTime": {
     "end_time": "2021-03-27T03:48:51.798106Z",
     "start_time": "2021-03-27T03:48:51.790904Z"
    }
   },
   "outputs": [
    {
     "name": "stdout",
     "output_type": "stream",
     "text": [
      "102\n"
     ]
    }
   ],
   "source": [
    "d = {'emp1':{'emp_name':'ABC', 'emp_id':101, 'emp_sal':10000}, \n",
    "     'emp2':{'emp_name':'XYZ', 'emp_id':102, 'emp_sal':15000},\n",
    "     'emp3':{'emp_name':'MNO', 'emp_id':103, 'emp_sal':18000}}\n",
    "print(d['emp2']['emp_id'])"
   ]
  },
  {
   "cell_type": "code",
   "execution_count": 12,
   "metadata": {
    "ExecuteTime": {
     "end_time": "2021-03-27T03:34:57.585194Z",
     "start_time": "2021-03-27T03:34:57.569304Z"
    }
   },
   "outputs": [
    {
     "name": "stdout",
     "output_type": "stream",
     "text": [
      "0\n",
      "abc@gmail.com\n",
      "1\n",
      "abcd@yahoo.com\n",
      "2\n",
      "pqrst@hotmail.com\n"
     ]
    }
   ],
   "source": [
    "for i in d:\n",
    "    print(i)\n",
    "    print(d[i])"
   ]
  },
  {
   "cell_type": "code",
   "execution_count": 13,
   "metadata": {
    "ExecuteTime": {
     "end_time": "2021-03-27T03:38:42.830275Z",
     "start_time": "2021-03-27T03:38:34.056875Z"
    }
   },
   "outputs": [
    {
     "name": "stdout",
     "output_type": "stream",
     "text": [
      "Enetr a dictionary: {1:100, 2:200, 3:300,4:400}\n",
      "{1: 100, 2: 200, 3: 300, 4: 400}\n"
     ]
    }
   ],
   "source": [
    "# Creating a dictionary using eval function\n",
    "d = eval(input('Enetr a dictionary: '))\n",
    "print(d)\n"
   ]
  },
  {
   "cell_type": "code",
   "execution_count": 40,
   "metadata": {
    "ExecuteTime": {
     "end_time": "2021-03-27T03:56:26.378357Z",
     "start_time": "2021-03-27T03:56:26.357981Z"
    }
   },
   "outputs": [
    {
     "ename": "KeyError",
     "evalue": "'emp4'",
     "output_type": "error",
     "traceback": [
      "\u001b[0;31m---------------------------------------------------------------------------\u001b[0m",
      "\u001b[0;31mKeyError\u001b[0m                                  Traceback (most recent call last)",
      "\u001b[0;32m<ipython-input-40-265176aba026>\u001b[0m in \u001b[0;36m<module>\u001b[0;34m\u001b[0m\n\u001b[1;32m      4\u001b[0m \u001b[0;31m# print(d['emp1']['emp_sal'])\u001b[0m\u001b[0;34m\u001b[0m\u001b[0;34m\u001b[0m\u001b[0;34m\u001b[0m\u001b[0m\n\u001b[1;32m      5\u001b[0m \u001b[0;34m\u001b[0m\u001b[0m\n\u001b[0;32m----> 6\u001b[0;31m \u001b[0mprint\u001b[0m\u001b[0;34m(\u001b[0m\u001b[0md\u001b[0m\u001b[0;34m[\u001b[0m\u001b[0;34m'emp4'\u001b[0m\u001b[0;34m]\u001b[0m\u001b[0;34m)\u001b[0m\u001b[0;34m\u001b[0m\u001b[0;34m\u001b[0m\u001b[0m\n\u001b[0m\u001b[1;32m      7\u001b[0m \u001b[0mprint\u001b[0m\u001b[0;34m(\u001b[0m\u001b[0md\u001b[0m\u001b[0;34m,\u001b[0m \u001b[0mid\u001b[0m\u001b[0;34m(\u001b[0m\u001b[0md\u001b[0m\u001b[0;34m)\u001b[0m\u001b[0;34m)\u001b[0m\u001b[0;34m\u001b[0m\u001b[0;34m\u001b[0m\u001b[0m\n\u001b[1;32m      8\u001b[0m \u001b[0md\u001b[0m\u001b[0;34m[\u001b[0m\u001b[0;34m'emp1'\u001b[0m\u001b[0;34m]\u001b[0m\u001b[0;34m[\u001b[0m\u001b[0;34m'emp_sal'\u001b[0m\u001b[0;34m]\u001b[0m \u001b[0;34m=\u001b[0m \u001b[0;36m12000\u001b[0m\u001b[0;34m\u001b[0m\u001b[0;34m\u001b[0m\u001b[0m\n",
      "\u001b[0;31mKeyError\u001b[0m: 'emp4'"
     ]
    }
   ],
   "source": [
    "# Accessing an element from a dictionary\n",
    "# print(d)\n",
    "# print(d['emp1'])\n",
    "# print(d['emp1']['emp_sal'])\n",
    "\n",
    "print(d['emp4'])\n",
    "print(d, id(d))\n",
    "d['emp1']['emp_sal'] = 12000\n",
    "print(d, id(d))\n",
    "\n",
    "# print(id('emp_sal'))\n",
    "\n"
   ]
  },
  {
   "cell_type": "code",
   "execution_count": 36,
   "metadata": {
    "ExecuteTime": {
     "end_time": "2021-03-27T03:52:32.351563Z",
     "start_time": "2021-03-27T03:52:32.342888Z"
    }
   },
   "outputs": [],
   "source": [
    "# print(dir(dict))\n",
    "\n",
    "#  'copy', "
   ]
  },
  {
   "cell_type": "code",
   "execution_count": 44,
   "metadata": {
    "ExecuteTime": {
     "end_time": "2021-03-27T03:58:42.766008Z",
     "start_time": "2021-03-27T03:58:42.756244Z"
    }
   },
   "outputs": [
    {
     "name": "stdout",
     "output_type": "stream",
     "text": [
      "ABC\n"
     ]
    }
   ],
   "source": [
    "# d.get()\n",
    "\n",
    "# Signature: d.get(key, default=None, /)\n",
    "# Docstring: Return the value for key if key is in the dictionary, else default.\n",
    "# Type:      builtin_function_or_method\n",
    "\n",
    "d = {'emp1':{'emp_name':'ABC', 'emp_id':101, 'emp_sal':10000}, \n",
    "     'emp2':{'emp_name':'XYZ', 'emp_id':102, 'emp_sal':15000},\n",
    "     'emp3':{'emp_name':'MNO', 'emp_id':103, 'emp_sal':18000}}\n",
    "# print(d.get('emp1'))\n",
    "\n",
    "# What if key is not present\n",
    "# print(d.get('emp4'))\n",
    "\n",
    "# if you will pass second argument\n",
    "# print(d.get('emp4', 'No key'))\n",
    "# print(d)\n",
    "\n",
    "print(d.get('emp1').get('emp_name'))\n",
    "\n"
   ]
  },
  {
   "cell_type": "code",
   "execution_count": 53,
   "metadata": {
    "ExecuteTime": {
     "end_time": "2021-03-27T04:08:40.063692Z",
     "start_time": "2021-03-27T04:08:40.058685Z"
    }
   },
   "outputs": [],
   "source": [
    "# d.setdefault()\n",
    "\n",
    "# Signature: d.setdefault(key, default=None, /)\n",
    "# Docstring:\n",
    "# Insert key with a value of default if key is not in the dictionary.\n",
    "\n",
    "# Return the value for key if key is in the dictionary, else default.\n",
    "\n",
    "d = {'emp1':{'emp_name':'ABC', 'emp_id':101, 'emp_sal':10000}, \n",
    "     'emp2':{'emp_name':'XYZ', 'emp_id':102, 'emp_sal':15000},\n",
    "     'emp3':{'emp_name':'MNO', 'emp_id':103, 'emp_sal':18000}}\n",
    "# print(d.setdefault('emp1'))\n",
    "\n",
    "# What if key is not present\n",
    "# print(d)\n",
    "# print(d.setdefault('emp4'))\n",
    "# print(d)\n",
    "\n",
    "# if you will pass second argument\n",
    "# print(d.setdefault('emp4', 'No key'))\n",
    "# print(d)\n",
    "\n",
    "# print(d.setdefault('emp1').setdefault('emp_name'))"
   ]
  },
  {
   "cell_type": "code",
   "execution_count": 58,
   "metadata": {
    "ExecuteTime": {
     "end_time": "2021-03-27T04:11:29.919741Z",
     "start_time": "2021-03-27T04:11:29.911821Z"
    }
   },
   "outputs": [
    {
     "name": "stdout",
     "output_type": "stream",
     "text": [
      "[1, 2, 3]\n"
     ]
    }
   ],
   "source": [
    "# d.update()\n",
    "\n",
    "# Docstring:\n",
    "# D.update([E, ]**F) -> None.  Update D from dict/iterable E and F.\n",
    "# If E is present and has a .keys() method, then does:  for k in E: D[k] = E[k]\n",
    "# If E is present and lacks a .keys() method, then does:  for k, v in E: D[k] = v\n",
    "# In either case, this is followed by: for k in F:  D[k] = F[k]\n",
    "\n",
    "d1 = {'a':'Python',1:100, (1,2,3):[1,2,3]}\n",
    "# d.update(d1)\n",
    "# print(d)\n",
    "# print(d1)\n",
    "\n",
    "# print(d)\n",
    "# d.update(zip(emp_id, emp_name))\n",
    "\n",
    "print(d1[(1,2,3)])"
   ]
  },
  {
   "cell_type": "code",
   "execution_count": 69,
   "metadata": {
    "ExecuteTime": {
     "end_time": "2021-03-27T04:23:42.833677Z",
     "start_time": "2021-03-27T04:23:42.813286Z"
    }
   },
   "outputs": [
    {
     "name": "stdout",
     "output_type": "stream",
     "text": [
      "No key\n"
     ]
    }
   ],
   "source": [
    "# 'pop', 'popitem',clear\n",
    "\n",
    "# d.pop()\n",
    "\n",
    "# D.pop(k[,d]) -> v, remove specified key and return the corresponding value.\n",
    "# If key is not found, d is returned if given, otherwise KeyError is raised\n",
    "\n",
    "d = {'emp1':{'emp_name':'ABC', 'emp_id':101, 'emp_sal':10000}, \n",
    "     'emp2':{'emp_name':'XYZ', 'emp_id':102, 'emp_sal':15000},\n",
    "     'emp3':{'emp_name':'MNO', 'emp_id':103, 'emp_sal':18000}}\n",
    "# print(d)\n",
    "# print(d.pop('emp3'))\n",
    "# print(d)\n",
    "\n",
    "# # If key is not present and default arg is not passed\n",
    "# print(d.pop('emp4'))\n",
    "\n",
    "# If key is not present and default arg is passed\n",
    "print(d.pop('emp4', 'No key'))"
   ]
  },
  {
   "cell_type": "code",
   "execution_count": 65,
   "metadata": {
    "ExecuteTime": {
     "end_time": "2021-03-27T04:20:47.805689Z",
     "start_time": "2021-03-27T04:20:47.795945Z"
    }
   },
   "outputs": [
    {
     "data": {
      "text/plain": [
       "('emp3', {'emp_name': 'MNO', 'emp_id': 103, 'emp_sal': 18000})"
      ]
     },
     "execution_count": 65,
     "metadata": {},
     "output_type": "execute_result"
    }
   ],
   "source": [
    "d.popitem()\n"
   ]
  },
  {
   "cell_type": "code",
   "execution_count": 68,
   "metadata": {
    "ExecuteTime": {
     "end_time": "2021-03-27T04:22:15.889756Z",
     "start_time": "2021-03-27T04:22:15.872006Z"
    }
   },
   "outputs": [
    {
     "name": "stdout",
     "output_type": "stream",
     "text": [
      "{'emp1': {'emp_name': 'ABC', 'emp_id': 101, 'emp_sal': 10000}, 'emp2': {'emp_name': 'XYZ', 'emp_id': 102, 'emp_sal': 15000}, 'emp3': {'emp_name': 'MNO', 'emp_id': 103, 'emp_sal': 18000}}\n",
      "{}\n"
     ]
    }
   ],
   "source": [
    "# clear\n",
    "print(d)\n",
    "d.clear()\n",
    "print(d)"
   ]
  },
  {
   "cell_type": "code",
   "execution_count": 78,
   "metadata": {
    "ExecuteTime": {
     "end_time": "2021-03-27T04:26:47.313935Z",
     "start_time": "2021-03-27T04:26:47.305909Z"
    }
   },
   "outputs": [
    {
     "name": "stdout",
     "output_type": "stream",
     "text": [
      "dict_items([('emp_name', 'ABC'), ('emp_id', 101), ('emp_sal', 10000)])\n"
     ]
    }
   ],
   "source": [
    "# 'items', 'keys', 'values'\n",
    "\n",
    "# print(d.keys())\n",
    "# print(d.values())\n",
    "print(list(d.items())[0][1].items())\n",
    "\n",
    "\n"
   ]
  },
  {
   "cell_type": "code",
   "execution_count": 83,
   "metadata": {
    "ExecuteTime": {
     "end_time": "2021-03-27T04:33:50.011839Z",
     "start_time": "2021-03-27T04:33:49.998668Z"
    }
   },
   "outputs": [
    {
     "name": "stdout",
     "output_type": "stream",
     "text": [
      "{1: 'Hello', 2: 'Hello', 3: 'Hello'}\n"
     ]
    }
   ],
   "source": [
    "# d.fromkeys()\n",
    "\n",
    "# Signature: d.fromkeys(iterable, value=None, /)\n",
    "# Docstring: Create a new dictionary with keys from iterable and values set to value.\n",
    "\n",
    "# d = {}\n",
    "# d = d.fromkeys('Python', [1,2,3,4,5,6])\n",
    "# print(d)\n",
    "\n",
    "# d = {}\n",
    "# d = d.fromkeys([1,2,3,4], 'Python')\n",
    "# print(d)\n",
    "\n",
    "d = {}\n",
    "d = d.fromkeys({1:100, 2:200, 3:300}, 'Hello')\n",
    "print(d)\n",
    "\n"
   ]
  },
  {
   "cell_type": "code",
   "execution_count": 95,
   "metadata": {
    "ExecuteTime": {
     "end_time": "2021-03-27T04:52:18.153742Z",
     "start_time": "2021-03-27T04:52:18.144695Z"
    }
   },
   "outputs": [
    {
     "name": "stdout",
     "output_type": "stream",
     "text": [
      "[10, 20, 30, [1, 222, 3], 40]\n",
      "[10, 20, 30, [1, 2, 3], 40]\n"
     ]
    }
   ],
   "source": [
    "# Shallow copy or deepcopy - It is only used for mutable object, list, dictionary\n",
    "\n",
    "# lst = [10,20,30,40]\n",
    "# lst1 = lst                  # Aliasing\n",
    "# print(lst is lst1)\n",
    "# print(id(lst))\n",
    "# print(id(lst1))\n",
    "\n",
    "# lst1[0] = 111\n",
    "# print(lst)\n",
    "# print(lst1)\n",
    "\n",
    "\n",
    "# Shallow copy - copy, slicing\n",
    "# lst2 = lst.copy()\n",
    "# print(lst is lst2)\n",
    "# print(id(lst))\n",
    "# print(id(lst2))\n",
    "\n",
    "# lst2[0] = 111\n",
    "# print(lst)\n",
    "# print(lst2)\n",
    "\n",
    "\n",
    "lst = [10,20,30,[1,2,3], 40]\n",
    "lst1 = lst.copy()\n",
    "# print(lst is lst1)\n",
    "# print(id(lst))\n",
    "# print(id(lst1))\n",
    "\n",
    "# lst1[3][1] = 111\n",
    "# print(lst)\n",
    "# print(lst1)\n",
    "\n",
    "# lst1[1] = 222\n",
    "# print(lst)\n",
    "# print(lst1)\n",
    "\n",
    "# Deepcopy\n",
    "from copy import deepcopy\n",
    "lst = [10,20,30,[1,2,3], 40]\n",
    "lst3 = deepcopy(lst)\n",
    "# print(lst is lst3)\n",
    "lst3[3][1] = 222\n",
    "print(lst3)\n",
    "print(lst)\n",
    "\n"
   ]
  },
  {
   "cell_type": "code",
   "execution_count": 97,
   "metadata": {
    "ExecuteTime": {
     "end_time": "2021-03-27T04:57:42.177941Z",
     "start_time": "2021-03-27T04:57:42.164614Z"
    }
   },
   "outputs": [
    {
     "data": {
      "text/plain": [
       "{103: 'abc', 101: 'abcd', 102: 'pqrst'}"
      ]
     },
     "execution_count": 97,
     "metadata": {},
     "output_type": "execute_result"
    }
   ],
   "source": [
    "# Dictionary comprehension\n",
    "\n",
    "# {key:expr for i in iterable if cond}\n",
    "lst = ['abc@gmail.com', 'abcd@yahoo.com', 'pqrst@hotmail.com']\n",
    "emp_id = [103, 101, 102, 104]\n",
    "{k:v[:v.index('@')] for k,v in zip(emp_id, lst)}\n",
    "\n"
   ]
  },
  {
   "cell_type": "code",
   "execution_count": 102,
   "metadata": {
    "ExecuteTime": {
     "end_time": "2021-03-27T05:08:41.755862Z",
     "start_time": "2021-03-27T05:08:41.718661Z"
    }
   },
   "outputs": [
    {
     "ename": "TypeError",
     "evalue": "validate_email() missing 1 required positional argument: 'email'",
     "output_type": "error",
     "traceback": [
      "\u001b[0;31m---------------------------------------------------------------------------\u001b[0m",
      "\u001b[0;31mTypeError\u001b[0m                                 Traceback (most recent call last)",
      "\u001b[0;32m<ipython-input-102-4035664d7a74>\u001b[0m in \u001b[0;36m<module>\u001b[0;34m\u001b[0m\n\u001b[1;32m     12\u001b[0m \u001b[0;34m\u001b[0m\u001b[0m\n\u001b[1;32m     13\u001b[0m \u001b[0;34m\u001b[0m\u001b[0m\n\u001b[0;32m---> 14\u001b[0;31m \u001b[0mvalidate_email\u001b[0m\u001b[0;34m(\u001b[0m\u001b[0;34m)\u001b[0m\u001b[0;34m\u001b[0m\u001b[0;34m\u001b[0m\u001b[0m\n\u001b[0m\u001b[1;32m     15\u001b[0m \u001b[0;34m\u001b[0m\u001b[0m\n",
      "\u001b[0;31mTypeError\u001b[0m: validate_email() missing 1 required positional argument: 'email'"
     ]
    }
   ],
   "source": [
    "# Functions - DRY - Do not Repeat yourself\n",
    "\n",
    "# Function definition - Define task what we want to do\n",
    "# Function call - excute the function\n",
    "\n",
    "def validate_email(email):\n",
    "    if ('@' in email) and ('.' in email):\n",
    "        print('valid Email ID')\n",
    "    else:\n",
    "        print('Invalid Email ID')\n",
    "        \n",
    "\n",
    "\n",
    "validate_email('abc@gmail.com')\n",
    "\n"
   ]
  },
  {
   "cell_type": "code",
   "execution_count": null,
   "metadata": {},
   "outputs": [],
   "source": [
    "# Syntax of functiond efinition\n",
    "def fun_name(param):\n",
    "    stat1\n",
    "    stat2\n",
    "    stat3\n",
    "    return stat\n",
    "\n",
    "# Optional - params, return statement\n",
    "\n",
    "# Function call\n",
    "fun_name(args)\n"
   ]
  },
  {
   "cell_type": "code",
   "execution_count": 107,
   "metadata": {
    "ExecuteTime": {
     "end_time": "2021-03-27T05:12:04.641382Z",
     "start_time": "2021-03-27T05:12:04.631963Z"
    }
   },
   "outputs": [
    {
     "name": "stdout",
     "output_type": "stream",
     "text": [
      "101\n",
      "10000\n",
      "ABC\n"
     ]
    }
   ],
   "source": [
    "# Type of Arguments\n",
    "#     1. Positional Argumets - \n",
    "#         Order is important\n",
    "#         No of argument should also match with no of parameters\n",
    "\n",
    "\n",
    "def emp_info(emp_name, emp_id, emp_sal):\n",
    "    print(emp_name)\n",
    "    print(emp_id)\n",
    "    print(emp_sal)\n",
    "    \n",
    "# emp_info('ABC', 101, 10000)\n",
    "\n",
    "# If no of args are not matching\n",
    "# emp_info('ABC', 101)\n",
    "# emp_info('ABC', 101, 10000,'Hello')\n",
    "\n",
    "\n",
    "# Order is important\n",
    "# emp_info(101, 10000, 'ABC')\n",
    "\n",
    "\n"
   ]
  },
  {
   "cell_type": "code",
   "execution_count": 110,
   "metadata": {
    "ExecuteTime": {
     "end_time": "2021-03-27T05:16:52.985318Z",
     "start_time": "2021-03-27T05:16:52.968735Z"
    }
   },
   "outputs": [
    {
     "ename": "SyntaxError",
     "evalue": "non-default argument follows default argument (<ipython-input-110-5d2e286cd020>, line 6)",
     "output_type": "error",
     "traceback": [
      "\u001b[0;36m  File \u001b[0;32m\"<ipython-input-110-5d2e286cd020>\"\u001b[0;36m, line \u001b[0;32m6\u001b[0m\n\u001b[0;31m    def emp_info(emp_name, country = 'India', emp_id, emp_sal, emp_addr='BLR', ):\u001b[0m\n\u001b[0m                 ^\u001b[0m\n\u001b[0;31mSyntaxError\u001b[0m\u001b[0;31m:\u001b[0m non-default argument follows default argument\n"
     ]
    }
   ],
   "source": [
    "# Default argument is always optional\n",
    "# If there is a combination of Positional and default args then default args should always follow the positional args\n",
    "\n",
    "\n",
    "\n",
    "def emp_info(emp_name, emp_id, emp_sal, emp_addr='BLR',  country = 'India',):  # SyntaxError: non-default argument follows default argument\n",
    "    print(emp_name)\n",
    "    print(emp_id)\n",
    "    print(emp_sal)\n",
    "    print(emp_addr)\n",
    "    \n",
    "# emp_info('ABC', 101, 10000)\n",
    "\n",
    "# Passing default args\n",
    "# emp_info('PQR', 102, 12000, 'CHN')\n",
    "\n",
    "\n",
    "\n",
    "\n"
   ]
  },
  {
   "cell_type": "code",
   "execution_count": 114,
   "metadata": {
    "ExecuteTime": {
     "end_time": "2021-03-27T05:24:31.339054Z",
     "start_time": "2021-03-27T05:24:31.324253Z"
    }
   },
   "outputs": [
    {
     "name": "stdout",
     "output_type": "stream",
     "text": [
      "XYZ\n",
      "101\n",
      "10000\n",
      "CHN\n"
     ]
    }
   ],
   "source": [
    "# Keyworded Argument - order does not matter\n",
    "\n",
    "def emp_info(emp_name, emp_id, emp_sal, emp_addr='BLR',  country = 'India',):\n",
    "    print(emp_name)\n",
    "    print(emp_id)\n",
    "    print(emp_sal)\n",
    "    print(emp_addr)\n",
    "    \n",
    "# emp_info(emp_name = 'XYZ', emp_id = 101, emp_sal = 10000)\n",
    "\n",
    "# order does not matter\n",
    "emp_info( emp_id = 101, emp_sal = 10000,emp_name = 'XYZ',emp_addr = 'CHN')"
   ]
  },
  {
   "cell_type": "code",
   "execution_count": 121,
   "metadata": {
    "ExecuteTime": {
     "end_time": "2021-03-27T05:33:24.875303Z",
     "start_time": "2021-03-27T05:33:24.863573Z"
    }
   },
   "outputs": [
    {
     "name": "stdout",
     "output_type": "stream",
     "text": [
      "ABC\n",
      "101\n",
      "10000\n",
      "CHN\n",
      "India\n",
      "('2nd Cross', 'abcdef', 100234)\n"
     ]
    }
   ],
   "source": [
    "# Variable length argument - \n",
    "#     *args - Takes variable length positional args and stores the values in a tuple \n",
    "#     **kwargs - Takes variable length keyworded args and stores the values in a dictionary\n",
    "    \n",
    "def emp_info(emp_name, emp_id, emp_sal,emp_addr='BLR',  country = 'India', *args, ):\n",
    "    print(emp_name)\n",
    "    print(emp_id)\n",
    "    print(emp_sal)\n",
    "    print(emp_addr)\n",
    "    print(country)\n",
    "    print(args)\n",
    "    \n",
    "emp_info('ABC', 101, 10000,'CHN', 'India',  '2nd Cross', 'abcdef', 100234, )   "
   ]
  },
  {
   "cell_type": "code",
   "execution_count": 124,
   "metadata": {
    "ExecuteTime": {
     "end_time": "2021-03-27T05:38:17.805856Z",
     "start_time": "2021-03-27T05:38:17.778252Z"
    }
   },
   "outputs": [
    {
     "name": "stdout",
     "output_type": "stream",
     "text": [
      "ABC\n",
      "101\n",
      "10000\n",
      "CHN\n",
      "India\n",
      "{'street': '2nd Cross', 'location': 'abcdef', 'pin': 100234}\n"
     ]
    }
   ],
   "source": [
    "def emp_info(emp_name, emp_id, emp_sal,emp_addr='BLR',  country = 'India', **var, ):\n",
    "    print(emp_name)\n",
    "    print(emp_id)\n",
    "    print(emp_sal)\n",
    "    print(emp_addr)\n",
    "    print(country)\n",
    "    print(var)\n",
    "    \n",
    "emp_info('ABC', 101, 10000,'CHN', 'India', street =  '2nd Cross', location = 'abcdef',pin =  100234, ) \n",
    "# emp_info('ABC', 101, 10000,'CHN', 'India',  '2nd Cross', 'abcdef', 100234, )  "
   ]
  },
  {
   "cell_type": "code",
   "execution_count": 127,
   "metadata": {
    "ExecuteTime": {
     "end_time": "2021-03-27T05:46:20.797853Z",
     "start_time": "2021-03-27T05:46:20.780592Z"
    }
   },
   "outputs": [
    {
     "name": "stdout",
     "output_type": "stream",
     "text": [
      "ABC\n",
      "101\n",
      "10000\n",
      "<class 'int'>\n"
     ]
    }
   ],
   "source": [
    "# return statement - optional -is also calle doutput to the function\n",
    "# If not written then default return value is None\n",
    "# if written then it the type of the function\n",
    "# It is the end of the function call\n",
    "\n",
    "def emp_info(emp_name, emp_id, emp_sal):\n",
    "    print(emp_name)\n",
    "    print(emp_id)\n",
    "    print(emp_sal)\n",
    "    return emp_id\n",
    "    \n",
    "a = emp_info('ABC', 101, 10000)\n",
    "print(type(a))\n",
    "\n",
    "\n",
    "\n"
   ]
  },
  {
   "cell_type": "code",
   "execution_count": 130,
   "metadata": {
    "ExecuteTime": {
     "end_time": "2021-03-27T05:48:03.787677Z",
     "start_time": "2021-03-27T05:48:03.781019Z"
    }
   },
   "outputs": [
    {
     "name": "stdout",
     "output_type": "stream",
     "text": [
      "101 ABC 10000\n"
     ]
    }
   ],
   "source": [
    "# We can return multiple values from a single return statement\n",
    "def emp_info(emp_name, emp_id, emp_sal):\n",
    "    return emp_id, emp_name,emp_sal\n",
    "    \n",
    "a,b,c = emp_info('ABC', 101, 10000)\n",
    "print(a,b,c)\n",
    "\n",
    "\n",
    "\n"
   ]
  },
  {
   "cell_type": "code",
   "execution_count": 134,
   "metadata": {
    "ExecuteTime": {
     "end_time": "2021-03-27T05:52:40.575387Z",
     "start_time": "2021-03-27T05:52:40.569062Z"
    }
   },
   "outputs": [
    {
     "name": "stdout",
     "output_type": "stream",
     "text": [
      "93326215443944152681699238856266700490715968264381621468592963895217599993229915608941463976156518286253697920827223758251185210916864000000000000000000000000\n"
     ]
    }
   ],
   "source": [
    "# We can return a function objet as well using return statement - recursion (When a function return itself)\n",
    "\n",
    "def fact(num):\n",
    "    if num == 0:\n",
    "        return 1\n",
    "    else:\n",
    "        return num*fact(num-1)\n",
    "print(fact(100))\n",
    "\n",
    "\n"
   ]
  },
  {
   "cell_type": "code",
   "execution_count": 135,
   "metadata": {
    "ExecuteTime": {
     "end_time": "2021-03-27T05:54:04.136050Z",
     "start_time": "2021-03-27T05:54:04.130702Z"
    }
   },
   "outputs": [
    {
     "name": "stdout",
     "output_type": "stream",
     "text": [
      "28\n"
     ]
    }
   ],
   "source": [
    "import sys\n",
    "a = 10\n",
    "print(sys.getsizeof(a))"
   ]
  },
  {
   "cell_type": "code",
   "execution_count": 136,
   "metadata": {
    "ExecuteTime": {
     "end_time": "2021-03-27T05:54:16.885123Z",
     "start_time": "2021-03-27T05:54:16.873385Z"
    }
   },
   "outputs": [
    {
     "name": "stdout",
     "output_type": "stream",
     "text": [
      "96\n"
     ]
    }
   ],
   "source": [
    "a = 93326215443944152681699238856266700490715968264381621468592963895217599993229915608941463976156518286253697920827223758251185210916864000000000000000000000000\n",
    "print(sys.getsizeof(a))"
   ]
  },
  {
   "cell_type": "code",
   "execution_count": 9,
   "metadata": {
    "ExecuteTime": {
     "end_time": "2021-03-27T06:00:41.511450Z",
     "start_time": "2021-03-27T06:00:41.507056Z"
    }
   },
   "outputs": [],
   "source": [
    "# a = [i for i in range(10000)]\n",
    "# print(a)\n",
    "# print(sys.getsizeof(a))\n"
   ]
  },
  {
   "cell_type": "code",
   "execution_count": 5,
   "metadata": {
    "ExecuteTime": {
     "end_time": "2021-03-27T05:59:57.061925Z",
     "start_time": "2021-03-27T05:59:57.053950Z"
    }
   },
   "outputs": [
    {
     "name": "stdout",
     "output_type": "stream",
     "text": [
      "112\n"
     ]
    }
   ],
   "source": [
    "import sys\n",
    "a = (i for i in range(10000000000000000000))\n",
    "print(sys.getsizeof(a))"
   ]
  },
  {
   "cell_type": "code",
   "execution_count": 24,
   "metadata": {
    "ExecuteTime": {
     "end_time": "2021-03-27T06:31:20.668746Z",
     "start_time": "2021-03-27T06:31:20.653548Z"
    }
   },
   "outputs": [
    {
     "data": {
      "text/plain": [
       "['abcd@yahoo.com', 'pqrst@hotmail.com', 'mnopqrs@gmail.com']"
      ]
     },
     "execution_count": 24,
     "metadata": {},
     "output_type": "execute_result"
    }
   ],
   "source": [
    "# Anonymous function - A function withour any name\n",
    "\n",
    "lst = [10,11,12,13,14,15,16,17,18,19]\n",
    "def is_even(num):\n",
    "    if num%2 == 0:\n",
    "        return True\n",
    "    else:\n",
    "        return False\n",
    "# out_lst = []   \n",
    "# def my_filter(func, seq):\n",
    "#     for ele in seq:\n",
    "#         if func(ele) == True:\n",
    "#             out_lst.append(ele)\n",
    "#         else:\n",
    "#             continue\n",
    "#     return out_lst\n",
    "# my_filter(is_even,lst)\n",
    "\n",
    "# (lambda num : True if num%2 == 0 else False)(11)\n",
    "\n",
    "\n",
    "\n",
    "# Synatx of lambda - lambda var1, var2...: expr\n",
    "\n",
    "\n",
    "# filter - filters a seq and returns a filter object\n",
    "# syntax -filter(func, seq)\n",
    "\n",
    "# list(filter(lambda num : num%2, lst))\n",
    "# list(filter(is_even, lst))\n",
    "\n",
    "lst = ['abc@gmail.com', 'abcd@yahoo.com', 'pqrst@hotmail.com', 'mno@rediffmail.com', 'mnopqrs@gmail.com']\n",
    "# filter above list and give me a list of email id where length user name is greater than 3\n",
    "\n",
    "list(filter(lambda email : len(email[:email.index('@')])>3, lst))\n",
    "\n",
    "\n",
    "\n"
   ]
  },
  {
   "cell_type": "code",
   "execution_count": 16,
   "metadata": {
    "ExecuteTime": {
     "end_time": "2021-03-27T06:15:02.936711Z",
     "start_time": "2021-03-27T06:15:02.921674Z"
    }
   },
   "outputs": [
    {
     "name": "stdout",
     "output_type": "stream",
     "text": [
      "<function my_func at 0x10e63d700>\n",
      "<function my_func at 0x10e63d700>\n",
      "True\n"
     ]
    }
   ],
   "source": [
    "def my_func(a):\n",
    "    pass\n",
    "# a = my_func\n",
    "# print(a)\n",
    "# print(my_func)\n",
    "# print(a is my_func)\n",
    "\n",
    "my_func(10)"
   ]
  },
  {
   "cell_type": "code",
   "execution_count": 15,
   "metadata": {
    "ExecuteTime": {
     "end_time": "2021-03-27T06:14:55.410284Z",
     "start_time": "2021-03-27T06:14:55.405409Z"
    }
   },
   "outputs": [
    {
     "name": "stdout",
     "output_type": "stream",
     "text": [
      "True\n"
     ]
    }
   ],
   "source": [
    "a = [10,20,30]\n",
    "b = a\n",
    "print(a is b)"
   ]
  },
  {
   "cell_type": "code",
   "execution_count": null,
   "metadata": {},
   "outputs": [],
   "source": []
  },
  {
   "cell_type": "code",
   "execution_count": null,
   "metadata": {},
   "outputs": [],
   "source": []
  },
  {
   "cell_type": "code",
   "execution_count": null,
   "metadata": {},
   "outputs": [],
   "source": []
  },
  {
   "cell_type": "code",
   "execution_count": null,
   "metadata": {},
   "outputs": [],
   "source": []
  },
  {
   "cell_type": "code",
   "execution_count": null,
   "metadata": {},
   "outputs": [],
   "source": []
  },
  {
   "cell_type": "code",
   "execution_count": null,
   "metadata": {},
   "outputs": [],
   "source": []
  },
  {
   "cell_type": "code",
   "execution_count": null,
   "metadata": {},
   "outputs": [],
   "source": []
  },
  {
   "cell_type": "code",
   "execution_count": null,
   "metadata": {},
   "outputs": [],
   "source": []
  },
  {
   "cell_type": "code",
   "execution_count": null,
   "metadata": {},
   "outputs": [],
   "source": []
  },
  {
   "cell_type": "code",
   "execution_count": 101,
   "metadata": {
    "ExecuteTime": {
     "end_time": "2021-03-27T05:04:12.090422Z",
     "start_time": "2021-03-27T05:04:12.084416Z"
    }
   },
   "outputs": [
    {
     "name": "stdout",
     "output_type": "stream",
     "text": [
      "Invalid Email ID\n"
     ]
    }
   ],
   "source": [
    "validate_email('abcrediffmail.com')"
   ]
  },
  {
   "cell_type": "code",
   "execution_count": null,
   "metadata": {},
   "outputs": [],
   "source": []
  },
  {
   "cell_type": "code",
   "execution_count": null,
   "metadata": {},
   "outputs": [],
   "source": []
  },
  {
   "cell_type": "code",
   "execution_count": null,
   "metadata": {},
   "outputs": [],
   "source": []
  },
  {
   "cell_type": "code",
   "execution_count": null,
   "metadata": {},
   "outputs": [],
   "source": []
  },
  {
   "cell_type": "code",
   "execution_count": null,
   "metadata": {},
   "outputs": [],
   "source": []
  },
  {
   "cell_type": "code",
   "execution_count": null,
   "metadata": {},
   "outputs": [],
   "source": []
  },
  {
   "cell_type": "code",
   "execution_count": null,
   "metadata": {},
   "outputs": [],
   "source": []
  },
  {
   "cell_type": "code",
   "execution_count": null,
   "metadata": {},
   "outputs": [],
   "source": []
  },
  {
   "cell_type": "code",
   "execution_count": null,
   "metadata": {},
   "outputs": [],
   "source": []
  },
  {
   "cell_type": "code",
   "execution_count": null,
   "metadata": {},
   "outputs": [],
   "source": []
  },
  {
   "cell_type": "code",
   "execution_count": null,
   "metadata": {},
   "outputs": [],
   "source": []
  },
  {
   "cell_type": "code",
   "execution_count": null,
   "metadata": {},
   "outputs": [],
   "source": []
  },
  {
   "cell_type": "code",
   "execution_count": null,
   "metadata": {},
   "outputs": [],
   "source": []
  },
  {
   "cell_type": "code",
   "execution_count": null,
   "metadata": {},
   "outputs": [],
   "source": []
  },
  {
   "cell_type": "code",
   "execution_count": null,
   "metadata": {},
   "outputs": [],
   "source": []
  },
  {
   "cell_type": "code",
   "execution_count": null,
   "metadata": {},
   "outputs": [],
   "source": []
  },
  {
   "cell_type": "code",
   "execution_count": null,
   "metadata": {},
   "outputs": [],
   "source": []
  },
  {
   "cell_type": "code",
   "execution_count": null,
   "metadata": {},
   "outputs": [],
   "source": []
  },
  {
   "cell_type": "code",
   "execution_count": null,
   "metadata": {},
   "outputs": [],
   "source": []
  },
  {
   "cell_type": "code",
   "execution_count": null,
   "metadata": {},
   "outputs": [],
   "source": []
  },
  {
   "cell_type": "code",
   "execution_count": null,
   "metadata": {},
   "outputs": [],
   "source": []
  },
  {
   "cell_type": "code",
   "execution_count": null,
   "metadata": {},
   "outputs": [],
   "source": []
  },
  {
   "cell_type": "code",
   "execution_count": null,
   "metadata": {},
   "outputs": [],
   "source": []
  },
  {
   "cell_type": "code",
   "execution_count": null,
   "metadata": {},
   "outputs": [],
   "source": []
  },
  {
   "cell_type": "code",
   "execution_count": null,
   "metadata": {},
   "outputs": [],
   "source": []
  },
  {
   "cell_type": "code",
   "execution_count": null,
   "metadata": {},
   "outputs": [],
   "source": []
  },
  {
   "cell_type": "code",
   "execution_count": null,
   "metadata": {},
   "outputs": [],
   "source": []
  },
  {
   "cell_type": "code",
   "execution_count": null,
   "metadata": {},
   "outputs": [],
   "source": []
  },
  {
   "cell_type": "code",
   "execution_count": null,
   "metadata": {},
   "outputs": [],
   "source": []
  },
  {
   "cell_type": "code",
   "execution_count": null,
   "metadata": {},
   "outputs": [],
   "source": []
  },
  {
   "cell_type": "code",
   "execution_count": null,
   "metadata": {},
   "outputs": [],
   "source": []
  },
  {
   "cell_type": "code",
   "execution_count": null,
   "metadata": {},
   "outputs": [],
   "source": []
  },
  {
   "cell_type": "code",
   "execution_count": null,
   "metadata": {},
   "outputs": [],
   "source": []
  },
  {
   "cell_type": "code",
   "execution_count": null,
   "metadata": {},
   "outputs": [],
   "source": []
  },
  {
   "cell_type": "code",
   "execution_count": null,
   "metadata": {},
   "outputs": [],
   "source": []
  },
  {
   "cell_type": "code",
   "execution_count": null,
   "metadata": {},
   "outputs": [],
   "source": []
  },
  {
   "cell_type": "code",
   "execution_count": null,
   "metadata": {},
   "outputs": [],
   "source": []
  },
  {
   "cell_type": "code",
   "execution_count": null,
   "metadata": {},
   "outputs": [],
   "source": []
  }
 ],
 "metadata": {
  "kernelspec": {
   "display_name": "Python 3",
   "language": "python",
   "name": "python3"
  },
  "language_info": {
   "codemirror_mode": {
    "name": "ipython",
    "version": 3
   },
   "file_extension": ".py",
   "mimetype": "text/x-python",
   "name": "python",
   "nbconvert_exporter": "python",
   "pygments_lexer": "ipython3",
   "version": "3.8.2"
  },
  "latex_envs": {
   "LaTeX_envs_menu_present": true,
   "autoclose": false,
   "autocomplete": true,
   "bibliofile": "biblio.bib",
   "cite_by": "apalike",
   "current_citInitial": 1,
   "eqLabelWithNumbers": true,
   "eqNumInitial": 1,
   "hotkeys": {
    "equation": "Ctrl-E",
    "itemize": "Ctrl-I"
   },
   "labels_anchors": false,
   "latex_user_defs": false,
   "report_style_numbering": false,
   "user_envs_cfg": false
  },
  "varInspector": {
   "cols": {
    "lenName": 16,
    "lenType": 16,
    "lenVar": 40
   },
   "kernels_config": {
    "python": {
     "delete_cmd_postfix": "",
     "delete_cmd_prefix": "del ",
     "library": "var_list.py",
     "varRefreshCmd": "print(var_dic_list())"
    },
    "r": {
     "delete_cmd_postfix": ") ",
     "delete_cmd_prefix": "rm(",
     "library": "var_list.r",
     "varRefreshCmd": "cat(var_dic_list()) "
    }
   },
   "types_to_exclude": [
    "module",
    "function",
    "builtin_function_or_method",
    "instance",
    "_Feature"
   ],
   "window_display": false
  }
 },
 "nbformat": 4,
 "nbformat_minor": 2
}
