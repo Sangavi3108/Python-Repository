{
 "cells": [
  {
   "cell_type": "code",
   "execution_count": null,
   "metadata": {},
   "outputs": [],
   "source": [
    "# Float- Any number which has decimal point\n",
    "# 10.20, -10.20, 0.0001\n",
    "# Float can be represented in decimal format\n",
    "\n",
    "# Arithmetic - +, -, *, /(Float), //(Floor), %(Modulo), **(Exponent)\n",
    "# Comparison - <, <=, >, >=, ==, != - Boolean Value\n",
    "# Logical - and, or, not\n",
    "# Assignent Operation & COmpound Assignment Operation\n",
    "# Identity operation\n",
    "\n",
    "# Membership, Bitwise - does not work on float\n",
    "\n"
   ]
  },
  {
   "cell_type": "code",
   "execution_count": null,
   "metadata": {},
   "outputs": [],
   "source": [
    "# 10.20 and 0.0\n",
    "# 0 or 10.20"
   ]
  },
  {
   "cell_type": "code",
   "execution_count": 3,
   "metadata": {
    "ExecuteTime": {
     "end_time": "2021-03-06T03:12:34.331938Z",
     "start_time": "2021-03-06T03:12:34.324422Z"
    }
   },
   "outputs": [
    {
     "name": "stdout",
     "output_type": "stream",
     "text": [
      "(10+20j) <class 'complex'>\n",
      "10.0\n",
      "20.0\n"
     ]
    }
   ],
   "source": [
    "# Complex - a+bj\n",
    "# Where a is real part\n",
    "# b is imaginary part\n",
    "\n",
    "# num = 10+20j\n",
    "# print(num, type(num))\n",
    "# print(num.real)\n",
    "# print(num.imag)\n",
    "\n",
    "# Aritmetic - all operations are vaid except %(modulo)\n",
    "# Equality - ==, !=\n",
    "# Logical Operation - and or not\n",
    "# Assignent Operation & COmpound Assignment Operation\n",
    "# Identity operation \n",
    "\n",
    "# Membership, Bitwise, Comparison(<, <=, >, >=) - does not work on complex\n"
   ]
  },
  {
   "cell_type": "code",
   "execution_count": 14,
   "metadata": {
    "ExecuteTime": {
     "end_time": "2021-03-06T03:24:44.334414Z",
     "start_time": "2021-03-06T03:24:44.321587Z"
    }
   },
   "outputs": [
    {
     "ename": "NameError",
     "evalue": "name 'a' is not defined",
     "output_type": "error",
     "traceback": [
      "\u001b[0;31m---------------------------------------------------------------------------\u001b[0m",
      "\u001b[0;31mNameError\u001b[0m                                 Traceback (most recent call last)",
      "\u001b[0;32m<ipython-input-14-88403264987f>\u001b[0m in \u001b[0;36m<module>\u001b[0;34m\u001b[0m\n\u001b[1;32m     17\u001b[0m \u001b[0;31m# f1(10, 20)\u001b[0m\u001b[0;34m\u001b[0m\u001b[0;34m\u001b[0m\u001b[0;34m\u001b[0m\u001b[0m\n\u001b[1;32m     18\u001b[0m \u001b[0;34m\u001b[0m\u001b[0m\n\u001b[0;32m---> 19\u001b[0;31m \u001b[0ma\u001b[0m\u001b[0;34m\u001b[0m\u001b[0;34m\u001b[0m\u001b[0m\n\u001b[0m\u001b[1;32m     20\u001b[0m \u001b[0;34m\u001b[0m\u001b[0m\n\u001b[1;32m     21\u001b[0m \u001b[0;34m\u001b[0m\u001b[0m\n",
      "\u001b[0;31mNameError\u001b[0m: name 'a' is not defined"
     ]
    }
   ],
   "source": [
    "# None == Null(in java or SQL)\n",
    "# Missing value\n",
    "\n",
    "# Emp_name emp_id emp_sal\n",
    "# \"ABC\"    101     10000\n",
    "# \"PQR\"    102     None\n",
    "# \"XYZ\"    None    12000\n",
    "\n",
    "\n",
    "# def f1(a, b, c=None, d=None):\n",
    "#     if c == None and d == None:\n",
    "#         return a+b\n",
    "#     else:\n",
    "#         return a+b+c+d\n",
    "\n",
    "# print(f1(10, 20, 30, 40))\n",
    "# f1(10, 20)\n",
    "\n",
    "# a = None\n",
    "\n",
    "\n",
    "\n"
   ]
  },
  {
   "cell_type": "code",
   "execution_count": 21,
   "metadata": {
    "ExecuteTime": {
     "end_time": "2021-03-06T03:28:11.079974Z",
     "start_time": "2021-03-06T03:28:11.070511Z"
    }
   },
   "outputs": [
    {
     "name": "stdout",
     "output_type": "stream",
     "text": [
      "True\n",
      "True\n"
     ]
    }
   ],
   "source": [
    "# Boolean - True, False\n",
    "# True = 1\n",
    "# False = 0\n",
    "\n",
    "# Int to boolean - 0 is always False rest all are True\n",
    "# Float to Boolean - 0.0 is always False rest all True\n",
    "# Complex - 0+0j is always False rest all True\n",
    "# None is always False\n",
    "# string - '' is alwys False rest all True\n",
    "# print(bool(0))\n",
    "# print(bool(0.0))\n",
    "# print(bool(0.0+0j))\n",
    "# print(bool(''))\n",
    "# print(bool(None))\n",
    "# print(bool(' '))\n",
    "# print(bool(0.0000001))\n",
    "\n",
    "# list, tuple, dictionary, set - [], (), set(), {} are always False rest all True\n",
    "\n",
    "    \n"
   ]
  },
  {
   "cell_type": "code",
   "execution_count": 36,
   "metadata": {
    "ExecuteTime": {
     "end_time": "2021-03-06T03:34:20.723358Z",
     "start_time": "2021-03-06T03:34:20.717274Z"
    }
   },
   "outputs": [],
   "source": [
    "# Type casting - int, float, complex, bool, str\n",
    "\n",
    "# print(int(10))\n",
    "# print(int('10'))\n",
    "# print(int(10.20))\n",
    "# print(int(True))\n",
    "# print(int(0b10101))\n",
    "\n",
    "# print(int('10.20'))\n",
    "# print(int(10+20j))\n",
    "# print(int('True'))\n",
    "# print(int('0b10101'))\n",
    "# print(int('A'))\n",
    "\n",
    "\n",
    "# print(float(10))\n",
    "# print(float('10'))\n",
    "# print(float(10.20))\n",
    "# print(float(True))\n",
    "# print(float(0b10101))\n",
    "# print(float('10.20'))\n",
    "\n",
    "# print(float(10+20j))\n",
    "# print(float('True'))\n",
    "# print(float('0b10101'))\n",
    "# print(float('A'))\n",
    "\n",
    "\n",
    "\n",
    "\n",
    "# complex(real) - real + 0j\n",
    "# complex(real, imag) - real + imag*j\n",
    "\n",
    "# print(complex(10,20))\n",
    "# print(complex('10'))\n",
    "# print(complex('10.20'))\n",
    "\n",
    "\n",
    "\n",
    "# print(complex('10', 20))\n",
    "# print(complex('0b10101'))\n",
    "# print(complex(10, '20'))\n",
    "\n",
    "# str(any value)\n",
    "\n",
    "\n"
   ]
  },
  {
   "cell_type": "code",
   "execution_count": 54,
   "metadata": {
    "ExecuteTime": {
     "end_time": "2021-03-06T03:54:06.965029Z",
     "start_time": "2021-03-06T03:54:06.954576Z"
    }
   },
   "outputs": [
    {
     "name": "stdout",
     "output_type": "stream",
     "text": [
      "P\n",
      "6\n"
     ]
    }
   ],
   "source": [
    "# String - Any value - '...', \"...\", '''...''', \"\"\"...\"\"\"\n",
    "\n",
    "# s1 = 'Python'\n",
    "# print(s1, type(s1))\n",
    "\n",
    "# s2 = \"Python\"\n",
    "# print(s2, type(s2))\n",
    "\n",
    "# s3 = \"\"\"Python\"\"\"\n",
    "# print(s3, type(s3))\n",
    "\n",
    "# s4 = '''Python'''\n",
    "# print(s4, type(s4))\n",
    "\n",
    "\n",
    "# my_str = \"This is Python's class\"\n",
    "# print(my_str)\n",
    "\n",
    "# my_str = 'This is \"Python\" class'\n",
    "# print(my_str)\n",
    "\n",
    "# my_str = '''This is \"Python\" & 'Java' Class'''\n",
    "# print(my_str)\n",
    "\n",
    "# triple quotation is used to write multiline string\n",
    "# a = '''Lorem Ipsum is simply dummy text of the printing and typesetting industry. \n",
    "# Lorem Ipsum has been the industrys standard dummy text ever since the 1500s, \n",
    "# when an unknown printer took a galley of type and scrambled it to make a type specimen book. \n",
    "# It has survived not only five centuries, but also the leap into electronic typesetting, \n",
    "# remaining essentially unchanged. \n",
    "# It was popularised in the 1960s with the release of Letraset sheets containing Lorem Ipsum passages, \n",
    "# and more recently with desktop publishing software like Aldus PageMaker including versions of Lorem Ipsum.'''\n",
    "# print(a)\n",
    "\n",
    "# For Documentation of functions or class, we use triple quotation\n",
    "\n",
    "# def f1(a, b, c=None, d=None):\n",
    "#     '''This function takes 2 positional args and 2 default args and returns sum'''\n",
    "#     if c == None and d == None:\n",
    "#         return a+b\n",
    "#     else:\n",
    "#         return a+b+c+d\n",
    "\n",
    "# '''print(f1(10, 20, 30, 40))\n",
    "# f1(10, 20)\n",
    "\n",
    "# print(f1.__doc__)'''\n",
    "\n",
    "# print()\n",
    "\n",
    "\n",
    "# String Features\n",
    "#     1. String is a seq - Indexing, slicing, Concatenation, Repetition, len, Membership, Identity\n",
    "#     2. all sequneces support +ve and -ve indexing both\n",
    "\n",
    "my_str = 'Python'\n",
    "# -6 -5 -4 -3 -2 -1 \n",
    "#  P  y  t  h  o  n\n",
    "#  0  1  2  3  4  5\n",
    "\n",
    "# indexing - accessing one element at a time - str_name[index]\n",
    "# # Accessig first element\n",
    "# print(my_str[0])\n",
    "# print(my_str[-6])\n",
    "# print(my_str[-len(my_str)])\n",
    "\n",
    "# # Accessig last element\n",
    "# print(my_str[-1])\n",
    "# print(my_str[5])\n",
    "# print(my_str[len(my_str)-1])\n",
    "\n",
    "\n",
    "# print(my_str[2])\n",
    "\n",
    "print(len(my_str))\n",
    "\n",
    "\n"
   ]
  },
  {
   "cell_type": "code",
   "execution_count": 50,
   "metadata": {
    "ExecuteTime": {
     "end_time": "2021-03-06T03:48:44.031790Z",
     "start_time": "2021-03-06T03:48:44.023972Z"
    }
   },
   "outputs": [
    {
     "name": "stdout",
     "output_type": "stream",
     "text": [
      "['__annotations__', '__call__', '__class__', '__closure__', '__code__', '__defaults__', '__delattr__', '__dict__', '__dir__', '__doc__', '__eq__', '__format__', '__ge__', '__get__', '__getattribute__', '__globals__', '__gt__', '__hash__', '__init__', '__init_subclass__', '__kwdefaults__', '__le__', '__lt__', '__module__', '__name__', '__ne__', '__new__', '__qualname__', '__reduce__', '__reduce_ex__', '__repr__', '__setattr__', '__sizeof__', '__str__', '__subclasshook__']\n"
     ]
    }
   ],
   "source": [
    "# def f1():\n",
    "#     '''Hello'''\n",
    "#     pass\n",
    "# print(dir(f1))\n",
    "\n"
   ]
  },
  {
   "cell_type": "code",
   "execution_count": null,
   "metadata": {},
   "outputs": [],
   "source": [
    "# def f1():\n",
    "#     '''Hello'''\n",
    "#     pass\n",
    "# print(dir(f1))\n",
    "\n",
    "\n"
   ]
  },
  {
   "cell_type": "code",
   "execution_count": null,
   "metadata": {},
   "outputs": [],
   "source": []
  },
  {
   "cell_type": "code",
   "execution_count": null,
   "metadata": {},
   "outputs": [],
   "source": []
  },
  {
   "cell_type": "code",
   "execution_count": null,
   "metadata": {},
   "outputs": [],
   "source": []
  },
  {
   "cell_type": "code",
   "execution_count": null,
   "metadata": {},
   "outputs": [],
   "source": []
  },
  {
   "cell_type": "code",
   "execution_count": null,
   "metadata": {},
   "outputs": [],
   "source": []
  },
  {
   "cell_type": "code",
   "execution_count": null,
   "metadata": {},
   "outputs": [],
   "source": []
  },
  {
   "cell_type": "code",
   "execution_count": null,
   "metadata": {},
   "outputs": [],
   "source": []
  },
  {
   "cell_type": "code",
   "execution_count": null,
   "metadata": {},
   "outputs": [],
   "source": []
  },
  {
   "cell_type": "code",
   "execution_count": null,
   "metadata": {},
   "outputs": [],
   "source": []
  },
  {
   "cell_type": "code",
   "execution_count": null,
   "metadata": {},
   "outputs": [],
   "source": []
  },
  {
   "cell_type": "code",
   "execution_count": null,
   "metadata": {},
   "outputs": [],
   "source": []
  },
  {
   "cell_type": "code",
   "execution_count": null,
   "metadata": {},
   "outputs": [],
   "source": []
  },
  {
   "cell_type": "code",
   "execution_count": null,
   "metadata": {},
   "outputs": [],
   "source": []
  },
  {
   "cell_type": "code",
   "execution_count": null,
   "metadata": {},
   "outputs": [],
   "source": []
  },
  {
   "cell_type": "code",
   "execution_count": null,
   "metadata": {},
   "outputs": [],
   "source": []
  },
  {
   "cell_type": "code",
   "execution_count": null,
   "metadata": {},
   "outputs": [],
   "source": []
  },
  {
   "cell_type": "code",
   "execution_count": null,
   "metadata": {},
   "outputs": [],
   "source": []
  },
  {
   "cell_type": "code",
   "execution_count": null,
   "metadata": {},
   "outputs": [],
   "source": []
  },
  {
   "cell_type": "code",
   "execution_count": null,
   "metadata": {},
   "outputs": [],
   "source": []
  },
  {
   "cell_type": "code",
   "execution_count": null,
   "metadata": {},
   "outputs": [],
   "source": []
  },
  {
   "cell_type": "code",
   "execution_count": null,
   "metadata": {},
   "outputs": [],
   "source": []
  },
  {
   "cell_type": "code",
   "execution_count": null,
   "metadata": {},
   "outputs": [],
   "source": []
  },
  {
   "cell_type": "code",
   "execution_count": null,
   "metadata": {},
   "outputs": [],
   "source": []
  },
  {
   "cell_type": "code",
   "execution_count": null,
   "metadata": {},
   "outputs": [],
   "source": []
  },
  {
   "cell_type": "code",
   "execution_count": null,
   "metadata": {},
   "outputs": [],
   "source": []
  },
  {
   "cell_type": "code",
   "execution_count": null,
   "metadata": {},
   "outputs": [],
   "source": []
  },
  {
   "cell_type": "code",
   "execution_count": null,
   "metadata": {},
   "outputs": [],
   "source": []
  },
  {
   "cell_type": "code",
   "execution_count": null,
   "metadata": {},
   "outputs": [],
   "source": []
  },
  {
   "cell_type": "code",
   "execution_count": null,
   "metadata": {},
   "outputs": [],
   "source": []
  },
  {
   "cell_type": "code",
   "execution_count": null,
   "metadata": {},
   "outputs": [],
   "source": []
  }
 ],
 "metadata": {
  "kernelspec": {
   "display_name": "Python 3",
   "language": "python",
   "name": "python3"
  },
  "language_info": {
   "codemirror_mode": {
    "name": "ipython",
    "version": 3
   },
   "file_extension": ".py",
   "mimetype": "text/x-python",
   "name": "python",
   "nbconvert_exporter": "python",
   "pygments_lexer": "ipython3",
   "version": "3.8.2"
  },
  "latex_envs": {
   "LaTeX_envs_menu_present": true,
   "autoclose": false,
   "autocomplete": true,
   "bibliofile": "biblio.bib",
   "cite_by": "apalike",
   "current_citInitial": 1,
   "eqLabelWithNumbers": true,
   "eqNumInitial": 1,
   "hotkeys": {
    "equation": "Ctrl-E",
    "itemize": "Ctrl-I"
   },
   "labels_anchors": false,
   "latex_user_defs": false,
   "report_style_numbering": false,
   "user_envs_cfg": false
  },
  "varInspector": {
   "cols": {
    "lenName": 16,
    "lenType": 16,
    "lenVar": 40
   },
   "kernels_config": {
    "python": {
     "delete_cmd_postfix": "",
     "delete_cmd_prefix": "del ",
     "library": "var_list.py",
     "varRefreshCmd": "print(var_dic_list())"
    },
    "r": {
     "delete_cmd_postfix": ") ",
     "delete_cmd_prefix": "rm(",
     "library": "var_list.r",
     "varRefreshCmd": "cat(var_dic_list()) "
    }
   },
   "types_to_exclude": [
    "module",
    "function",
    "builtin_function_or_method",
    "instance",
    "_Feature"
   ],
   "window_display": false
  }
 },
 "nbformat": 4,
 "nbformat_minor": 2
}
