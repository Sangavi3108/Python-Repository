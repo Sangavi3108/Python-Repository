{
 "cells": [
  {
   "cell_type": "code",
   "execution_count": null,
   "metadata": {},
   "outputs": [],
   "source": [
    "f1 = open('f1.py', 'r')\n",
    "f2 = open('f2.py', 'r')\n",
    "num1 = int(f1.read())\n",
    "num2 = int(f2.readline())\n",
    "try:\n",
    "    res = num1/num2\n",
    "    f3 = open('f3.py', 'r')\n",
    "    f1.write('100')\n",
    "except ZeroDivisionError:\n",
    "    print('Can not divide by Zero')\n",
    "except FileNotFoundError:\n",
    "    print('File Does not Exist')\n",
    "except UnsupportedOperation:\n",
    "    print('Writing is not allowed in read mode')\n",
    "finally:\n",
    "    f1.close()\n",
    "    f2.close()\n",
    "    try:\n",
    "        f3.close()\n",
    "    except NameError:\n",
    "        print('File object did not created')"
   ]
  },
  {
   "cell_type": "code",
   "execution_count": 2,
   "metadata": {
    "ExecuteTime": {
     "end_time": "2021-04-10T13:45:44.317691Z",
     "start_time": "2021-04-10T13:45:44.302210Z"
    }
   },
   "outputs": [
    {
     "name": "stdout",
     "output_type": "stream",
     "text": [
      "[Errno 2] No such file or directory: 'f3.py'\n",
      "File object did not created\n"
     ]
    }
   ],
   "source": [
    "f1 = open('f1.py', 'r')\n",
    "f2 = open('f2.py', 'r')\n",
    "num1 = int(f1.read())\n",
    "num2 = int(f2.readline())\n",
    "try:\n",
    "    res = num1/num2\n",
    "    f3 = open('f3.py', 'r')\n",
    "    f1.write('100')\n",
    "except (ZeroDivisionError,FileNotFoundError,IOError) as e:\n",
    "    print(e)\n",
    "\n",
    "finally:\n",
    "    f1.close()\n",
    "    f2.close()\n",
    "    try:\n",
    "        f3.close()\n",
    "    except NameError:\n",
    "        print('File object did not created')"
   ]
  },
  {
   "cell_type": "code",
   "execution_count": 3,
   "metadata": {
    "ExecuteTime": {
     "end_time": "2021-04-10T13:47:37.059570Z",
     "start_time": "2021-04-10T13:47:37.042829Z"
    }
   },
   "outputs": [
    {
     "name": "stdout",
     "output_type": "stream",
     "text": [
      "File Does not Exist\n",
      "File object did not created\n"
     ]
    }
   ],
   "source": [
    "f1 = open('f1.py', 'r')\n",
    "f2 = open('f2.py', 'r')\n",
    "num1 = int(f1.read())\n",
    "num2 = int(f2.readline())\n",
    "try:\n",
    "    res = num1/num2\n",
    "    f3 = open('f3.py', 'r')\n",
    "    f1.write('100')\n",
    "except ZeroDivisionError:\n",
    "    print('Can not divide by Zero')\n",
    "except FileNotFoundError:\n",
    "    print('File Does not Exist')\n",
    "except IOError:\n",
    "    print('Writing is not allowed in read mode')\n",
    "except Exception as e:\n",
    "    print(e)\n",
    "finally:\n",
    "    f1.close()\n",
    "    f2.close()\n",
    "    try:\n",
    "        f3.close()\n",
    "    except NameError:\n",
    "        print('File object did not created')"
   ]
  },
  {
   "cell_type": "code",
   "execution_count": 4,
   "metadata": {
    "ExecuteTime": {
     "end_time": "2021-04-10T13:48:24.753416Z",
     "start_time": "2021-04-10T13:48:24.741875Z"
    }
   },
   "outputs": [
    {
     "name": "stdout",
     "output_type": "stream",
     "text": [
      "[Errno 2] No such file or directory: 'f3.py'\n",
      "File object did not created\n"
     ]
    }
   ],
   "source": [
    "f1 = open('f1.py', 'r')\n",
    "f2 = open('f2.py', 'r')\n",
    "num1 = int(f1.read())\n",
    "num2 = int(f2.readline())\n",
    "try:\n",
    "    res = num1/num2\n",
    "    f3 = open('f3.py', 'r')\n",
    "    f1.write('100')\n",
    "except Exception as e:\n",
    "    print(e)\n",
    "\n",
    "finally:\n",
    "    f1.close()\n",
    "    f2.close()\n",
    "    try:\n",
    "        f3.close()\n",
    "    except NameError:\n",
    "        print('File object did not created')"
   ]
  },
  {
   "cell_type": "code",
   "execution_count": null,
   "metadata": {},
   "outputs": [],
   "source": [
    "# Raise - User defined exception\n",
    "\n"
   ]
  },
  {
   "cell_type": "code",
   "execution_count": 5,
   "metadata": {
    "ExecuteTime": {
     "end_time": "2021-04-10T13:55:05.366715Z",
     "start_time": "2021-04-10T13:55:05.360563Z"
    }
   },
   "outputs": [],
   "source": [
    "class My_Exception(Exception):\n",
    "    def __init__(self, msg):\n",
    "        self.msg = msg"
   ]
  },
  {
   "cell_type": "code",
   "execution_count": 7,
   "metadata": {
    "ExecuteTime": {
     "end_time": "2021-04-10T13:55:51.350984Z",
     "start_time": "2021-04-10T13:55:51.340609Z"
    }
   },
   "outputs": [],
   "source": [
    "def amount_deposit(amt):\n",
    "    if amt > 49999:\n",
    "            raise My_Exception('The amount is More than 50K')\n",
    "    else:\n",
    "        print('Amount Deposited')"
   ]
  },
  {
   "cell_type": "code",
   "execution_count": 9,
   "metadata": {
    "ExecuteTime": {
     "end_time": "2021-04-10T13:56:58.796711Z",
     "start_time": "2021-04-10T13:56:58.791338Z"
    }
   },
   "outputs": [
    {
     "name": "stdout",
     "output_type": "stream",
     "text": [
      "The amount is More than 50K\n"
     ]
    }
   ],
   "source": [
    "try:\n",
    "    amount_deposit(80000)\n",
    "except My_Exception as e:\n",
    "    print(e)\n",
    "    "
   ]
  },
  {
   "cell_type": "markdown",
   "metadata": {},
   "source": [
    "# Regex"
   ]
  },
  {
   "cell_type": "code",
   "execution_count": null,
   "metadata": {},
   "outputs": [],
   "source": [
    "# 1. A regular expression is a string which contains:-\n",
    "# \t- Special Symbol\n",
    "# \t- Characters to find and\n",
    "# \t- extract the information needed by us from the given data.\n",
    "\n",
    "# 2. Regular Expression helps us:-\n",
    "# \t- to search \n",
    "# \t- to match\n",
    "# \t- to find and\n",
    "# \t- to split information as per our requirements.\n",
    "\t\n",
    "# 3. It is also called regex.\n",
    "\n",
    "# 4. Python provides 're' module which stands for regular expression."
   ]
  },
  {
   "cell_type": "code",
   "execution_count": null,
   "metadata": {},
   "outputs": [],
   "source": [
    "'''\n",
    ".       - Any Character Except New Line\n",
    "\\d      - Digit (0-9)\n",
    "\\D      - Not a Digit (0-9)\n",
    "\\w      - Word Character (a-z, A-Z, 0-9, _)\n",
    "\\W      - Not a Word Character\n",
    "\\s      - Whitespace (space, tab, newline)\n",
    "\\S      - Not Whitespace (space, tab, newline)\n",
    "\n",
    "\\b      - Word Boundary\n",
    "\\B      - Not a Word Boundary\n",
    "^       - Beginning of a String\n",
    "$       - End of a String\n",
    "\n",
    "[]      - Matches Characters in brackets\n",
    "[^ ]    - Matches Characters NOT in brackets\n",
    "|       - Either Or\n",
    "( )     - Group\n",
    "\n",
    "Quantifiers:\n",
    "*       - 0 or More\n",
    "+       - 1 or More\n",
    "?       - 0 or One\n",
    "{3}     - Exact Number\n",
    "{3,5}   - Range of Numbers (Minimum, Maximum)\n",
    "\n",
    "\n",
    "\n",
    "\n",
    "[a-zA-Z0-9_.+-]+@[a-zA-Z0-9-]+\\.[a-zA-Z0-9-.]+"
   ]
  },
  {
   "cell_type": "code",
   "execution_count": 11,
   "metadata": {
    "ExecuteTime": {
     "end_time": "2021-04-10T14:07:34.396981Z",
     "start_time": "2021-04-10T14:07:34.389505Z"
    }
   },
   "outputs": [],
   "source": [
    "import re"
   ]
  },
  {
   "cell_type": "code",
   "execution_count": null,
   "metadata": {},
   "outputs": [],
   "source": [
    "Methods\n",
    "    search - Looks for the given pattern in whole string and returns match object of the first occurence if found else returns None\n",
    "    match - Looks for the given pattern in the begining string and returns match object if found else returns None\n",
    "    findall - It finds all the occurrences of the pattern and retunr list\n",
    "    finditer - It finds match object of all the occurrences of the pattern and retunr iterator object"
   ]
  },
  {
   "cell_type": "code",
   "execution_count": 33,
   "metadata": {
    "ExecuteTime": {
     "end_time": "2021-04-10T14:30:31.031766Z",
     "start_time": "2021-04-10T14:30:31.026798Z"
    }
   },
   "outputs": [],
   "source": [
    "text_to_search = '''\n",
    "abcdefghijklmnopqurtuvwxyz\n",
    "ABCDEFGHIJKLMNOPQRSTUVWXYZ\\s\n",
    "321-555-4321\n",
    "1234567890\n",
    "Ha HaHa\n",
    "MetaCharacters (Need to be escaped):\n",
    ". ^ $ * + ? { } [ ] \\ | ( )\n",
    "abhishek_gupta@gmail.com\n",
    "abhishek_gupta@gmail-yahoo.com\n",
    "abhis+he-k_gupta@gmail-yahoo.com\n",
    "khanafsaan11.com\n",
    "321-555-4321\n",
    "123.555.1234\n",
    "123*555*1234\n",
    "123.555.1234\n",
    "800-555-1234\n",
    "900-555-1234\n",
    "Mr. Schafer\n",
    "Mr Smith\n",
    "Ms Davis\n",
    "Mrs. Robinson\n",
    "Mr. T\n",
    "Mr_hello\n",
    "'''\n",
    "\n"
   ]
  },
  {
   "cell_type": "code",
   "execution_count": 32,
   "metadata": {
    "ExecuteTime": {
     "end_time": "2021-04-10T14:29:52.849673Z",
     "start_time": "2021-04-10T14:29:52.838656Z"
    }
   },
   "outputs": [
    {
     "name": "stdout",
     "output_type": "stream",
     "text": [
      "<callable_iterator object at 0x105f1e040>\n",
      "Mr\n",
      "Mr\n",
      "Mr\n",
      "Mr\n",
      "Mr\n"
     ]
    }
   ],
   "source": [
    "res = re.finditer(r'Mr', text_to_search)\n",
    "print(res)\n",
    "for i in res:print(i.group())"
   ]
  },
  {
   "cell_type": "code",
   "execution_count": 12,
   "metadata": {
    "ExecuteTime": {
     "end_time": "2021-04-10T14:12:04.874622Z",
     "start_time": "2021-04-10T14:12:04.869868Z"
    }
   },
   "outputs": [],
   "source": [
    "import re"
   ]
  },
  {
   "cell_type": "code",
   "execution_count": 34,
   "metadata": {
    "ExecuteTime": {
     "end_time": "2021-04-10T14:30:33.863839Z",
     "start_time": "2021-04-10T14:30:33.855359Z"
    }
   },
   "outputs": [
    {
     "name": "stdout",
     "output_type": "stream",
     "text": [
      "['abhishek_gupta@gmail.com', 'abhishek_gupta@gmail-yahoo.com', 'abhis+he-k_gupta@gmail-yahoo.com']\n",
      "<re.Match object; span=(154, 178), match='abhishek_gupta@gmail.com'>\n"
     ]
    }
   ],
   "source": [
    "pattern  = r'[a-zA-Z0-9_.+-]+@[a-zA-Z0-9-]+\\.[a-zA-Z]+'\n",
    "print(re.findall(pattern, text_to_search))\n",
    "print(re.search(pattern, text_to_search))\n"
   ]
  },
  {
   "cell_type": "code",
   "execution_count": 40,
   "metadata": {
    "ExecuteTime": {
     "end_time": "2021-04-10T14:48:06.122179Z",
     "start_time": "2021-04-10T14:48:06.109931Z"
    }
   },
   "outputs": [
    {
     "name": "stdout",
     "output_type": "stream",
     "text": [
      "<re.Match object; span=(338, 349), match='Mr. Schafer'>\n",
      "<re.Match object; span=(350, 358), match='Mr Smith'>\n",
      "<re.Match object; span=(359, 367), match='Ms Davis'>\n",
      "<re.Match object; span=(368, 381), match='Mrs. Robinson'>\n",
      "<re.Match object; span=(382, 387), match='Mr. T'>\n",
      "<re.Match object; span=(388, 396), match='Mr_hello'>\n"
     ]
    }
   ],
   "source": [
    "# Filter the names from string\n",
    "res = re.finditer(r'M(rs|r|s|r_)\\.?\\s?[a-zA-z]+', text_to_search)\n",
    "for i in res:print(i)"
   ]
  },
  {
   "cell_type": "code",
   "execution_count": 42,
   "metadata": {
    "ExecuteTime": {
     "end_time": "2021-04-10T14:49:45.188004Z",
     "start_time": "2021-04-10T14:49:45.178468Z"
    }
   },
   "outputs": [
    {
     "name": "stdout",
     "output_type": "stream",
     "text": [
      "<re.Match object; span=(338, 349), match='Mr. Schafer'>\n",
      "<re.Match object; span=(350, 358), match='Mr Smith'>\n",
      "<re.Match object; span=(382, 387), match='Mr. T'>\n"
     ]
    }
   ],
   "source": [
    "import re\n",
    "res = re.finditer(r'Mr\\.?\\s[A-Za-z]+',text_to_search)\n",
    "for i in res:\n",
    "    print(i)"
   ]
  },
  {
   "cell_type": "code",
   "execution_count": 43,
   "metadata": {
    "ExecuteTime": {
     "end_time": "2021-04-10T14:50:58.248353Z",
     "start_time": "2021-04-10T14:50:58.240509Z"
    }
   },
   "outputs": [
    {
     "name": "stdout",
     "output_type": "stream",
     "text": [
      "<re.Match object; span=(338, 349), match='Mr. Schafer'>\n",
      "<re.Match object; span=(350, 358), match='Mr Smith'>\n"
     ]
    }
   ],
   "source": [
    "import re\n",
    "res = re.finditer(r'Mr\\.?\\s[A-Za-z]\\w+',text_to_search)\n",
    "for i in res:\n",
    "    print(i)"
   ]
  },
  {
   "cell_type": "code",
   "execution_count": 44,
   "metadata": {
    "ExecuteTime": {
     "end_time": "2021-04-10T14:51:58.080186Z",
     "start_time": "2021-04-10T14:51:58.073766Z"
    }
   },
   "outputs": [
    {
     "name": "stdout",
     "output_type": "stream",
     "text": [
      "<re.Match object; span=(57, 69), match='321-555-4321'>\n",
      "<re.Match object; span=(260, 272), match='321-555-4321'>\n",
      "<re.Match object; span=(312, 324), match='800-555-1234'>\n",
      "<re.Match object; span=(325, 337), match='900-555-1234'>\n"
     ]
    }
   ],
   "source": [
    "import re\n",
    "res = re.finditer(r'\\d{3}[-]\\d{3}[-]\\d{4}',text_to_search)\n",
    "for i in res:\n",
    "    print(i)"
   ]
  },
  {
   "cell_type": "code",
   "execution_count": 45,
   "metadata": {
    "ExecuteTime": {
     "end_time": "2021-04-10T14:52:22.139009Z",
     "start_time": "2021-04-10T14:52:22.129272Z"
    }
   },
   "outputs": [
    {
     "name": "stdout",
     "output_type": "stream",
     "text": [
      "<re.Match object; span=(57, 69), match='321-555-4321'>\n",
      "<re.Match object; span=(260, 272), match='321-555-4321'>\n",
      "<re.Match object; span=(273, 285), match='123.555.1234'>\n",
      "<re.Match object; span=(286, 298), match='123*555*1234'>\n",
      "<re.Match object; span=(299, 311), match='123.555.1234'>\n",
      "<re.Match object; span=(312, 324), match='800-555-1234'>\n",
      "<re.Match object; span=(325, 337), match='900-555-1234'>\n"
     ]
    }
   ],
   "source": [
    "import re\n",
    "res = re.finditer(r'\\d{3}[*.-]\\d{3}[*.-]\\d{4}',text_to_search)\n",
    "for i in res:\n",
    "    print(i)"
   ]
  },
  {
   "cell_type": "code",
   "execution_count": 46,
   "metadata": {
    "ExecuteTime": {
     "end_time": "2021-04-10T14:53:48.542516Z",
     "start_time": "2021-04-10T14:53:48.531971Z"
    }
   },
   "outputs": [
    {
     "name": "stdout",
     "output_type": "stream",
     "text": [
      "<re.Match object; span=(57, 69), match='321-555-4321'>\n",
      "<re.Match object; span=(260, 272), match='321-555-4321'>\n",
      "<re.Match object; span=(273, 285), match='123.555.1234'>\n",
      "<re.Match object; span=(286, 298), match='123*555*1234'>\n",
      "<re.Match object; span=(299, 311), match='123.555.1234'>\n",
      "<re.Match object; span=(312, 324), match='800-555-1234'>\n",
      "<re.Match object; span=(325, 337), match='900-555-1234'>\n"
     ]
    }
   ],
   "source": [
    "import re\n",
    "res = re.finditer(r'\\d{3}(\\*|\\.|-)\\d{3}(\\*|\\.|-)\\d{4}',text_to_search)\n",
    "for i in res:\n",
    "    print(i)"
   ]
  },
  {
   "cell_type": "code",
   "execution_count": 48,
   "metadata": {
    "ExecuteTime": {
     "end_time": "2021-04-10T14:56:57.590136Z",
     "start_time": "2021-04-10T14:56:57.581486Z"
    }
   },
   "outputs": [],
   "source": [
    "emails = '''\n",
    "AfsanMKhan@gmail.com\n",
    "afsan.khan@university.edu\n",
    "afsan-321-khan@my-work.net\n",
    "afsan-321-khan@my-work.abc\n",
    "'''"
   ]
  },
  {
   "cell_type": "code",
   "execution_count": 62,
   "metadata": {
    "ExecuteTime": {
     "end_time": "2021-04-10T15:02:16.820989Z",
     "start_time": "2021-04-10T15:02:16.811338Z"
    }
   },
   "outputs": [
    {
     "name": "stdout",
     "output_type": "stream",
     "text": [
      "<re.Match object; span=(1, 21), match='AfsanMKhan@gmail.com'>\n",
      "<re.Match object; span=(22, 47), match='afsan.khan@university.edu'>\n",
      "<re.Match object; span=(48, 74), match='afsan-321-khan@my-work.net'>\n"
     ]
    }
   ],
   "source": [
    "pattern = re.finditer(r'[A-Za-z\\-\\.0-9]+@[A-Za-z-]+\\.[^a][^b][^c]', emails)\n",
    "for i in pattern:print(i)"
   ]
  },
  {
   "cell_type": "code",
   "execution_count": null,
   "metadata": {},
   "outputs": [],
   "source": [
    "pattern = re.finditer(r'[A-Za-z\\-\\.0-9]+@[A-Za-z-]+\\.(com|net|edu)', emails)\n",
    "for i in pattern:print(i)"
   ]
  },
  {
   "cell_type": "markdown",
   "metadata": {},
   "source": [
    "# 11th April, 2021"
   ]
  },
  {
   "cell_type": "code",
   "execution_count": 1,
   "metadata": {
    "ExecuteTime": {
     "end_time": "2021-04-11T13:40:43.718715Z",
     "start_time": "2021-04-11T13:40:43.713523Z"
    }
   },
   "outputs": [],
   "source": [
    "import re"
   ]
  },
  {
   "cell_type": "code",
   "execution_count": 18,
   "metadata": {
    "ExecuteTime": {
     "end_time": "2021-04-11T13:48:32.445507Z",
     "start_time": "2021-04-11T13:48:32.442386Z"
    }
   },
   "outputs": [],
   "source": [
    "text_to_search = '''\n",
    "abcdefghijklmnopqurtuvwxyz\n",
    "ABCDEFGHIJKLMNOPQRSTUVWXYZ\n",
    "321-555-4321\n",
    "1234567890\n",
    "Ha HaHa\n",
    "MetaCharacters (Need to be escaped):\n",
    ". ^ $ * + ? { } [ ] \\ | ( )\n",
    "khanafsaan11.com\n",
    "321-555-4321\n",
    "123.555.1234\n",
    "123*555*-1234\n",
    "123.555.1234\n",
    "800-555-1234\n",
    "900-555-1234\n",
    "Mr. Schafer\n",
    "Mr Smith\n",
    "Ms Davis\n",
    "Mrs. Robinson\n",
    "Mr. T\n",
    "Mr_hello\n",
    "'''"
   ]
  },
  {
   "cell_type": "code",
   "execution_count": 3,
   "metadata": {
    "ExecuteTime": {
     "end_time": "2021-04-11T13:41:08.589530Z",
     "start_time": "2021-04-11T13:41:08.568584Z"
    }
   },
   "outputs": [
    {
     "name": "stdout",
     "output_type": "stream",
     "text": [
      "<re.Match object; span=(1, 2), match='a'>\n",
      "<re.Match object; span=(2, 3), match='b'>\n",
      "<re.Match object; span=(3, 4), match='c'>\n",
      "<re.Match object; span=(4, 5), match='d'>\n",
      "<re.Match object; span=(5, 6), match='e'>\n",
      "<re.Match object; span=(6, 7), match='f'>\n",
      "<re.Match object; span=(7, 8), match='g'>\n",
      "<re.Match object; span=(8, 9), match='h'>\n",
      "<re.Match object; span=(9, 10), match='i'>\n",
      "<re.Match object; span=(10, 11), match='j'>\n",
      "<re.Match object; span=(11, 12), match='k'>\n",
      "<re.Match object; span=(12, 13), match='l'>\n",
      "<re.Match object; span=(13, 14), match='m'>\n",
      "<re.Match object; span=(14, 15), match='n'>\n",
      "<re.Match object; span=(15, 16), match='o'>\n",
      "<re.Match object; span=(16, 17), match='p'>\n",
      "<re.Match object; span=(17, 18), match='q'>\n",
      "<re.Match object; span=(18, 19), match='u'>\n",
      "<re.Match object; span=(19, 20), match='r'>\n",
      "<re.Match object; span=(20, 21), match='t'>\n",
      "<re.Match object; span=(21, 22), match='u'>\n",
      "<re.Match object; span=(22, 23), match='v'>\n",
      "<re.Match object; span=(23, 24), match='w'>\n",
      "<re.Match object; span=(24, 25), match='x'>\n",
      "<re.Match object; span=(25, 26), match='y'>\n",
      "<re.Match object; span=(26, 27), match='z'>\n",
      "<re.Match object; span=(28, 29), match='A'>\n",
      "<re.Match object; span=(29, 30), match='B'>\n",
      "<re.Match object; span=(30, 31), match='C'>\n",
      "<re.Match object; span=(31, 32), match='D'>\n",
      "<re.Match object; span=(32, 33), match='E'>\n",
      "<re.Match object; span=(33, 34), match='F'>\n",
      "<re.Match object; span=(34, 35), match='G'>\n",
      "<re.Match object; span=(35, 36), match='H'>\n",
      "<re.Match object; span=(36, 37), match='I'>\n",
      "<re.Match object; span=(37, 38), match='J'>\n",
      "<re.Match object; span=(38, 39), match='K'>\n",
      "<re.Match object; span=(39, 40), match='L'>\n",
      "<re.Match object; span=(40, 41), match='M'>\n",
      "<re.Match object; span=(41, 42), match='N'>\n",
      "<re.Match object; span=(42, 43), match='O'>\n",
      "<re.Match object; span=(43, 44), match='P'>\n",
      "<re.Match object; span=(44, 45), match='Q'>\n",
      "<re.Match object; span=(45, 46), match='R'>\n",
      "<re.Match object; span=(46, 47), match='S'>\n",
      "<re.Match object; span=(47, 48), match='T'>\n",
      "<re.Match object; span=(48, 49), match='U'>\n",
      "<re.Match object; span=(49, 50), match='V'>\n",
      "<re.Match object; span=(50, 51), match='W'>\n",
      "<re.Match object; span=(51, 52), match='X'>\n",
      "<re.Match object; span=(52, 53), match='Y'>\n",
      "<re.Match object; span=(53, 54), match='Z'>\n",
      "<re.Match object; span=(54, 55), match='\\\\'>\n",
      "<re.Match object; span=(55, 56), match='s'>\n",
      "<re.Match object; span=(57, 58), match='3'>\n",
      "<re.Match object; span=(58, 59), match='2'>\n",
      "<re.Match object; span=(59, 60), match='1'>\n",
      "<re.Match object; span=(60, 61), match='-'>\n",
      "<re.Match object; span=(61, 62), match='5'>\n",
      "<re.Match object; span=(62, 63), match='5'>\n",
      "<re.Match object; span=(63, 64), match='5'>\n",
      "<re.Match object; span=(64, 65), match='-'>\n",
      "<re.Match object; span=(65, 66), match='4'>\n",
      "<re.Match object; span=(66, 67), match='3'>\n",
      "<re.Match object; span=(67, 68), match='2'>\n",
      "<re.Match object; span=(68, 69), match='1'>\n",
      "<re.Match object; span=(70, 71), match='1'>\n",
      "<re.Match object; span=(71, 72), match='2'>\n",
      "<re.Match object; span=(72, 73), match='3'>\n",
      "<re.Match object; span=(73, 74), match='4'>\n",
      "<re.Match object; span=(74, 75), match='5'>\n",
      "<re.Match object; span=(75, 76), match='6'>\n",
      "<re.Match object; span=(76, 77), match='7'>\n",
      "<re.Match object; span=(77, 78), match='8'>\n",
      "<re.Match object; span=(78, 79), match='9'>\n",
      "<re.Match object; span=(79, 80), match='0'>\n",
      "<re.Match object; span=(81, 82), match='H'>\n",
      "<re.Match object; span=(82, 83), match='a'>\n",
      "<re.Match object; span=(84, 85), match='H'>\n",
      "<re.Match object; span=(85, 86), match='a'>\n",
      "<re.Match object; span=(86, 87), match='H'>\n",
      "<re.Match object; span=(87, 88), match='a'>\n",
      "<re.Match object; span=(89, 90), match='M'>\n",
      "<re.Match object; span=(90, 91), match='e'>\n",
      "<re.Match object; span=(91, 92), match='t'>\n",
      "<re.Match object; span=(92, 93), match='a'>\n",
      "<re.Match object; span=(93, 94), match='C'>\n",
      "<re.Match object; span=(94, 95), match='h'>\n",
      "<re.Match object; span=(95, 96), match='a'>\n",
      "<re.Match object; span=(96, 97), match='r'>\n",
      "<re.Match object; span=(97, 98), match='a'>\n",
      "<re.Match object; span=(98, 99), match='c'>\n",
      "<re.Match object; span=(99, 100), match='t'>\n",
      "<re.Match object; span=(100, 101), match='e'>\n",
      "<re.Match object; span=(101, 102), match='r'>\n",
      "<re.Match object; span=(102, 103), match='s'>\n",
      "<re.Match object; span=(104, 105), match='('>\n",
      "<re.Match object; span=(105, 106), match='N'>\n",
      "<re.Match object; span=(106, 107), match='e'>\n",
      "<re.Match object; span=(107, 108), match='e'>\n",
      "<re.Match object; span=(108, 109), match='d'>\n",
      "<re.Match object; span=(110, 111), match='t'>\n",
      "<re.Match object; span=(111, 112), match='o'>\n",
      "<re.Match object; span=(113, 114), match='b'>\n",
      "<re.Match object; span=(114, 115), match='e'>\n",
      "<re.Match object; span=(116, 117), match='e'>\n",
      "<re.Match object; span=(117, 118), match='s'>\n",
      "<re.Match object; span=(118, 119), match='c'>\n",
      "<re.Match object; span=(119, 120), match='a'>\n",
      "<re.Match object; span=(120, 121), match='p'>\n",
      "<re.Match object; span=(121, 122), match='e'>\n",
      "<re.Match object; span=(122, 123), match='d'>\n",
      "<re.Match object; span=(123, 124), match=')'>\n",
      "<re.Match object; span=(124, 125), match=':'>\n",
      "<re.Match object; span=(126, 127), match='.'>\n",
      "<re.Match object; span=(128, 129), match='^'>\n",
      "<re.Match object; span=(130, 131), match='$'>\n",
      "<re.Match object; span=(132, 133), match='*'>\n",
      "<re.Match object; span=(134, 135), match='+'>\n",
      "<re.Match object; span=(136, 137), match='?'>\n",
      "<re.Match object; span=(138, 139), match='{'>\n",
      "<re.Match object; span=(140, 141), match='}'>\n",
      "<re.Match object; span=(142, 143), match='['>\n",
      "<re.Match object; span=(144, 145), match=']'>\n",
      "<re.Match object; span=(146, 147), match='\\\\'>\n",
      "<re.Match object; span=(148, 149), match='|'>\n",
      "<re.Match object; span=(150, 151), match='('>\n",
      "<re.Match object; span=(152, 153), match=')'>\n",
      "<re.Match object; span=(154, 155), match='k'>\n",
      "<re.Match object; span=(155, 156), match='h'>\n",
      "<re.Match object; span=(156, 157), match='a'>\n",
      "<re.Match object; span=(157, 158), match='n'>\n",
      "<re.Match object; span=(158, 159), match='a'>\n",
      "<re.Match object; span=(159, 160), match='f'>\n",
      "<re.Match object; span=(160, 161), match='s'>\n",
      "<re.Match object; span=(161, 162), match='a'>\n",
      "<re.Match object; span=(162, 163), match='a'>\n",
      "<re.Match object; span=(163, 164), match='n'>\n",
      "<re.Match object; span=(164, 165), match='1'>\n",
      "<re.Match object; span=(165, 166), match='1'>\n",
      "<re.Match object; span=(166, 167), match='.'>\n",
      "<re.Match object; span=(167, 168), match='c'>\n",
      "<re.Match object; span=(168, 169), match='o'>\n",
      "<re.Match object; span=(169, 170), match='m'>\n",
      "<re.Match object; span=(171, 172), match='3'>\n",
      "<re.Match object; span=(172, 173), match='2'>\n",
      "<re.Match object; span=(173, 174), match='1'>\n",
      "<re.Match object; span=(174, 175), match='-'>\n",
      "<re.Match object; span=(175, 176), match='5'>\n",
      "<re.Match object; span=(176, 177), match='5'>\n",
      "<re.Match object; span=(177, 178), match='5'>\n",
      "<re.Match object; span=(178, 179), match='-'>\n",
      "<re.Match object; span=(179, 180), match='4'>\n",
      "<re.Match object; span=(180, 181), match='3'>\n",
      "<re.Match object; span=(181, 182), match='2'>\n",
      "<re.Match object; span=(182, 183), match='1'>\n",
      "<re.Match object; span=(184, 185), match='1'>\n",
      "<re.Match object; span=(185, 186), match='2'>\n",
      "<re.Match object; span=(186, 187), match='3'>\n",
      "<re.Match object; span=(187, 188), match='.'>\n",
      "<re.Match object; span=(188, 189), match='5'>\n",
      "<re.Match object; span=(189, 190), match='5'>\n",
      "<re.Match object; span=(190, 191), match='5'>\n",
      "<re.Match object; span=(191, 192), match='.'>\n",
      "<re.Match object; span=(192, 193), match='1'>\n",
      "<re.Match object; span=(193, 194), match='2'>\n",
      "<re.Match object; span=(194, 195), match='3'>\n",
      "<re.Match object; span=(195, 196), match='4'>\n",
      "<re.Match object; span=(197, 198), match='1'>\n",
      "<re.Match object; span=(198, 199), match='2'>\n",
      "<re.Match object; span=(199, 200), match='3'>\n",
      "<re.Match object; span=(200, 201), match='*'>\n",
      "<re.Match object; span=(201, 202), match='5'>\n",
      "<re.Match object; span=(202, 203), match='5'>\n",
      "<re.Match object; span=(203, 204), match='5'>\n",
      "<re.Match object; span=(204, 205), match='*'>\n",
      "<re.Match object; span=(205, 206), match='-'>\n",
      "<re.Match object; span=(206, 207), match='1'>\n",
      "<re.Match object; span=(207, 208), match='2'>\n",
      "<re.Match object; span=(208, 209), match='3'>\n",
      "<re.Match object; span=(209, 210), match='4'>\n",
      "<re.Match object; span=(211, 212), match='1'>\n",
      "<re.Match object; span=(212, 213), match='2'>\n",
      "<re.Match object; span=(213, 214), match='3'>\n",
      "<re.Match object; span=(214, 215), match='.'>\n",
      "<re.Match object; span=(215, 216), match='5'>\n",
      "<re.Match object; span=(216, 217), match='5'>\n",
      "<re.Match object; span=(217, 218), match='5'>\n",
      "<re.Match object; span=(218, 219), match='.'>\n",
      "<re.Match object; span=(219, 220), match='1'>\n",
      "<re.Match object; span=(220, 221), match='2'>\n",
      "<re.Match object; span=(221, 222), match='3'>\n",
      "<re.Match object; span=(222, 223), match='4'>\n",
      "<re.Match object; span=(224, 225), match='8'>\n",
      "<re.Match object; span=(225, 226), match='0'>\n",
      "<re.Match object; span=(226, 227), match='0'>\n",
      "<re.Match object; span=(227, 228), match='-'>\n",
      "<re.Match object; span=(228, 229), match='5'>\n",
      "<re.Match object; span=(229, 230), match='5'>\n",
      "<re.Match object; span=(230, 231), match='5'>\n",
      "<re.Match object; span=(231, 232), match='-'>\n",
      "<re.Match object; span=(232, 233), match='1'>\n",
      "<re.Match object; span=(233, 234), match='2'>\n",
      "<re.Match object; span=(234, 235), match='3'>\n",
      "<re.Match object; span=(235, 236), match='4'>\n",
      "<re.Match object; span=(237, 238), match='9'>\n",
      "<re.Match object; span=(238, 239), match='0'>\n",
      "<re.Match object; span=(239, 240), match='0'>\n",
      "<re.Match object; span=(240, 241), match='-'>\n",
      "<re.Match object; span=(241, 242), match='5'>\n",
      "<re.Match object; span=(242, 243), match='5'>\n",
      "<re.Match object; span=(243, 244), match='5'>\n",
      "<re.Match object; span=(244, 245), match='-'>\n",
      "<re.Match object; span=(245, 246), match='1'>\n",
      "<re.Match object; span=(246, 247), match='2'>\n",
      "<re.Match object; span=(247, 248), match='3'>\n",
      "<re.Match object; span=(248, 249), match='4'>\n",
      "<re.Match object; span=(250, 251), match='M'>\n",
      "<re.Match object; span=(251, 252), match='r'>\n",
      "<re.Match object; span=(252, 253), match='.'>\n",
      "<re.Match object; span=(254, 255), match='S'>\n",
      "<re.Match object; span=(255, 256), match='c'>\n",
      "<re.Match object; span=(256, 257), match='h'>\n",
      "<re.Match object; span=(257, 258), match='a'>\n",
      "<re.Match object; span=(258, 259), match='f'>\n",
      "<re.Match object; span=(259, 260), match='e'>\n",
      "<re.Match object; span=(260, 261), match='r'>\n",
      "<re.Match object; span=(262, 263), match='M'>\n",
      "<re.Match object; span=(263, 264), match='r'>\n",
      "<re.Match object; span=(265, 266), match='S'>\n",
      "<re.Match object; span=(266, 267), match='m'>\n",
      "<re.Match object; span=(267, 268), match='i'>\n",
      "<re.Match object; span=(268, 269), match='t'>\n",
      "<re.Match object; span=(269, 270), match='h'>\n",
      "<re.Match object; span=(271, 272), match='M'>\n",
      "<re.Match object; span=(272, 273), match='s'>\n",
      "<re.Match object; span=(274, 275), match='D'>\n",
      "<re.Match object; span=(275, 276), match='a'>\n",
      "<re.Match object; span=(276, 277), match='v'>\n",
      "<re.Match object; span=(277, 278), match='i'>\n",
      "<re.Match object; span=(278, 279), match='s'>\n",
      "<re.Match object; span=(280, 281), match='M'>\n",
      "<re.Match object; span=(281, 282), match='r'>\n",
      "<re.Match object; span=(282, 283), match='s'>\n",
      "<re.Match object; span=(283, 284), match='.'>\n",
      "<re.Match object; span=(285, 286), match='R'>\n",
      "<re.Match object; span=(286, 287), match='o'>\n",
      "<re.Match object; span=(287, 288), match='b'>\n",
      "<re.Match object; span=(288, 289), match='i'>\n",
      "<re.Match object; span=(289, 290), match='n'>\n",
      "<re.Match object; span=(290, 291), match='s'>\n",
      "<re.Match object; span=(291, 292), match='o'>\n",
      "<re.Match object; span=(292, 293), match='n'>\n",
      "<re.Match object; span=(294, 295), match='M'>\n",
      "<re.Match object; span=(295, 296), match='r'>\n",
      "<re.Match object; span=(296, 297), match='.'>\n",
      "<re.Match object; span=(298, 299), match='T'>\n",
      "<re.Match object; span=(300, 301), match='M'>\n",
      "<re.Match object; span=(301, 302), match='r'>\n",
      "<re.Match object; span=(302, 303), match='_'>\n",
      "<re.Match object; span=(303, 304), match='h'>\n",
      "<re.Match object; span=(304, 305), match='e'>\n",
      "<re.Match object; span=(305, 306), match='l'>\n",
      "<re.Match object; span=(306, 307), match='l'>\n",
      "<re.Match object; span=(307, 308), match='o'>\n"
     ]
    }
   ],
   "source": [
    "abc = re.compile(r'\\S')\n",
    "matches = abc.finditer(text_to_search)\n",
    "for i in matches:\n",
    "    print(i)\n"
   ]
  },
  {
   "cell_type": "code",
   "execution_count": 4,
   "metadata": {
    "ExecuteTime": {
     "end_time": "2021-04-11T13:42:00.750980Z",
     "start_time": "2021-04-11T13:42:00.734360Z"
    }
   },
   "outputs": [
    {
     "name": "stdout",
     "output_type": "stream",
     "text": [
      "<re.Match object; span=(0, 1), match='\\n'>\n",
      "<re.Match object; span=(27, 28), match='\\n'>\n",
      "<re.Match object; span=(56, 57), match='\\n'>\n",
      "<re.Match object; span=(69, 70), match='\\n'>\n",
      "<re.Match object; span=(80, 81), match='\\n'>\n",
      "<re.Match object; span=(83, 84), match=' '>\n",
      "<re.Match object; span=(88, 89), match='\\n'>\n",
      "<re.Match object; span=(103, 104), match=' '>\n",
      "<re.Match object; span=(109, 110), match=' '>\n",
      "<re.Match object; span=(112, 113), match=' '>\n",
      "<re.Match object; span=(115, 116), match=' '>\n",
      "<re.Match object; span=(125, 126), match='\\n'>\n",
      "<re.Match object; span=(127, 128), match=' '>\n",
      "<re.Match object; span=(129, 130), match=' '>\n",
      "<re.Match object; span=(131, 132), match=' '>\n",
      "<re.Match object; span=(133, 134), match=' '>\n",
      "<re.Match object; span=(135, 136), match=' '>\n",
      "<re.Match object; span=(137, 138), match=' '>\n",
      "<re.Match object; span=(139, 140), match=' '>\n",
      "<re.Match object; span=(141, 142), match=' '>\n",
      "<re.Match object; span=(143, 144), match=' '>\n",
      "<re.Match object; span=(145, 146), match=' '>\n",
      "<re.Match object; span=(147, 148), match=' '>\n",
      "<re.Match object; span=(149, 150), match=' '>\n",
      "<re.Match object; span=(151, 152), match=' '>\n",
      "<re.Match object; span=(153, 154), match='\\n'>\n",
      "<re.Match object; span=(170, 171), match='\\n'>\n",
      "<re.Match object; span=(183, 184), match='\\n'>\n",
      "<re.Match object; span=(196, 197), match='\\n'>\n",
      "<re.Match object; span=(210, 211), match='\\n'>\n",
      "<re.Match object; span=(223, 224), match='\\n'>\n",
      "<re.Match object; span=(236, 237), match='\\n'>\n",
      "<re.Match object; span=(249, 250), match='\\n'>\n",
      "<re.Match object; span=(253, 254), match=' '>\n",
      "<re.Match object; span=(261, 262), match='\\n'>\n",
      "<re.Match object; span=(264, 265), match=' '>\n",
      "<re.Match object; span=(270, 271), match='\\n'>\n",
      "<re.Match object; span=(273, 274), match=' '>\n",
      "<re.Match object; span=(279, 280), match='\\n'>\n",
      "<re.Match object; span=(284, 285), match=' '>\n",
      "<re.Match object; span=(293, 294), match='\\n'>\n",
      "<re.Match object; span=(297, 298), match=' '>\n",
      "<re.Match object; span=(299, 300), match='\\n'>\n",
      "<re.Match object; span=(308, 309), match='\\n'>\n"
     ]
    }
   ],
   "source": [
    "abc = re.compile(r'\\s')\n",
    "matches = abc.finditer(text_to_search)\n",
    "for i in matches:\n",
    "    print(i)"
   ]
  },
  {
   "cell_type": "code",
   "execution_count": 5,
   "metadata": {
    "ExecuteTime": {
     "end_time": "2021-04-11T13:42:16.080371Z",
     "start_time": "2021-04-11T13:42:16.074818Z"
    }
   },
   "outputs": [],
   "source": [
    "string = 'cat catherine catholic wildcat copycat uncatachable'"
   ]
  },
  {
   "cell_type": "code",
   "execution_count": 6,
   "metadata": {
    "ExecuteTime": {
     "end_time": "2021-04-11T13:42:43.362578Z",
     "start_time": "2021-04-11T13:42:43.355219Z"
    }
   },
   "outputs": [
    {
     "name": "stdout",
     "output_type": "stream",
     "text": [
      "<re.Match object; span=(0, 3), match='cat'>\n",
      "<re.Match object; span=(4, 7), match='cat'>\n",
      "<re.Match object; span=(14, 17), match='cat'>\n",
      "<re.Match object; span=(27, 30), match='cat'>\n",
      "<re.Match object; span=(35, 38), match='cat'>\n",
      "<re.Match object; span=(41, 44), match='cat'>\n"
     ]
    }
   ],
   "source": [
    "import re\n",
    "abc = re.compile(r'cat')\n",
    "matches = abc.finditer(string)\n",
    "for i in matches:\n",
    "    print(i)"
   ]
  },
  {
   "cell_type": "code",
   "execution_count": 7,
   "metadata": {
    "ExecuteTime": {
     "end_time": "2021-04-11T13:42:58.276894Z",
     "start_time": "2021-04-11T13:42:58.268791Z"
    }
   },
   "outputs": [
    {
     "name": "stdout",
     "output_type": "stream",
     "text": [
      "<re.Match object; span=(0, 4), match='cat '>\n",
      "<re.Match object; span=(27, 31), match='cat '>\n",
      "<re.Match object; span=(35, 39), match='cat '>\n"
     ]
    }
   ],
   "source": [
    "import re\n",
    "abc = re.compile(r'cat ')\n",
    "matches = abc.finditer(string)\n",
    "for i in matches:\n",
    "    print(i)"
   ]
  },
  {
   "cell_type": "code",
   "execution_count": 8,
   "metadata": {
    "ExecuteTime": {
     "end_time": "2021-04-11T13:43:23.834036Z",
     "start_time": "2021-04-11T13:43:23.819160Z"
    }
   },
   "outputs": [
    {
     "name": "stdout",
     "output_type": "stream",
     "text": [
      "<re.Match object; span=(0, 3), match='cat'>\n"
     ]
    }
   ],
   "source": [
    "import re\n",
    "abc = re.compile(r'\\bcat\\b')\n",
    "matches = abc.finditer(string)\n",
    "for i in matches:\n",
    "    print(i)"
   ]
  },
  {
   "cell_type": "code",
   "execution_count": 9,
   "metadata": {
    "ExecuteTime": {
     "end_time": "2021-04-11T13:44:41.101435Z",
     "start_time": "2021-04-11T13:44:41.091939Z"
    }
   },
   "outputs": [
    {
     "name": "stdout",
     "output_type": "stream",
     "text": [
      "<re.Match object; span=(126, 127), match='.'>\n",
      "<re.Match object; span=(166, 167), match='.'>\n",
      "<re.Match object; span=(187, 188), match='.'>\n",
      "<re.Match object; span=(191, 192), match='.'>\n",
      "<re.Match object; span=(214, 215), match='.'>\n",
      "<re.Match object; span=(218, 219), match='.'>\n",
      "<re.Match object; span=(252, 253), match='.'>\n",
      "<re.Match object; span=(283, 284), match='.'>\n",
      "<re.Match object; span=(296, 297), match='.'>\n"
     ]
    }
   ],
   "source": [
    "pattern = re.compile(r'\\.')\n",
    "\n",
    "matches = pattern.finditer(text_to_search)\n",
    "\n",
    "for match in matches:\n",
    "    print(match)"
   ]
  },
  {
   "cell_type": "code",
   "execution_count": 10,
   "metadata": {
    "ExecuteTime": {
     "end_time": "2021-04-11T13:45:05.548805Z",
     "start_time": "2021-04-11T13:45:05.499380Z"
    }
   },
   "outputs": [
    {
     "name": "stdout",
     "output_type": "stream",
     "text": [
      "<re.Match object; span=(1, 2), match='a'>\n",
      "<re.Match object; span=(2, 3), match='b'>\n",
      "<re.Match object; span=(3, 4), match='c'>\n",
      "<re.Match object; span=(4, 5), match='d'>\n",
      "<re.Match object; span=(5, 6), match='e'>\n",
      "<re.Match object; span=(6, 7), match='f'>\n",
      "<re.Match object; span=(7, 8), match='g'>\n",
      "<re.Match object; span=(8, 9), match='h'>\n",
      "<re.Match object; span=(9, 10), match='i'>\n",
      "<re.Match object; span=(10, 11), match='j'>\n",
      "<re.Match object; span=(11, 12), match='k'>\n",
      "<re.Match object; span=(12, 13), match='l'>\n",
      "<re.Match object; span=(13, 14), match='m'>\n",
      "<re.Match object; span=(14, 15), match='n'>\n",
      "<re.Match object; span=(15, 16), match='o'>\n",
      "<re.Match object; span=(16, 17), match='p'>\n",
      "<re.Match object; span=(17, 18), match='q'>\n",
      "<re.Match object; span=(18, 19), match='u'>\n",
      "<re.Match object; span=(19, 20), match='r'>\n",
      "<re.Match object; span=(20, 21), match='t'>\n",
      "<re.Match object; span=(21, 22), match='u'>\n",
      "<re.Match object; span=(22, 23), match='v'>\n",
      "<re.Match object; span=(23, 24), match='w'>\n",
      "<re.Match object; span=(24, 25), match='x'>\n",
      "<re.Match object; span=(25, 26), match='y'>\n",
      "<re.Match object; span=(26, 27), match='z'>\n",
      "<re.Match object; span=(28, 29), match='A'>\n",
      "<re.Match object; span=(29, 30), match='B'>\n",
      "<re.Match object; span=(30, 31), match='C'>\n",
      "<re.Match object; span=(31, 32), match='D'>\n",
      "<re.Match object; span=(32, 33), match='E'>\n",
      "<re.Match object; span=(33, 34), match='F'>\n",
      "<re.Match object; span=(34, 35), match='G'>\n",
      "<re.Match object; span=(35, 36), match='H'>\n",
      "<re.Match object; span=(36, 37), match='I'>\n",
      "<re.Match object; span=(37, 38), match='J'>\n",
      "<re.Match object; span=(38, 39), match='K'>\n",
      "<re.Match object; span=(39, 40), match='L'>\n",
      "<re.Match object; span=(40, 41), match='M'>\n",
      "<re.Match object; span=(41, 42), match='N'>\n",
      "<re.Match object; span=(42, 43), match='O'>\n",
      "<re.Match object; span=(43, 44), match='P'>\n",
      "<re.Match object; span=(44, 45), match='Q'>\n",
      "<re.Match object; span=(45, 46), match='R'>\n",
      "<re.Match object; span=(46, 47), match='S'>\n",
      "<re.Match object; span=(47, 48), match='T'>\n",
      "<re.Match object; span=(48, 49), match='U'>\n",
      "<re.Match object; span=(49, 50), match='V'>\n",
      "<re.Match object; span=(50, 51), match='W'>\n",
      "<re.Match object; span=(51, 52), match='X'>\n",
      "<re.Match object; span=(52, 53), match='Y'>\n",
      "<re.Match object; span=(53, 54), match='Z'>\n",
      "<re.Match object; span=(54, 55), match='\\\\'>\n",
      "<re.Match object; span=(55, 56), match='s'>\n",
      "<re.Match object; span=(57, 58), match='3'>\n",
      "<re.Match object; span=(58, 59), match='2'>\n",
      "<re.Match object; span=(59, 60), match='1'>\n",
      "<re.Match object; span=(60, 61), match='-'>\n",
      "<re.Match object; span=(61, 62), match='5'>\n",
      "<re.Match object; span=(62, 63), match='5'>\n",
      "<re.Match object; span=(63, 64), match='5'>\n",
      "<re.Match object; span=(64, 65), match='-'>\n",
      "<re.Match object; span=(65, 66), match='4'>\n",
      "<re.Match object; span=(66, 67), match='3'>\n",
      "<re.Match object; span=(67, 68), match='2'>\n",
      "<re.Match object; span=(68, 69), match='1'>\n",
      "<re.Match object; span=(70, 71), match='1'>\n",
      "<re.Match object; span=(71, 72), match='2'>\n",
      "<re.Match object; span=(72, 73), match='3'>\n",
      "<re.Match object; span=(73, 74), match='4'>\n",
      "<re.Match object; span=(74, 75), match='5'>\n",
      "<re.Match object; span=(75, 76), match='6'>\n",
      "<re.Match object; span=(76, 77), match='7'>\n",
      "<re.Match object; span=(77, 78), match='8'>\n",
      "<re.Match object; span=(78, 79), match='9'>\n",
      "<re.Match object; span=(79, 80), match='0'>\n",
      "<re.Match object; span=(81, 82), match='H'>\n",
      "<re.Match object; span=(82, 83), match='a'>\n",
      "<re.Match object; span=(83, 84), match=' '>\n",
      "<re.Match object; span=(84, 85), match='H'>\n",
      "<re.Match object; span=(85, 86), match='a'>\n",
      "<re.Match object; span=(86, 87), match='H'>\n",
      "<re.Match object; span=(87, 88), match='a'>\n",
      "<re.Match object; span=(89, 90), match='M'>\n",
      "<re.Match object; span=(90, 91), match='e'>\n",
      "<re.Match object; span=(91, 92), match='t'>\n",
      "<re.Match object; span=(92, 93), match='a'>\n",
      "<re.Match object; span=(93, 94), match='C'>\n",
      "<re.Match object; span=(94, 95), match='h'>\n",
      "<re.Match object; span=(95, 96), match='a'>\n",
      "<re.Match object; span=(96, 97), match='r'>\n",
      "<re.Match object; span=(97, 98), match='a'>\n",
      "<re.Match object; span=(98, 99), match='c'>\n",
      "<re.Match object; span=(99, 100), match='t'>\n",
      "<re.Match object; span=(100, 101), match='e'>\n",
      "<re.Match object; span=(101, 102), match='r'>\n",
      "<re.Match object; span=(102, 103), match='s'>\n",
      "<re.Match object; span=(103, 104), match=' '>\n",
      "<re.Match object; span=(104, 105), match='('>\n",
      "<re.Match object; span=(105, 106), match='N'>\n",
      "<re.Match object; span=(106, 107), match='e'>\n",
      "<re.Match object; span=(107, 108), match='e'>\n",
      "<re.Match object; span=(108, 109), match='d'>\n",
      "<re.Match object; span=(109, 110), match=' '>\n",
      "<re.Match object; span=(110, 111), match='t'>\n",
      "<re.Match object; span=(111, 112), match='o'>\n",
      "<re.Match object; span=(112, 113), match=' '>\n",
      "<re.Match object; span=(113, 114), match='b'>\n",
      "<re.Match object; span=(114, 115), match='e'>\n",
      "<re.Match object; span=(115, 116), match=' '>\n",
      "<re.Match object; span=(116, 117), match='e'>\n",
      "<re.Match object; span=(117, 118), match='s'>\n",
      "<re.Match object; span=(118, 119), match='c'>\n",
      "<re.Match object; span=(119, 120), match='a'>\n",
      "<re.Match object; span=(120, 121), match='p'>\n",
      "<re.Match object; span=(121, 122), match='e'>\n",
      "<re.Match object; span=(122, 123), match='d'>\n",
      "<re.Match object; span=(123, 124), match=')'>\n",
      "<re.Match object; span=(124, 125), match=':'>\n",
      "<re.Match object; span=(126, 127), match='.'>\n",
      "<re.Match object; span=(127, 128), match=' '>\n",
      "<re.Match object; span=(128, 129), match='^'>\n",
      "<re.Match object; span=(129, 130), match=' '>\n",
      "<re.Match object; span=(130, 131), match='$'>\n",
      "<re.Match object; span=(131, 132), match=' '>\n",
      "<re.Match object; span=(132, 133), match='*'>\n",
      "<re.Match object; span=(133, 134), match=' '>\n",
      "<re.Match object; span=(134, 135), match='+'>\n",
      "<re.Match object; span=(135, 136), match=' '>\n",
      "<re.Match object; span=(136, 137), match='?'>\n",
      "<re.Match object; span=(137, 138), match=' '>\n",
      "<re.Match object; span=(138, 139), match='{'>\n",
      "<re.Match object; span=(139, 140), match=' '>\n",
      "<re.Match object; span=(140, 141), match='}'>\n",
      "<re.Match object; span=(141, 142), match=' '>\n",
      "<re.Match object; span=(142, 143), match='['>\n",
      "<re.Match object; span=(143, 144), match=' '>\n",
      "<re.Match object; span=(144, 145), match=']'>\n",
      "<re.Match object; span=(145, 146), match=' '>\n",
      "<re.Match object; span=(146, 147), match='\\\\'>\n",
      "<re.Match object; span=(147, 148), match=' '>\n",
      "<re.Match object; span=(148, 149), match='|'>\n",
      "<re.Match object; span=(149, 150), match=' '>\n",
      "<re.Match object; span=(150, 151), match='('>\n",
      "<re.Match object; span=(151, 152), match=' '>\n",
      "<re.Match object; span=(152, 153), match=')'>\n",
      "<re.Match object; span=(154, 155), match='k'>\n",
      "<re.Match object; span=(155, 156), match='h'>\n",
      "<re.Match object; span=(156, 157), match='a'>\n",
      "<re.Match object; span=(157, 158), match='n'>\n",
      "<re.Match object; span=(158, 159), match='a'>\n",
      "<re.Match object; span=(159, 160), match='f'>\n",
      "<re.Match object; span=(160, 161), match='s'>\n",
      "<re.Match object; span=(161, 162), match='a'>\n",
      "<re.Match object; span=(162, 163), match='a'>\n",
      "<re.Match object; span=(163, 164), match='n'>\n",
      "<re.Match object; span=(164, 165), match='1'>\n",
      "<re.Match object; span=(165, 166), match='1'>\n",
      "<re.Match object; span=(166, 167), match='.'>\n",
      "<re.Match object; span=(167, 168), match='c'>\n",
      "<re.Match object; span=(168, 169), match='o'>\n",
      "<re.Match object; span=(169, 170), match='m'>\n",
      "<re.Match object; span=(171, 172), match='3'>\n",
      "<re.Match object; span=(172, 173), match='2'>\n",
      "<re.Match object; span=(173, 174), match='1'>\n",
      "<re.Match object; span=(174, 175), match='-'>\n",
      "<re.Match object; span=(175, 176), match='5'>\n",
      "<re.Match object; span=(176, 177), match='5'>\n",
      "<re.Match object; span=(177, 178), match='5'>\n",
      "<re.Match object; span=(178, 179), match='-'>\n",
      "<re.Match object; span=(179, 180), match='4'>\n",
      "<re.Match object; span=(180, 181), match='3'>\n",
      "<re.Match object; span=(181, 182), match='2'>\n",
      "<re.Match object; span=(182, 183), match='1'>\n",
      "<re.Match object; span=(184, 185), match='1'>\n",
      "<re.Match object; span=(185, 186), match='2'>\n",
      "<re.Match object; span=(186, 187), match='3'>\n",
      "<re.Match object; span=(187, 188), match='.'>\n",
      "<re.Match object; span=(188, 189), match='5'>\n",
      "<re.Match object; span=(189, 190), match='5'>\n",
      "<re.Match object; span=(190, 191), match='5'>\n",
      "<re.Match object; span=(191, 192), match='.'>\n",
      "<re.Match object; span=(192, 193), match='1'>\n",
      "<re.Match object; span=(193, 194), match='2'>\n",
      "<re.Match object; span=(194, 195), match='3'>\n",
      "<re.Match object; span=(195, 196), match='4'>\n",
      "<re.Match object; span=(197, 198), match='1'>\n",
      "<re.Match object; span=(198, 199), match='2'>\n",
      "<re.Match object; span=(199, 200), match='3'>\n",
      "<re.Match object; span=(200, 201), match='*'>\n",
      "<re.Match object; span=(201, 202), match='5'>\n",
      "<re.Match object; span=(202, 203), match='5'>\n",
      "<re.Match object; span=(203, 204), match='5'>\n",
      "<re.Match object; span=(204, 205), match='*'>\n",
      "<re.Match object; span=(205, 206), match='-'>\n",
      "<re.Match object; span=(206, 207), match='1'>\n",
      "<re.Match object; span=(207, 208), match='2'>\n",
      "<re.Match object; span=(208, 209), match='3'>\n",
      "<re.Match object; span=(209, 210), match='4'>\n",
      "<re.Match object; span=(211, 212), match='1'>\n",
      "<re.Match object; span=(212, 213), match='2'>\n",
      "<re.Match object; span=(213, 214), match='3'>\n",
      "<re.Match object; span=(214, 215), match='.'>\n",
      "<re.Match object; span=(215, 216), match='5'>\n",
      "<re.Match object; span=(216, 217), match='5'>\n",
      "<re.Match object; span=(217, 218), match='5'>\n",
      "<re.Match object; span=(218, 219), match='.'>\n",
      "<re.Match object; span=(219, 220), match='1'>\n",
      "<re.Match object; span=(220, 221), match='2'>\n",
      "<re.Match object; span=(221, 222), match='3'>\n",
      "<re.Match object; span=(222, 223), match='4'>\n",
      "<re.Match object; span=(224, 225), match='8'>\n",
      "<re.Match object; span=(225, 226), match='0'>\n",
      "<re.Match object; span=(226, 227), match='0'>\n",
      "<re.Match object; span=(227, 228), match='-'>\n",
      "<re.Match object; span=(228, 229), match='5'>\n",
      "<re.Match object; span=(229, 230), match='5'>\n",
      "<re.Match object; span=(230, 231), match='5'>\n",
      "<re.Match object; span=(231, 232), match='-'>\n",
      "<re.Match object; span=(232, 233), match='1'>\n",
      "<re.Match object; span=(233, 234), match='2'>\n",
      "<re.Match object; span=(234, 235), match='3'>\n",
      "<re.Match object; span=(235, 236), match='4'>\n",
      "<re.Match object; span=(237, 238), match='9'>\n",
      "<re.Match object; span=(238, 239), match='0'>\n",
      "<re.Match object; span=(239, 240), match='0'>\n",
      "<re.Match object; span=(240, 241), match='-'>\n",
      "<re.Match object; span=(241, 242), match='5'>\n",
      "<re.Match object; span=(242, 243), match='5'>\n",
      "<re.Match object; span=(243, 244), match='5'>\n",
      "<re.Match object; span=(244, 245), match='-'>\n",
      "<re.Match object; span=(245, 246), match='1'>\n",
      "<re.Match object; span=(246, 247), match='2'>\n",
      "<re.Match object; span=(247, 248), match='3'>\n",
      "<re.Match object; span=(248, 249), match='4'>\n",
      "<re.Match object; span=(250, 251), match='M'>\n",
      "<re.Match object; span=(251, 252), match='r'>\n",
      "<re.Match object; span=(252, 253), match='.'>\n",
      "<re.Match object; span=(253, 254), match=' '>\n",
      "<re.Match object; span=(254, 255), match='S'>\n",
      "<re.Match object; span=(255, 256), match='c'>\n",
      "<re.Match object; span=(256, 257), match='h'>\n",
      "<re.Match object; span=(257, 258), match='a'>\n",
      "<re.Match object; span=(258, 259), match='f'>\n",
      "<re.Match object; span=(259, 260), match='e'>\n",
      "<re.Match object; span=(260, 261), match='r'>\n",
      "<re.Match object; span=(262, 263), match='M'>\n",
      "<re.Match object; span=(263, 264), match='r'>\n",
      "<re.Match object; span=(264, 265), match=' '>\n",
      "<re.Match object; span=(265, 266), match='S'>\n",
      "<re.Match object; span=(266, 267), match='m'>\n",
      "<re.Match object; span=(267, 268), match='i'>\n",
      "<re.Match object; span=(268, 269), match='t'>\n",
      "<re.Match object; span=(269, 270), match='h'>\n",
      "<re.Match object; span=(271, 272), match='M'>\n",
      "<re.Match object; span=(272, 273), match='s'>\n",
      "<re.Match object; span=(273, 274), match=' '>\n",
      "<re.Match object; span=(274, 275), match='D'>\n",
      "<re.Match object; span=(275, 276), match='a'>\n",
      "<re.Match object; span=(276, 277), match='v'>\n",
      "<re.Match object; span=(277, 278), match='i'>\n",
      "<re.Match object; span=(278, 279), match='s'>\n",
      "<re.Match object; span=(280, 281), match='M'>\n",
      "<re.Match object; span=(281, 282), match='r'>\n",
      "<re.Match object; span=(282, 283), match='s'>\n",
      "<re.Match object; span=(283, 284), match='.'>\n",
      "<re.Match object; span=(284, 285), match=' '>\n",
      "<re.Match object; span=(285, 286), match='R'>\n",
      "<re.Match object; span=(286, 287), match='o'>\n",
      "<re.Match object; span=(287, 288), match='b'>\n",
      "<re.Match object; span=(288, 289), match='i'>\n",
      "<re.Match object; span=(289, 290), match='n'>\n",
      "<re.Match object; span=(290, 291), match='s'>\n",
      "<re.Match object; span=(291, 292), match='o'>\n",
      "<re.Match object; span=(292, 293), match='n'>\n",
      "<re.Match object; span=(294, 295), match='M'>\n",
      "<re.Match object; span=(295, 296), match='r'>\n",
      "<re.Match object; span=(296, 297), match='.'>\n",
      "<re.Match object; span=(297, 298), match=' '>\n",
      "<re.Match object; span=(298, 299), match='T'>\n",
      "<re.Match object; span=(300, 301), match='M'>\n",
      "<re.Match object; span=(301, 302), match='r'>\n",
      "<re.Match object; span=(302, 303), match='_'>\n",
      "<re.Match object; span=(303, 304), match='h'>\n",
      "<re.Match object; span=(304, 305), match='e'>\n",
      "<re.Match object; span=(305, 306), match='l'>\n",
      "<re.Match object; span=(306, 307), match='l'>\n",
      "<re.Match object; span=(307, 308), match='o'>\n"
     ]
    }
   ],
   "source": [
    "pattern = re.compile(r'.')\n",
    "\n",
    "matches = pattern.finditer(text_to_search)\n",
    "\n",
    "for match in matches:\n",
    "    print(match)"
   ]
  },
  {
   "cell_type": "code",
   "execution_count": 11,
   "metadata": {
    "ExecuteTime": {
     "end_time": "2021-04-11T13:45:36.925138Z",
     "start_time": "2021-04-11T13:45:36.894707Z"
    }
   },
   "outputs": [
    {
     "name": "stdout",
     "output_type": "stream",
     "text": [
      "<re.Match object; span=(57, 58), match='3'>\n",
      "<re.Match object; span=(58, 59), match='2'>\n",
      "<re.Match object; span=(59, 60), match='1'>\n",
      "<re.Match object; span=(61, 62), match='5'>\n",
      "<re.Match object; span=(62, 63), match='5'>\n",
      "<re.Match object; span=(63, 64), match='5'>\n",
      "<re.Match object; span=(65, 66), match='4'>\n",
      "<re.Match object; span=(66, 67), match='3'>\n",
      "<re.Match object; span=(67, 68), match='2'>\n",
      "<re.Match object; span=(68, 69), match='1'>\n",
      "<re.Match object; span=(70, 71), match='1'>\n",
      "<re.Match object; span=(71, 72), match='2'>\n",
      "<re.Match object; span=(72, 73), match='3'>\n",
      "<re.Match object; span=(73, 74), match='4'>\n",
      "<re.Match object; span=(74, 75), match='5'>\n",
      "<re.Match object; span=(75, 76), match='6'>\n",
      "<re.Match object; span=(76, 77), match='7'>\n",
      "<re.Match object; span=(77, 78), match='8'>\n",
      "<re.Match object; span=(78, 79), match='9'>\n",
      "<re.Match object; span=(79, 80), match='0'>\n",
      "<re.Match object; span=(164, 165), match='1'>\n",
      "<re.Match object; span=(165, 166), match='1'>\n",
      "<re.Match object; span=(171, 172), match='3'>\n",
      "<re.Match object; span=(172, 173), match='2'>\n",
      "<re.Match object; span=(173, 174), match='1'>\n",
      "<re.Match object; span=(175, 176), match='5'>\n",
      "<re.Match object; span=(176, 177), match='5'>\n",
      "<re.Match object; span=(177, 178), match='5'>\n",
      "<re.Match object; span=(179, 180), match='4'>\n",
      "<re.Match object; span=(180, 181), match='3'>\n",
      "<re.Match object; span=(181, 182), match='2'>\n",
      "<re.Match object; span=(182, 183), match='1'>\n",
      "<re.Match object; span=(184, 185), match='1'>\n",
      "<re.Match object; span=(185, 186), match='2'>\n",
      "<re.Match object; span=(186, 187), match='3'>\n",
      "<re.Match object; span=(188, 189), match='5'>\n",
      "<re.Match object; span=(189, 190), match='5'>\n",
      "<re.Match object; span=(190, 191), match='5'>\n",
      "<re.Match object; span=(192, 193), match='1'>\n",
      "<re.Match object; span=(193, 194), match='2'>\n",
      "<re.Match object; span=(194, 195), match='3'>\n",
      "<re.Match object; span=(195, 196), match='4'>\n",
      "<re.Match object; span=(197, 198), match='1'>\n",
      "<re.Match object; span=(198, 199), match='2'>\n",
      "<re.Match object; span=(199, 200), match='3'>\n",
      "<re.Match object; span=(201, 202), match='5'>\n",
      "<re.Match object; span=(202, 203), match='5'>\n",
      "<re.Match object; span=(203, 204), match='5'>\n",
      "<re.Match object; span=(206, 207), match='1'>\n",
      "<re.Match object; span=(207, 208), match='2'>\n",
      "<re.Match object; span=(208, 209), match='3'>\n",
      "<re.Match object; span=(209, 210), match='4'>\n",
      "<re.Match object; span=(211, 212), match='1'>\n",
      "<re.Match object; span=(212, 213), match='2'>\n",
      "<re.Match object; span=(213, 214), match='3'>\n",
      "<re.Match object; span=(215, 216), match='5'>\n",
      "<re.Match object; span=(216, 217), match='5'>\n",
      "<re.Match object; span=(217, 218), match='5'>\n",
      "<re.Match object; span=(219, 220), match='1'>\n",
      "<re.Match object; span=(220, 221), match='2'>\n",
      "<re.Match object; span=(221, 222), match='3'>\n",
      "<re.Match object; span=(222, 223), match='4'>\n",
      "<re.Match object; span=(224, 225), match='8'>\n",
      "<re.Match object; span=(225, 226), match='0'>\n",
      "<re.Match object; span=(226, 227), match='0'>\n",
      "<re.Match object; span=(228, 229), match='5'>\n",
      "<re.Match object; span=(229, 230), match='5'>\n",
      "<re.Match object; span=(230, 231), match='5'>\n",
      "<re.Match object; span=(232, 233), match='1'>\n",
      "<re.Match object; span=(233, 234), match='2'>\n",
      "<re.Match object; span=(234, 235), match='3'>\n",
      "<re.Match object; span=(235, 236), match='4'>\n",
      "<re.Match object; span=(237, 238), match='9'>\n",
      "<re.Match object; span=(238, 239), match='0'>\n",
      "<re.Match object; span=(239, 240), match='0'>\n",
      "<re.Match object; span=(241, 242), match='5'>\n",
      "<re.Match object; span=(242, 243), match='5'>\n",
      "<re.Match object; span=(243, 244), match='5'>\n",
      "<re.Match object; span=(245, 246), match='1'>\n",
      "<re.Match object; span=(246, 247), match='2'>\n",
      "<re.Match object; span=(247, 248), match='3'>\n",
      "<re.Match object; span=(248, 249), match='4'>\n"
     ]
    }
   ],
   "source": [
    "pattern = re.compile(r'\\d')\n",
    "\n",
    "matches = pattern.finditer(text_to_search)\n",
    "\n",
    "for match in matches:\n",
    "    print(match)"
   ]
  },
  {
   "cell_type": "code",
   "execution_count": 12,
   "metadata": {
    "ExecuteTime": {
     "end_time": "2021-04-11T13:45:48.487010Z",
     "start_time": "2021-04-11T13:45:48.457568Z"
    }
   },
   "outputs": [
    {
     "name": "stdout",
     "output_type": "stream",
     "text": [
      "<re.Match object; span=(0, 1), match='\\n'>\n",
      "<re.Match object; span=(1, 2), match='a'>\n",
      "<re.Match object; span=(2, 3), match='b'>\n",
      "<re.Match object; span=(3, 4), match='c'>\n",
      "<re.Match object; span=(4, 5), match='d'>\n",
      "<re.Match object; span=(5, 6), match='e'>\n",
      "<re.Match object; span=(6, 7), match='f'>\n",
      "<re.Match object; span=(7, 8), match='g'>\n",
      "<re.Match object; span=(8, 9), match='h'>\n",
      "<re.Match object; span=(9, 10), match='i'>\n",
      "<re.Match object; span=(10, 11), match='j'>\n",
      "<re.Match object; span=(11, 12), match='k'>\n",
      "<re.Match object; span=(12, 13), match='l'>\n",
      "<re.Match object; span=(13, 14), match='m'>\n",
      "<re.Match object; span=(14, 15), match='n'>\n",
      "<re.Match object; span=(15, 16), match='o'>\n",
      "<re.Match object; span=(16, 17), match='p'>\n",
      "<re.Match object; span=(17, 18), match='q'>\n",
      "<re.Match object; span=(18, 19), match='u'>\n",
      "<re.Match object; span=(19, 20), match='r'>\n",
      "<re.Match object; span=(20, 21), match='t'>\n",
      "<re.Match object; span=(21, 22), match='u'>\n",
      "<re.Match object; span=(22, 23), match='v'>\n",
      "<re.Match object; span=(23, 24), match='w'>\n",
      "<re.Match object; span=(24, 25), match='x'>\n",
      "<re.Match object; span=(25, 26), match='y'>\n",
      "<re.Match object; span=(26, 27), match='z'>\n",
      "<re.Match object; span=(27, 28), match='\\n'>\n",
      "<re.Match object; span=(28, 29), match='A'>\n",
      "<re.Match object; span=(29, 30), match='B'>\n",
      "<re.Match object; span=(30, 31), match='C'>\n",
      "<re.Match object; span=(31, 32), match='D'>\n",
      "<re.Match object; span=(32, 33), match='E'>\n",
      "<re.Match object; span=(33, 34), match='F'>\n",
      "<re.Match object; span=(34, 35), match='G'>\n",
      "<re.Match object; span=(35, 36), match='H'>\n",
      "<re.Match object; span=(36, 37), match='I'>\n",
      "<re.Match object; span=(37, 38), match='J'>\n",
      "<re.Match object; span=(38, 39), match='K'>\n",
      "<re.Match object; span=(39, 40), match='L'>\n",
      "<re.Match object; span=(40, 41), match='M'>\n",
      "<re.Match object; span=(41, 42), match='N'>\n",
      "<re.Match object; span=(42, 43), match='O'>\n",
      "<re.Match object; span=(43, 44), match='P'>\n",
      "<re.Match object; span=(44, 45), match='Q'>\n",
      "<re.Match object; span=(45, 46), match='R'>\n",
      "<re.Match object; span=(46, 47), match='S'>\n",
      "<re.Match object; span=(47, 48), match='T'>\n",
      "<re.Match object; span=(48, 49), match='U'>\n",
      "<re.Match object; span=(49, 50), match='V'>\n",
      "<re.Match object; span=(50, 51), match='W'>\n",
      "<re.Match object; span=(51, 52), match='X'>\n",
      "<re.Match object; span=(52, 53), match='Y'>\n",
      "<re.Match object; span=(53, 54), match='Z'>\n",
      "<re.Match object; span=(54, 55), match='\\\\'>\n",
      "<re.Match object; span=(55, 56), match='s'>\n",
      "<re.Match object; span=(56, 57), match='\\n'>\n",
      "<re.Match object; span=(60, 61), match='-'>\n",
      "<re.Match object; span=(64, 65), match='-'>\n",
      "<re.Match object; span=(69, 70), match='\\n'>\n",
      "<re.Match object; span=(80, 81), match='\\n'>\n",
      "<re.Match object; span=(81, 82), match='H'>\n",
      "<re.Match object; span=(82, 83), match='a'>\n",
      "<re.Match object; span=(83, 84), match=' '>\n",
      "<re.Match object; span=(84, 85), match='H'>\n",
      "<re.Match object; span=(85, 86), match='a'>\n",
      "<re.Match object; span=(86, 87), match='H'>\n",
      "<re.Match object; span=(87, 88), match='a'>\n",
      "<re.Match object; span=(88, 89), match='\\n'>\n",
      "<re.Match object; span=(89, 90), match='M'>\n",
      "<re.Match object; span=(90, 91), match='e'>\n",
      "<re.Match object; span=(91, 92), match='t'>\n",
      "<re.Match object; span=(92, 93), match='a'>\n",
      "<re.Match object; span=(93, 94), match='C'>\n",
      "<re.Match object; span=(94, 95), match='h'>\n",
      "<re.Match object; span=(95, 96), match='a'>\n",
      "<re.Match object; span=(96, 97), match='r'>\n",
      "<re.Match object; span=(97, 98), match='a'>\n",
      "<re.Match object; span=(98, 99), match='c'>\n",
      "<re.Match object; span=(99, 100), match='t'>\n",
      "<re.Match object; span=(100, 101), match='e'>\n",
      "<re.Match object; span=(101, 102), match='r'>\n",
      "<re.Match object; span=(102, 103), match='s'>\n",
      "<re.Match object; span=(103, 104), match=' '>\n",
      "<re.Match object; span=(104, 105), match='('>\n",
      "<re.Match object; span=(105, 106), match='N'>\n",
      "<re.Match object; span=(106, 107), match='e'>\n",
      "<re.Match object; span=(107, 108), match='e'>\n",
      "<re.Match object; span=(108, 109), match='d'>\n",
      "<re.Match object; span=(109, 110), match=' '>\n",
      "<re.Match object; span=(110, 111), match='t'>\n",
      "<re.Match object; span=(111, 112), match='o'>\n",
      "<re.Match object; span=(112, 113), match=' '>\n",
      "<re.Match object; span=(113, 114), match='b'>\n",
      "<re.Match object; span=(114, 115), match='e'>\n",
      "<re.Match object; span=(115, 116), match=' '>\n",
      "<re.Match object; span=(116, 117), match='e'>\n",
      "<re.Match object; span=(117, 118), match='s'>\n",
      "<re.Match object; span=(118, 119), match='c'>\n",
      "<re.Match object; span=(119, 120), match='a'>\n",
      "<re.Match object; span=(120, 121), match='p'>\n",
      "<re.Match object; span=(121, 122), match='e'>\n",
      "<re.Match object; span=(122, 123), match='d'>\n",
      "<re.Match object; span=(123, 124), match=')'>\n",
      "<re.Match object; span=(124, 125), match=':'>\n",
      "<re.Match object; span=(125, 126), match='\\n'>\n",
      "<re.Match object; span=(126, 127), match='.'>\n",
      "<re.Match object; span=(127, 128), match=' '>\n",
      "<re.Match object; span=(128, 129), match='^'>\n",
      "<re.Match object; span=(129, 130), match=' '>\n",
      "<re.Match object; span=(130, 131), match='$'>\n",
      "<re.Match object; span=(131, 132), match=' '>\n",
      "<re.Match object; span=(132, 133), match='*'>\n",
      "<re.Match object; span=(133, 134), match=' '>\n",
      "<re.Match object; span=(134, 135), match='+'>\n",
      "<re.Match object; span=(135, 136), match=' '>\n",
      "<re.Match object; span=(136, 137), match='?'>\n",
      "<re.Match object; span=(137, 138), match=' '>\n",
      "<re.Match object; span=(138, 139), match='{'>\n",
      "<re.Match object; span=(139, 140), match=' '>\n",
      "<re.Match object; span=(140, 141), match='}'>\n",
      "<re.Match object; span=(141, 142), match=' '>\n",
      "<re.Match object; span=(142, 143), match='['>\n",
      "<re.Match object; span=(143, 144), match=' '>\n",
      "<re.Match object; span=(144, 145), match=']'>\n",
      "<re.Match object; span=(145, 146), match=' '>\n",
      "<re.Match object; span=(146, 147), match='\\\\'>\n",
      "<re.Match object; span=(147, 148), match=' '>\n",
      "<re.Match object; span=(148, 149), match='|'>\n",
      "<re.Match object; span=(149, 150), match=' '>\n",
      "<re.Match object; span=(150, 151), match='('>\n",
      "<re.Match object; span=(151, 152), match=' '>\n",
      "<re.Match object; span=(152, 153), match=')'>\n",
      "<re.Match object; span=(153, 154), match='\\n'>\n",
      "<re.Match object; span=(154, 155), match='k'>\n",
      "<re.Match object; span=(155, 156), match='h'>\n",
      "<re.Match object; span=(156, 157), match='a'>\n",
      "<re.Match object; span=(157, 158), match='n'>\n",
      "<re.Match object; span=(158, 159), match='a'>\n",
      "<re.Match object; span=(159, 160), match='f'>\n",
      "<re.Match object; span=(160, 161), match='s'>\n",
      "<re.Match object; span=(161, 162), match='a'>\n",
      "<re.Match object; span=(162, 163), match='a'>\n",
      "<re.Match object; span=(163, 164), match='n'>\n",
      "<re.Match object; span=(166, 167), match='.'>\n",
      "<re.Match object; span=(167, 168), match='c'>\n",
      "<re.Match object; span=(168, 169), match='o'>\n",
      "<re.Match object; span=(169, 170), match='m'>\n",
      "<re.Match object; span=(170, 171), match='\\n'>\n",
      "<re.Match object; span=(174, 175), match='-'>\n",
      "<re.Match object; span=(178, 179), match='-'>\n",
      "<re.Match object; span=(183, 184), match='\\n'>\n",
      "<re.Match object; span=(187, 188), match='.'>\n",
      "<re.Match object; span=(191, 192), match='.'>\n",
      "<re.Match object; span=(196, 197), match='\\n'>\n",
      "<re.Match object; span=(200, 201), match='*'>\n",
      "<re.Match object; span=(204, 205), match='*'>\n",
      "<re.Match object; span=(205, 206), match='-'>\n",
      "<re.Match object; span=(210, 211), match='\\n'>\n",
      "<re.Match object; span=(214, 215), match='.'>\n",
      "<re.Match object; span=(218, 219), match='.'>\n",
      "<re.Match object; span=(223, 224), match='\\n'>\n",
      "<re.Match object; span=(227, 228), match='-'>\n",
      "<re.Match object; span=(231, 232), match='-'>\n",
      "<re.Match object; span=(236, 237), match='\\n'>\n",
      "<re.Match object; span=(240, 241), match='-'>\n",
      "<re.Match object; span=(244, 245), match='-'>\n",
      "<re.Match object; span=(249, 250), match='\\n'>\n",
      "<re.Match object; span=(250, 251), match='M'>\n",
      "<re.Match object; span=(251, 252), match='r'>\n",
      "<re.Match object; span=(252, 253), match='.'>\n",
      "<re.Match object; span=(253, 254), match=' '>\n",
      "<re.Match object; span=(254, 255), match='S'>\n",
      "<re.Match object; span=(255, 256), match='c'>\n",
      "<re.Match object; span=(256, 257), match='h'>\n",
      "<re.Match object; span=(257, 258), match='a'>\n",
      "<re.Match object; span=(258, 259), match='f'>\n",
      "<re.Match object; span=(259, 260), match='e'>\n",
      "<re.Match object; span=(260, 261), match='r'>\n",
      "<re.Match object; span=(261, 262), match='\\n'>\n",
      "<re.Match object; span=(262, 263), match='M'>\n",
      "<re.Match object; span=(263, 264), match='r'>\n",
      "<re.Match object; span=(264, 265), match=' '>\n",
      "<re.Match object; span=(265, 266), match='S'>\n",
      "<re.Match object; span=(266, 267), match='m'>\n",
      "<re.Match object; span=(267, 268), match='i'>\n",
      "<re.Match object; span=(268, 269), match='t'>\n",
      "<re.Match object; span=(269, 270), match='h'>\n",
      "<re.Match object; span=(270, 271), match='\\n'>\n",
      "<re.Match object; span=(271, 272), match='M'>\n",
      "<re.Match object; span=(272, 273), match='s'>\n",
      "<re.Match object; span=(273, 274), match=' '>\n",
      "<re.Match object; span=(274, 275), match='D'>\n",
      "<re.Match object; span=(275, 276), match='a'>\n",
      "<re.Match object; span=(276, 277), match='v'>\n",
      "<re.Match object; span=(277, 278), match='i'>\n",
      "<re.Match object; span=(278, 279), match='s'>\n",
      "<re.Match object; span=(279, 280), match='\\n'>\n",
      "<re.Match object; span=(280, 281), match='M'>\n",
      "<re.Match object; span=(281, 282), match='r'>\n",
      "<re.Match object; span=(282, 283), match='s'>\n",
      "<re.Match object; span=(283, 284), match='.'>\n",
      "<re.Match object; span=(284, 285), match=' '>\n",
      "<re.Match object; span=(285, 286), match='R'>\n",
      "<re.Match object; span=(286, 287), match='o'>\n",
      "<re.Match object; span=(287, 288), match='b'>\n",
      "<re.Match object; span=(288, 289), match='i'>\n",
      "<re.Match object; span=(289, 290), match='n'>\n",
      "<re.Match object; span=(290, 291), match='s'>\n",
      "<re.Match object; span=(291, 292), match='o'>\n",
      "<re.Match object; span=(292, 293), match='n'>\n",
      "<re.Match object; span=(293, 294), match='\\n'>\n",
      "<re.Match object; span=(294, 295), match='M'>\n",
      "<re.Match object; span=(295, 296), match='r'>\n",
      "<re.Match object; span=(296, 297), match='.'>\n",
      "<re.Match object; span=(297, 298), match=' '>\n",
      "<re.Match object; span=(298, 299), match='T'>\n",
      "<re.Match object; span=(299, 300), match='\\n'>\n",
      "<re.Match object; span=(300, 301), match='M'>\n",
      "<re.Match object; span=(301, 302), match='r'>\n",
      "<re.Match object; span=(302, 303), match='_'>\n",
      "<re.Match object; span=(303, 304), match='h'>\n",
      "<re.Match object; span=(304, 305), match='e'>\n",
      "<re.Match object; span=(305, 306), match='l'>\n",
      "<re.Match object; span=(306, 307), match='l'>\n",
      "<re.Match object; span=(307, 308), match='o'>\n",
      "<re.Match object; span=(308, 309), match='\\n'>\n"
     ]
    }
   ],
   "source": [
    "pattern = re.compile(r'\\D')\n",
    "\n",
    "matches = pattern.finditer(text_to_search)\n",
    "\n",
    "for match in matches:\n",
    "    print(match)"
   ]
  },
  {
   "cell_type": "code",
   "execution_count": 13,
   "metadata": {
    "ExecuteTime": {
     "end_time": "2021-04-11T13:46:12.329506Z",
     "start_time": "2021-04-11T13:46:12.296114Z"
    }
   },
   "outputs": [
    {
     "name": "stdout",
     "output_type": "stream",
     "text": [
      "<re.Match object; span=(1, 2), match='a'>\n",
      "<re.Match object; span=(2, 3), match='b'>\n",
      "<re.Match object; span=(3, 4), match='c'>\n",
      "<re.Match object; span=(4, 5), match='d'>\n",
      "<re.Match object; span=(5, 6), match='e'>\n",
      "<re.Match object; span=(6, 7), match='f'>\n",
      "<re.Match object; span=(7, 8), match='g'>\n",
      "<re.Match object; span=(8, 9), match='h'>\n",
      "<re.Match object; span=(9, 10), match='i'>\n",
      "<re.Match object; span=(10, 11), match='j'>\n",
      "<re.Match object; span=(11, 12), match='k'>\n",
      "<re.Match object; span=(12, 13), match='l'>\n",
      "<re.Match object; span=(13, 14), match='m'>\n",
      "<re.Match object; span=(14, 15), match='n'>\n",
      "<re.Match object; span=(15, 16), match='o'>\n",
      "<re.Match object; span=(16, 17), match='p'>\n",
      "<re.Match object; span=(17, 18), match='q'>\n",
      "<re.Match object; span=(18, 19), match='u'>\n",
      "<re.Match object; span=(19, 20), match='r'>\n",
      "<re.Match object; span=(20, 21), match='t'>\n",
      "<re.Match object; span=(21, 22), match='u'>\n",
      "<re.Match object; span=(22, 23), match='v'>\n",
      "<re.Match object; span=(23, 24), match='w'>\n",
      "<re.Match object; span=(24, 25), match='x'>\n",
      "<re.Match object; span=(25, 26), match='y'>\n",
      "<re.Match object; span=(26, 27), match='z'>\n",
      "<re.Match object; span=(28, 29), match='A'>\n",
      "<re.Match object; span=(29, 30), match='B'>\n",
      "<re.Match object; span=(30, 31), match='C'>\n",
      "<re.Match object; span=(31, 32), match='D'>\n",
      "<re.Match object; span=(32, 33), match='E'>\n",
      "<re.Match object; span=(33, 34), match='F'>\n",
      "<re.Match object; span=(34, 35), match='G'>\n",
      "<re.Match object; span=(35, 36), match='H'>\n",
      "<re.Match object; span=(36, 37), match='I'>\n",
      "<re.Match object; span=(37, 38), match='J'>\n",
      "<re.Match object; span=(38, 39), match='K'>\n",
      "<re.Match object; span=(39, 40), match='L'>\n",
      "<re.Match object; span=(40, 41), match='M'>\n",
      "<re.Match object; span=(41, 42), match='N'>\n",
      "<re.Match object; span=(42, 43), match='O'>\n",
      "<re.Match object; span=(43, 44), match='P'>\n",
      "<re.Match object; span=(44, 45), match='Q'>\n",
      "<re.Match object; span=(45, 46), match='R'>\n",
      "<re.Match object; span=(46, 47), match='S'>\n",
      "<re.Match object; span=(47, 48), match='T'>\n",
      "<re.Match object; span=(48, 49), match='U'>\n",
      "<re.Match object; span=(49, 50), match='V'>\n",
      "<re.Match object; span=(50, 51), match='W'>\n",
      "<re.Match object; span=(51, 52), match='X'>\n",
      "<re.Match object; span=(52, 53), match='Y'>\n",
      "<re.Match object; span=(53, 54), match='Z'>\n",
      "<re.Match object; span=(55, 56), match='s'>\n",
      "<re.Match object; span=(57, 58), match='3'>\n",
      "<re.Match object; span=(58, 59), match='2'>\n",
      "<re.Match object; span=(59, 60), match='1'>\n",
      "<re.Match object; span=(61, 62), match='5'>\n",
      "<re.Match object; span=(62, 63), match='5'>\n",
      "<re.Match object; span=(63, 64), match='5'>\n",
      "<re.Match object; span=(65, 66), match='4'>\n",
      "<re.Match object; span=(66, 67), match='3'>\n",
      "<re.Match object; span=(67, 68), match='2'>\n",
      "<re.Match object; span=(68, 69), match='1'>\n",
      "<re.Match object; span=(70, 71), match='1'>\n",
      "<re.Match object; span=(71, 72), match='2'>\n",
      "<re.Match object; span=(72, 73), match='3'>\n",
      "<re.Match object; span=(73, 74), match='4'>\n",
      "<re.Match object; span=(74, 75), match='5'>\n",
      "<re.Match object; span=(75, 76), match='6'>\n",
      "<re.Match object; span=(76, 77), match='7'>\n",
      "<re.Match object; span=(77, 78), match='8'>\n",
      "<re.Match object; span=(78, 79), match='9'>\n",
      "<re.Match object; span=(79, 80), match='0'>\n",
      "<re.Match object; span=(81, 82), match='H'>\n",
      "<re.Match object; span=(82, 83), match='a'>\n",
      "<re.Match object; span=(84, 85), match='H'>\n",
      "<re.Match object; span=(85, 86), match='a'>\n",
      "<re.Match object; span=(86, 87), match='H'>\n",
      "<re.Match object; span=(87, 88), match='a'>\n",
      "<re.Match object; span=(89, 90), match='M'>\n",
      "<re.Match object; span=(90, 91), match='e'>\n",
      "<re.Match object; span=(91, 92), match='t'>\n",
      "<re.Match object; span=(92, 93), match='a'>\n",
      "<re.Match object; span=(93, 94), match='C'>\n",
      "<re.Match object; span=(94, 95), match='h'>\n",
      "<re.Match object; span=(95, 96), match='a'>\n",
      "<re.Match object; span=(96, 97), match='r'>\n",
      "<re.Match object; span=(97, 98), match='a'>\n",
      "<re.Match object; span=(98, 99), match='c'>\n",
      "<re.Match object; span=(99, 100), match='t'>\n",
      "<re.Match object; span=(100, 101), match='e'>\n",
      "<re.Match object; span=(101, 102), match='r'>\n",
      "<re.Match object; span=(102, 103), match='s'>\n",
      "<re.Match object; span=(105, 106), match='N'>\n",
      "<re.Match object; span=(106, 107), match='e'>\n",
      "<re.Match object; span=(107, 108), match='e'>\n",
      "<re.Match object; span=(108, 109), match='d'>\n",
      "<re.Match object; span=(110, 111), match='t'>\n",
      "<re.Match object; span=(111, 112), match='o'>\n",
      "<re.Match object; span=(113, 114), match='b'>\n",
      "<re.Match object; span=(114, 115), match='e'>\n",
      "<re.Match object; span=(116, 117), match='e'>\n",
      "<re.Match object; span=(117, 118), match='s'>\n",
      "<re.Match object; span=(118, 119), match='c'>\n",
      "<re.Match object; span=(119, 120), match='a'>\n",
      "<re.Match object; span=(120, 121), match='p'>\n",
      "<re.Match object; span=(121, 122), match='e'>\n",
      "<re.Match object; span=(122, 123), match='d'>\n",
      "<re.Match object; span=(154, 155), match='k'>\n",
      "<re.Match object; span=(155, 156), match='h'>\n",
      "<re.Match object; span=(156, 157), match='a'>\n",
      "<re.Match object; span=(157, 158), match='n'>\n",
      "<re.Match object; span=(158, 159), match='a'>\n",
      "<re.Match object; span=(159, 160), match='f'>\n",
      "<re.Match object; span=(160, 161), match='s'>\n",
      "<re.Match object; span=(161, 162), match='a'>\n",
      "<re.Match object; span=(162, 163), match='a'>\n",
      "<re.Match object; span=(163, 164), match='n'>\n",
      "<re.Match object; span=(164, 165), match='1'>\n",
      "<re.Match object; span=(165, 166), match='1'>\n",
      "<re.Match object; span=(167, 168), match='c'>\n",
      "<re.Match object; span=(168, 169), match='o'>\n",
      "<re.Match object; span=(169, 170), match='m'>\n",
      "<re.Match object; span=(171, 172), match='3'>\n",
      "<re.Match object; span=(172, 173), match='2'>\n",
      "<re.Match object; span=(173, 174), match='1'>\n",
      "<re.Match object; span=(175, 176), match='5'>\n",
      "<re.Match object; span=(176, 177), match='5'>\n",
      "<re.Match object; span=(177, 178), match='5'>\n",
      "<re.Match object; span=(179, 180), match='4'>\n",
      "<re.Match object; span=(180, 181), match='3'>\n",
      "<re.Match object; span=(181, 182), match='2'>\n",
      "<re.Match object; span=(182, 183), match='1'>\n",
      "<re.Match object; span=(184, 185), match='1'>\n",
      "<re.Match object; span=(185, 186), match='2'>\n",
      "<re.Match object; span=(186, 187), match='3'>\n",
      "<re.Match object; span=(188, 189), match='5'>\n",
      "<re.Match object; span=(189, 190), match='5'>\n",
      "<re.Match object; span=(190, 191), match='5'>\n",
      "<re.Match object; span=(192, 193), match='1'>\n",
      "<re.Match object; span=(193, 194), match='2'>\n",
      "<re.Match object; span=(194, 195), match='3'>\n",
      "<re.Match object; span=(195, 196), match='4'>\n",
      "<re.Match object; span=(197, 198), match='1'>\n",
      "<re.Match object; span=(198, 199), match='2'>\n",
      "<re.Match object; span=(199, 200), match='3'>\n",
      "<re.Match object; span=(201, 202), match='5'>\n",
      "<re.Match object; span=(202, 203), match='5'>\n",
      "<re.Match object; span=(203, 204), match='5'>\n",
      "<re.Match object; span=(206, 207), match='1'>\n",
      "<re.Match object; span=(207, 208), match='2'>\n",
      "<re.Match object; span=(208, 209), match='3'>\n",
      "<re.Match object; span=(209, 210), match='4'>\n",
      "<re.Match object; span=(211, 212), match='1'>\n",
      "<re.Match object; span=(212, 213), match='2'>\n",
      "<re.Match object; span=(213, 214), match='3'>\n",
      "<re.Match object; span=(215, 216), match='5'>\n",
      "<re.Match object; span=(216, 217), match='5'>\n",
      "<re.Match object; span=(217, 218), match='5'>\n",
      "<re.Match object; span=(219, 220), match='1'>\n",
      "<re.Match object; span=(220, 221), match='2'>\n",
      "<re.Match object; span=(221, 222), match='3'>\n",
      "<re.Match object; span=(222, 223), match='4'>\n",
      "<re.Match object; span=(224, 225), match='8'>\n",
      "<re.Match object; span=(225, 226), match='0'>\n",
      "<re.Match object; span=(226, 227), match='0'>\n",
      "<re.Match object; span=(228, 229), match='5'>\n",
      "<re.Match object; span=(229, 230), match='5'>\n",
      "<re.Match object; span=(230, 231), match='5'>\n",
      "<re.Match object; span=(232, 233), match='1'>\n",
      "<re.Match object; span=(233, 234), match='2'>\n",
      "<re.Match object; span=(234, 235), match='3'>\n",
      "<re.Match object; span=(235, 236), match='4'>\n",
      "<re.Match object; span=(237, 238), match='9'>\n",
      "<re.Match object; span=(238, 239), match='0'>\n",
      "<re.Match object; span=(239, 240), match='0'>\n",
      "<re.Match object; span=(241, 242), match='5'>\n",
      "<re.Match object; span=(242, 243), match='5'>\n",
      "<re.Match object; span=(243, 244), match='5'>\n",
      "<re.Match object; span=(245, 246), match='1'>\n",
      "<re.Match object; span=(246, 247), match='2'>\n",
      "<re.Match object; span=(247, 248), match='3'>\n",
      "<re.Match object; span=(248, 249), match='4'>\n",
      "<re.Match object; span=(250, 251), match='M'>\n",
      "<re.Match object; span=(251, 252), match='r'>\n",
      "<re.Match object; span=(254, 255), match='S'>\n",
      "<re.Match object; span=(255, 256), match='c'>\n",
      "<re.Match object; span=(256, 257), match='h'>\n",
      "<re.Match object; span=(257, 258), match='a'>\n",
      "<re.Match object; span=(258, 259), match='f'>\n",
      "<re.Match object; span=(259, 260), match='e'>\n",
      "<re.Match object; span=(260, 261), match='r'>\n",
      "<re.Match object; span=(262, 263), match='M'>\n",
      "<re.Match object; span=(263, 264), match='r'>\n",
      "<re.Match object; span=(265, 266), match='S'>\n",
      "<re.Match object; span=(266, 267), match='m'>\n",
      "<re.Match object; span=(267, 268), match='i'>\n",
      "<re.Match object; span=(268, 269), match='t'>\n",
      "<re.Match object; span=(269, 270), match='h'>\n",
      "<re.Match object; span=(271, 272), match='M'>\n",
      "<re.Match object; span=(272, 273), match='s'>\n",
      "<re.Match object; span=(274, 275), match='D'>\n",
      "<re.Match object; span=(275, 276), match='a'>\n",
      "<re.Match object; span=(276, 277), match='v'>\n",
      "<re.Match object; span=(277, 278), match='i'>\n",
      "<re.Match object; span=(278, 279), match='s'>\n",
      "<re.Match object; span=(280, 281), match='M'>\n",
      "<re.Match object; span=(281, 282), match='r'>\n",
      "<re.Match object; span=(282, 283), match='s'>\n",
      "<re.Match object; span=(285, 286), match='R'>\n",
      "<re.Match object; span=(286, 287), match='o'>\n",
      "<re.Match object; span=(287, 288), match='b'>\n",
      "<re.Match object; span=(288, 289), match='i'>\n",
      "<re.Match object; span=(289, 290), match='n'>\n",
      "<re.Match object; span=(290, 291), match='s'>\n",
      "<re.Match object; span=(291, 292), match='o'>\n",
      "<re.Match object; span=(292, 293), match='n'>\n",
      "<re.Match object; span=(294, 295), match='M'>\n",
      "<re.Match object; span=(295, 296), match='r'>\n",
      "<re.Match object; span=(298, 299), match='T'>\n",
      "<re.Match object; span=(300, 301), match='M'>\n",
      "<re.Match object; span=(301, 302), match='r'>\n",
      "<re.Match object; span=(302, 303), match='_'>\n",
      "<re.Match object; span=(303, 304), match='h'>\n",
      "<re.Match object; span=(304, 305), match='e'>\n",
      "<re.Match object; span=(305, 306), match='l'>\n",
      "<re.Match object; span=(306, 307), match='l'>\n",
      "<re.Match object; span=(307, 308), match='o'>\n"
     ]
    }
   ],
   "source": [
    "pattern = re.compile(r'\\w')\n",
    "\n",
    "matches = pattern.finditer(text_to_search)\n",
    "\n",
    "for match in matches:\n",
    "    print(match)"
   ]
  },
  {
   "cell_type": "code",
   "execution_count": 20,
   "metadata": {
    "ExecuteTime": {
     "end_time": "2021-04-11T13:48:43.690582Z",
     "start_time": "2021-04-11T13:48:43.677864Z"
    }
   },
   "outputs": [
    {
     "name": "stdout",
     "output_type": "stream",
     "text": [
      "<re.Match object; span=(0, 1), match='\\n'>\n",
      "<re.Match object; span=(27, 28), match='\\n'>\n",
      "<re.Match object; span=(54, 55), match='\\n'>\n",
      "<re.Match object; span=(58, 59), match='-'>\n",
      "<re.Match object; span=(62, 63), match='-'>\n",
      "<re.Match object; span=(67, 68), match='\\n'>\n",
      "<re.Match object; span=(78, 79), match='\\n'>\n",
      "<re.Match object; span=(81, 82), match=' '>\n",
      "<re.Match object; span=(86, 87), match='\\n'>\n",
      "<re.Match object; span=(101, 103), match=' ('>\n",
      "<re.Match object; span=(107, 108), match=' '>\n",
      "<re.Match object; span=(110, 111), match=' '>\n",
      "<re.Match object; span=(113, 114), match=' '>\n",
      "<re.Match object; span=(121, 152), match='):\\n. ^ $ * + ? { } [ ] \\\\ | ( )\\n'>\n",
      "<re.Match object; span=(164, 165), match='.'>\n",
      "<re.Match object; span=(168, 169), match='\\n'>\n",
      "<re.Match object; span=(172, 173), match='-'>\n",
      "<re.Match object; span=(176, 177), match='-'>\n",
      "<re.Match object; span=(181, 182), match='\\n'>\n",
      "<re.Match object; span=(185, 186), match='.'>\n",
      "<re.Match object; span=(189, 190), match='.'>\n",
      "<re.Match object; span=(194, 195), match='\\n'>\n",
      "<re.Match object; span=(198, 199), match='*'>\n",
      "<re.Match object; span=(202, 204), match='*-'>\n",
      "<re.Match object; span=(208, 209), match='\\n'>\n",
      "<re.Match object; span=(212, 213), match='.'>\n",
      "<re.Match object; span=(216, 217), match='.'>\n",
      "<re.Match object; span=(221, 222), match='\\n'>\n",
      "<re.Match object; span=(225, 226), match='-'>\n",
      "<re.Match object; span=(229, 230), match='-'>\n",
      "<re.Match object; span=(234, 235), match='\\n'>\n",
      "<re.Match object; span=(238, 239), match='-'>\n",
      "<re.Match object; span=(242, 243), match='-'>\n",
      "<re.Match object; span=(247, 248), match='\\n'>\n",
      "<re.Match object; span=(250, 252), match='. '>\n",
      "<re.Match object; span=(259, 260), match='\\n'>\n",
      "<re.Match object; span=(262, 263), match=' '>\n",
      "<re.Match object; span=(268, 269), match='\\n'>\n",
      "<re.Match object; span=(271, 272), match=' '>\n",
      "<re.Match object; span=(277, 278), match='\\n'>\n",
      "<re.Match object; span=(281, 283), match='. '>\n",
      "<re.Match object; span=(291, 292), match='\\n'>\n",
      "<re.Match object; span=(294, 296), match='. '>\n",
      "<re.Match object; span=(297, 298), match='\\n'>\n",
      "<re.Match object; span=(306, 307), match='\\n'>\n"
     ]
    }
   ],
   "source": [
    "pattern = re.compile(r'\\W+')\n",
    "\n",
    "matches = pattern.finditer(text_to_search)\n",
    "\n",
    "for match in matches:\n",
    "    print(match)"
   ]
  },
  {
   "cell_type": "code",
   "execution_count": 19,
   "metadata": {
    "ExecuteTime": {
     "end_time": "2021-04-11T13:48:38.641778Z",
     "start_time": "2021-04-11T13:48:38.636990Z"
    }
   },
   "outputs": [
    {
     "name": "stdout",
     "output_type": "stream",
     "text": [
      "\n",
      "abcdefghijklmnopqurtuvwxyz\n",
      "ABCDEFGHIJKLMNOPQRSTUVWXYZ\n",
      "321-555-4321\n",
      "1234567890\n",
      "Ha HaHa\n",
      "MetaCharacters (Need to be escaped):\n",
      ". ^ $ * + ? { } [ ] \\ | ( )\n",
      "khanafsaan11.com\n",
      "321-555-4321\n",
      "123.555.1234\n",
      "123*555*-1234\n",
      "123.555.1234\n",
      "800-555-1234\n",
      "900-555-1234\n",
      "Mr. Schafer\n",
      "Mr Smith\n",
      "Ms Davis\n",
      "Mrs. Robinson\n",
      "Mr. T\n",
      "Mr_hello\n",
      "\n"
     ]
    }
   ],
   "source": [
    "print(text_to_search)"
   ]
  },
  {
   "cell_type": "code",
   "execution_count": 26,
   "metadata": {
    "ExecuteTime": {
     "end_time": "2021-04-11T13:51:16.694831Z",
     "start_time": "2021-04-11T13:51:16.687214Z"
    }
   },
   "outputs": [
    {
     "name": "stdout",
     "output_type": "stream",
     "text": [
      "<re.Match object; span=(0, 5), match='Start'>\n"
     ]
    }
   ],
   "source": [
    "pattern = re.compile(r'^Start')\n",
    "\n",
    "matches = pattern.finditer('Start the Start sentence and then bring it to the end')\n",
    "\n",
    "for match in matches:\n",
    "    print(match)"
   ]
  },
  {
   "cell_type": "code",
   "execution_count": 31,
   "metadata": {
    "ExecuteTime": {
     "end_time": "2021-04-11T13:52:26.905777Z",
     "start_time": "2021-04-11T13:52:26.894512Z"
    }
   },
   "outputs": [
    {
     "name": "stdout",
     "output_type": "stream",
     "text": [
      "<re.Match object; span=(28, 31), match='end'>\n",
      "<re.Match object; span=(48, 51), match='end'>\n"
     ]
    }
   ],
   "source": [
    "pattern = re.compile(r'(end)')\n",
    "\n",
    "matches = pattern.finditer('Start the sentence and then end bring it to the end')\n",
    "\n",
    "for match in matches:\n",
    "    print(match)"
   ]
  },
  {
   "cell_type": "code",
   "execution_count": 32,
   "metadata": {
    "ExecuteTime": {
     "end_time": "2021-04-11T13:53:02.028097Z",
     "start_time": "2021-04-11T13:53:02.018763Z"
    }
   },
   "outputs": [
    {
     "name": "stdout",
     "output_type": "stream",
     "text": [
      "<re.Match object; span=(55, 66), match='321-555-432'>\n",
      "<re.Match object; span=(169, 180), match='321-555-432'>\n",
      "<re.Match object; span=(182, 193), match='123.555.123'>\n",
      "<re.Match object; span=(209, 220), match='123.555.123'>\n",
      "<re.Match object; span=(222, 233), match='800-555-123'>\n",
      "<re.Match object; span=(235, 246), match='900-555-123'>\n"
     ]
    }
   ],
   "source": [
    "pattern = re.compile(r'\\d\\d\\d.\\d\\d\\d.\\d\\d\\d')\n",
    "\n",
    "matches = pattern.finditer(text_to_search)\n",
    "\n",
    "for match in matches:\n",
    "    print(match)"
   ]
  },
  {
   "cell_type": "markdown",
   "metadata": {
    "ExecuteTime": {
     "end_time": "2021-04-11T13:53:42.382980Z",
     "start_time": "2021-04-11T13:53:42.373445Z"
    }
   },
   "source": [
    "# [ ] - Matches Characters in brackets (character sets)"
   ]
  },
  {
   "cell_type": "code",
   "execution_count": 34,
   "metadata": {
    "ExecuteTime": {
     "end_time": "2021-04-11T13:53:54.133453Z",
     "start_time": "2021-04-11T13:53:54.130071Z"
    }
   },
   "outputs": [],
   "source": [
    "text_to_search = '''\n",
    "abcdefghijklmnopqurtuvwxyz\n",
    "ABCDEFGHIJKLMNOPQRSTUVWXYZ\n",
    "1234567890\n",
    "Ha HaHa\n",
    "MetaCharacters (Need to be escaped):\n",
    ". ^ $ * + ? { } [ ] \\ | ( )\n",
    "khanafsaan11.com\n",
    "321-555-4321\n",
    "123.555.1234\n",
    "123*555*1234\n",
    "800-555-1234\n",
    "900-555-1234\n",
    "Mr. Schafer\n",
    "Mr Smith\n",
    "Ms Davis\n",
    "Mrs. Robinson\n",
    "Mr. T\n",
    "Mr_hello\n",
    "'''"
   ]
  },
  {
   "cell_type": "code",
   "execution_count": 35,
   "metadata": {
    "ExecuteTime": {
     "end_time": "2021-04-11T13:54:09.346712Z",
     "start_time": "2021-04-11T13:54:09.338334Z"
    }
   },
   "outputs": [
    {
     "name": "stdout",
     "output_type": "stream",
     "text": [
      "<re.Match object; span=(156, 167), match='321-555-432'>\n",
      "<re.Match object; span=(169, 180), match='123.555.123'>\n",
      "<re.Match object; span=(195, 206), match='800-555-123'>\n",
      "<re.Match object; span=(208, 219), match='900-555-123'>\n"
     ]
    }
   ],
   "source": [
    "\n",
    "pattern = re.compile(r'\\d\\d\\d[-.]\\d\\d\\d[-.]\\d\\d\\d')\n",
    "\n",
    "matches = pattern.finditer(text_to_search)\n",
    "\n",
    "for match in matches:\n",
    "    print(match)"
   ]
  },
  {
   "cell_type": "code",
   "execution_count": 36,
   "metadata": {
    "ExecuteTime": {
     "end_time": "2021-04-11T13:54:35.155753Z",
     "start_time": "2021-04-11T13:54:35.146820Z"
    }
   },
   "outputs": [
    {
     "name": "stdout",
     "output_type": "stream",
     "text": [
      "<re.Match object; span=(195, 206), match='800-555-123'>\n",
      "<re.Match object; span=(208, 219), match='900-555-123'>\n"
     ]
    }
   ],
   "source": [
    "pattern = re.compile(r'[89]00[-.]\\d\\d\\d[-.]\\d\\d\\d')\n",
    "\n",
    "matches = pattern.finditer(text_to_search)\n",
    "\n",
    "for match in matches:\n",
    "    print(match)"
   ]
  },
  {
   "cell_type": "code",
   "execution_count": 37,
   "metadata": {
    "ExecuteTime": {
     "end_time": "2021-04-11T13:55:01.009497Z",
     "start_time": "2021-04-11T13:55:00.979716Z"
    }
   },
   "outputs": [
    {
     "name": "stdout",
     "output_type": "stream",
     "text": [
      "<re.Match object; span=(1, 2), match='a'>\n",
      "<re.Match object; span=(2, 3), match='b'>\n",
      "<re.Match object; span=(3, 4), match='c'>\n",
      "<re.Match object; span=(4, 5), match='d'>\n",
      "<re.Match object; span=(5, 6), match='e'>\n",
      "<re.Match object; span=(6, 7), match='f'>\n",
      "<re.Match object; span=(7, 8), match='g'>\n",
      "<re.Match object; span=(8, 9), match='h'>\n",
      "<re.Match object; span=(9, 10), match='i'>\n",
      "<re.Match object; span=(10, 11), match='j'>\n",
      "<re.Match object; span=(11, 12), match='k'>\n",
      "<re.Match object; span=(12, 13), match='l'>\n",
      "<re.Match object; span=(13, 14), match='m'>\n",
      "<re.Match object; span=(14, 15), match='n'>\n",
      "<re.Match object; span=(15, 16), match='o'>\n",
      "<re.Match object; span=(16, 17), match='p'>\n",
      "<re.Match object; span=(17, 18), match='q'>\n",
      "<re.Match object; span=(18, 19), match='u'>\n",
      "<re.Match object; span=(19, 20), match='r'>\n",
      "<re.Match object; span=(20, 21), match='t'>\n",
      "<re.Match object; span=(21, 22), match='u'>\n",
      "<re.Match object; span=(22, 23), match='v'>\n",
      "<re.Match object; span=(23, 24), match='w'>\n",
      "<re.Match object; span=(24, 25), match='x'>\n",
      "<re.Match object; span=(25, 26), match='y'>\n",
      "<re.Match object; span=(26, 27), match='z'>\n",
      "<re.Match object; span=(67, 68), match='a'>\n",
      "<re.Match object; span=(70, 71), match='a'>\n",
      "<re.Match object; span=(72, 73), match='a'>\n",
      "<re.Match object; span=(75, 76), match='e'>\n",
      "<re.Match object; span=(76, 77), match='t'>\n",
      "<re.Match object; span=(77, 78), match='a'>\n",
      "<re.Match object; span=(79, 80), match='h'>\n",
      "<re.Match object; span=(80, 81), match='a'>\n",
      "<re.Match object; span=(81, 82), match='r'>\n",
      "<re.Match object; span=(82, 83), match='a'>\n",
      "<re.Match object; span=(83, 84), match='c'>\n",
      "<re.Match object; span=(84, 85), match='t'>\n",
      "<re.Match object; span=(85, 86), match='e'>\n",
      "<re.Match object; span=(86, 87), match='r'>\n",
      "<re.Match object; span=(87, 88), match='s'>\n",
      "<re.Match object; span=(91, 92), match='e'>\n",
      "<re.Match object; span=(92, 93), match='e'>\n",
      "<re.Match object; span=(93, 94), match='d'>\n",
      "<re.Match object; span=(95, 96), match='t'>\n",
      "<re.Match object; span=(96, 97), match='o'>\n",
      "<re.Match object; span=(98, 99), match='b'>\n",
      "<re.Match object; span=(99, 100), match='e'>\n",
      "<re.Match object; span=(101, 102), match='e'>\n",
      "<re.Match object; span=(102, 103), match='s'>\n",
      "<re.Match object; span=(103, 104), match='c'>\n",
      "<re.Match object; span=(104, 105), match='a'>\n",
      "<re.Match object; span=(105, 106), match='p'>\n",
      "<re.Match object; span=(106, 107), match='e'>\n",
      "<re.Match object; span=(107, 108), match='d'>\n",
      "<re.Match object; span=(139, 140), match='k'>\n",
      "<re.Match object; span=(140, 141), match='h'>\n",
      "<re.Match object; span=(141, 142), match='a'>\n",
      "<re.Match object; span=(142, 143), match='n'>\n",
      "<re.Match object; span=(143, 144), match='a'>\n",
      "<re.Match object; span=(144, 145), match='f'>\n",
      "<re.Match object; span=(145, 146), match='s'>\n",
      "<re.Match object; span=(146, 147), match='a'>\n",
      "<re.Match object; span=(147, 148), match='a'>\n",
      "<re.Match object; span=(148, 149), match='n'>\n",
      "<re.Match object; span=(152, 153), match='c'>\n",
      "<re.Match object; span=(153, 154), match='o'>\n",
      "<re.Match object; span=(154, 155), match='m'>\n",
      "<re.Match object; span=(222, 223), match='r'>\n",
      "<re.Match object; span=(226, 227), match='c'>\n",
      "<re.Match object; span=(227, 228), match='h'>\n",
      "<re.Match object; span=(228, 229), match='a'>\n",
      "<re.Match object; span=(229, 230), match='f'>\n",
      "<re.Match object; span=(230, 231), match='e'>\n",
      "<re.Match object; span=(231, 232), match='r'>\n",
      "<re.Match object; span=(234, 235), match='r'>\n",
      "<re.Match object; span=(237, 238), match='m'>\n",
      "<re.Match object; span=(238, 239), match='i'>\n",
      "<re.Match object; span=(239, 240), match='t'>\n",
      "<re.Match object; span=(240, 241), match='h'>\n",
      "<re.Match object; span=(243, 244), match='s'>\n",
      "<re.Match object; span=(246, 247), match='a'>\n",
      "<re.Match object; span=(247, 248), match='v'>\n",
      "<re.Match object; span=(248, 249), match='i'>\n",
      "<re.Match object; span=(249, 250), match='s'>\n",
      "<re.Match object; span=(252, 253), match='r'>\n",
      "<re.Match object; span=(253, 254), match='s'>\n",
      "<re.Match object; span=(257, 258), match='o'>\n",
      "<re.Match object; span=(258, 259), match='b'>\n",
      "<re.Match object; span=(259, 260), match='i'>\n",
      "<re.Match object; span=(260, 261), match='n'>\n",
      "<re.Match object; span=(261, 262), match='s'>\n",
      "<re.Match object; span=(262, 263), match='o'>\n",
      "<re.Match object; span=(263, 264), match='n'>\n",
      "<re.Match object; span=(266, 267), match='r'>\n",
      "<re.Match object; span=(272, 273), match='r'>\n",
      "<re.Match object; span=(274, 275), match='h'>\n",
      "<re.Match object; span=(275, 276), match='e'>\n",
      "<re.Match object; span=(276, 277), match='l'>\n",
      "<re.Match object; span=(277, 278), match='l'>\n",
      "<re.Match object; span=(278, 279), match='o'>\n"
     ]
    }
   ],
   "source": [
    "pattern = re.compile(r'[a-z]')\n",
    "\n",
    "matches = pattern.finditer(text_to_search)\n",
    "\n",
    "for match in matches:\n",
    "    print(match)"
   ]
  },
  {
   "cell_type": "code",
   "execution_count": 38,
   "metadata": {
    "ExecuteTime": {
     "end_time": "2021-04-11T13:55:15.001258Z",
     "start_time": "2021-04-11T13:55:14.980954Z"
    }
   },
   "outputs": [
    {
     "name": "stdout",
     "output_type": "stream",
     "text": [
      "<re.Match object; span=(55, 56), match='1'>\n",
      "<re.Match object; span=(56, 57), match='2'>\n",
      "<re.Match object; span=(57, 58), match='3'>\n",
      "<re.Match object; span=(58, 59), match='4'>\n",
      "<re.Match object; span=(59, 60), match='5'>\n",
      "<re.Match object; span=(149, 150), match='1'>\n",
      "<re.Match object; span=(150, 151), match='1'>\n",
      "<re.Match object; span=(156, 157), match='3'>\n",
      "<re.Match object; span=(157, 158), match='2'>\n",
      "<re.Match object; span=(158, 159), match='1'>\n",
      "<re.Match object; span=(160, 161), match='5'>\n",
      "<re.Match object; span=(161, 162), match='5'>\n",
      "<re.Match object; span=(162, 163), match='5'>\n",
      "<re.Match object; span=(164, 165), match='4'>\n",
      "<re.Match object; span=(165, 166), match='3'>\n",
      "<re.Match object; span=(166, 167), match='2'>\n",
      "<re.Match object; span=(167, 168), match='1'>\n",
      "<re.Match object; span=(169, 170), match='1'>\n",
      "<re.Match object; span=(170, 171), match='2'>\n",
      "<re.Match object; span=(171, 172), match='3'>\n",
      "<re.Match object; span=(173, 174), match='5'>\n",
      "<re.Match object; span=(174, 175), match='5'>\n",
      "<re.Match object; span=(175, 176), match='5'>\n",
      "<re.Match object; span=(177, 178), match='1'>\n",
      "<re.Match object; span=(178, 179), match='2'>\n",
      "<re.Match object; span=(179, 180), match='3'>\n",
      "<re.Match object; span=(180, 181), match='4'>\n",
      "<re.Match object; span=(182, 183), match='1'>\n",
      "<re.Match object; span=(183, 184), match='2'>\n",
      "<re.Match object; span=(184, 185), match='3'>\n",
      "<re.Match object; span=(186, 187), match='5'>\n",
      "<re.Match object; span=(187, 188), match='5'>\n",
      "<re.Match object; span=(188, 189), match='5'>\n",
      "<re.Match object; span=(190, 191), match='1'>\n",
      "<re.Match object; span=(191, 192), match='2'>\n",
      "<re.Match object; span=(192, 193), match='3'>\n",
      "<re.Match object; span=(193, 194), match='4'>\n",
      "<re.Match object; span=(199, 200), match='5'>\n",
      "<re.Match object; span=(200, 201), match='5'>\n",
      "<re.Match object; span=(201, 202), match='5'>\n",
      "<re.Match object; span=(203, 204), match='1'>\n",
      "<re.Match object; span=(204, 205), match='2'>\n",
      "<re.Match object; span=(205, 206), match='3'>\n",
      "<re.Match object; span=(206, 207), match='4'>\n",
      "<re.Match object; span=(212, 213), match='5'>\n",
      "<re.Match object; span=(213, 214), match='5'>\n",
      "<re.Match object; span=(214, 215), match='5'>\n",
      "<re.Match object; span=(216, 217), match='1'>\n",
      "<re.Match object; span=(217, 218), match='2'>\n",
      "<re.Match object; span=(218, 219), match='3'>\n",
      "<re.Match object; span=(219, 220), match='4'>\n"
     ]
    }
   ],
   "source": [
    "pattern = re.compile(r'[1-5]')\n",
    "\n",
    "matches = pattern.finditer(text_to_search)\n",
    "\n",
    "for match in matches:\n",
    "    print(match)"
   ]
  },
  {
   "cell_type": "code",
   "execution_count": 39,
   "metadata": {
    "ExecuteTime": {
     "end_time": "2021-04-11T13:55:35.254217Z",
     "start_time": "2021-04-11T13:55:35.211979Z"
    }
   },
   "outputs": [
    {
     "name": "stdout",
     "output_type": "stream",
     "text": [
      "<re.Match object; span=(1, 2), match='a'>\n",
      "<re.Match object; span=(2, 3), match='b'>\n",
      "<re.Match object; span=(3, 4), match='c'>\n",
      "<re.Match object; span=(4, 5), match='d'>\n",
      "<re.Match object; span=(5, 6), match='e'>\n",
      "<re.Match object; span=(6, 7), match='f'>\n",
      "<re.Match object; span=(7, 8), match='g'>\n",
      "<re.Match object; span=(8, 9), match='h'>\n",
      "<re.Match object; span=(9, 10), match='i'>\n",
      "<re.Match object; span=(10, 11), match='j'>\n",
      "<re.Match object; span=(11, 12), match='k'>\n",
      "<re.Match object; span=(12, 13), match='l'>\n",
      "<re.Match object; span=(13, 14), match='m'>\n",
      "<re.Match object; span=(14, 15), match='n'>\n",
      "<re.Match object; span=(15, 16), match='o'>\n",
      "<re.Match object; span=(16, 17), match='p'>\n",
      "<re.Match object; span=(17, 18), match='q'>\n",
      "<re.Match object; span=(18, 19), match='u'>\n",
      "<re.Match object; span=(19, 20), match='r'>\n",
      "<re.Match object; span=(20, 21), match='t'>\n",
      "<re.Match object; span=(21, 22), match='u'>\n",
      "<re.Match object; span=(22, 23), match='v'>\n",
      "<re.Match object; span=(23, 24), match='w'>\n",
      "<re.Match object; span=(24, 25), match='x'>\n",
      "<re.Match object; span=(25, 26), match='y'>\n",
      "<re.Match object; span=(26, 27), match='z'>\n",
      "<re.Match object; span=(28, 29), match='A'>\n",
      "<re.Match object; span=(29, 30), match='B'>\n",
      "<re.Match object; span=(30, 31), match='C'>\n",
      "<re.Match object; span=(31, 32), match='D'>\n",
      "<re.Match object; span=(32, 33), match='E'>\n",
      "<re.Match object; span=(33, 34), match='F'>\n",
      "<re.Match object; span=(34, 35), match='G'>\n",
      "<re.Match object; span=(35, 36), match='H'>\n",
      "<re.Match object; span=(36, 37), match='I'>\n",
      "<re.Match object; span=(37, 38), match='J'>\n",
      "<re.Match object; span=(38, 39), match='K'>\n",
      "<re.Match object; span=(39, 40), match='L'>\n",
      "<re.Match object; span=(40, 41), match='M'>\n",
      "<re.Match object; span=(41, 42), match='N'>\n",
      "<re.Match object; span=(42, 43), match='O'>\n",
      "<re.Match object; span=(43, 44), match='P'>\n",
      "<re.Match object; span=(44, 45), match='Q'>\n",
      "<re.Match object; span=(45, 46), match='R'>\n",
      "<re.Match object; span=(46, 47), match='S'>\n",
      "<re.Match object; span=(47, 48), match='T'>\n",
      "<re.Match object; span=(48, 49), match='U'>\n",
      "<re.Match object; span=(49, 50), match='V'>\n",
      "<re.Match object; span=(50, 51), match='W'>\n",
      "<re.Match object; span=(51, 52), match='X'>\n",
      "<re.Match object; span=(52, 53), match='Y'>\n",
      "<re.Match object; span=(53, 54), match='Z'>\n",
      "<re.Match object; span=(55, 56), match='1'>\n",
      "<re.Match object; span=(56, 57), match='2'>\n",
      "<re.Match object; span=(57, 58), match='3'>\n",
      "<re.Match object; span=(58, 59), match='4'>\n",
      "<re.Match object; span=(59, 60), match='5'>\n",
      "<re.Match object; span=(66, 67), match='H'>\n",
      "<re.Match object; span=(67, 68), match='a'>\n",
      "<re.Match object; span=(69, 70), match='H'>\n",
      "<re.Match object; span=(70, 71), match='a'>\n",
      "<re.Match object; span=(71, 72), match='H'>\n",
      "<re.Match object; span=(72, 73), match='a'>\n",
      "<re.Match object; span=(74, 75), match='M'>\n",
      "<re.Match object; span=(75, 76), match='e'>\n",
      "<re.Match object; span=(76, 77), match='t'>\n",
      "<re.Match object; span=(77, 78), match='a'>\n",
      "<re.Match object; span=(78, 79), match='C'>\n",
      "<re.Match object; span=(79, 80), match='h'>\n",
      "<re.Match object; span=(80, 81), match='a'>\n",
      "<re.Match object; span=(81, 82), match='r'>\n",
      "<re.Match object; span=(82, 83), match='a'>\n",
      "<re.Match object; span=(83, 84), match='c'>\n",
      "<re.Match object; span=(84, 85), match='t'>\n",
      "<re.Match object; span=(85, 86), match='e'>\n",
      "<re.Match object; span=(86, 87), match='r'>\n",
      "<re.Match object; span=(87, 88), match='s'>\n",
      "<re.Match object; span=(90, 91), match='N'>\n",
      "<re.Match object; span=(91, 92), match='e'>\n",
      "<re.Match object; span=(92, 93), match='e'>\n",
      "<re.Match object; span=(93, 94), match='d'>\n",
      "<re.Match object; span=(95, 96), match='t'>\n",
      "<re.Match object; span=(96, 97), match='o'>\n",
      "<re.Match object; span=(98, 99), match='b'>\n",
      "<re.Match object; span=(99, 100), match='e'>\n",
      "<re.Match object; span=(101, 102), match='e'>\n",
      "<re.Match object; span=(102, 103), match='s'>\n",
      "<re.Match object; span=(103, 104), match='c'>\n",
      "<re.Match object; span=(104, 105), match='a'>\n",
      "<re.Match object; span=(105, 106), match='p'>\n",
      "<re.Match object; span=(106, 107), match='e'>\n",
      "<re.Match object; span=(107, 108), match='d'>\n",
      "<re.Match object; span=(139, 140), match='k'>\n",
      "<re.Match object; span=(140, 141), match='h'>\n",
      "<re.Match object; span=(141, 142), match='a'>\n",
      "<re.Match object; span=(142, 143), match='n'>\n",
      "<re.Match object; span=(143, 144), match='a'>\n",
      "<re.Match object; span=(144, 145), match='f'>\n",
      "<re.Match object; span=(145, 146), match='s'>\n",
      "<re.Match object; span=(146, 147), match='a'>\n",
      "<re.Match object; span=(147, 148), match='a'>\n",
      "<re.Match object; span=(148, 149), match='n'>\n",
      "<re.Match object; span=(149, 150), match='1'>\n",
      "<re.Match object; span=(150, 151), match='1'>\n",
      "<re.Match object; span=(152, 153), match='c'>\n",
      "<re.Match object; span=(153, 154), match='o'>\n",
      "<re.Match object; span=(154, 155), match='m'>\n",
      "<re.Match object; span=(156, 157), match='3'>\n",
      "<re.Match object; span=(157, 158), match='2'>\n",
      "<re.Match object; span=(158, 159), match='1'>\n",
      "<re.Match object; span=(160, 161), match='5'>\n",
      "<re.Match object; span=(161, 162), match='5'>\n",
      "<re.Match object; span=(162, 163), match='5'>\n",
      "<re.Match object; span=(164, 165), match='4'>\n",
      "<re.Match object; span=(165, 166), match='3'>\n",
      "<re.Match object; span=(166, 167), match='2'>\n",
      "<re.Match object; span=(167, 168), match='1'>\n",
      "<re.Match object; span=(169, 170), match='1'>\n",
      "<re.Match object; span=(170, 171), match='2'>\n",
      "<re.Match object; span=(171, 172), match='3'>\n",
      "<re.Match object; span=(173, 174), match='5'>\n",
      "<re.Match object; span=(174, 175), match='5'>\n",
      "<re.Match object; span=(175, 176), match='5'>\n",
      "<re.Match object; span=(177, 178), match='1'>\n",
      "<re.Match object; span=(178, 179), match='2'>\n",
      "<re.Match object; span=(179, 180), match='3'>\n",
      "<re.Match object; span=(180, 181), match='4'>\n",
      "<re.Match object; span=(182, 183), match='1'>\n",
      "<re.Match object; span=(183, 184), match='2'>\n",
      "<re.Match object; span=(184, 185), match='3'>\n",
      "<re.Match object; span=(186, 187), match='5'>\n",
      "<re.Match object; span=(187, 188), match='5'>\n",
      "<re.Match object; span=(188, 189), match='5'>\n",
      "<re.Match object; span=(190, 191), match='1'>\n",
      "<re.Match object; span=(191, 192), match='2'>\n",
      "<re.Match object; span=(192, 193), match='3'>\n",
      "<re.Match object; span=(193, 194), match='4'>\n",
      "<re.Match object; span=(199, 200), match='5'>\n",
      "<re.Match object; span=(200, 201), match='5'>\n",
      "<re.Match object; span=(201, 202), match='5'>\n",
      "<re.Match object; span=(203, 204), match='1'>\n",
      "<re.Match object; span=(204, 205), match='2'>\n",
      "<re.Match object; span=(205, 206), match='3'>\n",
      "<re.Match object; span=(206, 207), match='4'>\n",
      "<re.Match object; span=(212, 213), match='5'>\n",
      "<re.Match object; span=(213, 214), match='5'>\n",
      "<re.Match object; span=(214, 215), match='5'>\n",
      "<re.Match object; span=(216, 217), match='1'>\n",
      "<re.Match object; span=(217, 218), match='2'>\n",
      "<re.Match object; span=(218, 219), match='3'>\n",
      "<re.Match object; span=(219, 220), match='4'>\n",
      "<re.Match object; span=(221, 222), match='M'>\n",
      "<re.Match object; span=(222, 223), match='r'>\n",
      "<re.Match object; span=(225, 226), match='S'>\n",
      "<re.Match object; span=(226, 227), match='c'>\n",
      "<re.Match object; span=(227, 228), match='h'>\n",
      "<re.Match object; span=(228, 229), match='a'>\n",
      "<re.Match object; span=(229, 230), match='f'>\n",
      "<re.Match object; span=(230, 231), match='e'>\n",
      "<re.Match object; span=(231, 232), match='r'>\n",
      "<re.Match object; span=(233, 234), match='M'>\n",
      "<re.Match object; span=(234, 235), match='r'>\n",
      "<re.Match object; span=(236, 237), match='S'>\n",
      "<re.Match object; span=(237, 238), match='m'>\n",
      "<re.Match object; span=(238, 239), match='i'>\n",
      "<re.Match object; span=(239, 240), match='t'>\n",
      "<re.Match object; span=(240, 241), match='h'>\n",
      "<re.Match object; span=(242, 243), match='M'>\n",
      "<re.Match object; span=(243, 244), match='s'>\n",
      "<re.Match object; span=(245, 246), match='D'>\n",
      "<re.Match object; span=(246, 247), match='a'>\n",
      "<re.Match object; span=(247, 248), match='v'>\n",
      "<re.Match object; span=(248, 249), match='i'>\n",
      "<re.Match object; span=(249, 250), match='s'>\n",
      "<re.Match object; span=(251, 252), match='M'>\n",
      "<re.Match object; span=(252, 253), match='r'>\n",
      "<re.Match object; span=(253, 254), match='s'>\n",
      "<re.Match object; span=(256, 257), match='R'>\n",
      "<re.Match object; span=(257, 258), match='o'>\n",
      "<re.Match object; span=(258, 259), match='b'>\n",
      "<re.Match object; span=(259, 260), match='i'>\n",
      "<re.Match object; span=(260, 261), match='n'>\n",
      "<re.Match object; span=(261, 262), match='s'>\n",
      "<re.Match object; span=(262, 263), match='o'>\n",
      "<re.Match object; span=(263, 264), match='n'>\n",
      "<re.Match object; span=(265, 266), match='M'>\n",
      "<re.Match object; span=(266, 267), match='r'>\n",
      "<re.Match object; span=(269, 270), match='T'>\n",
      "<re.Match object; span=(271, 272), match='M'>\n",
      "<re.Match object; span=(272, 273), match='r'>\n",
      "<re.Match object; span=(274, 275), match='h'>\n",
      "<re.Match object; span=(275, 276), match='e'>\n",
      "<re.Match object; span=(276, 277), match='l'>\n",
      "<re.Match object; span=(277, 278), match='l'>\n",
      "<re.Match object; span=(278, 279), match='o'>\n"
     ]
    }
   ],
   "source": [
    "pattern = re.compile(r'[1-5a-zA-Z]')\n",
    "\n",
    "matches = pattern.finditer(text_to_search)\n",
    "\n",
    "for match in matches:\n",
    "    print(match)"
   ]
  },
  {
   "cell_type": "code",
   "execution_count": 40,
   "metadata": {
    "ExecuteTime": {
     "end_time": "2021-04-11T13:55:53.734008Z",
     "start_time": "2021-04-11T13:55:53.698769Z"
    }
   },
   "outputs": [
    {
     "name": "stdout",
     "output_type": "stream",
     "text": [
      "<re.Match object; span=(0, 1), match='\\n'>\n",
      "<re.Match object; span=(27, 28), match='\\n'>\n",
      "<re.Match object; span=(28, 29), match='A'>\n",
      "<re.Match object; span=(29, 30), match='B'>\n",
      "<re.Match object; span=(30, 31), match='C'>\n",
      "<re.Match object; span=(31, 32), match='D'>\n",
      "<re.Match object; span=(32, 33), match='E'>\n",
      "<re.Match object; span=(33, 34), match='F'>\n",
      "<re.Match object; span=(34, 35), match='G'>\n",
      "<re.Match object; span=(35, 36), match='H'>\n",
      "<re.Match object; span=(36, 37), match='I'>\n",
      "<re.Match object; span=(37, 38), match='J'>\n",
      "<re.Match object; span=(38, 39), match='K'>\n",
      "<re.Match object; span=(39, 40), match='L'>\n",
      "<re.Match object; span=(40, 41), match='M'>\n",
      "<re.Match object; span=(41, 42), match='N'>\n",
      "<re.Match object; span=(42, 43), match='O'>\n",
      "<re.Match object; span=(43, 44), match='P'>\n",
      "<re.Match object; span=(44, 45), match='Q'>\n",
      "<re.Match object; span=(45, 46), match='R'>\n",
      "<re.Match object; span=(46, 47), match='S'>\n",
      "<re.Match object; span=(47, 48), match='T'>\n",
      "<re.Match object; span=(48, 49), match='U'>\n",
      "<re.Match object; span=(49, 50), match='V'>\n",
      "<re.Match object; span=(50, 51), match='W'>\n",
      "<re.Match object; span=(51, 52), match='X'>\n",
      "<re.Match object; span=(52, 53), match='Y'>\n",
      "<re.Match object; span=(53, 54), match='Z'>\n",
      "<re.Match object; span=(54, 55), match='\\n'>\n",
      "<re.Match object; span=(55, 56), match='1'>\n",
      "<re.Match object; span=(56, 57), match='2'>\n",
      "<re.Match object; span=(57, 58), match='3'>\n",
      "<re.Match object; span=(58, 59), match='4'>\n",
      "<re.Match object; span=(59, 60), match='5'>\n",
      "<re.Match object; span=(60, 61), match='6'>\n",
      "<re.Match object; span=(61, 62), match='7'>\n",
      "<re.Match object; span=(62, 63), match='8'>\n",
      "<re.Match object; span=(63, 64), match='9'>\n",
      "<re.Match object; span=(64, 65), match='0'>\n",
      "<re.Match object; span=(65, 66), match='\\n'>\n",
      "<re.Match object; span=(66, 67), match='H'>\n",
      "<re.Match object; span=(68, 69), match=' '>\n",
      "<re.Match object; span=(69, 70), match='H'>\n",
      "<re.Match object; span=(71, 72), match='H'>\n",
      "<re.Match object; span=(73, 74), match='\\n'>\n",
      "<re.Match object; span=(74, 75), match='M'>\n",
      "<re.Match object; span=(78, 79), match='C'>\n",
      "<re.Match object; span=(88, 89), match=' '>\n",
      "<re.Match object; span=(89, 90), match='('>\n",
      "<re.Match object; span=(90, 91), match='N'>\n",
      "<re.Match object; span=(94, 95), match=' '>\n",
      "<re.Match object; span=(97, 98), match=' '>\n",
      "<re.Match object; span=(100, 101), match=' '>\n",
      "<re.Match object; span=(108, 109), match=')'>\n",
      "<re.Match object; span=(109, 110), match=':'>\n",
      "<re.Match object; span=(110, 111), match='\\n'>\n",
      "<re.Match object; span=(111, 112), match='.'>\n",
      "<re.Match object; span=(112, 113), match=' '>\n",
      "<re.Match object; span=(113, 114), match='^'>\n",
      "<re.Match object; span=(114, 115), match=' '>\n",
      "<re.Match object; span=(115, 116), match='$'>\n",
      "<re.Match object; span=(116, 117), match=' '>\n",
      "<re.Match object; span=(117, 118), match='*'>\n",
      "<re.Match object; span=(118, 119), match=' '>\n",
      "<re.Match object; span=(119, 120), match='+'>\n",
      "<re.Match object; span=(120, 121), match=' '>\n",
      "<re.Match object; span=(121, 122), match='?'>\n",
      "<re.Match object; span=(122, 123), match=' '>\n",
      "<re.Match object; span=(123, 124), match='{'>\n",
      "<re.Match object; span=(124, 125), match=' '>\n",
      "<re.Match object; span=(125, 126), match='}'>\n",
      "<re.Match object; span=(126, 127), match=' '>\n",
      "<re.Match object; span=(127, 128), match='['>\n",
      "<re.Match object; span=(128, 129), match=' '>\n",
      "<re.Match object; span=(129, 130), match=']'>\n",
      "<re.Match object; span=(130, 131), match=' '>\n",
      "<re.Match object; span=(131, 132), match='\\\\'>\n",
      "<re.Match object; span=(132, 133), match=' '>\n",
      "<re.Match object; span=(133, 134), match='|'>\n",
      "<re.Match object; span=(134, 135), match=' '>\n",
      "<re.Match object; span=(135, 136), match='('>\n",
      "<re.Match object; span=(136, 137), match=' '>\n",
      "<re.Match object; span=(137, 138), match=')'>\n",
      "<re.Match object; span=(138, 139), match='\\n'>\n",
      "<re.Match object; span=(149, 150), match='1'>\n",
      "<re.Match object; span=(150, 151), match='1'>\n",
      "<re.Match object; span=(151, 152), match='.'>\n",
      "<re.Match object; span=(155, 156), match='\\n'>\n",
      "<re.Match object; span=(156, 157), match='3'>\n",
      "<re.Match object; span=(157, 158), match='2'>\n",
      "<re.Match object; span=(158, 159), match='1'>\n",
      "<re.Match object; span=(159, 160), match='-'>\n",
      "<re.Match object; span=(160, 161), match='5'>\n",
      "<re.Match object; span=(161, 162), match='5'>\n",
      "<re.Match object; span=(162, 163), match='5'>\n",
      "<re.Match object; span=(163, 164), match='-'>\n",
      "<re.Match object; span=(164, 165), match='4'>\n",
      "<re.Match object; span=(165, 166), match='3'>\n",
      "<re.Match object; span=(166, 167), match='2'>\n",
      "<re.Match object; span=(167, 168), match='1'>\n",
      "<re.Match object; span=(168, 169), match='\\n'>\n",
      "<re.Match object; span=(169, 170), match='1'>\n",
      "<re.Match object; span=(170, 171), match='2'>\n",
      "<re.Match object; span=(171, 172), match='3'>\n",
      "<re.Match object; span=(172, 173), match='.'>\n",
      "<re.Match object; span=(173, 174), match='5'>\n",
      "<re.Match object; span=(174, 175), match='5'>\n",
      "<re.Match object; span=(175, 176), match='5'>\n",
      "<re.Match object; span=(176, 177), match='.'>\n",
      "<re.Match object; span=(177, 178), match='1'>\n",
      "<re.Match object; span=(178, 179), match='2'>\n",
      "<re.Match object; span=(179, 180), match='3'>\n",
      "<re.Match object; span=(180, 181), match='4'>\n",
      "<re.Match object; span=(181, 182), match='\\n'>\n",
      "<re.Match object; span=(182, 183), match='1'>\n",
      "<re.Match object; span=(183, 184), match='2'>\n",
      "<re.Match object; span=(184, 185), match='3'>\n",
      "<re.Match object; span=(185, 186), match='*'>\n",
      "<re.Match object; span=(186, 187), match='5'>\n",
      "<re.Match object; span=(187, 188), match='5'>\n",
      "<re.Match object; span=(188, 189), match='5'>\n",
      "<re.Match object; span=(189, 190), match='*'>\n",
      "<re.Match object; span=(190, 191), match='1'>\n",
      "<re.Match object; span=(191, 192), match='2'>\n",
      "<re.Match object; span=(192, 193), match='3'>\n",
      "<re.Match object; span=(193, 194), match='4'>\n",
      "<re.Match object; span=(194, 195), match='\\n'>\n",
      "<re.Match object; span=(195, 196), match='8'>\n",
      "<re.Match object; span=(196, 197), match='0'>\n",
      "<re.Match object; span=(197, 198), match='0'>\n",
      "<re.Match object; span=(198, 199), match='-'>\n",
      "<re.Match object; span=(199, 200), match='5'>\n",
      "<re.Match object; span=(200, 201), match='5'>\n",
      "<re.Match object; span=(201, 202), match='5'>\n",
      "<re.Match object; span=(202, 203), match='-'>\n",
      "<re.Match object; span=(203, 204), match='1'>\n",
      "<re.Match object; span=(204, 205), match='2'>\n",
      "<re.Match object; span=(205, 206), match='3'>\n",
      "<re.Match object; span=(206, 207), match='4'>\n",
      "<re.Match object; span=(207, 208), match='\\n'>\n",
      "<re.Match object; span=(208, 209), match='9'>\n",
      "<re.Match object; span=(209, 210), match='0'>\n",
      "<re.Match object; span=(210, 211), match='0'>\n",
      "<re.Match object; span=(211, 212), match='-'>\n",
      "<re.Match object; span=(212, 213), match='5'>\n",
      "<re.Match object; span=(213, 214), match='5'>\n",
      "<re.Match object; span=(214, 215), match='5'>\n",
      "<re.Match object; span=(215, 216), match='-'>\n",
      "<re.Match object; span=(216, 217), match='1'>\n",
      "<re.Match object; span=(217, 218), match='2'>\n",
      "<re.Match object; span=(218, 219), match='3'>\n",
      "<re.Match object; span=(219, 220), match='4'>\n",
      "<re.Match object; span=(220, 221), match='\\n'>\n",
      "<re.Match object; span=(221, 222), match='M'>\n",
      "<re.Match object; span=(223, 224), match='.'>\n",
      "<re.Match object; span=(224, 225), match=' '>\n",
      "<re.Match object; span=(225, 226), match='S'>\n",
      "<re.Match object; span=(232, 233), match='\\n'>\n",
      "<re.Match object; span=(233, 234), match='M'>\n",
      "<re.Match object; span=(235, 236), match=' '>\n",
      "<re.Match object; span=(236, 237), match='S'>\n",
      "<re.Match object; span=(241, 242), match='\\n'>\n",
      "<re.Match object; span=(242, 243), match='M'>\n",
      "<re.Match object; span=(244, 245), match=' '>\n",
      "<re.Match object; span=(245, 246), match='D'>\n",
      "<re.Match object; span=(250, 251), match='\\n'>\n",
      "<re.Match object; span=(251, 252), match='M'>\n",
      "<re.Match object; span=(254, 255), match='.'>\n",
      "<re.Match object; span=(255, 256), match=' '>\n",
      "<re.Match object; span=(256, 257), match='R'>\n",
      "<re.Match object; span=(264, 265), match='\\n'>\n",
      "<re.Match object; span=(265, 266), match='M'>\n",
      "<re.Match object; span=(267, 268), match='.'>\n",
      "<re.Match object; span=(268, 269), match=' '>\n",
      "<re.Match object; span=(269, 270), match='T'>\n",
      "<re.Match object; span=(270, 271), match='\\n'>\n",
      "<re.Match object; span=(271, 272), match='M'>\n",
      "<re.Match object; span=(273, 274), match='_'>\n",
      "<re.Match object; span=(279, 280), match='\\n'>\n"
     ]
    }
   ],
   "source": [
    "pattern = re.compile(r'[^a-z]')\n",
    "\n",
    "matches = pattern.finditer(text_to_search)\n",
    "\n",
    "for match in matches:\n",
    "    print(match)"
   ]
  },
  {
   "cell_type": "code",
   "execution_count": 41,
   "metadata": {
    "ExecuteTime": {
     "end_time": "2021-04-11T13:56:40.820765Z",
     "start_time": "2021-04-11T13:56:40.792307Z"
    }
   },
   "outputs": [
    {
     "name": "stdout",
     "output_type": "stream",
     "text": [
      "<re.Match object; span=(0, 1), match='\\n'>\n",
      "<re.Match object; span=(27, 28), match='\\n'>\n",
      "<re.Match object; span=(54, 55), match='\\n'>\n",
      "<re.Match object; span=(65, 66), match='\\n'>\n",
      "<re.Match object; span=(68, 69), match=' '>\n",
      "<re.Match object; span=(73, 74), match='\\n'>\n",
      "<re.Match object; span=(88, 89), match=' '>\n",
      "<re.Match object; span=(89, 90), match='('>\n",
      "<re.Match object; span=(94, 95), match=' '>\n",
      "<re.Match object; span=(97, 98), match=' '>\n",
      "<re.Match object; span=(100, 101), match=' '>\n",
      "<re.Match object; span=(108, 109), match=')'>\n",
      "<re.Match object; span=(109, 110), match=':'>\n",
      "<re.Match object; span=(110, 111), match='\\n'>\n",
      "<re.Match object; span=(111, 112), match='.'>\n",
      "<re.Match object; span=(112, 113), match=' '>\n",
      "<re.Match object; span=(113, 114), match='^'>\n",
      "<re.Match object; span=(114, 115), match=' '>\n",
      "<re.Match object; span=(115, 116), match='$'>\n",
      "<re.Match object; span=(116, 117), match=' '>\n",
      "<re.Match object; span=(117, 118), match='*'>\n",
      "<re.Match object; span=(118, 119), match=' '>\n",
      "<re.Match object; span=(119, 120), match='+'>\n",
      "<re.Match object; span=(120, 121), match=' '>\n",
      "<re.Match object; span=(121, 122), match='?'>\n",
      "<re.Match object; span=(122, 123), match=' '>\n",
      "<re.Match object; span=(123, 124), match='{'>\n",
      "<re.Match object; span=(124, 125), match=' '>\n",
      "<re.Match object; span=(125, 126), match='}'>\n",
      "<re.Match object; span=(126, 127), match=' '>\n",
      "<re.Match object; span=(127, 128), match='['>\n",
      "<re.Match object; span=(128, 129), match=' '>\n",
      "<re.Match object; span=(129, 130), match=']'>\n",
      "<re.Match object; span=(130, 131), match=' '>\n",
      "<re.Match object; span=(131, 132), match='\\\\'>\n",
      "<re.Match object; span=(132, 133), match=' '>\n",
      "<re.Match object; span=(133, 134), match='|'>\n",
      "<re.Match object; span=(134, 135), match=' '>\n",
      "<re.Match object; span=(135, 136), match='('>\n",
      "<re.Match object; span=(136, 137), match=' '>\n",
      "<re.Match object; span=(137, 138), match=')'>\n",
      "<re.Match object; span=(138, 139), match='\\n'>\n",
      "<re.Match object; span=(151, 152), match='.'>\n",
      "<re.Match object; span=(155, 156), match='\\n'>\n",
      "<re.Match object; span=(159, 160), match='-'>\n",
      "<re.Match object; span=(163, 164), match='-'>\n",
      "<re.Match object; span=(168, 169), match='\\n'>\n",
      "<re.Match object; span=(172, 173), match='.'>\n",
      "<re.Match object; span=(176, 177), match='.'>\n",
      "<re.Match object; span=(181, 182), match='\\n'>\n",
      "<re.Match object; span=(185, 186), match='*'>\n",
      "<re.Match object; span=(189, 190), match='*'>\n",
      "<re.Match object; span=(194, 195), match='\\n'>\n",
      "<re.Match object; span=(198, 199), match='-'>\n",
      "<re.Match object; span=(202, 203), match='-'>\n",
      "<re.Match object; span=(207, 208), match='\\n'>\n",
      "<re.Match object; span=(211, 212), match='-'>\n",
      "<re.Match object; span=(215, 216), match='-'>\n",
      "<re.Match object; span=(220, 221), match='\\n'>\n",
      "<re.Match object; span=(223, 224), match='.'>\n",
      "<re.Match object; span=(224, 225), match=' '>\n",
      "<re.Match object; span=(232, 233), match='\\n'>\n",
      "<re.Match object; span=(235, 236), match=' '>\n",
      "<re.Match object; span=(241, 242), match='\\n'>\n",
      "<re.Match object; span=(244, 245), match=' '>\n",
      "<re.Match object; span=(250, 251), match='\\n'>\n",
      "<re.Match object; span=(254, 255), match='.'>\n",
      "<re.Match object; span=(255, 256), match=' '>\n",
      "<re.Match object; span=(264, 265), match='\\n'>\n",
      "<re.Match object; span=(267, 268), match='.'>\n",
      "<re.Match object; span=(268, 269), match=' '>\n",
      "<re.Match object; span=(270, 271), match='\\n'>\n",
      "<re.Match object; span=(273, 274), match='_'>\n",
      "<re.Match object; span=(279, 280), match='\\n'>\n"
     ]
    }
   ],
   "source": [
    "pattern = re.compile(r'[^A-Za-z0-9]')\n",
    "\n",
    "matches = pattern.finditer(text_to_search)\n",
    "\n",
    "for match in matches:\n",
    "    print(match)"
   ]
  },
  {
   "cell_type": "code",
   "execution_count": 42,
   "metadata": {
    "ExecuteTime": {
     "end_time": "2021-04-11T13:57:20.313202Z",
     "start_time": "2021-04-11T13:57:20.300463Z"
    }
   },
   "outputs": [
    {
     "name": "stdout",
     "output_type": "stream",
     "text": [
      "<re.Match object; span=(0, 3), match='cat'>\n",
      "<re.Match object; span=(4, 7), match='fat'>\n",
      "<re.Match object; span=(8, 11), match='mat'>\n",
      "<re.Match object; span=(12, 15), match='pat'>\n"
     ]
    }
   ],
   "source": [
    "#Apporach 1\n",
    "pattern = re.compile(r'[cfmp]at')\n",
    "\n",
    "matches = pattern.finditer('cat fat mat pat bat')\n",
    "\n",
    "for match in matches:\n",
    "    print(match)"
   ]
  },
  {
   "cell_type": "code",
   "execution_count": 43,
   "metadata": {
    "ExecuteTime": {
     "end_time": "2021-04-11T13:57:32.294524Z",
     "start_time": "2021-04-11T13:57:32.285248Z"
    }
   },
   "outputs": [
    {
     "name": "stdout",
     "output_type": "stream",
     "text": [
      "<re.Match object; span=(0, 3), match='cat'>\n",
      "<re.Match object; span=(4, 7), match='fat'>\n",
      "<re.Match object; span=(8, 11), match='mat'>\n"
     ]
    }
   ],
   "source": [
    "#Approcah 2\n",
    "pattern = re.compile(r'[^b]at')\n",
    "\n",
    "matches = pattern.finditer('cat fat mat bat')\n",
    "\n",
    "for match in matches:\n",
    "    print(match)"
   ]
  },
  {
   "cell_type": "code",
   "execution_count": 48,
   "metadata": {
    "ExecuteTime": {
     "end_time": "2021-04-11T14:02:35.561015Z",
     "start_time": "2021-04-11T14:02:35.555393Z"
    }
   },
   "outputs": [
    {
     "data": {
      "text/plain": [
       "['Python\\n']"
      ]
     },
     "execution_count": 48,
     "metadata": {},
     "output_type": "execute_result"
    }
   ],
   "source": [
    "my_str = 'This is Python\\n class'\n",
    "pattern = re.compile('P\\w+\\n')\n",
    "pattern.findall(my_str)"
   ]
  },
  {
   "cell_type": "code",
   "execution_count": 56,
   "metadata": {
    "ExecuteTime": {
     "end_time": "2021-04-11T14:07:24.413300Z",
     "start_time": "2021-04-11T14:07:24.403731Z"
    }
   },
   "outputs": [
    {
     "name": "stdout",
     "output_type": "stream",
     "text": [
      "[('11', '27', '2012'), ('3', '13', '2013')]\n"
     ]
    }
   ],
   "source": [
    "import re\n",
    "\n",
    "text = 'Today is 11/27/2012. PyCon starts 3/13/2013.'\n",
    "text_re = re.findall(r'(\\d+)/(\\d+)/(\\d+)', text)\n",
    "print(text_re)"
   ]
  },
  {
   "cell_type": "code",
   "execution_count": 57,
   "metadata": {
    "ExecuteTime": {
     "end_time": "2021-04-11T14:07:25.904648Z",
     "start_time": "2021-04-11T14:07:25.898269Z"
    }
   },
   "outputs": [
    {
     "name": "stdout",
     "output_type": "stream",
     "text": [
      "[('11', '27', '2012'), ('3', '13', '2013')]\n"
     ]
    }
   ],
   "source": [
    "import re\n",
    "\n",
    "text = 'Today is 11/27/2012. PyCon starts 3/13/2013.'\n",
    "text_re = re.findall(r'(\\d+)/(\\d+)/(\\d+)', text)\n",
    "print(text_re)"
   ]
  },
  {
   "cell_type": "code",
   "execution_count": null,
   "metadata": {},
   "outputs": [],
   "source": [
    "r'Data Science'"
   ]
  },
  {
   "cell_type": "code",
   "execution_count": null,
   "metadata": {},
   "outputs": [],
   "source": [
    "DataScience"
   ]
  },
  {
   "cell_type": "code",
   "execution_count": null,
   "metadata": {},
   "outputs": [],
   "source": [
    "# git config --global user.name 'Abhishek Gupta'"
   ]
  },
  {
   "cell_type": "code",
   "execution_count": null,
   "metadata": {},
   "outputs": [],
   "source": []
  },
  {
   "cell_type": "code",
   "execution_count": null,
   "metadata": {},
   "outputs": [],
   "source": []
  },
  {
   "cell_type": "code",
   "execution_count": null,
   "metadata": {},
   "outputs": [],
   "source": []
  },
  {
   "cell_type": "code",
   "execution_count": null,
   "metadata": {},
   "outputs": [],
   "source": []
  },
  {
   "cell_type": "code",
   "execution_count": null,
   "metadata": {},
   "outputs": [],
   "source": []
  },
  {
   "cell_type": "code",
   "execution_count": null,
   "metadata": {},
   "outputs": [],
   "source": []
  },
  {
   "cell_type": "code",
   "execution_count": null,
   "metadata": {},
   "outputs": [],
   "source": []
  },
  {
   "cell_type": "code",
   "execution_count": null,
   "metadata": {},
   "outputs": [],
   "source": []
  },
  {
   "cell_type": "code",
   "execution_count": null,
   "metadata": {},
   "outputs": [],
   "source": []
  },
  {
   "cell_type": "code",
   "execution_count": null,
   "metadata": {},
   "outputs": [],
   "source": []
  },
  {
   "cell_type": "code",
   "execution_count": null,
   "metadata": {},
   "outputs": [],
   "source": []
  },
  {
   "cell_type": "code",
   "execution_count": null,
   "metadata": {},
   "outputs": [],
   "source": []
  },
  {
   "cell_type": "code",
   "execution_count": null,
   "metadata": {},
   "outputs": [],
   "source": []
  },
  {
   "cell_type": "code",
   "execution_count": null,
   "metadata": {},
   "outputs": [],
   "source": []
  },
  {
   "cell_type": "code",
   "execution_count": null,
   "metadata": {},
   "outputs": [],
   "source": []
  },
  {
   "cell_type": "code",
   "execution_count": null,
   "metadata": {},
   "outputs": [],
   "source": []
  },
  {
   "cell_type": "code",
   "execution_count": null,
   "metadata": {},
   "outputs": [],
   "source": []
  },
  {
   "cell_type": "code",
   "execution_count": null,
   "metadata": {},
   "outputs": [],
   "source": []
  }
 ],
 "metadata": {
  "kernelspec": {
   "display_name": "Python 3",
   "language": "python",
   "name": "python3"
  },
  "language_info": {
   "codemirror_mode": {
    "name": "ipython",
    "version": 3
   },
   "file_extension": ".py",
   "mimetype": "text/x-python",
   "name": "python",
   "nbconvert_exporter": "python",
   "pygments_lexer": "ipython3",
   "version": "3.8.2"
  },
  "latex_envs": {
   "LaTeX_envs_menu_present": true,
   "autoclose": false,
   "autocomplete": true,
   "bibliofile": "biblio.bib",
   "cite_by": "apalike",
   "current_citInitial": 1,
   "eqLabelWithNumbers": true,
   "eqNumInitial": 1,
   "hotkeys": {
    "equation": "Ctrl-E",
    "itemize": "Ctrl-I"
   },
   "labels_anchors": false,
   "latex_user_defs": false,
   "report_style_numbering": false,
   "user_envs_cfg": false
  },
  "varInspector": {
   "cols": {
    "lenName": 16,
    "lenType": 16,
    "lenVar": 40
   },
   "kernels_config": {
    "python": {
     "delete_cmd_postfix": "",
     "delete_cmd_prefix": "del ",
     "library": "var_list.py",
     "varRefreshCmd": "print(var_dic_list())"
    },
    "r": {
     "delete_cmd_postfix": ") ",
     "delete_cmd_prefix": "rm(",
     "library": "var_list.r",
     "varRefreshCmd": "cat(var_dic_list()) "
    }
   },
   "types_to_exclude": [
    "module",
    "function",
    "builtin_function_or_method",
    "instance",
    "_Feature"
   ],
   "window_display": false
  }
 },
 "nbformat": 4,
 "nbformat_minor": 2
}
