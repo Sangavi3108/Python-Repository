{
 "cells": [
  {
   "cell_type": "code",
   "execution_count": null,
   "metadata": {},
   "outputs": [],
   "source": [
    "Numpy, Pandas, Scipy, Matplotlib, Seaborn, Plotly   "
   ]
  },
  {
   "cell_type": "code",
   "execution_count": null,
   "metadata": {},
   "outputs": [],
   "source": [
    "Numpy - Numerical Python\n",
    "Numpy is used for computation and manipulation of 1D and ND Array."
   ]
  },
  {
   "cell_type": "code",
   "execution_count": null,
   "metadata": {},
   "outputs": [],
   "source": [
    "Documented, Image, Audio, Video - Array\n",
    "\n"
   ]
  },
  {
   "cell_type": "code",
   "execution_count": 41,
   "metadata": {
    "ExecuteTime": {
     "end_time": "2021-04-17T13:49:54.575820Z",
     "start_time": "2021-04-17T13:49:54.567205Z"
    }
   },
   "outputs": [
    {
     "name": "stdout",
     "output_type": "stream",
     "text": [
      "136\n"
     ]
    }
   ],
   "source": [
    "import sys\n",
    "lst = list(range(10))\n",
    "# [i*2 for i in lst]\n",
    "print(sys.getsizeof(lst))\n",
    "# list(map(lambda num:num*2, lst))\n"
   ]
  },
  {
   "cell_type": "code",
   "execution_count": 45,
   "metadata": {
    "ExecuteTime": {
     "end_time": "2021-04-17T13:50:32.262263Z",
     "start_time": "2021-04-17T13:50:32.233094Z"
    }
   },
   "outputs": [
    {
     "name": "stdout",
     "output_type": "stream",
     "text": [
      "[ 0  2  4  6  8 10 12 14 16 18]\n"
     ]
    },
    {
     "data": {
      "text/plain": [
       "184"
      ]
     },
     "execution_count": 45,
     "metadata": {},
     "output_type": "execute_result"
    }
   ],
   "source": [
    "import numpy as np\n",
    "arr = np.array(lst)\n",
    "print(arr*2)\n",
    "sys.getsizeof(arr)\n",
    "\n"
   ]
  },
  {
   "cell_type": "code",
   "execution_count": null,
   "metadata": {},
   "outputs": [],
   "source": [
    "int -> float -> complex -> str"
   ]
  },
  {
   "cell_type": "code",
   "execution_count": 48,
   "metadata": {
    "ExecuteTime": {
     "end_time": "2021-04-17T13:52:58.975581Z",
     "start_time": "2021-04-17T13:52:58.966978Z"
    }
   },
   "outputs": [
    {
     "name": "stdout",
     "output_type": "stream",
     "text": [
      "['10' '20' '30' '40.5' '(60+70j)' 'A']\n"
     ]
    }
   ],
   "source": [
    "# Array is a collection of Homogeneous data\n",
    "arr = np.array([10,20,30,40.50, 60+70j, 'A'])\n",
    "print(arr)"
   ]
  },
  {
   "cell_type": "code",
   "execution_count": 50,
   "metadata": {
    "ExecuteTime": {
     "end_time": "2021-04-17T13:55:46.558701Z",
     "start_time": "2021-04-17T13:55:43.740477Z"
    }
   },
   "outputs": [
    {
     "name": "stdout",
     "output_type": "stream",
     "text": [
      "Requirement already satisfied: numpy in /Library/Frameworks/Python.framework/Versions/3.8/lib/python3.8/site-packages (1.20.1)\n",
      "\u001b[33mWARNING: You are using pip version 19.2.3, however version 21.0.1 is available.\n",
      "You should consider upgrading via the 'pip install --upgrade pip' command.\u001b[0m\n",
      "Note: you may need to restart the kernel to use updated packages.\n"
     ]
    }
   ],
   "source": [
    "# Creating an array\n",
    "# !pip install numpy\n",
    "# %pip install numpy"
   ]
  },
  {
   "cell_type": "code",
   "execution_count": 52,
   "metadata": {
    "ExecuteTime": {
     "end_time": "2021-04-17T13:56:14.990521Z",
     "start_time": "2021-04-17T13:56:14.980167Z"
    }
   },
   "outputs": [
    {
     "name": "stdout",
     "output_type": "stream",
     "text": [
      "[10 20 30 40] <class 'numpy.ndarray'>\n"
     ]
    }
   ],
   "source": [
    "import numpy as np\n",
    "arr = np.array([10,20,30,40])\n",
    "print(arr, type(arr))"
   ]
  },
  {
   "cell_type": "code",
   "execution_count": 56,
   "metadata": {
    "ExecuteTime": {
     "end_time": "2021-04-17T13:58:25.064868Z",
     "start_time": "2021-04-17T13:58:25.051728Z"
    }
   },
   "outputs": [
    {
     "name": "stdout",
     "output_type": "stream",
     "text": [
      "4\n",
      "(4,)\n",
      "1\n",
      "8\n"
     ]
    }
   ],
   "source": [
    "# Checkig size, shape, dimension, element size\n",
    "print(arr.size)\n",
    "\n",
    "print(arr.shape)\n",
    "\n",
    "print(arr.ndim)\n",
    "\n",
    "print(arr.itemsize)"
   ]
  },
  {
   "cell_type": "code",
   "execution_count": 58,
   "metadata": {
    "ExecuteTime": {
     "end_time": "2021-04-17T14:00:50.955936Z",
     "start_time": "2021-04-17T14:00:50.944499Z"
    }
   },
   "outputs": [
    {
     "name": "stdout",
     "output_type": "stream",
     "text": [
      "[[1 2 3 4]\n",
      " [5 6 7 8]\n",
      " [9 6 3 0]]\n",
      "12\n",
      "(3, 4)\n",
      "2\n"
     ]
    }
   ],
   "source": [
    "# Creating a 2D array\n",
    "arr = np.array(((1,2,3,4), (5,6,7,8), (9,6,3,0)))\n",
    "print(arr)\n",
    "\n",
    "print(arr.size)\n",
    "print(arr.shape)\n",
    "print(arr.ndim)\n"
   ]
  },
  {
   "cell_type": "code",
   "execution_count": 62,
   "metadata": {
    "ExecuteTime": {
     "end_time": "2021-04-17T14:02:55.049701Z",
     "start_time": "2021-04-17T14:02:55.040817Z"
    }
   },
   "outputs": [
    {
     "name": "stdout",
     "output_type": "stream",
     "text": [
      "[0 1 2 3 4 5 6 7 8 9]\n",
      "[0.  0.5 1.  1.5 2.  2.5 3.  3.5 4.  4.5 5.  5.5 6.  6.5 7.  7.5 8.  8.5\n",
      " 9.  9.5]\n",
      "[ 5  7  9 11 13 15 17 19 21 23]\n"
     ]
    }
   ],
   "source": [
    "# Creating an array using some builtin function in numpy\n",
    "arr = np.arange(0, 10, 1)\n",
    "print(arr)\n",
    "\n",
    "arr = np.arange(0, 10, 0.5)\n",
    "print(arr)\n",
    "\n",
    "\n",
    "arr = np.arange(5, 25, 2)\n",
    "print(arr)\n"
   ]
  },
  {
   "cell_type": "code",
   "execution_count": 64,
   "metadata": {
    "ExecuteTime": {
     "end_time": "2021-04-17T14:04:11.548502Z",
     "start_time": "2021-04-17T14:04:11.535733Z"
    }
   },
   "outputs": [
    {
     "name": "stdout",
     "output_type": "stream",
     "text": [
      "[0. 1. 2. 3. 4. 5. 6. 7. 8. 9.]\n",
      "[0.         0.09090909 0.18181818 0.27272727 0.36363636 0.45454545\n",
      " 0.54545455 0.63636364 0.72727273 0.81818182 0.90909091 1.\n",
      " 1.09090909 1.18181818 1.27272727 1.36363636 1.45454545 1.54545455\n",
      " 1.63636364 1.72727273 1.81818182 1.90909091 2.         2.09090909\n",
      " 2.18181818 2.27272727 2.36363636 2.45454545 2.54545455 2.63636364\n",
      " 2.72727273 2.81818182 2.90909091 3.         3.09090909 3.18181818\n",
      " 3.27272727 3.36363636 3.45454545 3.54545455 3.63636364 3.72727273\n",
      " 3.81818182 3.90909091 4.         4.09090909 4.18181818 4.27272727\n",
      " 4.36363636 4.45454545 4.54545455 4.63636364 4.72727273 4.81818182\n",
      " 4.90909091 5.         5.09090909 5.18181818 5.27272727 5.36363636\n",
      " 5.45454545 5.54545455 5.63636364 5.72727273 5.81818182 5.90909091\n",
      " 6.         6.09090909 6.18181818 6.27272727 6.36363636 6.45454545\n",
      " 6.54545455 6.63636364 6.72727273 6.81818182 6.90909091 7.\n",
      " 7.09090909 7.18181818 7.27272727 7.36363636 7.45454545 7.54545455\n",
      " 7.63636364 7.72727273 7.81818182 7.90909091 8.         8.09090909\n",
      " 8.18181818 8.27272727 8.36363636 8.45454545 8.54545455 8.63636364\n",
      " 8.72727273 8.81818182 8.90909091 9.        ]\n"
     ]
    }
   ],
   "source": [
    "arr = np.linspace(0, 9, 10)\n",
    "print(arr)\n",
    "\n",
    "arr = np.linspace(0, 9, 100)\n",
    "print(arr)"
   ]
  },
  {
   "cell_type": "code",
   "execution_count": 66,
   "metadata": {
    "ExecuteTime": {
     "end_time": "2021-04-17T14:08:18.865769Z",
     "start_time": "2021-04-17T14:08:18.853128Z"
    }
   },
   "outputs": [
    {
     "name": "stdout",
     "output_type": "stream",
     "text": [
      "[[8. 8. 8. 8.]\n",
      " [8. 8. 8. 8.]\n",
      " [8. 8. 8. 8.]]\n"
     ]
    }
   ],
   "source": [
    "arr = np.zeros((3,4))\n",
    "print(arr + 8)"
   ]
  },
  {
   "cell_type": "code",
   "execution_count": 67,
   "metadata": {
    "ExecuteTime": {
     "end_time": "2021-04-17T14:08:57.087206Z",
     "start_time": "2021-04-17T14:08:57.078453Z"
    }
   },
   "outputs": [
    {
     "name": "stdout",
     "output_type": "stream",
     "text": [
      "[[8. 8. 8. 8.]\n",
      " [8. 8. 8. 8.]\n",
      " [8. 8. 8. 8.]]\n"
     ]
    }
   ],
   "source": [
    "arr = np.ones((3,4))\n",
    "print(arr * 8)"
   ]
  },
  {
   "cell_type": "code",
   "execution_count": 69,
   "metadata": {
    "ExecuteTime": {
     "end_time": "2021-04-17T14:11:05.714591Z",
     "start_time": "2021-04-17T14:11:05.691247Z"
    }
   },
   "outputs": [
    {
     "data": {
      "text/plain": [
       "array([[8., 0., 0., 0., 0.],\n",
       "       [0., 8., 0., 0., 0.],\n",
       "       [0., 0., 8., 0., 0.],\n",
       "       [0., 0., 0., 8., 0.],\n",
       "       [0., 0., 0., 0., 8.]])"
      ]
     },
     "execution_count": 69,
     "metadata": {},
     "output_type": "execute_result"
    }
   ],
   "source": [
    "# Identity Matrix - Same no of rows and column - \n",
    "arr = np.eye(5)\n",
    "arr * 8"
   ]
  },
  {
   "cell_type": "code",
   "execution_count": 70,
   "metadata": {
    "ExecuteTime": {
     "end_time": "2021-04-17T14:11:53.056532Z",
     "start_time": "2021-04-17T14:11:53.044870Z"
    }
   },
   "outputs": [
    {
     "data": {
      "text/plain": [
       "array([[2.00000000e+000, 2.00000000e+000, 1.08694442e-322,\n",
       "        0.00000000e+000, 0.00000000e+000, 5.02034658e+175],\n",
       "       [9.39262274e+165, 4.42514665e-062, 2.62396587e+179,\n",
       "        2.33859552e-052, 1.10796057e-047, 3.83819517e+151],\n",
       "       [3.98257296e+246, 4.50622044e-144, 3.80985069e+180,\n",
       "        3.94255238e+180, 5.84968535e+199, 7.49874326e+247],\n",
       "       [2.21537981e-062, 6.56210623e-091, 7.40906721e-038,\n",
       "        5.10407683e-066, 2.25468612e+180, 5.49810101e-143],\n",
       "       [1.26054259e-076, 2.54867596e-028, 5.87795372e-062,\n",
       "        4.50615870e-144, 7.79952704e-143, 4.86670253e-051]])"
      ]
     },
     "execution_count": 70,
     "metadata": {},
     "output_type": "execute_result"
    }
   ],
   "source": [
    "# Empty Matrix\n",
    "\n",
    "arr = np.empty((5,6))\n",
    "arr\n"
   ]
  },
  {
   "cell_type": "code",
   "execution_count": 96,
   "metadata": {
    "ExecuteTime": {
     "end_time": "2021-04-17T14:25:34.809174Z",
     "start_time": "2021-04-17T14:25:34.797345Z"
    }
   },
   "outputs": [
    {
     "name": "stdout",
     "output_type": "stream",
     "text": [
      "[[25 26 27 28 29 30]\n",
      " [31 32 33 34 35 36]\n",
      " [37 38 39 40 41 42]\n",
      " [43 44 45 46 47 48]\n",
      " [49 50 51 52 53 54]]\n",
      "[25 26 27 28 29 30 31 32 33 34 35 36 37 38 39 40 41 42 43 44 45 46 47 48\n",
      " 49 50 51 52 53 54]\n"
     ]
    }
   ],
   "source": [
    "# Changing the shape of an array\n",
    "arr = np.arange(25, 55)\n",
    "# arr\n",
    "\n",
    "# reshape() methods reshapes an array\n",
    "# arr2 = arr.reshape(5,6)\n",
    "# print(arr2)\n",
    "# print()\n",
    "# print(arr)\n",
    "\n",
    "# arr3 = arr.reshape(2,3,5)\n",
    "# arr3\n",
    "\n",
    "# reshaping an array using shape attribute\n",
    "# arr.shape = 2,3,5\n",
    "# print(arr)\n",
    "\n",
    "\n",
    "# arr4 = arr.reshape(6, -10)\n",
    "# print(arr4)\n",
    "\n",
    "# arr.shape = 2,-1, 5\n",
    "# arr\n",
    "\n",
    "\n",
    "# Transposing an array\n",
    "arr = arr.reshape(5,6)\n",
    "# print(arr)\n",
    "# print()\n",
    "# print(arr.T)\n",
    "# print()\n",
    "# print(np.transpose(arr))\n",
    "# print()\n",
    "# print(arr)\n",
    "\n",
    "# flattenning an array\n",
    "print(arr)\n",
    "print(arr.flatten())\n"
   ]
  },
  {
   "cell_type": "code",
   "execution_count": 107,
   "metadata": {
    "ExecuteTime": {
     "end_time": "2021-04-17T14:31:32.988080Z",
     "start_time": "2021-04-17T14:31:32.979438Z"
    }
   },
   "outputs": [],
   "source": [
    "# Basic Operations on array\n",
    "arr1 = np.array([2,3,4,5,6])\n",
    "arr2 = np.array([11,22,33,44,55])"
   ]
  },
  {
   "cell_type": "code",
   "execution_count": 108,
   "metadata": {
    "ExecuteTime": {
     "end_time": "2021-04-17T14:31:33.933934Z",
     "start_time": "2021-04-17T14:31:33.922223Z"
    }
   },
   "outputs": [
    {
     "name": "stdout",
     "output_type": "stream",
     "text": [
      "[13 25 37 49 61]\n",
      "[ 9 19 29 39 49]\n",
      "[ 22  66 132 220 330]\n",
      "[5.5        7.33333333 8.25       8.8        9.16666667]\n",
      "[5 7 8 8 9]\n",
      "[1 1 1 4 1]\n",
      "[        121       10648     1185921   164916224 27680640625]\n"
     ]
    }
   ],
   "source": [
    "# Arithemtic\n",
    "print(arr1 + arr2)\n",
    "\n",
    "print(arr2 - arr1)\n",
    "\n",
    "print(arr1 * arr2)\n",
    "\n",
    "print(arr2 / arr1)\n",
    "\n",
    "print(arr2 // arr1)\n",
    "\n",
    "print(arr2 % arr1)\n",
    "\n",
    "print(arr2 ** arr1)\n"
   ]
  },
  {
   "cell_type": "code",
   "execution_count": 120,
   "metadata": {
    "ExecuteTime": {
     "end_time": "2021-04-17T14:35:44.481652Z",
     "start_time": "2021-04-17T14:35:44.475335Z"
    }
   },
   "outputs": [
    {
     "name": "stdout",
     "output_type": "stream",
     "text": [
      "[[11 42]\n",
      " [33 44]]\n"
     ]
    }
   ],
   "source": [
    "arr1 = np.array([[1,22],[3,4]])\n",
    "arr2 = np.array([[10,20],[30,40]])\n",
    "print(arr1 + arr2)"
   ]
  },
  {
   "cell_type": "code",
   "execution_count": 117,
   "metadata": {
    "ExecuteTime": {
     "end_time": "2021-04-17T14:34:10.444300Z",
     "start_time": "2021-04-17T14:34:10.433900Z"
    }
   },
   "outputs": [
    {
     "data": {
      "text/plain": [
       "array([[False,  True],\n",
       "       [False, False]])"
      ]
     },
     "execution_count": 117,
     "metadata": {},
     "output_type": "execute_result"
    }
   ],
   "source": [
    "arr1 > arr2"
   ]
  },
  {
   "cell_type": "code",
   "execution_count": null,
   "metadata": {},
   "outputs": [],
   "source": [
    "# Product\n",
    "# Scalar -  \n",
    "# Vector"
   ]
  },
  {
   "cell_type": "code",
   "execution_count": 118,
   "metadata": {
    "ExecuteTime": {
     "end_time": "2021-04-17T14:35:23.333447Z",
     "start_time": "2021-04-17T14:35:23.327122Z"
    }
   },
   "outputs": [
    {
     "name": "stdout",
     "output_type": "stream",
     "text": [
      "[[ 10 440]\n",
      " [ 90 160]]\n"
     ]
    }
   ],
   "source": [
    "print(arr1 * arr2)"
   ]
  },
  {
   "cell_type": "code",
   "execution_count": 122,
   "metadata": {
    "ExecuteTime": {
     "end_time": "2021-04-17T14:37:05.856237Z",
     "start_time": "2021-04-17T14:37:05.842079Z"
    }
   },
   "outputs": [
    {
     "name": "stdout",
     "output_type": "stream",
     "text": [
      "[[670 900]\n",
      " [150 220]]\n"
     ]
    },
    {
     "data": {
      "text/plain": [
       "array([[ 1, 22],\n",
       "       [ 3,  4]])"
      ]
     },
     "execution_count": 122,
     "metadata": {},
     "output_type": "execute_result"
    }
   ],
   "source": [
    "# Vector product - No of columns in first arr and noof ros in second arr should be same\n",
    "\n",
    "print(arr1.dot(arr2))\n",
    "# [[ 1, 22],\n",
    "# [ 3,  4]]\n",
    "\n",
    "# [[10, 20],\n",
    "# [30, 40]]\n",
    "\n",
    "# [[670, 900],\n",
    "# [150, 220]]"
   ]
  },
  {
   "cell_type": "code",
   "execution_count": 131,
   "metadata": {
    "ExecuteTime": {
     "end_time": "2021-04-17T14:44:15.739859Z",
     "start_time": "2021-04-17T14:44:15.725688Z"
    }
   },
   "outputs": [
    {
     "name": "stdout",
     "output_type": "stream",
     "text": [
      "[[[[ 70  73]\n",
      "   [ 88  91]]\n",
      "\n",
      "  [[268 280]\n",
      "   [340 352]]]\n",
      "\n",
      "\n",
      " [[[466 487]\n",
      "   [592 613]]\n",
      "\n",
      "  [[664 694]\n",
      "   [844 874]]]]\n"
     ]
    }
   ],
   "source": [
    "arr1 = np.arange(12).reshape(2,2,3)\n",
    "# print(arr1)\n",
    "# print()\n",
    "arr2 = np.arange(20,32).reshape(2,3,2)\n",
    "# print(arr2)\n",
    "# print()\n",
    "print(np.dot(arr1, arr2))"
   ]
  },
  {
   "cell_type": "code",
   "execution_count": null,
   "metadata": {},
   "outputs": [],
   "source": [
    "[[[ 0  1  2]\n",
    "  [ 3  4  5]]\n",
    "\n",
    " [[ 6  7  8]\n",
    "  [ 9 10 11]]]\n",
    "\n",
    "[[[20 21]\n",
    "  [22 23]\n",
    "  [24 25]]\n",
    "\n",
    " [[26 27]\n",
    "  [28 29]\n",
    "  [30 31]]]\n",
    "\n",
    "\n",
    "[[[[ 70  73]\n",
    "   [ 88  91]]\n",
    "\n",
    "  [[268 280]\n",
    "   [340 352]]]\n",
    "\n",
    "\n",
    " [[[466 487]\n",
    "   [592 613]]\n",
    "\n",
    "  [[664 694]\n",
    "   [844 874]]]]"
   ]
  },
  {
   "cell_type": "code",
   "execution_count": 134,
   "metadata": {
    "ExecuteTime": {
     "end_time": "2021-04-17T14:53:01.796876Z",
     "start_time": "2021-04-17T14:53:01.782394Z"
    }
   },
   "outputs": [
    {
     "data": {
      "text/plain": [
       "array([[[ 4,  5,  6],\n",
       "        [ 7,  8,  9]],\n",
       "\n",
       "       [[10, 11, 12],\n",
       "        [13, 14, 15]]])"
      ]
     },
     "execution_count": 134,
     "metadata": {},
     "output_type": "execute_result"
    }
   ],
   "source": [
    "# Compound Assignment \n",
    "arr1 += 2\n",
    "arr1"
   ]
  },
  {
   "cell_type": "code",
   "execution_count": 138,
   "metadata": {
    "ExecuteTime": {
     "end_time": "2021-04-17T14:54:02.569148Z",
     "start_time": "2021-04-17T14:54:02.560025Z"
    }
   },
   "outputs": [
    {
     "data": {
      "text/plain": [
       "4"
      ]
     },
     "execution_count": 138,
     "metadata": {},
     "output_type": "execute_result"
    }
   ],
   "source": [
    "# Aggregate Function - sum, max,min\n",
    "arr1\n",
    "np.sum(arr1)\n",
    "np.max(arr1)\n",
    "np.min(arr1)\n",
    "\n"
   ]
  },
  {
   "cell_type": "code",
   "execution_count": 139,
   "metadata": {
    "ExecuteTime": {
     "end_time": "2021-04-17T14:54:30.195597Z",
     "start_time": "2021-04-17T14:54:30.184434Z"
    }
   },
   "outputs": [
    {
     "data": {
      "text/plain": [
       "array([[25, 26, 27, 28, 29, 30],\n",
       "       [31, 32, 33, 34, 35, 36],\n",
       "       [37, 38, 39, 40, 41, 42],\n",
       "       [43, 44, 45, 46, 47, 48],\n",
       "       [49, 50, 51, 52, 53, 54]])"
      ]
     },
     "execution_count": 139,
     "metadata": {},
     "output_type": "execute_result"
    }
   ],
   "source": [
    "arr1 = np.arange(25, 55).reshape(5, 6)\n",
    "arr1"
   ]
  },
  {
   "cell_type": "code",
   "execution_count": 140,
   "metadata": {
    "ExecuteTime": {
     "end_time": "2021-04-17T14:54:54.899122Z",
     "start_time": "2021-04-17T14:54:54.886460Z"
    }
   },
   "outputs": [
    {
     "data": {
      "text/plain": [
       "array([185, 190, 195, 200, 205, 210])"
      ]
     },
     "execution_count": 140,
     "metadata": {},
     "output_type": "execute_result"
    }
   ],
   "source": [
    "np.sum(arr1, axis = 0)  # axis = 0 => rows"
   ]
  },
  {
   "cell_type": "code",
   "execution_count": 142,
   "metadata": {
    "ExecuteTime": {
     "end_time": "2021-04-17T14:55:38.513415Z",
     "start_time": "2021-04-17T14:55:38.503127Z"
    }
   },
   "outputs": [
    {
     "data": {
      "text/plain": [
       "array([49, 50, 51, 52, 53, 54])"
      ]
     },
     "execution_count": 142,
     "metadata": {},
     "output_type": "execute_result"
    }
   ],
   "source": [
    "np.max(arr1, axis = 0)"
   ]
  },
  {
   "cell_type": "code",
   "execution_count": 141,
   "metadata": {
    "ExecuteTime": {
     "end_time": "2021-04-17T14:55:36.935933Z",
     "start_time": "2021-04-17T14:55:36.928619Z"
    }
   },
   "outputs": [
    {
     "data": {
      "text/plain": [
       "array([25, 26, 27, 28, 29, 30])"
      ]
     },
     "execution_count": 141,
     "metadata": {},
     "output_type": "execute_result"
    }
   ],
   "source": [
    "np.min(arr1, axis = 0)"
   ]
  },
  {
   "cell_type": "code",
   "execution_count": 143,
   "metadata": {
    "ExecuteTime": {
     "end_time": "2021-04-17T14:56:11.851267Z",
     "start_time": "2021-04-17T14:56:11.838476Z"
    }
   },
   "outputs": [
    {
     "data": {
      "text/plain": [
       "array([165, 201, 237, 273, 309])"
      ]
     },
     "execution_count": 143,
     "metadata": {},
     "output_type": "execute_result"
    }
   ],
   "source": [
    "np.sum(arr1, axis = 1)  # axis = 1 => cols"
   ]
  },
  {
   "cell_type": "code",
   "execution_count": 144,
   "metadata": {
    "ExecuteTime": {
     "end_time": "2021-04-17T14:56:12.812088Z",
     "start_time": "2021-04-17T14:56:12.798893Z"
    }
   },
   "outputs": [
    {
     "data": {
      "text/plain": [
       "array([30, 36, 42, 48, 54])"
      ]
     },
     "execution_count": 144,
     "metadata": {},
     "output_type": "execute_result"
    }
   ],
   "source": [
    "np.max(arr1, axis = 1)"
   ]
  },
  {
   "cell_type": "code",
   "execution_count": 145,
   "metadata": {
    "ExecuteTime": {
     "end_time": "2021-04-17T14:56:13.538377Z",
     "start_time": "2021-04-17T14:56:13.528752Z"
    }
   },
   "outputs": [
    {
     "data": {
      "text/plain": [
       "array([30, 36, 42, 48, 54])"
      ]
     },
     "execution_count": 145,
     "metadata": {},
     "output_type": "execute_result"
    }
   ],
   "source": [
    "np.max(arr1, axis = 1)"
   ]
  },
  {
   "cell_type": "markdown",
   "metadata": {},
   "source": [
    "# Indexing & Slicing"
   ]
  },
  {
   "cell_type": "code",
   "execution_count": 152,
   "metadata": {
    "ExecuteTime": {
     "end_time": "2021-04-17T15:05:52.676448Z",
     "start_time": "2021-04-17T15:05:52.667847Z"
    }
   },
   "outputs": [
    {
     "data": {
      "text/plain": [
       "array([ 10, 100, 100, 100])"
      ]
     },
     "execution_count": 152,
     "metadata": {},
     "output_type": "execute_result"
    }
   ],
   "source": [
    "arr1 = np.array([10,20,30,40])\n",
    "# print(arr1[0])\n",
    "# print(arr1[-1])\n",
    "\n",
    "\n",
    "arr1[1:4] = 100\n",
    "arr1"
   ]
  },
  {
   "cell_type": "code",
   "execution_count": 162,
   "metadata": {
    "ExecuteTime": {
     "end_time": "2021-04-17T15:08:59.134348Z",
     "start_time": "2021-04-17T15:08:59.122314Z"
    }
   },
   "outputs": [
    {
     "name": "stdout",
     "output_type": "stream",
     "text": [
      "33\n",
      "33\n"
     ]
    }
   ],
   "source": [
    "arr2 = np.arange(25,55).reshape(5,6)\n",
    "# print(arr2)\n",
    "\n",
    "# print(arr2[1][2])\n",
    "# print(arr2[1,2])\n",
    "\n",
    "print(arr2[1][2])\n",
    "print(arr2[1,2])"
   ]
  },
  {
   "cell_type": "code",
   "execution_count": 169,
   "metadata": {
    "ExecuteTime": {
     "end_time": "2021-04-17T15:12:11.578520Z",
     "start_time": "2021-04-17T15:12:11.570559Z"
    }
   },
   "outputs": [
    {
     "name": "stdout",
     "output_type": "stream",
     "text": [
      "[[33 34]\n",
      " [39 40]]\n"
     ]
    }
   ],
   "source": [
    "# Slicing\n",
    "# print(arr2) \n",
    "print(arr2[1:3,2:4])"
   ]
  },
  {
   "cell_type": "code",
   "execution_count": 170,
   "metadata": {
    "ExecuteTime": {
     "end_time": "2021-04-17T15:12:21.700828Z",
     "start_time": "2021-04-17T15:12:21.692780Z"
    }
   },
   "outputs": [
    {
     "data": {
      "text/plain": [
       "array([[25, 26, 27, 28, 29, 30],\n",
       "       [31, 32, 33, 34, 35, 36],\n",
       "       [37, 38, 39, 40, 41, 42],\n",
       "       [43, 44, 45, 46, 47, 48],\n",
       "       [49, 50, 51, 52, 53, 54]])"
      ]
     },
     "execution_count": 170,
     "metadata": {},
     "output_type": "execute_result"
    }
   ],
   "source": [
    "arr2"
   ]
  },
  {
   "cell_type": "code",
   "execution_count": 172,
   "metadata": {
    "ExecuteTime": {
     "end_time": "2021-04-17T15:14:10.768245Z",
     "start_time": "2021-04-17T15:14:10.747969Z"
    }
   },
   "outputs": [
    {
     "data": {
      "text/plain": [
       "array([[40, 41, 42],\n",
       "       [46, 47, 48],\n",
       "       [52, 53, 54]])"
      ]
     },
     "execution_count": 172,
     "metadata": {},
     "output_type": "execute_result"
    }
   ],
   "source": [
    "arr2[2:, 3:]"
   ]
  },
  {
   "cell_type": "code",
   "execution_count": null,
   "metadata": {},
   "outputs": [],
   "source": [
    "32, 34\n",
    "44, 46"
   ]
  },
  {
   "cell_type": "code",
   "execution_count": 175,
   "metadata": {
    "ExecuteTime": {
     "end_time": "2021-04-17T15:16:38.824100Z",
     "start_time": "2021-04-17T15:16:38.812717Z"
    }
   },
   "outputs": [
    {
     "data": {
      "text/plain": [
       "array([[32, 34],\n",
       "       [44, 46]])"
      ]
     },
     "execution_count": 175,
     "metadata": {},
     "output_type": "execute_result"
    }
   ],
   "source": [
    "arr2[1:4:2, 1:4:2]"
   ]
  },
  {
   "cell_type": "code",
   "execution_count": 183,
   "metadata": {
    "ExecuteTime": {
     "end_time": "2021-04-17T15:21:25.582725Z",
     "start_time": "2021-04-17T15:21:25.571721Z"
    }
   },
   "outputs": [
    {
     "data": {
      "text/plain": [
       "array([['Banana', 'Mango', 'Guava', 'Avacado'],\n",
       "       ['Papaya', 'Jack fruit', 'Plum', 'Strawberry'],\n",
       "       ['Apricot', 'Apple', 'Blue berry', 'Black berry']], dtype='<U11')"
      ]
     },
     "execution_count": 183,
     "metadata": {},
     "output_type": "execute_result"
    }
   ],
   "source": [
    "fruit = np.array([[\"Banana\",\"Mango\",\"Guava\",\"Avacado\"],\n",
    "            [\"Papaya\",\"Jack fruit\",\"Plum\",\"Strawberry\"],\n",
    "            [\"Apricot\",\"Apple\",\"Blue berry\",\"Black berry\"]])\n",
    "fruit"
   ]
  },
  {
   "cell_type": "code",
   "execution_count": 186,
   "metadata": {
    "ExecuteTime": {
     "end_time": "2021-04-17T15:22:02.032499Z",
     "start_time": "2021-04-17T15:22:02.014607Z"
    }
   },
   "outputs": [
    {
     "data": {
      "text/plain": [
       "array([['Watermelon', 'Mango', 'Guava', 'Avacado'],\n",
       "       ['Papaya', 'Muskmelon', 'Plum', 'Potato'],\n",
       "       ['Apricot', 'Apple', 'Tomato', 'Black berry']], dtype='<U11')"
      ]
     },
     "execution_count": 186,
     "metadata": {},
     "output_type": "execute_result"
    }
   ],
   "source": [
    "row_ind = [0, 1, 1, 2]\n",
    "col_ind = [0, 1, 3, 2]\n",
    "fruit[row_ind, col_ind] = ['Watermelon', 'Muskmelon', 'Potato', 'Tomato']\n",
    "fruit"
   ]
  },
  {
   "cell_type": "code",
   "execution_count": null,
   "metadata": {},
   "outputs": [],
   "source": []
  },
  {
   "cell_type": "code",
   "execution_count": null,
   "metadata": {},
   "outputs": [],
   "source": []
  },
  {
   "cell_type": "code",
   "execution_count": null,
   "metadata": {},
   "outputs": [],
   "source": []
  },
  {
   "cell_type": "code",
   "execution_count": null,
   "metadata": {},
   "outputs": [],
   "source": []
  },
  {
   "cell_type": "code",
   "execution_count": null,
   "metadata": {},
   "outputs": [],
   "source": []
  },
  {
   "cell_type": "code",
   "execution_count": null,
   "metadata": {},
   "outputs": [],
   "source": []
  },
  {
   "cell_type": "code",
   "execution_count": null,
   "metadata": {},
   "outputs": [],
   "source": []
  },
  {
   "cell_type": "code",
   "execution_count": null,
   "metadata": {},
   "outputs": [],
   "source": []
  },
  {
   "cell_type": "code",
   "execution_count": null,
   "metadata": {},
   "outputs": [],
   "source": []
  },
  {
   "cell_type": "code",
   "execution_count": null,
   "metadata": {},
   "outputs": [],
   "source": []
  },
  {
   "cell_type": "code",
   "execution_count": null,
   "metadata": {},
   "outputs": [],
   "source": []
  },
  {
   "cell_type": "code",
   "execution_count": null,
   "metadata": {},
   "outputs": [],
   "source": []
  },
  {
   "cell_type": "code",
   "execution_count": null,
   "metadata": {},
   "outputs": [],
   "source": []
  },
  {
   "cell_type": "code",
   "execution_count": null,
   "metadata": {},
   "outputs": [],
   "source": []
  },
  {
   "cell_type": "code",
   "execution_count": null,
   "metadata": {},
   "outputs": [],
   "source": []
  },
  {
   "cell_type": "code",
   "execution_count": null,
   "metadata": {},
   "outputs": [],
   "source": []
  },
  {
   "cell_type": "code",
   "execution_count": null,
   "metadata": {},
   "outputs": [],
   "source": []
  },
  {
   "cell_type": "code",
   "execution_count": null,
   "metadata": {},
   "outputs": [],
   "source": []
  },
  {
   "cell_type": "code",
   "execution_count": null,
   "metadata": {},
   "outputs": [],
   "source": []
  },
  {
   "cell_type": "code",
   "execution_count": null,
   "metadata": {},
   "outputs": [],
   "source": []
  },
  {
   "cell_type": "code",
   "execution_count": null,
   "metadata": {},
   "outputs": [],
   "source": []
  },
  {
   "cell_type": "code",
   "execution_count": null,
   "metadata": {},
   "outputs": [],
   "source": []
  },
  {
   "cell_type": "code",
   "execution_count": null,
   "metadata": {},
   "outputs": [],
   "source": []
  },
  {
   "cell_type": "code",
   "execution_count": null,
   "metadata": {},
   "outputs": [],
   "source": []
  },
  {
   "cell_type": "code",
   "execution_count": null,
   "metadata": {},
   "outputs": [],
   "source": []
  },
  {
   "cell_type": "code",
   "execution_count": null,
   "metadata": {},
   "outputs": [],
   "source": []
  },
  {
   "cell_type": "code",
   "execution_count": null,
   "metadata": {},
   "outputs": [],
   "source": []
  },
  {
   "cell_type": "code",
   "execution_count": null,
   "metadata": {},
   "outputs": [],
   "source": []
  },
  {
   "cell_type": "code",
   "execution_count": null,
   "metadata": {},
   "outputs": [],
   "source": []
  },
  {
   "cell_type": "code",
   "execution_count": null,
   "metadata": {},
   "outputs": [],
   "source": []
  },
  {
   "cell_type": "code",
   "execution_count": null,
   "metadata": {},
   "outputs": [],
   "source": []
  },
  {
   "cell_type": "code",
   "execution_count": null,
   "metadata": {},
   "outputs": [],
   "source": []
  },
  {
   "cell_type": "code",
   "execution_count": null,
   "metadata": {},
   "outputs": [],
   "source": []
  }
 ],
 "metadata": {
  "kernelspec": {
   "display_name": "Python 3",
   "language": "python",
   "name": "python3"
  },
  "language_info": {
   "codemirror_mode": {
    "name": "ipython",
    "version": 3
   },
   "file_extension": ".py",
   "mimetype": "text/x-python",
   "name": "python",
   "nbconvert_exporter": "python",
   "pygments_lexer": "ipython3",
   "version": "3.8.2"
  },
  "latex_envs": {
   "LaTeX_envs_menu_present": true,
   "autoclose": false,
   "autocomplete": true,
   "bibliofile": "biblio.bib",
   "cite_by": "apalike",
   "current_citInitial": 1,
   "eqLabelWithNumbers": true,
   "eqNumInitial": 1,
   "hotkeys": {
    "equation": "Ctrl-E",
    "itemize": "Ctrl-I"
   },
   "labels_anchors": false,
   "latex_user_defs": false,
   "report_style_numbering": false,
   "user_envs_cfg": false
  },
  "varInspector": {
   "cols": {
    "lenName": 16,
    "lenType": 16,
    "lenVar": 40
   },
   "kernels_config": {
    "python": {
     "delete_cmd_postfix": "",
     "delete_cmd_prefix": "del ",
     "library": "var_list.py",
     "varRefreshCmd": "print(var_dic_list())"
    },
    "r": {
     "delete_cmd_postfix": ") ",
     "delete_cmd_prefix": "rm(",
     "library": "var_list.r",
     "varRefreshCmd": "cat(var_dic_list()) "
    }
   },
   "types_to_exclude": [
    "module",
    "function",
    "builtin_function_or_method",
    "instance",
    "_Feature"
   ],
   "window_display": false
  }
 },
 "nbformat": 4,
 "nbformat_minor": 2
}
