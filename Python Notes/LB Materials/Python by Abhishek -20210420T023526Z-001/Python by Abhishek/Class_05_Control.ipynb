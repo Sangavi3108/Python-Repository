{
 "cells": [
  {
   "cell_type": "code",
   "execution_count": null,
   "metadata": {},
   "outputs": [],
   "source": [
    "# Conditional Statement in Python if, elif, else in Python\n",
    "# Loop control in Python\n",
    "# for and while in Python\n",
    "# break and continue\n",
    "# pass in Python\n",
    "# 3-4 practice problem on loop"
   ]
  },
  {
   "cell_type": "code",
   "execution_count": 3,
   "metadata": {
    "ExecuteTime": {
     "end_time": "2021-03-13T03:38:09.389053Z",
     "start_time": "2021-03-13T03:38:09.368820Z"
    }
   },
   "outputs": [
    {
     "data": {
      "text/plain": [
       "'Class'"
      ]
     },
     "execution_count": 3,
     "metadata": {},
     "output_type": "execute_result"
    }
   ],
   "source": [
    "'Python' and 'Class'"
   ]
  },
  {
   "cell_type": "code",
   "execution_count": 4,
   "metadata": {
    "ExecuteTime": {
     "end_time": "2021-03-13T03:38:41.408931Z",
     "start_time": "2021-03-13T03:38:41.399522Z"
    }
   },
   "outputs": [
    {
     "data": {
      "text/plain": [
       "'Python'"
      ]
     },
     "execution_count": 4,
     "metadata": {},
     "output_type": "execute_result"
    }
   ],
   "source": [
    "'Python' or 'Class'"
   ]
  },
  {
   "cell_type": "code",
   "execution_count": null,
   "metadata": {},
   "outputs": [],
   "source": [
    "and - False\n",
    "or - True"
   ]
  },
  {
   "cell_type": "code",
   "execution_count": 6,
   "metadata": {
    "ExecuteTime": {
     "end_time": "2021-03-13T03:41:24.364084Z",
     "start_time": "2021-03-13T03:41:24.357209Z"
    }
   },
   "outputs": [
    {
     "name": "stdout",
     "output_type": "stream",
     "text": [
      "True\n",
      "False\n"
     ]
    }
   ],
   "source": [
    "# \"\" - False, ' '\n",
    "print(bool(' '))\n",
    "print(bool(''))"
   ]
  },
  {
   "cell_type": "code",
   "execution_count": 7,
   "metadata": {
    "ExecuteTime": {
     "end_time": "2021-03-13T03:42:46.267310Z",
     "start_time": "2021-03-13T03:42:46.254744Z"
    }
   },
   "outputs": [
    {
     "data": {
      "text/plain": [
       "'Python'"
      ]
     },
     "execution_count": 7,
     "metadata": {},
     "output_type": "execute_result"
    }
   ],
   "source": [
    "'' or 'Python'"
   ]
  },
  {
   "cell_type": "code",
   "execution_count": 10,
   "metadata": {
    "ExecuteTime": {
     "end_time": "2021-03-13T03:47:07.600571Z",
     "start_time": "2021-03-13T03:47:07.589817Z"
    }
   },
   "outputs": [
    {
     "data": {
      "text/plain": [
       "True"
      ]
     },
     "execution_count": 10,
     "metadata": {},
     "output_type": "execute_result"
    }
   ],
   "source": [
    "'True1' and 'True2'\n",
    "# False and True\n",
    "# True and False\n",
    "True and True"
   ]
  },
  {
   "cell_type": "code",
   "execution_count": 12,
   "metadata": {
    "ExecuteTime": {
     "end_time": "2021-03-13T03:50:35.329690Z",
     "start_time": "2021-03-13T03:50:30.516035Z"
    }
   },
   "outputs": [
    {
     "name": "stdout",
     "output_type": "stream",
     "text": [
      "Enter your email: abcgmail.com\n",
      "wrong email\n"
     ]
    }
   ],
   "source": [
    "# If elif else\n",
    "email = input('Enter your email: ')\n",
    "if ('@' in email) and ('.' in email):\n",
    "    print(email)\n",
    "else:\n",
    "    print('wrong email')\n"
   ]
  },
  {
   "cell_type": "code",
   "execution_count": null,
   "metadata": {},
   "outputs": [],
   "source": [
    "# Block making keywords - if, elif, else, for, while, def, class, try, except, finally, with etc"
   ]
  },
  {
   "cell_type": "code",
   "execution_count": null,
   "metadata": {},
   "outputs": [],
   "source": [
    "# Syntax of if statement\n",
    "# stat1\n",
    "# stat2\n",
    "# stat3\n",
    "# if cond:\n",
    "#     stat4\n",
    "#     stat5\n",
    "#     stat6\n",
    "#     stat7\n",
    "    \n",
    "# else:\n",
    "#     stat8\n",
    "#     stat9\n",
    "#     stat10\n",
    "#     stat11\n",
    "# stat12\n",
    "# stat13\n",
    "\n",
    "# if cond is True - stat1, 2, 3, 4, 5, 6, 7, 12, 13\n",
    "# if cond is False - stat1, 2, 3, 8, 9, 10, 11, 12, 13"
   ]
  },
  {
   "cell_type": "code",
   "execution_count": 14,
   "metadata": {
    "ExecuteTime": {
     "end_time": "2021-03-13T04:05:31.877984Z",
     "start_time": "2021-03-13T04:05:31.863673Z"
    }
   },
   "outputs": [],
   "source": [
    "# stat1\n",
    "# stat2\n",
    "# stat3\n",
    "# if cond1:\n",
    "#     stat4\n",
    "#     stat5\n",
    "#     stat6\n",
    "#     stat7\n",
    "#     if cond2:\n",
    "#         stat41\n",
    "#         stat42\n",
    "#         stat43\n",
    "#         stat44\n",
    "#     else:\n",
    "#         stat45\n",
    "#         stat46\n",
    "#         stat47\n",
    "#         stat48   \n",
    "# else:\n",
    "#     stat8\n",
    "#     stat9\n",
    "#     stat10\n",
    "#     stat11\n",
    "# stat12\n",
    "# stat13\n",
    "\n",
    "# if cond1 and cond2 both are True - stat1, 2, 3, 4, 5, 6, 7, 41, 42, 43, 44, 12, 13\n",
    "# if cond1 is True cond2 is False - stat1, 2, 3, 4, 5, 6, 7, 45, 46, 47, 48, 12, 13\n",
    "# if cond1 is False cond2 is True - stat1, 2, 3, 8, 9, 10, 11, 12, 13\n",
    "\n",
    "\n"
   ]
  },
  {
   "cell_type": "code",
   "execution_count": null,
   "metadata": {},
   "outputs": [],
   "source": [
    "# Point 1 - else block is optional\n",
    "\n",
    "# stat1\n",
    "# stat2\n",
    "# stat3\n",
    "# if cond:\n",
    "#     stat4\n",
    "#     stat5\n",
    "#     stat6\n",
    "#     stat7\n",
    "# stat12\n",
    "# stat13\n",
    "\n",
    "# If cond is True - Stat1, 2, 3, 4, 5, 6, 7, 12, 13\n",
    "# If cond is False - Stat1, 2, 3, 12, 13\n",
    "\n"
   ]
  },
  {
   "cell_type": "code",
   "execution_count": 15,
   "metadata": {
    "ExecuteTime": {
     "end_time": "2021-03-13T04:11:44.525796Z",
     "start_time": "2021-03-13T04:11:39.068107Z"
    }
   },
   "outputs": [
    {
     "name": "stdout",
     "output_type": "stream",
     "text": [
      "Enter 1st number: 100\n",
      "Enter 2nd number: 20\n",
      "Enter 3rd number: 30\n",
      "num1 is greater than num2 and num3\n"
     ]
    }
   ],
   "source": [
    "# Point we may have multiple if block at same level if you have more than one condition to check\n",
    "# It is not recommended to use multiple if statement, Instead of that we use elif\n",
    "\n",
    "# stat1\n",
    "# stat2\n",
    "# stat3\n",
    "# if cond1:\n",
    "#     stat4\n",
    "#     stat5\n",
    "# if cond2:\n",
    "#     stat6\n",
    "#     stat7\n",
    "# if cond3:\n",
    "#     stat8\n",
    "#     stat9\n",
    "# if cond4:\n",
    "#     stat10\n",
    "#     stat11\n",
    "# stat12\n",
    "# stat13\n",
    "\n",
    "num1 = int(input('Enter 1st number: '))\n",
    "num2 = int(input('Enter 2nd number: '))\n",
    "num3 = int(input('Enter 3rd number: '))\n",
    "if (num1>num2) and (num1>num3):\n",
    "    print('num1 is greater than num2 and num3')\n",
    "if (num2>num1) and (num2>num3):\n",
    "    print('num2 is greater than num1 and num3')\n",
    "if (num3>num1) and (num3>num2):\n",
    "    print('num3 is greater than num1 and num2')\n",
    "\n",
    "\n",
    "\n"
   ]
  },
  {
   "cell_type": "code",
   "execution_count": null,
   "metadata": {},
   "outputs": [],
   "source": [
    "# stat1\n",
    "# stat2\n",
    "# stat3\n",
    "# if cond1:\n",
    "#     stat4\n",
    "#     stat5\n",
    "# elif cond2:\n",
    "#     stat6\n",
    "#     stat7\n",
    "# elif cond3:\n",
    "#     stat8\n",
    "#     stat9\n",
    "# elif cond4:\n",
    "#     stat10\n",
    "#     stat11\n",
    "# stat12\n",
    "# stat13\n",
    "\n",
    "num1 = int(input('Enter 1st number: '))\n",
    "num2 = int(input('Enter 2nd number: '))\n",
    "num3 = int(input('Enter 3rd number: '))\n",
    "if (num1>num2) and (num1>num3):\n",
    "    print('num1 is greater than num2 and num3')\n",
    "elif (num2>num1) and (num2>num3):\n",
    "    print('num2 is greater than num1 and num3')\n",
    "elif (num3>num1) and (num3>num2):\n",
    "    print('num3 is greater than num1 and num2')\n",
    "else:\n",
    "    print('num1 num2 and num3 all are equal')"
   ]
  },
  {
   "cell_type": "code",
   "execution_count": 20,
   "metadata": {
    "ExecuteTime": {
     "end_time": "2021-03-13T04:29:51.738254Z",
     "start_time": "2021-03-13T04:29:51.732205Z"
    }
   },
   "outputs": [],
   "source": [
    "# implement calculator\n",
    "# take two numberfrom user\n",
    "# take operation number from user\n",
    "#     1. Sum\n",
    "#     2. Sub\n",
    "#     3. Mul\n",
    "#     4. Div\n",
    "#     else wrong operation\n",
    "\n",
    "# num1 = int(input(\"Enter num1 \"))\n",
    "# num2 = int(input(\"Enter num2 \"))\n",
    "# print(\"1:sum\\n2:sub\\n3:mul\\n4:div\")\n",
    "# oper = int(input(\"Enter operation \"))\n",
    "# if(oper ==1):\n",
    "#     print(num1+num2)\n",
    "# elif(oper ==2):\n",
    "#     print(num1+num2)\n",
    "# elif(oper ==3):\n",
    "#     print(num1+num2)\n",
    "# elif(oper ==4):\n",
    "#     print(num1+num2)\n",
    "# else:\n",
    "#     print('wrong operation')\n",
    "\n",
    "# string= input(\"Enter the operation you wanted to be done \\n 1 for sum\\n2 for sub\\n3 for multiplication\\n4 for div\\n5 for none\")\n",
    "# val1=int(input(\"Enter the 1st value\"))\n",
    "# val2=int(input(\"Enter the 2nd value\"))\n",
    "\n",
    "# if string=='1':\n",
    "#  print(val1+val2)\n",
    "# elif string=='2':\n",
    "#  print(val1-val2)\n",
    "# elif string=='3':\n",
    "#  print(val1*val2)\n",
    "# elif string=='4':\n",
    "#  print(val1/val2)\n",
    "# else:\n",
    "#  print('no operation done')\n"
   ]
  },
  {
   "cell_type": "code",
   "execution_count": 25,
   "metadata": {
    "ExecuteTime": {
     "end_time": "2021-03-13T04:36:42.041061Z",
     "start_time": "2021-03-13T04:36:42.036107Z"
    }
   },
   "outputs": [],
   "source": [
    "# Ternary Operator\n",
    "# Syntax - expr1 if cond1 else expr2 \n",
    "# Syntax - expr1 if cond1 else expr2 if cond2 else expr3\n",
    "\n",
    "\n",
    "# string= input(\"Enter the operation you wanted to be done \\n 1 for sum\\n2 for sub\\n3 for multiplication\\n4 for div\\n5 for none\")\n",
    "# val1=int(input(\"Enter the 1st value\"))\n",
    "# val2=int(input(\"Enter the 2nd value\"))\n",
    "# print(val1+val2 if string == '1' else val1-val2 if string == '2' else val1*val2 if string == '3' else val1/val2 if string == '4' else 'Wrong operation')\n",
    "\n",
    "# print(10 == 10)\n",
    "\n"
   ]
  },
  {
   "cell_type": "code",
   "execution_count": 30,
   "metadata": {
    "ExecuteTime": {
     "end_time": "2021-03-13T04:43:32.418419Z",
     "start_time": "2021-03-13T04:43:28.064584Z"
    }
   },
   "outputs": [
    {
     "name": "stdout",
     "output_type": "stream",
     "text": [
      "Enter 1st number: 100\n",
      "Enter 2nd number: 20\n",
      "Enter 3rd number: 30\n",
      "num1 is greater than num2 and num3\n"
     ]
    }
   ],
   "source": [
    "# If can exist alone but for else you need to have at least one if\n",
    "\n",
    "num1 = int(input('Enter 1st number: '))   #100\n",
    "num2 = int(input('Enter 2nd number: '))    #200\n",
    "num3 = int(input('Enter 3rd number: '))    #300\n",
    "if (num1>num2) and (num1>num3):\n",
    "    print('num1 is greater than num2 and num3')\n",
    "elif (num2>num1) and (num2>num3):\n",
    "    print('num2 is greater than num1 and num3')\n",
    "elif (num3>num1) and (num3>num2):\n",
    "    print('num3 is greater than num1 and num2')\n",
    "else:\n",
    "    print('num1 num2 and num3 all are equal')"
   ]
  },
  {
   "cell_type": "code",
   "execution_count": 31,
   "metadata": {
    "ExecuteTime": {
     "end_time": "2021-03-13T04:50:47.870074Z",
     "start_time": "2021-03-13T04:50:29.932700Z"
    }
   },
   "outputs": [
    {
     "name": "stdout",
     "output_type": "stream",
     "text": [
      "Enter num1 100\n",
      "Enter num2 20\n",
      "1:sum\n",
      "2:sub\n",
      "3:mul\n",
      "4:div\n",
      "Enter operation 6\n",
      "wrong operation\n",
      "Try Again!!!, Enter operation: 9\n",
      "wrong operation\n",
      "Try Again!!!, Enter operation: 2\n",
      "120\n"
     ]
    }
   ],
   "source": [
    "# Loop - \n",
    "#     for loop - if no of iteration are known, or if we want to iterate over all th element of iterable\n",
    "#     while loop - If no of iteration are not known or untill a condition is False\n",
    "\n",
    "\n",
    "# implement calculator\n",
    "# take two numberfrom user\n",
    "# take operation number from user\n",
    "#     1. Sum\n",
    "#     2. Sub\n",
    "#     3. Mul\n",
    "#     4. Div\n",
    "#     else wrong operation\n",
    "# It will ask for operation until user enters a valid operation\n",
    "\n",
    "num1 = int(input(\"Enter num1 \"))\n",
    "num2 = int(input(\"Enter num2 \"))\n",
    "print(\"1:sum\\n2:sub\\n3:mul\\n4:div\")\n",
    "# oper = int(input(\"Enter operation \"))\n",
    "while True:\n",
    "    oper = int(input(\"Enter operation \"))\n",
    "    if(oper ==1):\n",
    "        print(num1+num2)\n",
    "        break\n",
    "    elif(oper ==2):\n",
    "        print(num1-num2)\n",
    "        break\n",
    "    elif(oper ==3):\n",
    "        print(num1*num2)\n",
    "        break\n",
    "    elif(oper ==4):\n",
    "        print(num1//num2)\n",
    "        break\n",
    "    else:\n",
    "        print('wrong operation, Try Again!!!')\n",
    "#         oper = int(input(\"Try Again!!!, Enter operation: \"))\n",
    "\n",
    "\n",
    "\n"
   ]
  },
  {
   "cell_type": "code",
   "execution_count": 60,
   "metadata": {
    "ExecuteTime": {
     "end_time": "2021-03-13T05:56:44.876025Z",
     "start_time": "2021-03-13T05:56:44.864229Z"
    }
   },
   "outputs": [
    {
     "name": "stdout",
     "output_type": "stream",
     "text": [
      "['peter', 'piper', 'picked', 'a', 'peck', 'of', 'peckled', 'peppers']\n"
     ]
    }
   ],
   "source": [
    "# Syntax of for loop - for fixed iteration\n",
    "# for var in iterable:\n",
    "#     stat1\n",
    "#     stat2\n",
    "#     stat3\n",
    "#     stat4\n",
    "    \n",
    "# If seq length is 4 then (stat1-4) will be executed 4 times\n",
    "\n",
    "# print('Hello') 10 times\n",
    "\n",
    "# for i in range(10):\n",
    "#     print('Hello', i)\n",
    "\n",
    "# range(10)\n",
    "\n",
    "# my_str = 'Python'\n",
    "# for i in 'Python':\n",
    "#     print(i, end = '')\n",
    "\n",
    "my_str = 'Python'\n",
    "# P\n",
    "# yy\n",
    "# ttt\n",
    "# hhhh\n",
    "# ooooo\n",
    "# nnnnnn\n",
    "\n",
    "# print(my_str[0]*1)\n",
    "# print(my_str[1]*2)\n",
    "# print(my_str[2]*3)\n",
    "# print(my_str[3]*4)\n",
    "# print(my_str[4]*5)\n",
    "# print(my_str[5]*6)\n",
    "\n",
    "# for ind in range(len(my_str)):\n",
    "#     print(my_str[ind] * (ind+1))\n",
    "\n",
    "\n",
    "# n\n",
    "# oo\n",
    "# hhh\n",
    "# tttt\n",
    "# yyyyy\n",
    "# pppppp\n",
    "\n",
    "# print(my_str[-1]*1)\n",
    "# print(my_str[-2]*2)\n",
    "# print(my_str[-3]*3)\n",
    "# print(my_str[-4]*4)\n",
    "# print(my_str[-5]*5)\n",
    "# print(my_str[-6]*6)\n",
    "\n",
    "# for ind in range(-1, -(len(my_str)+1), -1):\n",
    "#     print(my_str[ind] * (-ind))\n",
    "\n",
    "\n",
    "\n",
    "# nnnnnn\n",
    "# ooooo\n",
    "# hhhh\n",
    "# ttt\n",
    "# yy\n",
    "# p\n",
    "\n",
    "# print(my_str[-1]*6)\n",
    "# print(my_str[-2]*5)\n",
    "# print(my_str[-3]*4)\n",
    "# print(my_str[-4]*3)\n",
    "# print(my_str[-5]*2)\n",
    "# print(my_str[-6]*1)\n",
    "\n",
    "# factor = len(my_str)\n",
    "# for ind in range(-1, -(len(my_str)+1), -1):\n",
    "#     print(my_str[ind] * factor)\n",
    "#     factor -= 1\n",
    "\n",
    "# mystr='Python'\n",
    "# a=0\n",
    "# b=1\n",
    "# for i in range(len(mystr)):\n",
    "#     print(mystr[len(mystr)-a-1]*b)\n",
    "#     a +=1\n",
    "#     b +=1\n",
    "\n",
    "# factor = 1\n",
    "# for i in my_str:\n",
    "#     print(i * factor)\n",
    "#     factor += 1\n",
    "\n",
    "\n",
    "# my_str = 'peter piper picked a peck of peckled peppers'\n",
    "# Print the indexes of all the occurrence of 'p'\n",
    "\n",
    "# my_str = 'peter piper picked a peck of peckled peppers'\n",
    "# for i in range(len(my_str)):\n",
    "#     if my_str[i] == 'p':\n",
    "#         print(i)\n",
    "\n",
    "my_str = 'peter piper picked a peck of peckled peppers'\n",
    "# ['peter', 'piper', 'picked', 'a', 'peck', 'of', 'peckled', 'peppers']\n",
    "\n",
    "new_str = ''\n",
    "out_lst = []\n",
    "for i in range(len(my_str)):\n",
    "    if i == len(my_str)-1:\n",
    "        new_str += my_str[i]\n",
    "        out_lst += [new_str]\n",
    "    elif my_str[i] == ' ':\n",
    "        out_lst += [new_str]\n",
    "        new_str = ''\n",
    "    else:\n",
    "        new_str += my_str[i]\n",
    "print(out_lst)\n",
    "    \n",
    "\n",
    "\n",
    "# print(my_str.find('s'))\n",
    "\n"
   ]
  },
  {
   "cell_type": "code",
   "execution_count": 35,
   "metadata": {
    "ExecuteTime": {
     "end_time": "2021-03-13T05:01:13.835175Z",
     "start_time": "2021-03-13T05:01:13.829106Z"
    }
   },
   "outputs": [
    {
     "name": "stdout",
     "output_type": "stream",
     "text": [
      "['__abs__', '__add__', '__and__', '__bool__', '__ceil__', '__class__', '__delattr__', '__dir__', '__divmod__', '__doc__', '__eq__', '__float__', '__floor__', '__floordiv__', '__format__', '__ge__', '__getattribute__', '__getnewargs__', '__gt__', '__hash__', '__index__', '__init__', '__init_subclass__', '__int__', '__invert__', '__le__', '__lshift__', '__lt__', '__mod__', '__mul__', '__ne__', '__neg__', '__new__', '__or__', '__pos__', '__pow__', '__radd__', '__rand__', '__rdivmod__', '__reduce__', '__reduce_ex__', '__repr__', '__rfloordiv__', '__rlshift__', '__rmod__', '__rmul__', '__ror__', '__round__', '__rpow__', '__rrshift__', '__rshift__', '__rsub__', '__rtruediv__', '__rxor__', '__setattr__', '__sizeof__', '__str__', '__sub__', '__subclasshook__', '__truediv__', '__trunc__', '__xor__', 'as_integer_ratio', 'bit_length', 'conjugate', 'denominator', 'from_bytes', 'imag', 'numerator', 'real', 'to_bytes']\n"
     ]
    }
   ],
   "source": [
    "# How to find an object is iterable - __iter__\n",
    "# Example - generators, iterators, list, string, tuple, set, frozenset, dictionary, bytes, bytearaay, zip, enumerate, filter, map, \n",
    "# print(dir(range))\n",
    "# print(dir(int))"
   ]
  },
  {
   "cell_type": "code",
   "execution_count": null,
   "metadata": {},
   "outputs": [],
   "source": [
    "# range(start, stop, step)"
   ]
  },
  {
   "cell_type": "code",
   "execution_count": 68,
   "metadata": {
    "ExecuteTime": {
     "end_time": "2021-03-13T06:16:02.952311Z",
     "start_time": "2021-03-13T06:16:02.937690Z"
    }
   },
   "outputs": [
    {
     "name": "stdout",
     "output_type": "stream",
     "text": [
      "['peter', 'piper', 'picked', 'a', 'peck', 'of', 'peckled', 'peppers']\n"
     ]
    }
   ],
   "source": [
    "# while loop - condition\n",
    "# Synatx\n",
    "# Initialization\n",
    "# Condition checking\n",
    "# increment/decrement\n",
    "\n",
    "# i = 0\n",
    "# while i < 10:\n",
    "#     print('Hi', i)\n",
    "#     i += 1\n",
    "\n",
    "\n",
    "# i = 10\n",
    "# i += 2              # i = i+2, -=, *=, /=, //=, %=, **=\n",
    "\n",
    "\n",
    "my_str = 'Python'\n",
    "# P\n",
    "# yy\n",
    "# ttt\n",
    "# hhhh\n",
    "# ooooo\n",
    "# nnnnnn\n",
    "\n",
    "# print(my_str[0]*1)\n",
    "# print(my_str[1]*2)\n",
    "# print(my_str[2]*3)\n",
    "# print(my_str[3]*4)\n",
    "# print(my_str[4]*5)\n",
    "# print(my_str[5]*6)\n",
    "\n",
    "# ind = 0\n",
    "# while ind < len(my_str):\n",
    "#     print(my_str[ind] * (ind+1))\n",
    "#     ind += 1\n",
    "\n",
    "# n\n",
    "# oo\n",
    "# hhh\n",
    "# tttt\n",
    "# yyyyy\n",
    "# pppppp\n",
    "\n",
    "# print(my_str[-1]*1)\n",
    "# print(my_str[-2]*2)\n",
    "# print(my_str[-3]*3)\n",
    "# print(my_str[-4]*4)\n",
    "# print(my_str[-5]*5)\n",
    "# print(my_str[-6]*6)\n",
    "\n",
    "\n",
    "# ind = -1\n",
    "# while ind >= -len(my_str):\n",
    "#     print(my_str[ind] * (-ind))\n",
    "#     ind -= 1\n",
    "\n",
    "\n",
    "my_str = 'peter piper picked a peck of peckled peppers'\n",
    "# ['peter', 'piper', 'picked', 'a', 'peck', 'of', 'peckled', 'peppers']\n",
    "\n",
    "new_str = ''\n",
    "out_lst = []\n",
    "i = 0\n",
    "while i < len(my_str):\n",
    "    if i == len(my_str)-1:\n",
    "        new_str += my_str[i]\n",
    "        out_lst += [new_str]\n",
    "        \n",
    "    elif my_str[i] == ' ':\n",
    "        out_lst += [new_str]\n",
    "        new_str = ''\n",
    "        \n",
    "    else:\n",
    "        new_str += my_str[i]\n",
    "    i += 1\n",
    "print(out_lst)\n"
   ]
  },
  {
   "cell_type": "code",
   "execution_count": null,
   "metadata": {},
   "outputs": [],
   "source": [
    "# Comparison - <, <=, >, >=\n",
    "# equality - ==, !="
   ]
  },
  {
   "cell_type": "code",
   "execution_count": null,
   "metadata": {},
   "outputs": [],
   "source": [
    "While loop example\n",
    "break and continue\n",
    "List & list method"
   ]
  },
  {
   "cell_type": "code",
   "execution_count": null,
   "metadata": {},
   "outputs": [],
   "source": []
  },
  {
   "cell_type": "code",
   "execution_count": null,
   "metadata": {},
   "outputs": [],
   "source": []
  },
  {
   "cell_type": "code",
   "execution_count": null,
   "metadata": {},
   "outputs": [],
   "source": []
  },
  {
   "cell_type": "code",
   "execution_count": null,
   "metadata": {},
   "outputs": [],
   "source": []
  },
  {
   "cell_type": "code",
   "execution_count": null,
   "metadata": {},
   "outputs": [],
   "source": []
  },
  {
   "cell_type": "code",
   "execution_count": null,
   "metadata": {},
   "outputs": [],
   "source": []
  },
  {
   "cell_type": "code",
   "execution_count": null,
   "metadata": {},
   "outputs": [],
   "source": []
  },
  {
   "cell_type": "code",
   "execution_count": null,
   "metadata": {},
   "outputs": [],
   "source": []
  },
  {
   "cell_type": "code",
   "execution_count": null,
   "metadata": {},
   "outputs": [],
   "source": []
  },
  {
   "cell_type": "code",
   "execution_count": null,
   "metadata": {},
   "outputs": [],
   "source": []
  },
  {
   "cell_type": "code",
   "execution_count": null,
   "metadata": {},
   "outputs": [],
   "source": []
  },
  {
   "cell_type": "code",
   "execution_count": null,
   "metadata": {},
   "outputs": [],
   "source": []
  },
  {
   "cell_type": "code",
   "execution_count": null,
   "metadata": {},
   "outputs": [],
   "source": []
  },
  {
   "cell_type": "code",
   "execution_count": null,
   "metadata": {},
   "outputs": [],
   "source": []
  },
  {
   "cell_type": "code",
   "execution_count": null,
   "metadata": {},
   "outputs": [],
   "source": []
  },
  {
   "cell_type": "code",
   "execution_count": null,
   "metadata": {},
   "outputs": [],
   "source": []
  },
  {
   "cell_type": "code",
   "execution_count": null,
   "metadata": {},
   "outputs": [],
   "source": []
  },
  {
   "cell_type": "code",
   "execution_count": null,
   "metadata": {},
   "outputs": [],
   "source": []
  },
  {
   "cell_type": "code",
   "execution_count": null,
   "metadata": {},
   "outputs": [],
   "source": []
  },
  {
   "cell_type": "code",
   "execution_count": null,
   "metadata": {},
   "outputs": [],
   "source": []
  },
  {
   "cell_type": "code",
   "execution_count": null,
   "metadata": {},
   "outputs": [],
   "source": []
  },
  {
   "cell_type": "code",
   "execution_count": null,
   "metadata": {},
   "outputs": [],
   "source": []
  },
  {
   "cell_type": "code",
   "execution_count": null,
   "metadata": {},
   "outputs": [],
   "source": []
  },
  {
   "cell_type": "code",
   "execution_count": null,
   "metadata": {},
   "outputs": [],
   "source": []
  },
  {
   "cell_type": "code",
   "execution_count": null,
   "metadata": {},
   "outputs": [],
   "source": []
  },
  {
   "cell_type": "code",
   "execution_count": null,
   "metadata": {},
   "outputs": [],
   "source": []
  },
  {
   "cell_type": "code",
   "execution_count": null,
   "metadata": {},
   "outputs": [],
   "source": []
  },
  {
   "cell_type": "code",
   "execution_count": null,
   "metadata": {},
   "outputs": [],
   "source": []
  },
  {
   "cell_type": "code",
   "execution_count": null,
   "metadata": {},
   "outputs": [],
   "source": []
  },
  {
   "cell_type": "code",
   "execution_count": null,
   "metadata": {},
   "outputs": [],
   "source": []
  },
  {
   "cell_type": "code",
   "execution_count": null,
   "metadata": {},
   "outputs": [],
   "source": []
  },
  {
   "cell_type": "code",
   "execution_count": null,
   "metadata": {},
   "outputs": [],
   "source": []
  },
  {
   "cell_type": "code",
   "execution_count": null,
   "metadata": {},
   "outputs": [],
   "source": []
  },
  {
   "cell_type": "code",
   "execution_count": null,
   "metadata": {},
   "outputs": [],
   "source": []
  },
  {
   "cell_type": "code",
   "execution_count": null,
   "metadata": {},
   "outputs": [],
   "source": []
  },
  {
   "cell_type": "code",
   "execution_count": null,
   "metadata": {},
   "outputs": [],
   "source": []
  },
  {
   "cell_type": "code",
   "execution_count": null,
   "metadata": {},
   "outputs": [],
   "source": []
  },
  {
   "cell_type": "code",
   "execution_count": null,
   "metadata": {},
   "outputs": [],
   "source": []
  },
  {
   "cell_type": "code",
   "execution_count": null,
   "metadata": {},
   "outputs": [],
   "source": []
  },
  {
   "cell_type": "code",
   "execution_count": null,
   "metadata": {},
   "outputs": [],
   "source": []
  },
  {
   "cell_type": "code",
   "execution_count": null,
   "metadata": {},
   "outputs": [],
   "source": []
  },
  {
   "cell_type": "code",
   "execution_count": null,
   "metadata": {},
   "outputs": [],
   "source": []
  },
  {
   "cell_type": "code",
   "execution_count": null,
   "metadata": {},
   "outputs": [],
   "source": []
  },
  {
   "cell_type": "code",
   "execution_count": null,
   "metadata": {},
   "outputs": [],
   "source": []
  },
  {
   "cell_type": "code",
   "execution_count": null,
   "metadata": {},
   "outputs": [],
   "source": []
  },
  {
   "cell_type": "code",
   "execution_count": null,
   "metadata": {},
   "outputs": [],
   "source": []
  }
 ],
 "metadata": {
  "kernelspec": {
   "display_name": "Python 3",
   "language": "python",
   "name": "python3"
  },
  "language_info": {
   "codemirror_mode": {
    "name": "ipython",
    "version": 3
   },
   "file_extension": ".py",
   "mimetype": "text/x-python",
   "name": "python",
   "nbconvert_exporter": "python",
   "pygments_lexer": "ipython3",
   "version": "3.8.2"
  },
  "latex_envs": {
   "LaTeX_envs_menu_present": true,
   "autoclose": false,
   "autocomplete": true,
   "bibliofile": "biblio.bib",
   "cite_by": "apalike",
   "current_citInitial": 1,
   "eqLabelWithNumbers": true,
   "eqNumInitial": 1,
   "hotkeys": {
    "equation": "Ctrl-E",
    "itemize": "Ctrl-I"
   },
   "labels_anchors": false,
   "latex_user_defs": false,
   "report_style_numbering": false,
   "user_envs_cfg": false
  },
  "varInspector": {
   "cols": {
    "lenName": 16,
    "lenType": 16,
    "lenVar": 40
   },
   "kernels_config": {
    "python": {
     "delete_cmd_postfix": "",
     "delete_cmd_prefix": "del ",
     "library": "var_list.py",
     "varRefreshCmd": "print(var_dic_list())"
    },
    "r": {
     "delete_cmd_postfix": ") ",
     "delete_cmd_prefix": "rm(",
     "library": "var_list.r",
     "varRefreshCmd": "cat(var_dic_list()) "
    }
   },
   "types_to_exclude": [
    "module",
    "function",
    "builtin_function_or_method",
    "instance",
    "_Feature"
   ],
   "window_display": false
  }
 },
 "nbformat": 4,
 "nbformat_minor": 2
}
