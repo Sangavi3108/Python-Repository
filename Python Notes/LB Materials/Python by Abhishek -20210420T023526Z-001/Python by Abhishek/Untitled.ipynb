{
 "cells": [
  {
   "cell_type": "code",
   "execution_count": 7,
   "metadata": {
    "ExecuteTime": {
     "end_time": "2021-04-04T05:04:38.341845Z",
     "start_time": "2021-04-04T05:04:38.325907Z"
    }
   },
   "outputs": [
    {
     "data": {
      "text/plain": [
       "[[[0, 0, 0, 0, 0, 0],\n",
       "  [0, 0, 0, 0, 0, 0],\n",
       "  [0, 0, 0, 0, 0, 0],\n",
       "  [0, 0, 0, 0, 0, 0]],\n",
       " [[0, 0, 0, 0, 0, 0],\n",
       "  [1, 1, 1, 1, 1, 1],\n",
       "  [2, 2, 2, 2, 2, 2],\n",
       "  [3, 3, 3, 3, 3, 3]],\n",
       " [[0, 0, 0, 0, 0, 0],\n",
       "  [2, 2, 2, 2, 2, 2],\n",
       "  [4, 4, 4, 4, 4, 4],\n",
       "  [6, 6, 6, 6, 6, 6]]]"
      ]
     },
     "execution_count": 7,
     "metadata": {},
     "output_type": "execute_result"
    }
   ],
   "source": [
    "#Write a Python program to create a 3X4X6 3D matrix wiith below elements using loop\n",
    "#Output:- \n",
    "# [\n",
    "#     [[0,0,0,0,0,0],[0,0,0,0,0,0],[0,0,0,0,0,0],[0,0,0,0,0,0]],\n",
    "#     [[0,0,0,0,0,0],[1,1,1,1,1,1],[2,2,2,2,2,2],[3,3,3,3,3,3]],\n",
    "#     [[0,0,0,0,0,0],[2,2,2,2,2,2],[4,4,4,4,4,4],[6,6,6,6,6,6]]\n",
    "# ]\n",
    "\n",
    "\n",
    "# out_lst = []\n",
    "# for i in range(3):\n",
    "#     in_lst1 = []\n",
    "#     for j in range(4):\n",
    "#         in_lst2 = []\n",
    "#         for k in range(6):\n",
    "#             in_lst2.append(i*j)\n",
    "#         in_lst1.append(in_lst2)\n",
    "#     out_lst.append(in_lst1)\n",
    "# out_lst\n",
    "\n",
    "\n",
    "\n",
    "# loop copmprehension\n",
    "[[[i*j for k in range(6)] for j in range(4)] for i in range(3)]\n",
    "\n",
    "\n",
    "\n",
    "\n",
    "\n",
    "\n",
    "\n",
    "\n",
    "\n",
    "\n",
    "\n",
    "\n",
    "\n",
    "\n",
    "\n",
    "# lst=[]\n",
    "# semi_lst=[]\n",
    "# final_lst=[]\n",
    "\n",
    "# for i in range(0,3):\n",
    "  \n",
    "#   for j in range(0,4):\n",
    "     \n",
    "#      for k in range(0,7):\n",
    "#        if len(lst)==6:\n",
    "#          semi_lst.append(lst*4)\n",
    "#          final_lst.append(semi_lst)\n",
    "#          lst=[]\n",
    "#          semi_lst=[]\n",
    "                \n",
    "#        elif i == 0:\n",
    "#          lst.append(i) \n",
    "#       #  elif j== 1: \n",
    "#       #    lst.append(j)\n",
    "#       #  elif j == 2:\n",
    "#       #    lst.append(j*2)\n",
    "#       #  elif j== 3:\n",
    "#       #    lst.append(j*3)\n",
    "#        else:\n",
    "#          pass\n",
    "#          break\n",
    "  \n",
    "# print(final_lst)\n",
    "\n",
    "\n"
   ]
  },
  {
   "cell_type": "code",
   "execution_count": 11,
   "metadata": {
    "ExecuteTime": {
     "end_time": "2021-04-04T05:06:56.606201Z",
     "start_time": "2021-04-04T05:06:56.592737Z"
    }
   },
   "outputs": [
    {
     "data": {
      "text/plain": [
       "80"
      ]
     },
     "execution_count": 11,
     "metadata": {},
     "output_type": "execute_result"
    }
   ],
   "source": [
    "# Acess the value of key 'history'\n",
    "\n",
    "sampleDict = { \"class\": {  \"student\": { \"name\":\"Mike\", \"marks\": {  \"physics\":70, \"history\":80}}}}\n",
    "sampleDict['class']['student']['marks']['history']"
   ]
  },
  {
   "cell_type": "code",
   "execution_count": 14,
   "metadata": {
    "ExecuteTime": {
     "end_time": "2021-04-04T05:10:17.876243Z",
     "start_time": "2021-04-04T05:10:07.164036Z"
    }
   },
   "outputs": [
    {
     "name": "stdout",
     "output_type": "stream",
     "text": [
      "Enter a list of Employees: ['Kelly', 'Emma', 'John']\n",
      "Enter a dictionary of default value for each key: {\"designation\": 'Application Developer', \"salary\": 8000}\n"
     ]
    },
    {
     "data": {
      "text/plain": [
       "{'Kelly': {'designation': 'Application Developer', 'salary': 8000},\n",
       " 'Emma': {'designation': 'Application Developer', 'salary': 8000},\n",
       " 'John': {'designation': 'Application Developer', 'salary': 8000}}"
      ]
     },
     "execution_count": 14,
     "metadata": {},
     "output_type": "execute_result"
    }
   ],
   "source": [
    "# Initialize dictionary with default values. Inputs are:-\n",
    "employees = ['Kelly', 'Emma', 'John']\n",
    "defaults = {\"designation\": 'Application Developer', \"salary\": 8000}\n",
    "\n",
    "#Expected output:- {'Kelly': {'designation': 'Application Developer', 'salary': 8000}, \n",
    "#                   'Emma': {'designation': 'Application Developer', 'salary': 8000}, \n",
    "#                   'John': {'designation': 'Application Developer', 'salary': 8000}}\n",
    "\n",
    "\n",
    "# out_dict = {}\n",
    "# out_dict = out_dict.fromkeys(employees, defaults)\n",
    "# out_dict\n",
    "\n",
    "\n",
    "employees = eval(input('Enter a list of Employees: '))\n",
    "defaults = eval(input('Enter a dictionary of default value for each key: '))\n",
    "out_dict = {}\n",
    "out_dict = out_dict.fromkeys(employees, defaults)\n",
    "out_dict\n"
   ]
  },
  {
   "cell_type": "code",
   "execution_count": 15,
   "metadata": {
    "ExecuteTime": {
     "end_time": "2021-04-04T05:12:13.088724Z",
     "start_time": "2021-04-04T05:12:13.062140Z"
    }
   },
   "outputs": [
    {
     "data": {
      "text/plain": [
       "{'A': 0, 'T': 0, 'C': 0, 'G': 0}"
      ]
     },
     "execution_count": 15,
     "metadata": {},
     "output_type": "execute_result"
    }
   ],
   "source": [
    "# A DNA strand consisting of the 4 nucleotide bases is usually represented with a string of letters: A,T, C, G. \n",
    "# Write a function that computes the base composition of a given DNA sequence.\n",
    "\n",
    "# In - baseComposition(\"CTATCGGCACCCTTTCAGCA\")\n",
    "# Out - {'A': 4, 'C': 8, 'T': 5,  'G': 3 }\n",
    "    \n",
    "# In - baseComposition(\"AGT\")\n",
    "# Out - {'A': 1, 'C': 0, 'T': 1,  'G': 1 }\n",
    "\n",
    "out_dict = {}\n",
    "out_dict = out_dict.fromkeys('ATCG', 0)\n",
    "out_dict"
   ]
  },
  {
   "cell_type": "code",
   "execution_count": 19,
   "metadata": {
    "ExecuteTime": {
     "end_time": "2021-04-04T05:14:40.586489Z",
     "start_time": "2021-04-04T05:14:40.577375Z"
    }
   },
   "outputs": [
    {
     "data": {
      "text/plain": [
       "[('A', 'U'), ('T', 'A'), ('C', 'G'), ('G', 'C')]"
      ]
     },
     "execution_count": 19,
     "metadata": {},
     "output_type": "execute_result"
    }
   ],
   "source": [
    "# In gene expression, mRNA is transcribed from a DNA template. \n",
    "# The 4 nucleotide bases of A, T, C, G corresponds to the U, A, G, C bases of the mRNA. \n",
    "# Write a function that returns the mRNA transcript given the sequence of a DNA strand.\n",
    "\n",
    "# Use a dictionary to provide the mapping of DNA to RNA bases.\n",
    "\n",
    "# dict(zip('ATCG', 'UAGC'))\n",
    "\n",
    "list(zip('ATCG','UAGCD'))\n"
   ]
  },
  {
   "cell_type": "code",
   "execution_count": 24,
   "metadata": {
    "ExecuteTime": {
     "end_time": "2021-04-04T05:25:06.506594Z",
     "start_time": "2021-04-04T05:25:06.490928Z"
    }
   },
   "outputs": [
    {
     "data": {
      "text/plain": [
       "'Peter piper picked a peck of pickled peppers.'"
      ]
     },
     "execution_count": 24,
     "metadata": {},
     "output_type": "execute_result"
    }
   ],
   "source": [
    "#Write a python program to find below output using loop:-\n",
    "\n",
    "#Input:- 'Peter Piper Picked A Peck Of Pickled Peppers.'\n",
    "#Output:- 'Peter piper picked a peck of pickled peppers\n",
    "\n",
    "inp_lst = 'Peter Piper Picked A Peck Of Pickled Peppers.'\n",
    "out_str = ''\n",
    "my_str = ''\n",
    "for i in range(len(inp_lst)):\n",
    "    if i == 0:\n",
    "        if 65<=ord(inp_lst[i])<=90:\n",
    "            out_str += chr(ord(inp_lst[i]))\n",
    "        else:\n",
    "            out_str += inp_lst[i]\n",
    "    else:\n",
    "        if 65<=ord(inp_lst[i])<=90:\n",
    "            out_str += chr(ord(inp_lst[i]) + 32)\n",
    "        else:\n",
    "            out_str += inp_lst[i]\n",
    "            \n",
    "out_str\n",
    "            \n",
    "        \n"
   ]
  },
  {
   "cell_type": "code",
   "execution_count": 20,
   "metadata": {
    "ExecuteTime": {
     "end_time": "2021-04-04T05:18:18.814889Z",
     "start_time": "2021-04-04T05:18:18.806175Z"
    }
   },
   "outputs": [
    {
     "data": {
      "text/plain": [
       "90"
      ]
     },
     "execution_count": 20,
     "metadata": {},
     "output_type": "execute_result"
    }
   ],
   "source": [
    "ord('Z')"
   ]
  },
  {
   "cell_type": "code",
   "execution_count": 23,
   "metadata": {
    "ExecuteTime": {
     "end_time": "2021-04-04T05:24:27.321141Z",
     "start_time": "2021-04-04T05:24:27.310572Z"
    }
   },
   "outputs": [
    {
     "data": {
      "text/plain": [
       "32"
      ]
     },
     "execution_count": 23,
     "metadata": {},
     "output_type": "execute_result"
    }
   ],
   "source": [
    "97-65\n"
   ]
  },
  {
   "cell_type": "code",
   "execution_count": 33,
   "metadata": {
    "ExecuteTime": {
     "end_time": "2021-04-04T05:33:18.496060Z",
     "start_time": "2021-04-04T05:33:18.479904Z"
    }
   },
   "outputs": [
    {
     "data": {
      "text/plain": [
       "{'emp1': {'e_name': 'John', 'e_id': 'SG101', 'e_sal': '$10,000'},\n",
       " 'emp2': {'e_name': 'Peter', 'e_id': 'SG103', 'e_sal': '$9,500'},\n",
       " 'emp3': {'e_name': 'Peter', 'e_id': 'SG103', 'e_sal': '$9,500'}}"
      ]
     },
     "execution_count": 33,
     "metadata": {},
     "output_type": "execute_result"
    }
   ],
   "source": [
    "# Create a dictionary out of below inputs\n",
    "lst1 = ['emp1', 'emp2', 'emp3']\n",
    "emp_key = ['e_name', 'e_id', 'e_sal']\n",
    "emp1_val = ['John', 'SG101', '$10,000']\n",
    "emp2_val = ['Smith', 'SG102', '$9,000']\n",
    "emp2_val = ['Peter', 'SG103', '$9,500']\n",
    "emps_info = [emp1_val, emp2_val, emp2_val]\n",
    "\n",
    "out_dict = {'emp1':{'e_name':'John', 'e_id':'SG101', 'e_sal':10000}, \n",
    "            'emp2':{'e_name':'Smith', 'e_id':'SG102', 'e_sal':9000}, \n",
    "            'emp3':{'e_name':'Peter', 'e_id':'SG103', 'e_sal':9500}}\n",
    "\n",
    "# which_emp = input('Enter the employee id: ')\n",
    "# what_info = input('Enter the info you want: ')\n",
    "\n",
    "\n",
    "# for i in out_dict:\n",
    "#     out_dict[i]\n",
    "\n",
    "dict(zip(lst1, [dict(zip(emp_key, i)) for i in emps_info]))\n",
    "\n",
    "\n"
   ]
  },
  {
   "cell_type": "code",
   "execution_count": 49,
   "metadata": {
    "ExecuteTime": {
     "end_time": "2021-04-04T05:50:58.407290Z",
     "start_time": "2021-04-04T05:50:58.394621Z"
    }
   },
   "outputs": [
    {
     "data": {
      "text/plain": [
       "'Peter Piper Picked A Pack Of Pickled Peppers.'"
      ]
     },
     "execution_count": 49,
     "metadata": {},
     "output_type": "execute_result"
    }
   ],
   "source": [
    "#Write a python program to implement replace method using loop. If sub_str is found in my_str then it will replace the first \n",
    "#occurrence of sub_str with new_str else it will will print sub_str not found:-\n",
    "\n",
    "#Input:- my_str = 'Peter Piper Picked A Peck Of Pickled Peppers.', sub_str = 'Peck', new_str = 'Pack'\n",
    "#Output:- 'Peter Piper Picked A Pack Of Pickled Peppers.'\n",
    "\n",
    "inp_str = 'Peter Piper Picked A Peck Of Pickled Peppers.'\n",
    "sub_str = 'Peck'\n",
    "new_str = 'Pack'\n",
    "my_str = ''\n",
    "out_str = ''\n",
    "ind = 0\n",
    "for i in range(len(inp_str)):\n",
    "    if inp_str[i] == sub_str[ind]:\n",
    "        my_str += inp_str[i]\n",
    "        ind += 1\n",
    "        if my_str == sub_str:\n",
    "            out_str = inp_str[:i-3] + new_str + inp_str[i+1:]\n",
    "            break\n",
    "    elif i == len(my_str)-1:\n",
    "        print('substring not found')\n",
    "    else:\n",
    "        my_str = ''\n",
    "        ind = 0\n",
    "out_str\n",
    "\n"
   ]
  },
  {
   "cell_type": "code",
   "execution_count": 41,
   "metadata": {
    "ExecuteTime": {
     "end_time": "2021-04-04T05:39:01.176033Z",
     "start_time": "2021-04-04T05:39:01.171037Z"
    }
   },
   "outputs": [],
   "source": [
    "\n",
    "#Input:- my_str = 'Peter Piper Picked A Peck Of Pickled Peppers.', sub_str = 'Peck', new_str = 'Pack'\n",
    "#Output:- 'Peter Piper Picked A Pack Of Pickled Peppers.'\n",
    "mystr = 'Peter Piper Picked A Of Pickled Peppers.'\n",
    "\n",
    "if mystr.find('Peck') != -1:\n",
    "    print(mystr.replace('Peck','Pack'))"
   ]
  },
  {
   "cell_type": "code",
   "execution_count": 37,
   "metadata": {
    "ExecuteTime": {
     "end_time": "2021-04-04T05:37:16.612076Z",
     "start_time": "2021-04-04T05:37:16.603396Z"
    }
   },
   "outputs": [
    {
     "data": {
      "text/plain": [
       "True"
      ]
     },
     "execution_count": 37,
     "metadata": {},
     "output_type": "execute_result"
    }
   ],
   "source": [
    "bool(21) == True"
   ]
  },
  {
   "cell_type": "code",
   "execution_count": null,
   "metadata": {},
   "outputs": [],
   "source": [
    "Generator\n",
    "Iterators\n",
    "Closure\n",
    "Decorators\n",
    "Namespace and Scope\n",
    "Regex\n",
    "object type\n",
    "OOP\n",
    "Multithreading\n",
    "Synchronization and Asynchronization\n",
    "Pickling\n",
    "Webscrapping -\n",
    "    "
   ]
  },
  {
   "cell_type": "code",
   "execution_count": null,
   "metadata": {},
   "outputs": [],
   "source": [
    "# OOP Terminologies\n",
    "* Class\n",
    "* Object\n",
    "* Members of the class\n",
    "* Fields or Attributes\n",
    "    * Self variable\n",
    "    * Reference Variable\n",
    "    * Instance Variable\n",
    "    * Static Variable\n",
    "    * Local Variable\n",
    "* Methods or Behaviours\n",
    "    * Constructor\n",
    "    * Instance Method\n",
    "    * Class Method\n",
    "    * Static Method\n",
    "* Garbage collection and Destructor\n",
    "* Concrete Class\n",
    "* Encapsulation\n",
    "    * getter and setter method\n",
    "    * Abstraction\n",
    "    * De-coupling\n",
    "    * \n",
    "    * @property decorator\n",
    "* Inheritance\n",
    "    * Super class or Parent class\n",
    "    * Sub Class or Child class\n",
    "    * Class Hierarchy\n",
    "    * Single Inheritance\n",
    "    * Multilevel inheritance\n",
    "    * Hierarchical Inheritance\n",
    "    * Multiple inheritance\n",
    "    * Hybrid Inheritance\n",
    "    * Cyclic Inheritance\n",
    "    * Association\n",
    "    * Aggregation\n",
    "    * Composition\n",
    "    * MRO - Method Resolution Order\n",
    "* Access Modifiers\n",
    "* Polymorphism\n",
    "    * Duck Typing\n",
    "    * Overloading\n",
    "        * Operator Overloading\n",
    "        * Method Overloading\n",
    "        * Constructor Overloading\n",
    "    * Overriding\n",
    "        * Method Overriding\n",
    "        * Constructor Overriding\n",
    "* Abstraction\n",
    "    * Abstract Method\n",
    "    * Abstract Class\n",
    "    * __str__ vs __repr__\n",
    "* Interface\n",
    "* Coupling\n",
    "* Dependency\n",
    "\n",
    "\n",
    "\n"
   ]
  },
  {
   "cell_type": "code",
   "execution_count": 55,
   "metadata": {
    "ExecuteTime": {
     "end_time": "2021-04-04T06:54:55.399165Z",
     "start_time": "2021-04-04T06:54:55.388681Z"
    }
   },
   "outputs": [
    {
     "name": "stdout",
     "output_type": "stream",
     "text": [
      "Ascending order or Descending order\n"
     ]
    }
   ],
   "source": [
    "my_tuple=[20, 20, 30, 30, 30, 40, 40, 40, 10]\n",
    "my_tuple.reverse()\n",
    "random_order = False\n",
    "asc_desc_order = False\n",
    "for i in range(len(my_tuple)):\n",
    "    for j in range(len(my_tuple)-i-1):\n",
    "        if (my_tuple[j] >= my_tuple[j+1]) or (my_tuple[j] <= my_tuple[j+1]):\n",
    "            asc_desc_order = False\n",
    "            asc_desc_order = True\n",
    "        elif \n",
    "        else:\n",
    "            random_order = True\n",
    "            asc_desc_order = False\n",
    "if random_order == True:\n",
    "    print('Random order')\n",
    "else:\n",
    "    print('Ascending order or Descending order')"
   ]
  },
  {
   "cell_type": "code",
   "execution_count": null,
   "metadata": {},
   "outputs": [],
   "source": [
    "import random\n",
    "random.shuffle()"
   ]
  },
  {
   "cell_type": "code",
   "execution_count": null,
   "metadata": {},
   "outputs": [],
   "source": [
    "# Write a function invertDictionary(d) that takes in a dictionary as argument and return a dictionary that inverts the keys and the values of the original dictionary.\n",
    "# In - invertDictionary({'a':1, 'b':2, 'c':3, 'd':2})\n",
    "# Out - {1: ['a'], 2: ['b', 'd'], 3: ['c']}\n",
    "# In - invertDictionary({'a':3, 'b':3, 'c':3})\n",
    "# Out - {3: ['a', 'c', 'b']}\n",
    "# In - invertDictionary({'a':2, 'b':1, 'c':2, 'd':1})\n",
    "# Out - {1: ['b', 'd'], 2: ['a', 'c']}"
   ]
  },
  {
   "cell_type": "code",
   "execution_count": null,
   "metadata": {},
   "outputs": [],
   "source": [
    "#Write a Python program which takes a list from the user and prints it after reshuffling the elements of the list.\n",
    "#Input:- [10,21,22,98,87,45,33,1,2,100]\n",
    "#Output:- [1,87,21,10,33,2,100,45,98,22] (It may be any randon list but with same elements)"
   ]
  },
  {
   "cell_type": "code",
   "execution_count": null,
   "metadata": {},
   "outputs": [],
   "source": [
    "my_tuple = (20, 20, 30, 30, 30, 40, 40, 40)\n",
    "random_order = False\n",
    "asc_order = False\n",
    "desc_order = False\n",
    "point1 = 0\n",
    "point2 = 1\n",
    "out_lst = []\n",
    "for i in range(len(my_tuple)-1):\n",
    "    if my_tuple[i] in out_lst:\n",
    "        continue\n",
    "    elif my_tuple[i] >= my_tuple[i+1]:\n",
    "        out_lst.append(my_tuple[i])\n",
    "        asc_order = True\n",
    "        desc_order = False\n",
    "        random_order = False\n",
    "    elif my_tuple[i] < my_tuple[i+1]:\n",
    "        out_lst.append(my_tuple[i])\n",
    "        asc_order = True\n",
    "        desc_order = False\n",
    "        random_order = False\n",
    "\n",
    "\n",
    "\n"
   ]
  }
 ],
 "metadata": {
  "kernelspec": {
   "display_name": "Python 3",
   "language": "python",
   "name": "python3"
  },
  "language_info": {
   "codemirror_mode": {
    "name": "ipython",
    "version": 3
   },
   "file_extension": ".py",
   "mimetype": "text/x-python",
   "name": "python",
   "nbconvert_exporter": "python",
   "pygments_lexer": "ipython3",
   "version": "3.8.2"
  },
  "latex_envs": {
   "LaTeX_envs_menu_present": true,
   "autoclose": false,
   "autocomplete": true,
   "bibliofile": "biblio.bib",
   "cite_by": "apalike",
   "current_citInitial": 1,
   "eqLabelWithNumbers": true,
   "eqNumInitial": 1,
   "hotkeys": {
    "equation": "Ctrl-E",
    "itemize": "Ctrl-I"
   },
   "labels_anchors": false,
   "latex_user_defs": false,
   "report_style_numbering": false,
   "user_envs_cfg": false
  },
  "varInspector": {
   "cols": {
    "lenName": 16,
    "lenType": 16,
    "lenVar": 40
   },
   "kernels_config": {
    "python": {
     "delete_cmd_postfix": "",
     "delete_cmd_prefix": "del ",
     "library": "var_list.py",
     "varRefreshCmd": "print(var_dic_list())"
    },
    "r": {
     "delete_cmd_postfix": ") ",
     "delete_cmd_prefix": "rm(",
     "library": "var_list.r",
     "varRefreshCmd": "cat(var_dic_list()) "
    }
   },
   "types_to_exclude": [
    "module",
    "function",
    "builtin_function_or_method",
    "instance",
    "_Feature"
   ],
   "window_display": false
  }
 },
 "nbformat": 4,
 "nbformat_minor": 2
}
