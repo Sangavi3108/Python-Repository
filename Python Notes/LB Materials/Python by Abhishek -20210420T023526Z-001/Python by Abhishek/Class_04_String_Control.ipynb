{
 "cells": [
  {
   "cell_type": "code",
   "execution_count": 2,
   "metadata": {
    "ExecuteTime": {
     "end_time": "2021-03-07T03:09:33.987898Z",
     "start_time": "2021-03-07T03:09:33.980315Z"
    }
   },
   "outputs": [
    {
     "name": "stdout",
     "output_type": "stream",
     "text": [
      "4459608816\n",
      "4459608816\n"
     ]
    }
   ],
   "source": [
    "# a = 260\n",
    "# b = 260\n",
    "# print(id(a))\n",
    "# print(id(b))\n",
    "\n",
    "a = 260\n",
    "b = a\n",
    "print(id(a))\n",
    "print(id(b))\n"
   ]
  },
  {
   "cell_type": "code",
   "execution_count": null,
   "metadata": {},
   "outputs": [],
   "source": [
    "# String - Any value - '...', \"...\", '''...''', \"\"\"...\"\"\"\n",
    "\n",
    "# s1 = 'Python'\n",
    "# print(s1, type(s1))\n",
    "\n",
    "# s2 = \"Python\"\n",
    "# print(s2, type(s2))\n",
    "\n",
    "# s3 = \"\"\"Python\"\"\"\n",
    "# print(s3, type(s3))\n",
    "\n",
    "# s4 = '''Python'''\n",
    "# print(s4, type(s4))\n",
    "\n",
    "\n",
    "# my_str = \"This is Python's class\"\n",
    "# print(my_str)\n",
    "\n",
    "# my_str = 'This is \"Python\" class'\n",
    "# print(my_str)\n",
    "\n",
    "# my_str = '''This is \"Python\" & 'Java' Class'''\n",
    "# print(my_str)\n",
    "\n",
    "# triple quotation is used to write multiline string\n",
    "# a = '''Lorem Ipsum is simply dummy text of the printing and typesetting industry. \n",
    "# Lorem Ipsum has been the industrys standard dummy text ever since the 1500s, \n",
    "# when an unknown printer took a galley of type and scrambled it to make a type specimen book. \n",
    "# It has survived not only five centuries, but also the leap into electronic typesetting, \n",
    "# remaining essentially unchanged. \n",
    "# It was popularised in the 1960s with the release of Letraset sheets containing Lorem Ipsum passages, \n",
    "# and more recently with desktop publishing software like Aldus PageMaker including versions of Lorem Ipsum.'''\n",
    "# print(a)\n",
    "\n",
    "# For Documentation of functions or class, we use triple quotation\n",
    "\n",
    "# def f1(a, b, c=None, d=None):\n",
    "#     '''This function takes 2 positional args and 2 default args and returns sum'''\n",
    "#     if c == None and d == None:\n",
    "#         return a+b\n",
    "#     else:\n",
    "#         return a+b+c+d\n",
    "\n",
    "# '''print(f1(10, 20, 30, 40))\n",
    "# f1(10, 20)\n",
    "\n",
    "# print(f1.__doc__)'''\n",
    "\n",
    "# print()\n",
    "\n",
    "\n",
    "# String Features\n",
    "#     1. String is a seq - Indexing, slicing, Concatenation, Repetition, len, Membership, Identity\n",
    "#     2. all sequneces support +ve and -ve indexing both\n",
    "\n",
    "my_str = 'Python'\n",
    "# -6 -5 -4 -3 -2 -1 \n",
    "#  P  y  t  h  o  n\n",
    "#  0  1  2  3  4  5\n",
    "\n",
    "# indexing - accessing one element at a time - str_name[index]\n",
    "# # Accessig first element\n",
    "# print(my_str[0])\n",
    "# print(my_str[-6])\n",
    "# print(my_str[-len(my_str)])\n",
    "\n",
    "# # Accessig last element\n",
    "# print(my_str[-1])\n",
    "# print(my_str[5])\n",
    "# print(my_str[len(my_str)-1])\n",
    "\n",
    "\n",
    "# print(my_str[2])\n",
    "\n",
    "# print(len(my_str))\n",
    "\n",
    "\n"
   ]
  },
  {
   "cell_type": "code",
   "execution_count": 7,
   "metadata": {
    "ExecuteTime": {
     "end_time": "2021-03-07T03:23:26.914898Z",
     "start_time": "2021-03-07T03:23:26.903267Z"
    }
   },
   "outputs": [
    {
     "name": "stdout",
     "output_type": "stream",
     "text": [
      "This is Python 99 4437346224\n",
      "h 4400960752\n",
      "h 4400960752\n",
      "T 4400901616\n"
     ]
    }
   ],
   "source": [
    "my_str = 'This is Python 99'\n",
    "print(my_str, id(my_str))\n",
    "print(my_str[1], id(my_str[1]))\n",
    "print(my_str[11], id(my_str[11]))\n",
    "print(my_str[0], id(my_str[0]))"
   ]
  },
  {
   "cell_type": "code",
   "execution_count": 24,
   "metadata": {
    "ExecuteTime": {
     "end_time": "2021-03-07T03:48:00.394251Z",
     "start_time": "2021-03-07T03:48:00.381915Z"
    }
   },
   "outputs": [
    {
     "data": {
      "text/plain": [
       "'gmail'"
      ]
     },
     "execution_count": 24,
     "metadata": {},
     "output_type": "execute_result"
    }
   ],
   "source": [
    "# Slicing - my_str[start_index:stop_index:step]\n",
    "# Default step value is 1 - default start - 0, default stop - len(my_str)\n",
    "# print(my_str[:11-1])\n",
    "# print(my_str[:9+1])\n",
    "# print(my_str[8:14])\n",
    "# print(my_str[:])\n",
    "# print(my_str[0:len(my_str)])\n",
    "\n",
    "# step value is -1 - default start - -1, default stop - -len(my_str)-1\n",
    "# print('Slicing in reverse direction')\n",
    "# print(my_str[::-1])\n",
    "# print(my_str[-1:-len(my_str)-1:-1])\n",
    "\n",
    "# my_str = 'This is Python 99'\n",
    "# print(my_str[-4:-10:-1])\n",
    "# print(my_str[13:7:-1])\n",
    "\n",
    "# If step is +ve then start index should always be on left compared to your stop index\n",
    "# If step is -ve then start index should always be on right compared to your stop index\n",
    "\n",
    "# step - +/-1, +/-2, +/-3...\n",
    "# print(my_str[::2])\n",
    "# print(my_str[::-2])\n",
    "\n",
    "# my_str = '0123456789'\n",
    "# print(my_str[1::2])\n",
    "\n",
    "\n",
    "# email = 'abc@gmail.com'\n",
    "# email[email.index('@')+1:]\n",
    "# print(email[:email.index('@')])\n",
    "# email[email.index('@')+1:email.index('.')]\n"
   ]
  },
  {
   "cell_type": "code",
   "execution_count": 31,
   "metadata": {
    "ExecuteTime": {
     "end_time": "2021-03-07T03:52:53.919995Z",
     "start_time": "2021-03-07T03:52:53.906156Z"
    }
   },
   "outputs": [],
   "source": [
    "# Concatenation - +\n",
    "# String concatenation - both object should be of string type\n",
    "# print('Python' + 'Class')\n",
    "# print('Python' + 10)\n",
    "# print('Python'+[10,20])\n",
    "\n",
    "# Repetition - *\n",
    "# String Repetition - one object should be of string type and other should be int type\n",
    "# print('Python' * 3)\n",
    "# print('Python' * 3.0)\n",
    "\n",
    "\n",
    "\n"
   ]
  },
  {
   "cell_type": "code",
   "execution_count": 40,
   "metadata": {
    "ExecuteTime": {
     "end_time": "2021-03-07T04:00:20.840484Z",
     "start_time": "2021-03-07T04:00:20.832126Z"
    }
   },
   "outputs": [],
   "source": [
    "# Membership operation - in, not in\n",
    "# Boolean value\n",
    "\n",
    "my_str = 'This is Python 99'\n",
    "# print('P' in my_str)\n",
    "# print('p' in my_str)\n",
    "\n",
    "# print('Pyt' in my_str)\n",
    "# print('Pn' in my_str)\n",
    "\n",
    "\n",
    "# for var in my_str:\n",
    "#     print(var)\n",
    "\n",
    "# if 'Python' in my_str:\n",
    "#     print(my_str)\n",
    "\n",
    "# i = 0\n",
    "# while my_str[i] in my_str:\n",
    "#     print(my_str[i])\n",
    "#     i+=1\n",
    "\n"
   ]
  },
  {
   "cell_type": "code",
   "execution_count": 41,
   "metadata": {
    "ExecuteTime": {
     "end_time": "2021-03-07T04:00:52.641785Z",
     "start_time": "2021-03-07T04:00:52.631036Z"
    }
   },
   "outputs": [
    {
     "name": "stdout",
     "output_type": "stream",
     "text": [
      "['__add__', '__class__', '__contains__', '__delattr__', '__dir__', '__doc__', '__eq__', '__format__', '__ge__', '__getattribute__', '__getitem__', '__getnewargs__', '__gt__', '__hash__', '__init__', '__init_subclass__', '__iter__', '__le__', '__len__', '__lt__', '__mod__', '__mul__', '__ne__', '__new__', '__reduce__', '__reduce_ex__', '__repr__', '__rmod__', '__rmul__', '__setattr__', '__sizeof__', '__str__', '__subclasshook__', 'capitalize', 'casefold', 'center', 'count', 'encode', 'endswith', 'expandtabs', 'find', 'format', 'format_map', 'index', 'isalnum', 'isalpha', 'isascii', 'isdecimal', 'isdigit', 'isidentifier', 'islower', 'isnumeric', 'isprintable', 'isspace', 'istitle', 'isupper', 'join', 'ljust', 'lower', 'lstrip', 'maketrans', 'partition', 'replace', 'rfind', 'rindex', 'rjust', 'rpartition', 'rsplit', 'rstrip', 'split', 'splitlines', 'startswith', 'strip', 'swapcase', 'title', 'translate', 'upper', 'zfill']\n"
     ]
    }
   ],
   "source": [
    "# print(dir(my_str))\n",
    "\n",
    "# 'center',  'encode',  'expandtabs', 'format', 'format_map',\n",
    "#  '', 'ljust',   'maketrans', 'partition',\n",
    "# '', 'rjust', 'rpartition', 'rsplit',  '', 'splitlines', \n",
    "#  'translate', 'zfill'\n",
    "\n",
    "\n",
    "\n",
    "\n"
   ]
  },
  {
   "cell_type": "code",
   "execution_count": 76,
   "metadata": {
    "ExecuteTime": {
     "end_time": "2021-03-07T04:26:57.996383Z",
     "start_time": "2021-03-07T04:26:57.969898Z"
    }
   },
   "outputs": [
    {
     "data": {
      "text/plain": [
       "True"
      ]
     },
     "execution_count": 76,
     "metadata": {},
     "output_type": "execute_result"
    }
   ],
   "source": [
    "#  'isascii', 'isidentifier', \n",
    "# 'isprintable', \n",
    "\n",
    "# isalnum - every element in string is alphanumeric or not\n",
    "# isalpha - every element in string is alphabet or not\n",
    "# isnumeric - every element in string is numerical value or not\n",
    "# isspace - every element in string is space character or not\n",
    "# islower - every element in string is lower case or not\n",
    "# isupper - every element in string is upper case or not\n",
    "# istitle - every element in string is title case or not - (First letter of every word in string is in capital letter)\n",
    "\n",
    "# isascii - every element belongs to the ascii table or not in the string\n",
    "# isprintable - whether the string is in printable format\n",
    "# isidentifier - ehther the string is a valid identifier - (exception - reserved words)\n",
    "\n",
    "s1 = 'Python'\n",
    "s2 = '345Python'\n",
    "s3 = '2389752387'\n",
    "s4 = 'hjsbfhd297356#^#&'\n",
    "# print(s1.isalnum())\n",
    "# print(s2.isalnum())\n",
    "# print(s3.isalnum())\n",
    "# print(s4.isalnum())\n",
    "\n",
    "\n",
    "# s5 = '\\n\\t  \\f'\n",
    "# print(s5.isspace())\n",
    "\n",
    "# my_str = 'This Is Python Class'\n",
    "# print(my_str.istitle())\n",
    "\n",
    "\n",
    "# my_str = 'fließen'\n",
    "# print(my_str.isascii())\n",
    "\n",
    "# my_str = 'Python\\\\nclass'\n",
    "# print(my_str.isprintable())\n",
    "# print(my_str)\n",
    "\n",
    "\n",
    "# print('num'.isidentifier())\n",
    "# print('num1'.isidentifier())\n",
    "# print('num1$'.isidentifier())\n",
    "# print('2num1'.isidentifier())\n",
    "\n",
    "# print('while'.isidentifier())\n",
    "\n",
    "\"__name__\".isidentifier()\n",
    "\n",
    "\n"
   ]
  },
  {
   "cell_type": "code",
   "execution_count": 44,
   "metadata": {
    "ExecuteTime": {
     "end_time": "2021-03-07T04:11:00.544842Z",
     "start_time": "2021-03-07T04:11:00.527683Z"
    }
   },
   "outputs": [
    {
     "name": "stdout",
     "output_type": "stream",
     "text": [
      "This is Python class\n"
     ]
    }
   ],
   "source": [
    "# \\ - to escpae a new lin in the multiline string\n",
    "\n",
    "my_str = 'This \\\n",
    "is \\\n",
    "Python \\\n",
    "class'\n",
    "print(my_str)"
   ]
  },
  {
   "cell_type": "code",
   "execution_count": 72,
   "metadata": {
    "ExecuteTime": {
     "end_time": "2021-03-07T04:23:57.365358Z",
     "start_time": "2021-03-07T04:23:57.356683Z"
    }
   },
   "outputs": [
    {
     "name": "stdout",
     "output_type": "stream",
     "text": [
      "This is \\nothing Python class\n"
     ]
    }
   ],
   "source": [
    "# \\\\ - to escape a single \\\n",
    "\n",
    "my_str = 'This is \\\\nothing Python class'\n",
    "print(my_str)\n"
   ]
  },
  {
   "cell_type": "code",
   "execution_count": 50,
   "metadata": {
    "ExecuteTime": {
     "end_time": "2021-03-07T04:13:21.089825Z",
     "start_time": "2021-03-07T04:13:21.083398Z"
    }
   },
   "outputs": [
    {
     "name": "stdout",
     "output_type": "stream",
     "text": [
      "This is Python's class\n"
     ]
    }
   ],
   "source": [
    "# \\' - to escape a single\n",
    "print('This is Python\\'s class')"
   ]
  },
  {
   "cell_type": "code",
   "execution_count": 51,
   "metadata": {
    "ExecuteTime": {
     "end_time": "2021-03-07T04:13:42.850084Z",
     "start_time": "2021-03-07T04:13:42.834748Z"
    }
   },
   "outputs": [
    {
     "name": "stdout",
     "output_type": "stream",
     "text": [
      "This is \"Python\" class\n"
     ]
    }
   ],
   "source": [
    "# \\\"\n",
    "print(\"This is \\\"Python\\\" class\")"
   ]
  },
  {
   "cell_type": "code",
   "execution_count": 52,
   "metadata": {
    "ExecuteTime": {
     "end_time": "2021-03-07T04:14:13.831550Z",
     "start_time": "2021-03-07T04:14:13.825667Z"
    }
   },
   "outputs": [
    {
     "name": "stdout",
     "output_type": "stream",
     "text": [
      "This is \n",
      " Python class\n"
     ]
    }
   ],
   "source": [
    "# \\n - it is a new line character\n",
    "\n",
    "print('This is \\n Python class')\n"
   ]
  },
  {
   "cell_type": "code",
   "execution_count": 53,
   "metadata": {
    "ExecuteTime": {
     "end_time": "2021-03-07T04:15:30.224726Z",
     "start_time": "2021-03-07T04:15:30.215596Z"
    }
   },
   "outputs": [
    {
     "name": "stdout",
     "output_type": "stream",
     "text": [
      "This is \t Python class\n"
     ]
    }
   ],
   "source": [
    "# \\t - it is a tab space character\n",
    "\n",
    "print('This is \\t Python class')"
   ]
  },
  {
   "cell_type": "code",
   "execution_count": 54,
   "metadata": {
    "ExecuteTime": {
     "end_time": "2021-03-07T04:15:51.276944Z",
     "start_time": "2021-03-07T04:15:51.270809Z"
    }
   },
   "outputs": [
    {
     "name": "stdout",
     "output_type": "stream",
     "text": [
      "Hello\f",
      "World\n"
     ]
    }
   ],
   "source": [
    "# \\f - form feed\n",
    "\n",
    "print('Hello\\fWorld')"
   ]
  },
  {
   "cell_type": "code",
   "execution_count": 85,
   "metadata": {
    "ExecuteTime": {
     "end_time": "2021-03-07T04:32:02.445197Z",
     "start_time": "2021-03-07T04:32:02.435586Z"
    }
   },
   "outputs": [
    {
     "name": "stdout",
     "output_type": "stream",
     "text": [
      "fließen\n",
      "fliessen\n"
     ]
    }
   ],
   "source": [
    "# 'capitalize', 'casefold', 'lower', 'swapcase', 'title', 'upper', \n",
    "# Used to change teh case of strings\n",
    "\n",
    "my_str = 'this is Python class'\n",
    "# print(my_str.capitalize())\n",
    "# print(my_str.lower())\n",
    "# print(my_str.upper())\n",
    "# print(my_str.title())\n",
    "# print(my_str.swapcase())\n",
    "# print(my_str.casefold())\n",
    "\n",
    "# my_str = 'fließen'\n",
    "# print(my_str.lower())\n",
    "# print(my_str.casefold())\n"
   ]
  },
  {
   "cell_type": "code",
   "execution_count": 101,
   "metadata": {
    "ExecuteTime": {
     "end_time": "2021-03-07T04:41:09.509310Z",
     "start_time": "2021-03-07T04:41:09.495153Z"
    }
   },
   "outputs": [
    {
     "name": "stdout",
     "output_type": "stream",
     "text": [
      "True\n",
      "True\n",
      "True\n",
      "True\n"
     ]
    }
   ],
   "source": [
    "# 'endswith', 'startswith', \n",
    "# Returns Boolean Value\n",
    "\n",
    "my_str = 'This is Python class 99'\n",
    "# print(my_str.startswith('T'))\n",
    "# print(my_str.startswith('This'))\n",
    "\n",
    "# print(my_str.startswith('P', 8))\n",
    "# print(my_str.startswith('Pyt', 10))\n",
    "\n",
    "\n",
    "# print(my_str.endswith('9', -1))\n",
    "# print(my_str.endswith('99'))\n",
    "\n",
    "# print(my_str.endswith('9', 22))\n",
    "# print(my_str.endswith('Pyt', 0, 11))\n"
   ]
  },
  {
   "cell_type": "code",
   "execution_count": 105,
   "metadata": {
    "ExecuteTime": {
     "end_time": "2021-03-07T04:58:37.890558Z",
     "start_time": "2021-03-07T04:58:37.880464Z"
    }
   },
   "outputs": [
    {
     "name": "stdout",
     "output_type": "stream",
     "text": [
      "1\n",
      "5\n"
     ]
    }
   ],
   "source": [
    "# count - \n",
    "my_str = 'peter piper picked a peck of pikled peppers'\n",
    "print(my_str.count('p', 10, 20))\n",
    "print(my_str.count('pe'))\n",
    "\n",
    "\n",
    "\n",
    "\n",
    "\n"
   ]
  },
  {
   "cell_type": "code",
   "execution_count": 111,
   "metadata": {
    "ExecuteTime": {
     "end_time": "2021-03-07T05:03:14.632588Z",
     "start_time": "2021-03-07T05:03:14.615963Z"
    }
   },
   "outputs": [
    {
     "name": "stdout",
     "output_type": "stream",
     "text": [
      "6\n",
      "29\n",
      "12\n"
     ]
    },
    {
     "ename": "ValueError",
     "evalue": "substring not found",
     "output_type": "error",
     "traceback": [
      "\u001b[0;31m---------------------------------------------------------------------------\u001b[0m",
      "\u001b[0;31mValueError\u001b[0m                                Traceback (most recent call last)",
      "\u001b[0;32m<ipython-input-111-8641ac6fe533>\u001b[0m in \u001b[0;36m<module>\u001b[0;34m\u001b[0m\n\u001b[1;32m     17\u001b[0m \u001b[0mprint\u001b[0m\u001b[0;34m(\u001b[0m\u001b[0mmy_str\u001b[0m\u001b[0;34m.\u001b[0m\u001b[0mrindex\u001b[0m\u001b[0;34m(\u001b[0m\u001b[0;34m'pi'\u001b[0m\u001b[0;34m)\u001b[0m\u001b[0;34m)\u001b[0m\u001b[0;34m\u001b[0m\u001b[0;34m\u001b[0m\u001b[0m\n\u001b[1;32m     18\u001b[0m \u001b[0mprint\u001b[0m\u001b[0;34m(\u001b[0m\u001b[0mmy_str\u001b[0m\u001b[0;34m.\u001b[0m\u001b[0mrindex\u001b[0m\u001b[0;34m(\u001b[0m\u001b[0;34m'pi'\u001b[0m\u001b[0;34m,\u001b[0m \u001b[0;36m10\u001b[0m\u001b[0;34m,\u001b[0m \u001b[0;36m20\u001b[0m\u001b[0;34m)\u001b[0m\u001b[0;34m)\u001b[0m\u001b[0;34m\u001b[0m\u001b[0;34m\u001b[0m\u001b[0m\n\u001b[0;32m---> 19\u001b[0;31m \u001b[0mprint\u001b[0m\u001b[0;34m(\u001b[0m\u001b[0mmy_str\u001b[0m\u001b[0;34m.\u001b[0m\u001b[0mrindex\u001b[0m\u001b[0;34m(\u001b[0m\u001b[0;34m'zi'\u001b[0m\u001b[0;34m,\u001b[0m \u001b[0;36m10\u001b[0m\u001b[0;34m,\u001b[0m \u001b[0;36m20\u001b[0m\u001b[0;34m)\u001b[0m\u001b[0;34m)\u001b[0m\u001b[0;34m\u001b[0m\u001b[0;34m\u001b[0m\u001b[0m\n\u001b[0m\u001b[1;32m     20\u001b[0m \u001b[0;34m\u001b[0m\u001b[0m\n",
      "\u001b[0;31mValueError\u001b[0m: substring not found"
     ]
    }
   ],
   "source": [
    "# find - \n",
    "# rfind - \n",
    "\n",
    "\n",
    "# index - \n",
    "# rindex - \n",
    "\n",
    "\n",
    "my_str = 'peter piper picked a peck of pikled peppers'\n",
    "# print(my_str.find('pi'))\n",
    "# print(my_str.rfind('pi'))\n",
    "# print(my_str.rfind('pi', 10, 20))\n",
    "# print(my_str.rfind('zi', 10, 20))\n",
    "\n",
    "\n",
    "# print(my_str.index('pi'))\n",
    "# print(my_str.rindex('pi'))\n",
    "# print(my_str.rindex('pi', 10, 20))\n",
    "# print(my_str.rindex('zi', 10, 20))\n",
    "\n"
   ]
  },
  {
   "cell_type": "code",
   "execution_count": 114,
   "metadata": {
    "ExecuteTime": {
     "end_time": "2021-03-07T05:06:19.121875Z",
     "start_time": "2021-03-07T05:06:19.115130Z"
    }
   },
   "outputs": [
    {
     "name": "stdout",
     "output_type": "stream",
     "text": [
      "This is      Python class\n",
      "This is      Python class        \n",
      "        This is      Python class\n"
     ]
    }
   ],
   "source": [
    "# strip\n",
    "\n",
    "my_str = '        This is      Python class        '\n",
    "print(my_str.strip())\n",
    "print(my_str.lstrip())\n",
    "print(my_str.rstrip())\n",
    "\n",
    "\n",
    "\n",
    "\n",
    "\n",
    "\n"
   ]
  },
  {
   "cell_type": "code",
   "execution_count": 118,
   "metadata": {
    "ExecuteTime": {
     "end_time": "2021-03-07T05:08:08.951107Z",
     "start_time": "2021-03-07T05:08:08.940800Z"
    }
   },
   "outputs": [
    {
     "name": "stdout",
     "output_type": "stream",
     "text": [
      "Jython\n"
     ]
    }
   ],
   "source": [
    "# replace\n",
    "\n",
    "my_str = 'Python'\n",
    "print(my_str.replace('P', 'J'))\n",
    "\n",
    "\n",
    "\n",
    "\n"
   ]
  },
  {
   "cell_type": "code",
   "execution_count": 125,
   "metadata": {
    "ExecuteTime": {
     "end_time": "2021-03-07T05:10:45.554826Z",
     "start_time": "2021-03-07T05:10:45.546607Z"
    }
   },
   "outputs": [
    {
     "name": "stdout",
     "output_type": "stream",
     "text": [
      "['Th', 's ', 's Python class']\n",
      "This   is   Python   class\n"
     ]
    }
   ],
   "source": [
    "# split, join\n",
    "\n",
    "# my_str = 'This is Python class'\n",
    "print(my_str.split('i'))\n",
    "\n",
    "\n",
    "# join - joins a list of tring to a string\n",
    "\n",
    "# lst = ['This', 'is', 'Python', 'class']\n",
    "# print('   '.join(lst))\n",
    "\n",
    "\n",
    "\n",
    "\n",
    "\n",
    "\n"
   ]
  },
  {
   "cell_type": "code",
   "execution_count": 128,
   "metadata": {
    "ExecuteTime": {
     "end_time": "2021-03-07T05:14:14.436741Z",
     "start_time": "2021-03-07T05:14:14.425308Z"
    }
   },
   "outputs": [
    {
     "data": {
      "text/plain": [
       "'Thiz::iz::Python::clazz'"
      ]
     },
     "execution_count": 128,
     "metadata": {},
     "output_type": "execute_result"
    }
   ],
   "source": [
    "my_str = '   This is Python class  '\n",
    "\n",
    "\"::\".join(my_str.split()).replace('s', 'z')\n",
    "\n",
    "\n",
    "\n",
    "# Learning Python\n",
    "\n",
    "\n",
    "\n",
    "\n"
   ]
  },
  {
   "cell_type": "code",
   "execution_count": 162,
   "metadata": {
    "ExecuteTime": {
     "end_time": "2021-03-07T05:52:51.399781Z",
     "start_time": "2021-03-07T05:52:51.392005Z"
    }
   },
   "outputs": [
    {
     "data": {
      "text/plain": [
       "'a'"
      ]
     },
     "execution_count": 162,
     "metadata": {},
     "output_type": "execute_result"
    }
   ],
   "source": [
    "\n",
    "# Write a Python program to add 'ing' at the end of a given string (length should be at least 3). \n",
    "# If the given string already ends with 'ing' then add 'ly' instead. \n",
    "# If the string length of the given string is less than 3, leave it unchanged. \n",
    "# Sample String : 'abc'\n",
    "# Expected Result : 'abcing'\n",
    "# Sample String : 'string'\n",
    "# Expected Result : 'stringly'\n",
    "\n",
    "    \n",
    "# my_str = \"king\"\n",
    "\n",
    "# if(len(my_str) > 3):\n",
    "#     if my_str.endswith(\"ing\"):\n",
    "#         my_str = my_str + \"ly\"\n",
    "#         print(my_str)\n",
    "#     else:\n",
    "#         my_str = my_str +\"ing\"\n",
    "#         print(my_str)\n",
    "\n",
    "# 8. Write a Python program that takes a list of words and returns the longest word and the length of the \n",
    "# longest one. \n",
    "# input_str = 'peter piper picked a peck of pikled peppers'\n",
    "# Sample Output:\n",
    "# Longest word: Exercises\n",
    "# Length of the longest word: 9\n",
    "\n",
    "my_str = 'peter piper picked a peck of pikled peppers'.split()\n",
    "# print(my_str)\n",
    "# max_len = 0\n",
    "# max_word = ''\n",
    "# for i in my_str:\n",
    "#     if len(i)>max_len:\n",
    "#         max_len = len(i) \n",
    "#         max_word = i\n",
    "# print(max_len)\n",
    "# print(max_word)\n",
    "\n",
    "# sorted(my_str, key = len, reverse = True)[0]\n",
    "\n",
    "# sorted([10,20,11,2,1,100,20,29])\n",
    "\n",
    "        \n",
    "\n",
    "# min([10,20,11,2,1,100,20,29])\n",
    "\n",
    "# sorted('Python')\n",
    "\n",
    "min(my_str, key = len)\n",
    "\n",
    "\n",
    "\n",
    "# 14. Write a Python program that accepts a comma separated sequence of words as input and prints \n",
    "# the unique words in sorted form (alphanumerically).\n",
    "# Sample Words : red, white, black, red, green, black\n",
    "# Expected Result : black, green, red, white,red\n",
    "    \n",
    "# Write a Python program to count Uppercase, Lowercase, special character and numeric values in a given string.\n"
   ]
  },
  {
   "cell_type": "code",
   "execution_count": 129,
   "metadata": {
    "ExecuteTime": {
     "end_time": "2021-03-07T05:30:45.518618Z",
     "start_time": "2021-03-07T05:30:45.511696Z"
    }
   },
   "outputs": [
    {
     "name": "stdout",
     "output_type": "stream",
     "text": [
      "['__add__', '__class__', '__contains__', '__delattr__', '__dir__', '__doc__', '__eq__', '__format__', '__ge__', '__getattribute__', '__getitem__', '__getnewargs__', '__gt__', '__hash__', '__init__', '__init_subclass__', '__iter__', '__le__', '__len__', '__lt__', '__mod__', '__mul__', '__ne__', '__new__', '__reduce__', '__reduce_ex__', '__repr__', '__rmod__', '__rmul__', '__setattr__', '__sizeof__', '__str__', '__subclasshook__', 'capitalize', 'casefold', 'center', 'count', 'encode', 'endswith', 'expandtabs', 'find', 'format', 'format_map', 'index', 'isalnum', 'isalpha', 'isascii', 'isdecimal', 'isdigit', 'isidentifier', 'islower', 'isnumeric', 'isprintable', 'isspace', 'istitle', 'isupper', 'join', 'ljust', 'lower', 'lstrip', 'maketrans', 'partition', 'replace', 'rfind', 'rindex', 'rjust', 'rpartition', 'rsplit', 'rstrip', 'split', 'splitlines', 'startswith', 'strip', 'swapcase', 'title', 'translate', 'upper', 'zfill']\n"
     ]
    }
   ],
   "source": [
    "print(dir(str))\n",
    "\n",
    "\n"
   ]
  },
  {
   "cell_type": "code",
   "execution_count": 165,
   "metadata": {
    "ExecuteTime": {
     "end_time": "2021-03-07T05:54:04.594093Z",
     "start_time": "2021-03-07T05:54:04.589454Z"
    }
   },
   "outputs": [],
   "source": [
    "# print(dir(__builtins__))\n",
    "\n",
    "\n",
    "# 'abs', 'all', 'any', 'ascii', 'bin', 'bool', 'breakpoint', 'bytearray', 'bytes', 'callable', 'chr', \n",
    "# 'classmethod', 'compile', 'complex', 'copyright', 'credits', 'delattr', 'dict', 'dir', 'display', \n",
    "# 'divmod', 'enumerate', 'eval', 'exec', 'filter', 'float', 'format', 'frozenset', 'get_ipython', \n",
    "# 'getattr', 'globals', 'hasattr', 'hash', 'help', 'hex', 'id', 'input', 'int', 'isinstance', 'issubclass', \n",
    "# 'iter', 'len', 'license', 'list', 'locals', 'map', 'max', 'memoryview', 'min', 'next', 'object', 'oct', 'open', \n",
    "# 'ord', 'pow', 'print', 'property', 'range', 'repr', 'reversed', 'round', 'set', 'setattr', 'slice', 'sorted', \n",
    "# 'staticmethod', 'str', 'sum', 'super', 'tuple', 'type', 'vars', 'zip'\n"
   ]
  },
  {
   "cell_type": "code",
   "execution_count": null,
   "metadata": {},
   "outputs": [],
   "source": []
  },
  {
   "cell_type": "code",
   "execution_count": null,
   "metadata": {},
   "outputs": [],
   "source": []
  },
  {
   "cell_type": "code",
   "execution_count": null,
   "metadata": {},
   "outputs": [],
   "source": []
  },
  {
   "cell_type": "code",
   "execution_count": null,
   "metadata": {},
   "outputs": [],
   "source": []
  },
  {
   "cell_type": "code",
   "execution_count": null,
   "metadata": {},
   "outputs": [],
   "source": []
  },
  {
   "cell_type": "code",
   "execution_count": null,
   "metadata": {},
   "outputs": [],
   "source": []
  },
  {
   "cell_type": "code",
   "execution_count": null,
   "metadata": {},
   "outputs": [],
   "source": []
  },
  {
   "cell_type": "code",
   "execution_count": null,
   "metadata": {},
   "outputs": [],
   "source": []
  },
  {
   "cell_type": "code",
   "execution_count": null,
   "metadata": {},
   "outputs": [],
   "source": []
  },
  {
   "cell_type": "code",
   "execution_count": null,
   "metadata": {},
   "outputs": [],
   "source": []
  },
  {
   "cell_type": "code",
   "execution_count": null,
   "metadata": {},
   "outputs": [],
   "source": []
  },
  {
   "cell_type": "code",
   "execution_count": null,
   "metadata": {},
   "outputs": [],
   "source": []
  },
  {
   "cell_type": "code",
   "execution_count": null,
   "metadata": {},
   "outputs": [],
   "source": []
  },
  {
   "cell_type": "code",
   "execution_count": null,
   "metadata": {},
   "outputs": [],
   "source": []
  },
  {
   "cell_type": "code",
   "execution_count": null,
   "metadata": {},
   "outputs": [],
   "source": []
  },
  {
   "cell_type": "code",
   "execution_count": null,
   "metadata": {},
   "outputs": [],
   "source": []
  },
  {
   "cell_type": "code",
   "execution_count": null,
   "metadata": {},
   "outputs": [],
   "source": []
  },
  {
   "cell_type": "code",
   "execution_count": null,
   "metadata": {},
   "outputs": [],
   "source": []
  },
  {
   "cell_type": "code",
   "execution_count": null,
   "metadata": {},
   "outputs": [],
   "source": []
  },
  {
   "cell_type": "code",
   "execution_count": null,
   "metadata": {},
   "outputs": [],
   "source": []
  },
  {
   "cell_type": "code",
   "execution_count": null,
   "metadata": {},
   "outputs": [],
   "source": []
  },
  {
   "cell_type": "code",
   "execution_count": null,
   "metadata": {},
   "outputs": [],
   "source": []
  },
  {
   "cell_type": "code",
   "execution_count": null,
   "metadata": {},
   "outputs": [],
   "source": []
  },
  {
   "cell_type": "code",
   "execution_count": null,
   "metadata": {},
   "outputs": [],
   "source": []
  },
  {
   "cell_type": "code",
   "execution_count": null,
   "metadata": {},
   "outputs": [],
   "source": []
  },
  {
   "cell_type": "code",
   "execution_count": null,
   "metadata": {},
   "outputs": [],
   "source": []
  },
  {
   "cell_type": "code",
   "execution_count": null,
   "metadata": {},
   "outputs": [],
   "source": []
  },
  {
   "cell_type": "code",
   "execution_count": null,
   "metadata": {},
   "outputs": [],
   "source": []
  },
  {
   "cell_type": "code",
   "execution_count": null,
   "metadata": {},
   "outputs": [],
   "source": []
  },
  {
   "cell_type": "code",
   "execution_count": null,
   "metadata": {},
   "outputs": [],
   "source": []
  },
  {
   "cell_type": "code",
   "execution_count": null,
   "metadata": {},
   "outputs": [],
   "source": []
  },
  {
   "cell_type": "code",
   "execution_count": null,
   "metadata": {},
   "outputs": [],
   "source": []
  },
  {
   "cell_type": "code",
   "execution_count": null,
   "metadata": {},
   "outputs": [],
   "source": []
  },
  {
   "cell_type": "code",
   "execution_count": null,
   "metadata": {},
   "outputs": [],
   "source": []
  },
  {
   "cell_type": "code",
   "execution_count": null,
   "metadata": {},
   "outputs": [],
   "source": []
  },
  {
   "cell_type": "code",
   "execution_count": null,
   "metadata": {},
   "outputs": [],
   "source": []
  },
  {
   "cell_type": "code",
   "execution_count": null,
   "metadata": {},
   "outputs": [],
   "source": []
  },
  {
   "cell_type": "code",
   "execution_count": null,
   "metadata": {},
   "outputs": [],
   "source": []
  },
  {
   "cell_type": "code",
   "execution_count": null,
   "metadata": {},
   "outputs": [],
   "source": []
  },
  {
   "cell_type": "code",
   "execution_count": null,
   "metadata": {},
   "outputs": [],
   "source": []
  },
  {
   "cell_type": "code",
   "execution_count": null,
   "metadata": {},
   "outputs": [],
   "source": []
  },
  {
   "cell_type": "code",
   "execution_count": null,
   "metadata": {},
   "outputs": [],
   "source": []
  },
  {
   "cell_type": "code",
   "execution_count": null,
   "metadata": {},
   "outputs": [],
   "source": []
  },
  {
   "cell_type": "code",
   "execution_count": null,
   "metadata": {},
   "outputs": [],
   "source": []
  },
  {
   "cell_type": "code",
   "execution_count": null,
   "metadata": {},
   "outputs": [],
   "source": []
  },
  {
   "cell_type": "code",
   "execution_count": null,
   "metadata": {},
   "outputs": [],
   "source": []
  },
  {
   "cell_type": "code",
   "execution_count": null,
   "metadata": {},
   "outputs": [],
   "source": []
  },
  {
   "cell_type": "code",
   "execution_count": null,
   "metadata": {},
   "outputs": [],
   "source": []
  },
  {
   "cell_type": "code",
   "execution_count": null,
   "metadata": {},
   "outputs": [],
   "source": []
  },
  {
   "cell_type": "code",
   "execution_count": null,
   "metadata": {},
   "outputs": [],
   "source": []
  },
  {
   "cell_type": "code",
   "execution_count": null,
   "metadata": {},
   "outputs": [],
   "source": []
  },
  {
   "cell_type": "code",
   "execution_count": null,
   "metadata": {},
   "outputs": [],
   "source": []
  },
  {
   "cell_type": "code",
   "execution_count": null,
   "metadata": {},
   "outputs": [],
   "source": []
  },
  {
   "cell_type": "code",
   "execution_count": null,
   "metadata": {},
   "outputs": [],
   "source": []
  },
  {
   "cell_type": "code",
   "execution_count": null,
   "metadata": {},
   "outputs": [],
   "source": []
  },
  {
   "cell_type": "code",
   "execution_count": null,
   "metadata": {},
   "outputs": [],
   "source": []
  },
  {
   "cell_type": "code",
   "execution_count": null,
   "metadata": {},
   "outputs": [],
   "source": []
  },
  {
   "cell_type": "code",
   "execution_count": null,
   "metadata": {},
   "outputs": [],
   "source": []
  },
  {
   "cell_type": "code",
   "execution_count": null,
   "metadata": {},
   "outputs": [],
   "source": []
  },
  {
   "cell_type": "code",
   "execution_count": null,
   "metadata": {},
   "outputs": [],
   "source": []
  },
  {
   "cell_type": "code",
   "execution_count": null,
   "metadata": {},
   "outputs": [],
   "source": []
  },
  {
   "cell_type": "code",
   "execution_count": null,
   "metadata": {},
   "outputs": [],
   "source": []
  },
  {
   "cell_type": "code",
   "execution_count": null,
   "metadata": {},
   "outputs": [],
   "source": []
  },
  {
   "cell_type": "code",
   "execution_count": null,
   "metadata": {},
   "outputs": [],
   "source": []
  },
  {
   "cell_type": "code",
   "execution_count": null,
   "metadata": {},
   "outputs": [],
   "source": []
  },
  {
   "cell_type": "code",
   "execution_count": null,
   "metadata": {},
   "outputs": [],
   "source": []
  },
  {
   "cell_type": "code",
   "execution_count": null,
   "metadata": {},
   "outputs": [],
   "source": []
  },
  {
   "cell_type": "code",
   "execution_count": null,
   "metadata": {},
   "outputs": [],
   "source": []
  },
  {
   "cell_type": "code",
   "execution_count": null,
   "metadata": {},
   "outputs": [],
   "source": []
  },
  {
   "cell_type": "code",
   "execution_count": null,
   "metadata": {},
   "outputs": [],
   "source": []
  },
  {
   "cell_type": "code",
   "execution_count": null,
   "metadata": {},
   "outputs": [],
   "source": []
  },
  {
   "cell_type": "code",
   "execution_count": null,
   "metadata": {},
   "outputs": [],
   "source": []
  },
  {
   "cell_type": "code",
   "execution_count": null,
   "metadata": {},
   "outputs": [],
   "source": []
  },
  {
   "cell_type": "code",
   "execution_count": null,
   "metadata": {},
   "outputs": [],
   "source": []
  },
  {
   "cell_type": "code",
   "execution_count": null,
   "metadata": {},
   "outputs": [],
   "source": []
  },
  {
   "cell_type": "code",
   "execution_count": null,
   "metadata": {},
   "outputs": [],
   "source": []
  }
 ],
 "metadata": {
  "kernelspec": {
   "display_name": "Python 3",
   "language": "python",
   "name": "python3"
  },
  "language_info": {
   "codemirror_mode": {
    "name": "ipython",
    "version": 3
   },
   "file_extension": ".py",
   "mimetype": "text/x-python",
   "name": "python",
   "nbconvert_exporter": "python",
   "pygments_lexer": "ipython3",
   "version": "3.8.2"
  },
  "latex_envs": {
   "LaTeX_envs_menu_present": true,
   "autoclose": false,
   "autocomplete": true,
   "bibliofile": "biblio.bib",
   "cite_by": "apalike",
   "current_citInitial": 1,
   "eqLabelWithNumbers": true,
   "eqNumInitial": 1,
   "hotkeys": {
    "equation": "Ctrl-E",
    "itemize": "Ctrl-I"
   },
   "labels_anchors": false,
   "latex_user_defs": false,
   "report_style_numbering": false,
   "user_envs_cfg": false
  },
  "varInspector": {
   "cols": {
    "lenName": 16,
    "lenType": 16,
    "lenVar": 40
   },
   "kernels_config": {
    "python": {
     "delete_cmd_postfix": "",
     "delete_cmd_prefix": "del ",
     "library": "var_list.py",
     "varRefreshCmd": "print(var_dic_list())"
    },
    "r": {
     "delete_cmd_postfix": ") ",
     "delete_cmd_prefix": "rm(",
     "library": "var_list.r",
     "varRefreshCmd": "cat(var_dic_list()) "
    }
   },
   "types_to_exclude": [
    "module",
    "function",
    "builtin_function_or_method",
    "instance",
    "_Feature"
   ],
   "window_display": false
  }
 },
 "nbformat": 4,
 "nbformat_minor": 2
}
