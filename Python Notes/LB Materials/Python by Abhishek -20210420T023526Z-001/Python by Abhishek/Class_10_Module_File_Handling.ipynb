{
 "cells": [
  {
   "cell_type": "code",
   "execution_count": null,
   "metadata": {},
   "outputs": [],
   "source": [
    "Module - A Python file with extension .py is called a module."
   ]
  },
  {
   "cell_type": "code",
   "execution_count": null,
   "metadata": {},
   "outputs": [],
   "source": [
    "Module\n",
    "    Builtin Module - math, os, sys, random, datetime etc\n",
    "    User defined module - "
   ]
  },
  {
   "cell_type": "code",
   "execution_count": 2,
   "metadata": {
    "ExecuteTime": {
     "end_time": "2021-04-03T03:47:01.403899Z",
     "start_time": "2021-04-03T03:47:01.390554Z"
    }
   },
   "outputs": [
    {
     "name": "stdout",
     "output_type": "stream",
     "text": [
      "['In', 'NamespaceMagics', 'Out', '_', '_Jupyter', '__', '___', '__builtin__', '__builtins__', '__doc__', '__loader__', '__name__', '__package__', '__spec__', '_dh', '_getshapeof', '_getsizeof', '_i', '_i1', '_i2', '_ih', '_ii', '_iii', '_nms', '_oh', 'exit', 'get_ipython', 'getsizeof', 'json', 'math', 'np', 'quit', 'var_dic_list']\n",
      "['In', 'NamespaceMagics', 'Out', '_', '_Jupyter', '__', '___', '__builtin__', '__builtins__', '__doc__', '__loader__', '__name__', '__package__', '__spec__', '_dh', '_getshapeof', '_getsizeof', '_i', '_i1', '_i2', '_ih', '_ii', '_iii', '_nms', '_oh', 'exit', 'get_ipython', 'getsizeof', 'json', 'math', 'np', 'quit', 'var_dic_list']\n"
     ]
    }
   ],
   "source": [
    "# Importing a module\n",
    "print(dir())\n",
    "import math\n",
    "print(dir())"
   ]
  },
  {
   "cell_type": "code",
   "execution_count": 3,
   "metadata": {
    "ExecuteTime": {
     "end_time": "2021-04-03T03:47:31.746379Z",
     "start_time": "2021-04-03T03:47:31.736630Z"
    }
   },
   "outputs": [
    {
     "name": "stdout",
     "output_type": "stream",
     "text": [
      "['__doc__', '__file__', '__loader__', '__name__', '__package__', '__spec__', 'acos', 'acosh', 'asin', 'asinh', 'atan', 'atan2', 'atanh', 'ceil', 'comb', 'copysign', 'cos', 'cosh', 'degrees', 'dist', 'e', 'erf', 'erfc', 'exp', 'expm1', 'fabs', 'factorial', 'floor', 'fmod', 'frexp', 'fsum', 'gamma', 'gcd', 'hypot', 'inf', 'isclose', 'isfinite', 'isinf', 'isnan', 'isqrt', 'ldexp', 'lgamma', 'log', 'log10', 'log1p', 'log2', 'modf', 'nan', 'perm', 'pi', 'pow', 'prod', 'radians', 'remainder', 'sin', 'sinh', 'sqrt', 'tan', 'tanh', 'tau', 'trunc']\n"
     ]
    }
   ],
   "source": [
    "print(dir(math))\n"
   ]
  },
  {
   "cell_type": "code",
   "execution_count": 5,
   "metadata": {
    "ExecuteTime": {
     "end_time": "2021-04-03T03:49:12.939486Z",
     "start_time": "2021-04-03T03:49:12.906689Z"
    }
   },
   "outputs": [
    {
     "data": {
      "text/plain": [
       "2.0"
      ]
     },
     "execution_count": 5,
     "metadata": {},
     "output_type": "execute_result"
    }
   ],
   "source": [
    "math.sqrt(4)"
   ]
  },
  {
   "cell_type": "code",
   "execution_count": 6,
   "metadata": {
    "ExecuteTime": {
     "end_time": "2021-04-03T03:52:06.766409Z",
     "start_time": "2021-04-03T03:52:06.757345Z"
    }
   },
   "outputs": [
    {
     "data": {
      "text/plain": [
       "240000"
      ]
     },
     "execution_count": 6,
     "metadata": {},
     "output_type": "execute_result"
    }
   ],
   "source": [
    "math.prod([10,20,30,40])"
   ]
  },
  {
   "cell_type": "code",
   "execution_count": 7,
   "metadata": {
    "ExecuteTime": {
     "end_time": "2021-04-03T03:53:54.114645Z",
     "start_time": "2021-04-03T03:53:54.090476Z"
    }
   },
   "outputs": [
    {
     "data": {
      "text/plain": [
       "120"
      ]
     },
     "execution_count": 7,
     "metadata": {},
     "output_type": "execute_result"
    }
   ],
   "source": [
    "math.factorial(5)"
   ]
  },
  {
   "cell_type": "code",
   "execution_count": 6,
   "metadata": {
    "ExecuteTime": {
     "end_time": "2021-04-03T04:10:06.582326Z",
     "start_time": "2021-04-03T04:10:06.553902Z"
    }
   },
   "outputs": [
    {
     "data": {
      "text/plain": [
       "array([2., 3., 4., 5.])"
      ]
     },
     "execution_count": 6,
     "metadata": {},
     "output_type": "execute_result"
    }
   ],
   "source": [
    "import numpy as np\n",
    "import math\n",
    "arr = np.array([4,9,16, 25])\n",
    "# math.sqrt(arr)\n",
    "np.sqrt(arr)"
   ]
  },
  {
   "cell_type": "code",
   "execution_count": 6,
   "metadata": {
    "ExecuteTime": {
     "end_time": "2021-04-03T04:01:01.025008Z",
     "start_time": "2021-04-03T04:01:01.013082Z"
    }
   },
   "outputs": [
    {
     "name": "stdout",
     "output_type": "stream",
     "text": [
      "['In', 'NamespaceMagics', 'Out', '_', '_5', '_Jupyter', '__', '___', '__builtin__', '__builtins__', '__doc__', '__loader__', '__name__', '__package__', '__spec__', '_dh', '_getshapeof', '_getsizeof', '_i', '_i1', '_i2', '_i3', '_i4', '_i5', '_i6', '_ih', '_ii', '_iii', '_nms', '_oh', 'exit', 'get_ipython', 'getsizeof', 'json', 'm', 'np', 'quit', 'var_dic_list']\n",
      "['In', 'NamespaceMagics', 'Out', '_', '_5', '_Jupyter', '__', '___', '__builtin__', '__builtins__', '__doc__', '__loader__', '__name__', '__package__', '__spec__', '_dh', '_getshapeof', '_getsizeof', '_i', '_i1', '_i2', '_i3', '_i4', '_i5', '_i6', '_ih', '_ii', '_iii', '_nms', '_oh', 'exit', 'get_ipython', 'getsizeof', 'json', 'm', 'np', 'quit', 'var_dic_list']\n"
     ]
    }
   ],
   "source": [
    "print(dir())\n",
    "import math as m\n",
    "print(dir())"
   ]
  },
  {
   "cell_type": "code",
   "execution_count": 5,
   "metadata": {
    "ExecuteTime": {
     "end_time": "2021-04-03T04:00:30.404045Z",
     "start_time": "2021-04-03T04:00:30.387569Z"
    }
   },
   "outputs": [
    {
     "data": {
      "text/plain": [
       "2.0"
      ]
     },
     "execution_count": 5,
     "metadata": {},
     "output_type": "execute_result"
    }
   ],
   "source": [
    "# print(dir(m))\n",
    "m.sqrt(4)"
   ]
  },
  {
   "cell_type": "code",
   "execution_count": 7,
   "metadata": {
    "ExecuteTime": {
     "end_time": "2021-04-03T04:05:27.001829Z",
     "start_time": "2021-04-03T04:05:26.988187Z"
    }
   },
   "outputs": [
    {
     "ename": "SyntaxError",
     "evalue": "cannot delete function call (<ipython-input-7-8fb33667b189>, line 6)",
     "output_type": "error",
     "traceback": [
      "\u001b[0;36m  File \u001b[0;32m\"<ipython-input-7-8fb33667b189>\"\u001b[0;36m, line \u001b[0;32m6\u001b[0m\n\u001b[0;31m    del dir(math)\u001b[0m\n\u001b[0m        ^\u001b[0m\n\u001b[0;31mSyntaxError\u001b[0m\u001b[0;31m:\u001b[0m cannot delete function call\n"
     ]
    }
   ],
   "source": [
    "print(dir())\n",
    "from math import *\n",
    "from numpy import *\n",
    "import math\n",
    "print(dir())\n",
    "\n",
    "del dir(math)"
   ]
  },
  {
   "cell_type": "code",
   "execution_count": 2,
   "metadata": {
    "ExecuteTime": {
     "end_time": "2021-04-03T04:03:26.461270Z",
     "start_time": "2021-04-03T04:03:26.441377Z"
    }
   },
   "outputs": [
    {
     "data": {
      "text/plain": [
       "2.0"
      ]
     },
     "execution_count": 2,
     "metadata": {},
     "output_type": "execute_result"
    }
   ],
   "source": [
    "sqrt(4)"
   ]
  },
  {
   "cell_type": "code",
   "execution_count": 8,
   "metadata": {
    "ExecuteTime": {
     "end_time": "2021-04-03T04:06:14.314585Z",
     "start_time": "2021-04-03T04:06:14.309908Z"
    }
   },
   "outputs": [],
   "source": [
    "# dir(math)"
   ]
  },
  {
   "cell_type": "code",
   "execution_count": 7,
   "metadata": {
    "ExecuteTime": {
     "end_time": "2021-04-03T04:10:09.234972Z",
     "start_time": "2021-04-03T04:10:09.227606Z"
    }
   },
   "outputs": [
    {
     "data": {
      "text/plain": [
       "array([2., 3., 4., 5.])"
      ]
     },
     "execution_count": 7,
     "metadata": {},
     "output_type": "execute_result"
    }
   ],
   "source": [
    "from math import sqrt as ms\n",
    "from numpy import sqrt as ns\n",
    "# print(dir())\n",
    "ms(4)\n",
    "ns(arr)"
   ]
  },
  {
   "cell_type": "code",
   "execution_count": 2,
   "metadata": {
    "ExecuteTime": {
     "end_time": "2021-04-03T04:12:57.875435Z",
     "start_time": "2021-04-03T04:12:57.860295Z"
    }
   },
   "outputs": [
    {
     "name": "stdout",
     "output_type": "stream",
     "text": [
      "30\n",
      "10 20\n"
     ]
    }
   ],
   "source": [
    "# Importing user defined module\n",
    "# Importing a module executes the module in your current module namespace\n",
    "\n",
    "import my_mod"
   ]
  },
  {
   "cell_type": "code",
   "execution_count": null,
   "metadata": {},
   "outputs": [],
   "source": [
    "import numpy as np"
   ]
  },
  {
   "cell_type": "code",
   "execution_count": 6,
   "metadata": {
    "ExecuteTime": {
     "end_time": "2021-04-03T04:22:15.747993Z",
     "start_time": "2021-04-03T04:22:15.731074Z"
    }
   },
   "outputs": [],
   "source": [
    "# import xyz"
   ]
  },
  {
   "cell_type": "code",
   "execution_count": 5,
   "metadata": {
    "ExecuteTime": {
     "end_time": "2021-04-03T04:22:13.198830Z",
     "start_time": "2021-04-03T04:22:13.194572Z"
    }
   },
   "outputs": [],
   "source": [
    "# help('import')"
   ]
  },
  {
   "cell_type": "code",
   "execution_count": 7,
   "metadata": {
    "ExecuteTime": {
     "end_time": "2021-04-03T04:22:36.995625Z",
     "start_time": "2021-04-03T04:22:36.984693Z"
    }
   },
   "outputs": [
    {
     "name": "stdout",
     "output_type": "stream",
     "text": [
      "['In', 'NamespaceMagics', 'Out', '_', '_Jupyter', '__', '___', '__builtin__', '__builtins__', '__doc__', '__loader__', '__name__', '__package__', '__spec__', '_dh', '_getshapeof', '_getsizeof', '_i', '_i1', '_i2', '_i3', '_i4', '_i5', '_i6', '_i7', '_ih', '_ii', '_iii', '_nms', '_oh', 'exit', 'get_ipython', 'getsizeof', 'json', 'my_mod', 'np', 'quit', 'var_dic_list']\n"
     ]
    }
   ],
   "source": [
    "print(dir())"
   ]
  },
  {
   "cell_type": "code",
   "execution_count": 8,
   "metadata": {
    "ExecuteTime": {
     "end_time": "2021-04-03T04:22:45.646701Z",
     "start_time": "2021-04-03T04:22:45.641509Z"
    }
   },
   "outputs": [],
   "source": [
    "del np"
   ]
  },
  {
   "cell_type": "code",
   "execution_count": 9,
   "metadata": {
    "ExecuteTime": {
     "end_time": "2021-04-03T04:22:50.210742Z",
     "start_time": "2021-04-03T04:22:50.196747Z"
    }
   },
   "outputs": [
    {
     "name": "stdout",
     "output_type": "stream",
     "text": [
      "['In', 'NamespaceMagics', 'Out', '_', '_Jupyter', '__', '___', '__builtin__', '__builtins__', '__doc__', '__loader__', '__name__', '__package__', '__spec__', '_dh', '_getshapeof', '_getsizeof', '_i', '_i1', '_i2', '_i3', '_i4', '_i5', '_i6', '_i7', '_i8', '_i9', '_ih', '_ii', '_iii', '_nms', '_oh', 'exit', 'get_ipython', 'getsizeof', 'json', 'my_mod', 'quit', 'var_dic_list']\n"
     ]
    }
   ],
   "source": [
    "print(dir())"
   ]
  },
  {
   "cell_type": "code",
   "execution_count": null,
   "metadata": {},
   "outputs": [],
   "source": []
  },
  {
   "cell_type": "code",
   "execution_count": 6,
   "metadata": {
    "ExecuteTime": {
     "end_time": "2021-04-03T04:36:25.538888Z",
     "start_time": "2021-04-03T04:36:25.534292Z"
    }
   },
   "outputs": [],
   "source": [
    "import my_mod\n",
    "\n",
    "# my_mod.__name__ = '__main__'\n",
    "# my_mod.__name__"
   ]
  },
  {
   "cell_type": "code",
   "execution_count": 7,
   "metadata": {
    "ExecuteTime": {
     "end_time": "2021-04-03T04:36:28.067666Z",
     "start_time": "2021-04-03T04:36:28.061456Z"
    }
   },
   "outputs": [],
   "source": [
    "# print(dir(my_mod))"
   ]
  },
  {
   "cell_type": "markdown",
   "metadata": {},
   "source": [
    "# File Handling"
   ]
  },
  {
   "cell_type": "code",
   "execution_count": null,
   "metadata": {},
   "outputs": [],
   "source": [
    "# Text file \n",
    "# Binary File - "
   ]
  },
  {
   "cell_type": "code",
   "execution_count": null,
   "metadata": {},
   "outputs": [],
   "source": [
    "# f = open(file_name.ext, 'mode')\n",
    "# f.close()"
   ]
  },
  {
   "cell_type": "code",
   "execution_count": null,
   "metadata": {},
   "outputs": [],
   "source": [
    "# read, write, tell, seek\n",
    "# data read from the file is in string format"
   ]
  },
  {
   "cell_type": "code",
   "execution_count": null,
   "metadata": {},
   "outputs": [],
   "source": [
    "# Mode of operation - Text File\n",
    "    Read Mode - 'r'\n",
    "    Write mode - 'w'\n",
    "    Append mode - 'a'\n",
    "    Read and write mode - 'r+'\n",
    "    Write and read mode - 'w+'\n",
    "    Append and Read mode - 'a+'\n",
    "    \n",
    "# Mode of operation - Binary File\n",
    "    Read Mode - 'rb'\n",
    "    Write mode - 'wb'\n",
    "    Append mode - 'ab'\n",
    "    Read and write mode - 'r+b'\n",
    "    Write and read mode - 'w+b'\n",
    "    Append and Read mode - 'a+b'"
   ]
  },
  {
   "cell_type": "code",
   "execution_count": 15,
   "metadata": {
    "ExecuteTime": {
     "end_time": "2021-04-03T04:51:45.035167Z",
     "start_time": "2021-04-03T04:51:45.020888Z"
    }
   },
   "outputs": [
    {
     "name": "stdout",
     "output_type": "stream",
     "text": [
      "<_io.TextIOWrapper name='untitled.xlsx' mode='r' encoding='UTF-8'> <class '_io.TextIOWrapper'>\n"
     ]
    }
   ],
   "source": [
    "# f = open(r'untitled.xlsx', 'r')\n",
    "# print(f, type(f))\n",
    "# f.close()"
   ]
  },
  {
   "cell_type": "code",
   "execution_count": 7,
   "metadata": {
    "ExecuteTime": {
     "end_time": "2021-04-03T05:50:26.306816Z",
     "start_time": "2021-04-03T05:50:26.291565Z"
    }
   },
   "outputs": [
    {
     "name": "stdout",
     "output_type": "stream",
     "text": [
      "\n",
      "hello World\n",
      "\\\\nmod.py','r')\n",
      "print(f.tell())\n",
      "f.seek(200)\n",
      "my_str = f.readlines(2)\n",
      "print(my_str, type(my_str))\n",
      "f.write('Hello')                    # UnsupportedOperation: not writable\n",
      "f.close()\n",
      "\n",
      "f = open('my_mod.txt', 'r')\n",
      "f.close()\n"
     ]
    }
   ],
   "source": [
    "# Read mode - 'r'\n",
    "# If the file exist then file will be openend in read mode the cursor will be placed at the begining of the file.\n",
    "# If file does not exist then it will give you 'FileNotFoundError'.\n",
    "# You are allowed only to read from the file not allowed to write into the file.\n",
    "\n",
    "# f = open('my_mod.py','r')\n",
    "# print(f.tell())\n",
    "# f.seek(200)\n",
    "# my_str = f.readlines(2)\n",
    "# print(my_str, type(my_str))\n",
    "# f.write('Hello')                    # UnsupportedOperation: not writable\n",
    "# f.close()\n",
    "\n",
    "# f = open('my_mod.txt', 'r')\n",
    "# f.close()\n",
    "\n",
    "\n",
    "# Write mode - 'w'\n",
    "# If the file exist then file will be openend in write modeafter deleting the content of the file\n",
    "# If file does not exist then it will create a file with given name.\n",
    "# You are allowed only to write into the file not allowed to read from the file.\n",
    "# f = open('my_mod.txt', 'w')\n",
    "# f.write('Hello')\n",
    "# f.close()\n",
    "\n",
    "# f = open('my_mod.py', 'w')\n",
    "# f.write('Python File')\n",
    "# print(f.tell())\n",
    "# f.seek(0)\n",
    "# print(f.read())\n",
    "# f.close()\n",
    "\n",
    "# Append mode - 'a'\n",
    "# If the file exist then file will be openend in write mode and places the cursor at the end of the file.\n",
    "# If file does not exist then it will create a file with given name.\n",
    "# You are allowed only to write into the file not allowed to read from the file.\n",
    "# f = open('my_mod1.txt', 'a')\n",
    "# f.write('Hello')\n",
    "# f.close()\n",
    "\n",
    "# f = open('my_mod.py', 'a')\n",
    "# print(f.tell())\n",
    "# f.seek(0)\n",
    "# f.write('\\n\\nHello Python')\n",
    "# f.close()\n",
    "\n",
    "# read and write mode - 'r+'\n",
    "# If the file exist then file will be openend in read mode the cursor will be placed at the begining of the file.\n",
    "# If file does not exist then it will give you 'FileNotFoundError'.\n",
    "# You are allowed to read and write both.\n",
    "# f = open('my_mod.py', 'r+')\n",
    "# print(f.read())\n",
    "# f.seek(0)\n",
    "# f.write('Hello')\n",
    "# f.close()\n",
    "\n",
    "\n",
    "# Write mode and read - 'w+'\n",
    "# If the file exist then file will be openend in write modeafter deleting the content of the file\n",
    "# If file does not exist then it will create a file with given name.\n",
    "# You are allowed to read and write both.\n",
    "\n",
    "# f = open('my_mod.py', 'w+')\n",
    "# print(f.read())\n",
    "# f.write('Hello')\n",
    "# f.close()\n",
    "\n",
    "# Append and read mode - 'a+'\n",
    "# If the file exist then file will be openend in write mode and places the cursor at the end of the file.\n",
    "# If file does not exist then it will create a file with given name.\n",
    "# You are allowed to read and write both.\n",
    "# f = open('my_mod.py', 'a+')\n",
    "# print(f.read())\n",
    "# f.write('\\nHello Python')\n",
    "# f.close()\n",
    "\n",
    "\n",
    "# Funtions to read and write the content \n",
    "# read() - read the whole content of the file from current cursor position and returns a string object\n",
    "# read(no of char) - reads the specified no of characters from current cursor position\n",
    "# readline() - read one line from current cursor position and returns a string object\n",
    "# readlines() - read the whole content of teh file and returns a list of string where ever element of list is a line\n",
    "\n",
    "\n",
    "# write(string) - write the string passed to the file at current position\n",
    "# writelines(['str1\\n', 'str2\\n', 'str3\\n'..]) - write the string passed to the file at current position\n",
    "\n",
    "\n",
    "# f = open('my_mod.py', 'r')\n",
    "# # f.seek(10)\n",
    "# print(f.readlines())\n",
    "# f.close()\n",
    "\n",
    "# f = open('my_mod.py', 'r+')\n",
    "# f.write('\\nhello World\\n')\n",
    "\n",
    "\n",
    "\n",
    "# with\n",
    "with open('my_mod.py', 'r+') as f:\n",
    "    print(f.read())\n",
    "    f.write('Hello')\n",
    "\n"
   ]
  },
  {
   "cell_type": "code",
   "execution_count": null,
   "metadata": {},
   "outputs": [],
   "source": [
    "read() - reads the whole content of the file from current position onwards and returns it in string form."
   ]
  },
  {
   "cell_type": "code",
   "execution_count": 31,
   "metadata": {
    "ExecuteTime": {
     "end_time": "2021-04-03T05:05:03.638005Z",
     "start_time": "2021-04-03T05:05:03.618009Z"
    }
   },
   "outputs": [
    {
     "data": {
      "text/plain": [
       "b'd\\x14\\x1e('"
      ]
     },
     "execution_count": 31,
     "metadata": {},
     "output_type": "execute_result"
    }
   ],
   "source": [
    "bytes([100,20,30,40])"
   ]
  },
  {
   "cell_type": "code",
   "execution_count": null,
   "metadata": {},
   "outputs": [],
   "source": []
  },
  {
   "cell_type": "code",
   "execution_count": 12,
   "metadata": {
    "ExecuteTime": {
     "end_time": "2021-04-03T06:11:38.702846Z",
     "start_time": "2021-04-03T06:11:38.693968Z"
    }
   },
   "outputs": [],
   "source": [
    "# What is Lorem Ipsum?\n",
    "# Lorem Ipsum is simply dummy text of the printing and typesetting industry. \n",
    "# Lorem Ipsum has been the industry standard dummy text ever since the 1500s, when an unknown printer took a galley of type and scrambled it to make a type specimen book. \n",
    "# It has survived not only five centuries, but also the leap into electronic typesetting, remaining essentially unchanged. \n",
    "# It was popularised in the 1960s with the release of Letraset sheets containing Lorem Ipsum passages, and more recently with desktop publishing software like Aldus PageMaker including versions of Lorem Ipsum.\n",
    "# Why do we use it?\n",
    "# It is a long established fact that a reader will be distracted by the readable content of a page when looking at its layout. \n",
    "# The point of using Lorem Ipsum is that it has a more-or-less normal distribution of letters, as opposed to using Content here, content here, making it look like readable English. \n",
    "# Many desktop publishing packages and web page editors now use Lorem Ipsum as their default model text, and a search for  will uncover many web sites still in their infancy. \n",
    "# Various versions have evolved over the years, sometimes by accident, sometimes on purpose (injected humour and the like).\n",
    "\n",
    "\n",
    "# 1. Count the no of chracters, words and lines from the file\n",
    "# 2. Insert one line at line no 6, do not replace it\n",
    "# 3. copy the content of image.png to new.jpeg\n",
    "\n",
    "\n",
    "# with open('my_mod.py', 'r') as f:\n",
    "#     no_of_lines = len(f.readlines())\n",
    "#     f.seek(0)\n",
    "#     no_of_char = len(f.read())\n",
    "#     f.seek(0)\n",
    "#     no_of_word = len(f.read().split())\n",
    "#     print(f'''No of Lines = {no_of_lines}, \n",
    "# No of Words = {no_of_word}, \n",
    "# No of Characters = {no_of_char}''')\n",
    "\n",
    "\n",
    "with open('image.png', 'rb') as f1:\n",
    "    with open('new.jpeg', 'wb') as f2:\n",
    "        f2.write(f1.read())\n",
    "\n",
    "\n",
    "\n"
   ]
  },
  {
   "cell_type": "markdown",
   "metadata": {},
   "source": [
    "# Exception Handling "
   ]
  },
  {
   "cell_type": "code",
   "execution_count": null,
   "metadata": {},
   "outputs": [],
   "source": [
    "Compile time Error - Sytnax, Indentation\n",
    "Run time Error - NameError, TypeError, valueError"
   ]
  },
  {
   "cell_type": "code",
   "execution_count": 13,
   "metadata": {
    "ExecuteTime": {
     "end_time": "2021-04-03T06:18:55.523047Z",
     "start_time": "2021-04-03T06:18:55.517840Z"
    }
   },
   "outputs": [
    {
     "name": "stdout",
     "output_type": "stream",
     "text": [
      "['ArithmeticError', 'AssertionError', 'AttributeError', 'BaseException', 'BlockingIOError', 'BrokenPipeError', 'BufferError', 'BytesWarning', 'ChildProcessError', 'ConnectionAbortedError', 'ConnectionError', 'ConnectionRefusedError', 'ConnectionResetError', 'DeprecationWarning', 'EOFError', 'Ellipsis', 'EnvironmentError', 'Exception', 'False', 'FileExistsError', 'FileNotFoundError', 'FloatingPointError', 'FutureWarning', 'GeneratorExit', 'IOError', 'ImportError', 'ImportWarning', 'IndentationError', 'IndexError', 'InterruptedError', 'IsADirectoryError', 'KeyError', 'KeyboardInterrupt', 'LookupError', 'MemoryError', 'ModuleNotFoundError', 'NameError', 'None', 'NotADirectoryError', 'NotImplemented', 'NotImplementedError', 'OSError', 'OverflowError', 'PendingDeprecationWarning', 'PermissionError', 'ProcessLookupError', 'RecursionError', 'ReferenceError', 'ResourceWarning', 'RuntimeError', 'RuntimeWarning', 'StopAsyncIteration', 'StopIteration', 'SyntaxError', 'SyntaxWarning', 'SystemError', 'SystemExit', 'TabError', 'TimeoutError', 'True', 'TypeError', 'UnboundLocalError', 'UnicodeDecodeError', 'UnicodeEncodeError', 'UnicodeError', 'UnicodeTranslateError', 'UnicodeWarning', 'UserWarning', 'ValueError', 'Warning', 'ZeroDivisionError', '__IPYTHON__', '__build_class__', '__debug__', '__doc__', '__import__', '__loader__', '__name__', '__package__', '__spec__', 'abs', 'all', 'any', 'ascii', 'bin', 'bool', 'breakpoint', 'bytearray', 'bytes', 'callable', 'chr', 'classmethod', 'compile', 'complex', 'copyright', 'credits', 'delattr', 'dict', 'dir', 'display', 'divmod', 'enumerate', 'eval', 'exec', 'filter', 'float', 'format', 'frozenset', 'get_ipython', 'getattr', 'globals', 'hasattr', 'hash', 'help', 'hex', 'id', 'input', 'int', 'isinstance', 'issubclass', 'iter', 'len', 'license', 'list', 'locals', 'map', 'max', 'memoryview', 'min', 'next', 'object', 'oct', 'open', 'ord', 'pow', 'print', 'property', 'range', 'repr', 'reversed', 'round', 'set', 'setattr', 'slice', 'sorted', 'staticmethod', 'str', 'sum', 'super', 'tuple', 'type', 'vars', 'zip']\n"
     ]
    }
   ],
   "source": [
    "print(dir(__builtins__))"
   ]
  },
  {
   "cell_type": "code",
   "execution_count": null,
   "metadata": {},
   "outputs": [],
   "source": [
    "# try, except, else, finally, raise"
   ]
  },
  {
   "cell_type": "code",
   "execution_count": 20,
   "metadata": {
    "ExecuteTime": {
     "end_time": "2021-04-03T06:22:39.307208Z",
     "start_time": "2021-04-03T06:22:37.584856Z"
    },
    "scrolled": true
   },
   "outputs": [
    {
     "name": "stdout",
     "output_type": "stream",
     "text": [
      "Enter 1st number: 10\n",
      "Enter 2nd number: 0\n",
      "number can not be divided by zero\n",
      "10\n",
      "0\n"
     ]
    }
   ],
   "source": [
    "# try - only the code which is going to raise the error will be written here\n",
    "# except - alternate code has to be written here if error is raised in try block \n",
    "\n",
    "num1 = int(input('Enter 1st number: '))\n",
    "num2 = int(input('Enter 2nd number: '))\n",
    "try:\n",
    "    print(num1/num2)\n",
    "except:\n",
    "    print('number can not be divided by zero')\n",
    "print(num1)\n",
    "print(num2)"
   ]
  },
  {
   "cell_type": "code",
   "execution_count": 3,
   "metadata": {
    "ExecuteTime": {
     "end_time": "2021-04-03T06:25:00.823716Z",
     "start_time": "2021-04-03T06:24:58.909060Z"
    }
   },
   "outputs": [
    {
     "name": "stdout",
     "output_type": "stream",
     "text": [
      "Enter 1st number: 10\n",
      "Enter 2nd number: 0\n",
      "number can not be divided by zero\n",
      "10\n",
      "0\n"
     ]
    }
   ],
   "source": [
    "# else - it will be executed if there is no error in try statement\n",
    "\n",
    "num1 = int(input('Enter 1st number: '))\n",
    "num2 = int(input('Enter 2nd number: '))\n",
    "try:\n",
    "    res = num1/num2\n",
    "except:\n",
    "    print('number can not be divided by zero')\n",
    "else:\n",
    "    print(res)\n",
    "print(num1)\n",
    "print(num2)"
   ]
  },
  {
   "cell_type": "code",
   "execution_count": 6,
   "metadata": {
    "ExecuteTime": {
     "end_time": "2021-04-03T06:31:16.389739Z",
     "start_time": "2021-04-03T06:31:16.383253Z"
    }
   },
   "outputs": [
    {
     "name": "stdout",
     "output_type": "stream",
     "text": [
      "What is Lorem Ipsum?\n",
      "Lorem Ipsum is simply dummy text of the printing and typesetting industry. \n",
      "Lor\n"
     ]
    }
   ],
   "source": [
    "# finally - will be executed whetehr error is raised or not\n",
    "f = open('my_mod.py', 'r')\n",
    "try:\n",
    "    content = f.read()\n",
    "#     f.write('\\n\\nHello')\n",
    "except:\n",
    "    print('You are not allowed to write')\n",
    "finally:\n",
    "    try:\n",
    "        print(content[:100])\n",
    "    except:\n",
    "        00-------\n",
    "    f.close()\n"
   ]
  },
  {
   "cell_type": "code",
   "execution_count": 4,
   "metadata": {
    "ExecuteTime": {
     "end_time": "2021-04-03T06:29:35.925197Z",
     "start_time": "2021-04-03T06:29:35.894058Z"
    }
   },
   "outputs": [
    {
     "ename": "UnsupportedOperation",
     "evalue": "not writable",
     "output_type": "error",
     "traceback": [
      "\u001b[0;31m---------------------------------------------------------------------------\u001b[0m",
      "\u001b[0;31mUnsupportedOperation\u001b[0m                      Traceback (most recent call last)",
      "\u001b[0;32m<ipython-input-4-76d14da52a0b>\u001b[0m in \u001b[0;36m<module>\u001b[0;34m\u001b[0m\n\u001b[1;32m      2\u001b[0m \u001b[0;34m\u001b[0m\u001b[0m\n\u001b[1;32m      3\u001b[0m \u001b[0mcontent\u001b[0m \u001b[0;34m=\u001b[0m \u001b[0mf\u001b[0m\u001b[0;34m.\u001b[0m\u001b[0mread\u001b[0m\u001b[0;34m(\u001b[0m\u001b[0;34m)\u001b[0m\u001b[0;34m\u001b[0m\u001b[0;34m\u001b[0m\u001b[0m\n\u001b[0;32m----> 4\u001b[0;31m \u001b[0mf\u001b[0m\u001b[0;34m.\u001b[0m\u001b[0mwrite\u001b[0m\u001b[0;34m(\u001b[0m\u001b[0;34m'\\n\\nHello'\u001b[0m\u001b[0;34m)\u001b[0m\u001b[0;34m\u001b[0m\u001b[0;34m\u001b[0m\u001b[0m\n\u001b[0m\u001b[1;32m      5\u001b[0m \u001b[0;34m\u001b[0m\u001b[0m\n\u001b[1;32m      6\u001b[0m \u001b[0mprint\u001b[0m\u001b[0;34m(\u001b[0m\u001b[0;34m'You are not allowed to write'\u001b[0m\u001b[0;34m)\u001b[0m\u001b[0;34m\u001b[0m\u001b[0;34m\u001b[0m\u001b[0m\n",
      "\u001b[0;31mUnsupportedOperation\u001b[0m: not writable"
     ]
    }
   ],
   "source": [
    "# f = open('my_mod.py', 'r')\n",
    "\n",
    "# content = f.read()\n",
    "# f.write('\\n\\nHello')\n",
    "\n",
    "# print('You are not allowed to write')\n",
    "\n",
    "# print(content[:100])\n",
    "\n",
    "# f.close()"
   ]
  },
  {
   "cell_type": "code",
   "execution_count": null,
   "metadata": {},
   "outputs": [],
   "source": []
  },
  {
   "cell_type": "code",
   "execution_count": null,
   "metadata": {},
   "outputs": [],
   "source": []
  },
  {
   "cell_type": "code",
   "execution_count": null,
   "metadata": {},
   "outputs": [],
   "source": []
  },
  {
   "cell_type": "code",
   "execution_count": null,
   "metadata": {},
   "outputs": [],
   "source": []
  },
  {
   "cell_type": "code",
   "execution_count": null,
   "metadata": {},
   "outputs": [],
   "source": []
  },
  {
   "cell_type": "code",
   "execution_count": null,
   "metadata": {},
   "outputs": [],
   "source": []
  },
  {
   "cell_type": "code",
   "execution_count": null,
   "metadata": {},
   "outputs": [],
   "source": []
  },
  {
   "cell_type": "code",
   "execution_count": null,
   "metadata": {},
   "outputs": [],
   "source": []
  },
  {
   "cell_type": "code",
   "execution_count": null,
   "metadata": {},
   "outputs": [],
   "source": []
  },
  {
   "cell_type": "code",
   "execution_count": null,
   "metadata": {},
   "outputs": [],
   "source": []
  },
  {
   "cell_type": "code",
   "execution_count": null,
   "metadata": {},
   "outputs": [],
   "source": []
  },
  {
   "cell_type": "code",
   "execution_count": null,
   "metadata": {},
   "outputs": [],
   "source": []
  },
  {
   "cell_type": "code",
   "execution_count": null,
   "metadata": {},
   "outputs": [],
   "source": []
  },
  {
   "cell_type": "code",
   "execution_count": null,
   "metadata": {},
   "outputs": [],
   "source": []
  },
  {
   "cell_type": "code",
   "execution_count": null,
   "metadata": {},
   "outputs": [],
   "source": []
  },
  {
   "cell_type": "code",
   "execution_count": null,
   "metadata": {},
   "outputs": [],
   "source": []
  },
  {
   "cell_type": "code",
   "execution_count": null,
   "metadata": {},
   "outputs": [],
   "source": []
  },
  {
   "cell_type": "code",
   "execution_count": null,
   "metadata": {},
   "outputs": [],
   "source": []
  },
  {
   "cell_type": "code",
   "execution_count": null,
   "metadata": {},
   "outputs": [],
   "source": []
  },
  {
   "cell_type": "code",
   "execution_count": null,
   "metadata": {},
   "outputs": [],
   "source": []
  },
  {
   "cell_type": "code",
   "execution_count": null,
   "metadata": {},
   "outputs": [],
   "source": []
  },
  {
   "cell_type": "code",
   "execution_count": null,
   "metadata": {},
   "outputs": [],
   "source": []
  },
  {
   "cell_type": "code",
   "execution_count": null,
   "metadata": {},
   "outputs": [],
   "source": []
  },
  {
   "cell_type": "code",
   "execution_count": null,
   "metadata": {},
   "outputs": [],
   "source": []
  },
  {
   "cell_type": "code",
   "execution_count": null,
   "metadata": {},
   "outputs": [],
   "source": []
  },
  {
   "cell_type": "code",
   "execution_count": null,
   "metadata": {},
   "outputs": [],
   "source": []
  },
  {
   "cell_type": "code",
   "execution_count": null,
   "metadata": {},
   "outputs": [],
   "source": []
  },
  {
   "cell_type": "code",
   "execution_count": null,
   "metadata": {},
   "outputs": [],
   "source": []
  },
  {
   "cell_type": "code",
   "execution_count": null,
   "metadata": {},
   "outputs": [],
   "source": []
  },
  {
   "cell_type": "code",
   "execution_count": null,
   "metadata": {},
   "outputs": [],
   "source": []
  },
  {
   "cell_type": "code",
   "execution_count": null,
   "metadata": {},
   "outputs": [],
   "source": []
  },
  {
   "cell_type": "code",
   "execution_count": null,
   "metadata": {},
   "outputs": [],
   "source": []
  },
  {
   "cell_type": "code",
   "execution_count": null,
   "metadata": {},
   "outputs": [],
   "source": []
  },
  {
   "cell_type": "code",
   "execution_count": null,
   "metadata": {},
   "outputs": [],
   "source": []
  },
  {
   "cell_type": "code",
   "execution_count": null,
   "metadata": {},
   "outputs": [],
   "source": []
  },
  {
   "cell_type": "code",
   "execution_count": null,
   "metadata": {},
   "outputs": [],
   "source": []
  },
  {
   "cell_type": "code",
   "execution_count": null,
   "metadata": {},
   "outputs": [],
   "source": []
  },
  {
   "cell_type": "code",
   "execution_count": null,
   "metadata": {},
   "outputs": [],
   "source": []
  },
  {
   "cell_type": "code",
   "execution_count": null,
   "metadata": {},
   "outputs": [],
   "source": []
  },
  {
   "cell_type": "code",
   "execution_count": null,
   "metadata": {},
   "outputs": [],
   "source": []
  }
 ],
 "metadata": {
  "kernelspec": {
   "display_name": "Python 3",
   "language": "python",
   "name": "python3"
  },
  "language_info": {
   "codemirror_mode": {
    "name": "ipython",
    "version": 3
   },
   "file_extension": ".py",
   "mimetype": "text/x-python",
   "name": "python",
   "nbconvert_exporter": "python",
   "pygments_lexer": "ipython3",
   "version": "3.8.2"
  },
  "latex_envs": {
   "LaTeX_envs_menu_present": true,
   "autoclose": false,
   "autocomplete": true,
   "bibliofile": "biblio.bib",
   "cite_by": "apalike",
   "current_citInitial": 1,
   "eqLabelWithNumbers": true,
   "eqNumInitial": 1,
   "hotkeys": {
    "equation": "Ctrl-E",
    "itemize": "Ctrl-I"
   },
   "labels_anchors": false,
   "latex_user_defs": false,
   "report_style_numbering": false,
   "user_envs_cfg": false
  },
  "varInspector": {
   "cols": {
    "lenName": 16,
    "lenType": 16,
    "lenVar": 40
   },
   "kernels_config": {
    "python": {
     "delete_cmd_postfix": "",
     "delete_cmd_prefix": "del ",
     "library": "var_list.py",
     "varRefreshCmd": "print(var_dic_list())"
    },
    "r": {
     "delete_cmd_postfix": ") ",
     "delete_cmd_prefix": "rm(",
     "library": "var_list.r",
     "varRefreshCmd": "cat(var_dic_list()) "
    }
   },
   "types_to_exclude": [
    "module",
    "function",
    "builtin_function_or_method",
    "instance",
    "_Feature"
   ],
   "window_display": false
  }
 },
 "nbformat": 4,
 "nbformat_minor": 2
}
