{
 "cells": [
  {
   "cell_type": "code",
   "execution_count": 7,
   "metadata": {
    "ExecuteTime": {
     "end_time": "2021-03-14T03:38:11.574362Z",
     "start_time": "2021-03-14T03:38:11.562618Z"
    }
   },
   "outputs": [
    {
     "name": "stdout",
     "output_type": "stream",
     "text": [
      ".sreppep delkcip fo kcep a dekcip repip retep\n",
      ".sreppep delkcip fo kcep a dekcip repip retep\n",
      ".sreppep delkcip fo kcep a dekcip repip retep\n",
      ".\n"
     ]
    }
   ],
   "source": [
    "my_str = 'peter piper picked a peck of pickled peppers.'\n",
    "print(my_str[::-1])\n",
    "print(my_str[-1:-(len(my_str)+1):-1])\n",
    "my_str[len(my_str):-len(my_str)-1:-1]\n",
    "print(my_str[len(my_str)-1::-1])\n",
    "print(my_str[len(my_str)-1::1])"
   ]
  },
  {
   "cell_type": "code",
   "execution_count": 72,
   "metadata": {
    "ExecuteTime": {
     "end_time": "2021-03-14T04:52:16.630754Z",
     "start_time": "2021-03-14T04:52:16.624148Z"
    }
   },
   "outputs": [
    {
     "name": "stdout",
     "output_type": "stream",
     "text": [
      "1\n"
     ]
    }
   ],
   "source": [
    "my_str = 'peter piper pickted a pectk of picklted peppters.'\n",
    "a=0\n",
    "count = 0\n",
    "for i in range(len(my_str)):\n",
    "    if i == my_str.find('t',a):\n",
    "        count += 1\n",
    "    else:\n",
    "        pass\n",
    "    a+=1\n",
    "print(count)"
   ]
  },
  {
   "cell_type": "code",
   "execution_count": null,
   "metadata": {},
   "outputs": [],
   "source": [
    " ******\n",
    "*      *\n",
    "*      *\n",
    "********\n",
    "*      *\n",
    "*      *\n",
    "*      *\n",
    "\n",
    "\n",
    "*      *\n",
    "*      *\n",
    "*      *\n",
    "*      *\n",
    "*      *\n",
    "*      *\n",
    " ******"
   ]
  },
  {
   "cell_type": "code",
   "execution_count": 61,
   "metadata": {
    "ExecuteTime": {
     "end_time": "2021-03-14T04:29:57.678917Z",
     "start_time": "2021-03-14T04:29:57.662173Z"
    }
   },
   "outputs": [
    {
     "name": "stdout",
     "output_type": "stream",
     "text": [
      " ***** \n",
      "*     *\n",
      "*     *\n",
      "*******\n",
      "*     *\n",
      "*     *\n",
      "*     *\n"
     ]
    }
   ],
   "source": [
    "# for row in range(7):\n",
    "#     for col in range(7):\n",
    "#         if (row == 3) and (col >=0 and col<=6):\n",
    "#             print('*', end = '')\n",
    "#         elif ((row >=1 and row <= 6) and (col >=1 and col <= 5)) or (row == 0 and (col == 0 or col == 6)):\n",
    "#             print(' ', end = '')\n",
    "#         else:\n",
    "#             print('*', end = '')\n",
    "#     print()\n",
    "\n",
    "\n",
    "# for i in range(7):\n",
    "#     for j in range(7):\n",
    "#         if ((i == 3) and (j >= 1 or j<= 5)):\n",
    "#             print('*', end = '')\n",
    "#         elif ((i >= 1 and i <= 6) and (j>=1 and j<=5)) or (i == 0 and (j == 0 or j == 6)):\n",
    "#             print(' ', end = '')\n",
    "#         else:\n",
    "#             print('*', end = '')\n",
    "#     print()\n",
    "\n",
    "i = 0\n",
    "while i <= 6:\n",
    "    j = 0\n",
    "    while j <= 6:\n",
    "        if ((i == 3) and (j >= 1 or j<= 5)):\n",
    "            print('*', end = '')\n",
    "        elif ((i >= 1 and i <= 6) and (j>=1 and j<=5)) or (i == 0 and (j == 0 or j == 6)):\n",
    "            print(' ', end = '')\n",
    "        else:\n",
    "            print('*', end = '')  \n",
    "        j+=1\n",
    "    i+=1\n",
    "    print()\n",
    "    \n",
    "i = 2\n",
    "j = 7\n",
    "\n",
    "\n",
    "    "
   ]
  },
  {
   "cell_type": "code",
   "execution_count": null,
   "metadata": {},
   "outputs": [],
   "source": [
    " ***** \n",
    "*     *\n"
   ]
  },
  {
   "cell_type": "code",
   "execution_count": 45,
   "metadata": {
    "ExecuteTime": {
     "end_time": "2021-03-14T04:18:37.448698Z",
     "start_time": "2021-03-14T04:18:37.436284Z"
    }
   },
   "outputs": [
    {
     "name": "stdout",
     "output_type": "stream",
     "text": [
      " ****** \n",
      "*      *\n",
      "*      *\n",
      "********\n",
      "*      *\n",
      "*      *\n",
      "*      *\n"
     ]
    }
   ],
   "source": [
    "for k in range(7):\n",
    "    if(k == 0):\n",
    "         print('','*'*6, '')\n",
    "    elif(k == 3):\n",
    "        print('*'*8)\n",
    "    else:\n",
    "        print('*',' '*4,'*')"
   ]
  },
  {
   "cell_type": "code",
   "execution_count": 62,
   "metadata": {
    "ExecuteTime": {
     "end_time": "2021-03-14T04:38:19.864738Z",
     "start_time": "2021-03-14T04:38:19.861555Z"
    }
   },
   "outputs": [],
   "source": [
    "#  ***** \n",
    "# *\n",
    "# *\n",
    "#  ***** \n",
    "#       *\n",
    "#       *\n",
    "#  *****"
   ]
  },
  {
   "cell_type": "code",
   "execution_count": null,
   "metadata": {},
   "outputs": [],
   "source": [
    "# Break and continue - used to control the loop\n",
    "\n",
    "# break - it exits the loop\n",
    "\n",
    "# continue - skips the curent iteration\n",
    "\n",
    "# pass - if no implementation to write"
   ]
  },
  {
   "cell_type": "code",
   "execution_count": 67,
   "metadata": {
    "ExecuteTime": {
     "end_time": "2021-03-14T04:46:48.410944Z",
     "start_time": "2021-03-14T04:46:48.401218Z"
    }
   },
   "outputs": [],
   "source": [
    "# for i in range(10):\n",
    "#     if i == 7:\n",
    "#         break\n",
    "#     else:\n",
    "#         print(i)\n",
    "        \n",
    "# i = 7\n",
    "\n",
    "# 0\n",
    "# 1\n",
    "# 2\n",
    "# 3\n",
    "# 4\n",
    "# 5\n",
    "# 6"
   ]
  },
  {
   "cell_type": "code",
   "execution_count": 68,
   "metadata": {
    "ExecuteTime": {
     "end_time": "2021-03-14T04:46:49.474258Z",
     "start_time": "2021-03-14T04:46:49.466269Z"
    }
   },
   "outputs": [],
   "source": [
    "# for i in range(10):\n",
    "#     for j in range(11, 20):\n",
    "#         if j == 15:\n",
    "#             break\n",
    "#         else:\n",
    "#             print(i, j)\n",
    "            \n",
    "# i = 2\n",
    "# j = 15\n",
    "\n",
    "# 0 11\n",
    "# 0 12\n",
    "# 0 13\n",
    "# 0 14\n",
    "# 1 11\n",
    "# 1 12\n",
    "# 1 13\n",
    "# 1 14\n"
   ]
  },
  {
   "cell_type": "code",
   "execution_count": 69,
   "metadata": {
    "ExecuteTime": {
     "end_time": "2021-03-14T04:47:26.578035Z",
     "start_time": "2021-03-14T04:47:26.557898Z"
    }
   },
   "outputs": [
    {
     "name": "stdout",
     "output_type": "stream",
     "text": [
      "0\n",
      "1\n",
      "2\n",
      "3\n",
      "4\n",
      "5\n",
      "6\n",
      "8\n",
      "9\n"
     ]
    }
   ],
   "source": [
    "for i in range(10):\n",
    "    if i == 7:\n",
    "        continue\n",
    "    else:\n",
    "        print(i)\n",
    "\n",
    "i = 9\n",
    "\n",
    "0\n",
    "1\n",
    "2\n",
    "3\n",
    "4\n",
    "5\n",
    "6\n",
    "8\n",
    "9\n"
   ]
  },
  {
   "cell_type": "code",
   "execution_count": 71,
   "metadata": {
    "ExecuteTime": {
     "end_time": "2021-03-14T04:51:54.955008Z",
     "start_time": "2021-03-14T04:51:54.941303Z"
    }
   },
   "outputs": [
    {
     "name": "stdout",
     "output_type": "stream",
     "text": [
      "0 0\n",
      "0 1\n",
      "0 2\n",
      "0 4\n",
      "1 0\n",
      "1 1\n",
      "1 2\n",
      "1 4\n",
      "2 0\n",
      "2 1\n",
      "2 2\n",
      "2 4\n",
      "3 0\n",
      "3 1\n",
      "3 2\n",
      "3 4\n",
      "4 0\n",
      "4 1\n",
      "4 2\n",
      "4 4\n"
     ]
    }
   ],
   "source": [
    "for i in range(5):\n",
    "    for j in range(5):\n",
    "        if j == 3:\n",
    "            continue\n",
    "        else:\n",
    "            print(i,j)\n",
    "\n",
    "# i = 1\n",
    "# j = 4\n",
    "\n",
    "# 0 0\n",
    "# 0 1\n",
    "# 0 2\n",
    "# 0 4\n",
    "# 1 0\n",
    "# 1 1\n",
    "# 1 2\n",
    "# 1 4"
   ]
  },
  {
   "cell_type": "code",
   "execution_count": 70,
   "metadata": {
    "ExecuteTime": {
     "end_time": "2021-03-14T04:51:50.576597Z",
     "start_time": "2021-03-14T04:51:50.562677Z"
    }
   },
   "outputs": [
    {
     "name": "stdout",
     "output_type": "stream",
     "text": [
      "0 0\n",
      "0 1\n",
      "0 2\n",
      "0 4\n",
      "1 0\n",
      "1 1\n",
      "1 2\n",
      "1 4\n",
      "2 0\n",
      "2 1\n",
      "2 2\n",
      "2 4\n",
      "3 0\n",
      "3 1\n",
      "3 2\n",
      "3 4\n",
      "4 0\n",
      "4 1\n",
      "4 2\n",
      "4 4\n"
     ]
    }
   ],
   "source": [
    "for i in range(5):\n",
    "    for j in range(5):\n",
    "        if j == 3:\n",
    "            pass\n",
    "        else:\n",
    "            print(i,j)"
   ]
  },
  {
   "cell_type": "code",
   "execution_count": 75,
   "metadata": {
    "ExecuteTime": {
     "end_time": "2021-03-14T04:56:24.996542Z",
     "start_time": "2021-03-14T04:56:24.986604Z"
    }
   },
   "outputs": [],
   "source": [
    "for i in range(5):\n",
    "    pass\n",
    "\n",
    "def f1():\n",
    "    pass\n",
    "\n",
    "class MyFirstClass:\n",
    "    pass"
   ]
  },
  {
   "cell_type": "code",
   "execution_count": 77,
   "metadata": {
    "ExecuteTime": {
     "end_time": "2021-03-14T05:02:50.993864Z",
     "start_time": "2021-03-14T05:02:50.987005Z"
    }
   },
   "outputs": [
    {
     "name": "stdout",
     "output_type": "stream",
     "text": [
      "1\n",
      "10\n",
      "20\n",
      "2\n",
      "10\n"
     ]
    }
   ],
   "source": [
    "#Q. Use break statement properly. The code is:\n",
    "x = [1, 2]\n",
    "y = [10, 100]\n",
    "for i in x: \n",
    "    for j in y: \n",
    "        if i % 2 == 0:\n",
    "            print(i * j)\n",
    "        print(i)\n",
    "    print(j)\n",
    "    \n",
    "\n",
    "\n",
    "# Output is:-\n",
    "# 1\n",
    "# 10\n",
    "# 20\n",
    "# 2\n",
    "# 10"
   ]
  },
  {
   "cell_type": "code",
   "execution_count": 79,
   "metadata": {
    "ExecuteTime": {
     "end_time": "2021-03-14T05:03:57.304142Z",
     "start_time": "2021-03-14T05:03:57.293108Z"
    }
   },
   "outputs": [
    {
     "name": "stdout",
     "output_type": "stream",
     "text": [
      "1\n",
      "1\n",
      "100\n",
      "10\n"
     ]
    }
   ],
   "source": [
    "# Q. Use break statement properly. The code is:-\n",
    "x = [1, 2]\n",
    "y = [10, 100]\n",
    "\n",
    "for i in x:\n",
    "    for j in y:\n",
    "        if i % 2 == 0:\n",
    "            print(i * j)\n",
    "        print(i)\n",
    "    print(j)\n",
    "    \n",
    "\n",
    "\n",
    "# Output is:-\n",
    "# 1\n",
    "# 1\n",
    "# 100\n",
    "# 10"
   ]
  },
  {
   "cell_type": "code",
   "execution_count": 80,
   "metadata": {
    "ExecuteTime": {
     "end_time": "2021-03-14T05:06:01.656997Z",
     "start_time": "2021-03-14T05:06:01.647048Z"
    }
   },
   "outputs": [
    {
     "name": "stdout",
     "output_type": "stream",
     "text": [
      "1\n",
      "1\n",
      "100\n",
      "20\n",
      "200\n",
      "100\n"
     ]
    }
   ],
   "source": [
    "# Q. Use continue statememnt properly. The code is:-\n",
    "x = [1, 2]\n",
    "y = [10, 100]\n",
    "\n",
    "for i in x:\n",
    "    for j in y:\n",
    "        if i % 2 == 0:\n",
    "            print(i * j)\n",
    "        print(i)\n",
    "    print(j)\n",
    "\n",
    "# Output is:-\n",
    "# 1\n",
    "# 1\n",
    "# 100\n",
    "# 20\n",
    "# 200\n",
    "# 100"
   ]
  },
  {
   "cell_type": "code",
   "execution_count": null,
   "metadata": {},
   "outputs": [],
   "source": [
    "   *\n",
    "  ***\n",
    " *****\n",
    "*******\n",
    " *****\n",
    "  ***\n",
    "   *"
   ]
  },
  {
   "cell_type": "code",
   "execution_count": 83,
   "metadata": {
    "ExecuteTime": {
     "end_time": "2021-03-14T05:12:27.595569Z",
     "start_time": "2021-03-14T05:12:27.587725Z"
    }
   },
   "outputs": [
    {
     "name": "stdout",
     "output_type": "stream",
     "text": [
      "Total 't' count: 5 \n"
     ]
    }
   ],
   "source": [
    "my_str = 'peter piper pickted a pectk of picklted peppters.'\n",
    "start_pos = 0\n",
    "total_t_count = 0\n",
    "for index in range(len(my_str)):\n",
    "    if my_str.find('t', start_pos) == index:\n",
    "        total_t_count+=1\n",
    "    start_pos = index + 1\n",
    "print('Total \\'t\\' count: {} '.format(total_t_count))\n"
   ]
  },
  {
   "cell_type": "code",
   "execution_count": 86,
   "metadata": {
    "ExecuteTime": {
     "end_time": "2021-03-14T05:17:30.139298Z",
     "start_time": "2021-03-14T05:17:30.131949Z"
    }
   },
   "outputs": [
    {
     "name": "stdout",
     "output_type": "stream",
     "text": [
      "54321\n"
     ]
    }
   ],
   "source": [
    "# num = 12345\n",
    "# res = 54321\n",
    "\n",
    "# num = int(str(12345)[::-1])\n",
    "# print(num)\n",
    "\n",
    "# num = 12345\n",
    "# res = ''\n",
    "# for i in str(num):\n",
    "#     res = i + res\n",
    "# print(res)\n"
   ]
  },
  {
   "cell_type": "code",
   "execution_count": 89,
   "metadata": {
    "ExecuteTime": {
     "end_time": "2021-03-14T05:23:51.344745Z",
     "start_time": "2021-03-14T05:23:51.336823Z"
    }
   },
   "outputs": [
    {
     "name": "stdout",
     "output_type": "stream",
     "text": [
      "R{vjqp\n"
     ]
    }
   ],
   "source": [
    "num = 'Python'\n",
    "res = ''\n",
    "for i in num:\n",
    "    res += chr(ord(i) + 2)\n",
    "print(res)\n"
   ]
  },
  {
   "cell_type": "code",
   "execution_count": 109,
   "metadata": {
    "ExecuteTime": {
     "end_time": "2021-03-14T05:49:02.059886Z",
     "start_time": "2021-03-14T05:49:02.048230Z"
    }
   },
   "outputs": [
    {
     "name": "stdout",
     "output_type": "stream",
     "text": [
      "[(1, 2), (5, 3), (0, 4), (3, 5), (6, 6), (2, 8), (4, 9)]\n"
     ]
    }
   ],
   "source": [
    "lst = [4,2,8,5,9,3,6]\n",
    "# output = [[0,4],[1,2],[2,8],[3,5],[4,9],[5,3],[6,6]]\n",
    "# final_output = [[1,2],[5,3],[0,4],[3,5],[6,6],[2,8],[4,9]]\n",
    "\n",
    "# out_lst = []\n",
    "# for ind in range(len(lst)):\n",
    "#     in_lst = []\n",
    "#     in_lst += [ind]\n",
    "#     in_lst += [lst[ind]]\n",
    "#     out_lst += [in_lst]\n",
    "# # print(out_lst)\n",
    "\n",
    "# # final_lst = []\n",
    "# for i in range(len(lst)):\n",
    "#     for j in range(len(lst)-i-1):\n",
    "#         if out_lst[j][-1] > out_lst[j+1][-1]:\n",
    "#             out_lst[j],out_lst[j+1] = out_lst[j+1],out_lst[j]\n",
    "# print(out_lst)\n",
    "\n",
    "\n",
    "# lst1 = list(enumerate(lst))\n",
    "# lst1.sort(key = lambda l:l[-1])\n",
    "# print(lst1)\n",
    "\n",
    "\n",
    "\n",
    "# i = 0\n",
    "# j = 0\n",
    "\n",
    "# [[1,2],[0,4],[2,8],[3,5],[4,9],[5,3],[6,6]]\n",
    "\n",
    "# i = 0\n",
    "# j = 1\n",
    "# [[1,2],[0,4],[2,8],[3,5],[4,9],[5,3],[6,6]]\n",
    "\n",
    "# i = 0\n",
    "# j = 2\n",
    "# [[1,2],[0,4],[3,5],[2,8],[4,9],[5,3],[6,6]]\n",
    "\n",
    "# i = 0\n",
    "# j = 3\n",
    "# [[1,2],[0,4],[3,5],[2,8],[4,9],[5,3],[6,6]]\n",
    "\n",
    "# i = 0\n",
    "# j = 4\n",
    "# [[1,2],[0,4],[3,5],[2,8],[5,3],[4,9],[6,6]]\n",
    "\n",
    "# i = 0\n",
    "# j = 5\n",
    "# [[1,2],[0,4],[3,5],[2,8],[5,3],[6,6],[4,9]]\n",
    "\n",
    "# i = 1\n",
    "# j = 0\n",
    "# [[1,2],[0,4],[3,5],[2,8],[5,3],[6,6],[4,9]]\n",
    "\n",
    "# i = 1\n",
    "# j = 1\n",
    "# [[1,2],[0,4],[3,5],[2,8],[5,3],[6,6],[4,9]]\n",
    "\n",
    "# i = 1\n",
    "# j = 2\n",
    "# [[1,2],[0,4],[3,5],[2,8],[5,3],[6,6],[4,9]]\n",
    "\n",
    "# i = 1\n",
    "# j = 3\n",
    "# [[1,2],[0,4],[3,5],[5,3],[2,8],[6,6],[4,9]]\n",
    "\n",
    "# i = 1\n",
    "# j = 4\n",
    "# [[1,2],[0,4],[3,5],[5,3],[6,6],[2,8],[4,9]]\n",
    "\n"
   ]
  },
  {
   "cell_type": "code",
   "execution_count": 112,
   "metadata": {
    "ExecuteTime": {
     "end_time": "2021-03-14T05:52:12.762677Z",
     "start_time": "2021-03-14T05:52:12.744161Z"
    }
   },
   "outputs": [
    {
     "data": {
      "text/plain": [
       "[[0, 'P'], [1, 'y'], [2, 't'], [3, 'h'], [4, 'o'], [5, 'n']]"
      ]
     },
     "execution_count": 112,
     "metadata": {},
     "output_type": "execute_result"
    }
   ],
   "source": [
    "# a = 10\n",
    "# b = 20\n",
    "# a,b = b,a\n",
    "# print(a, b)\n",
    "\n",
    "# [list(ele) for ele in list(enumerate('Python'))]"
   ]
  },
  {
   "cell_type": "markdown",
   "metadata": {},
   "source": [
    "# List"
   ]
  },
  {
   "cell_type": "code",
   "execution_count": 117,
   "metadata": {
    "ExecuteTime": {
     "end_time": "2021-03-14T05:58:38.019189Z",
     "start_time": "2021-03-14T05:58:38.015666Z"
    }
   },
   "outputs": [],
   "source": [
    "# List, string tuple, dictionary they all are iterable\n",
    "\n",
    "# for i in 'Python':\n",
    "#     print(i)\n",
    "\n",
    "# List is also a seq\n",
    "    # Indexing, slicing, concatenation, repetition, length, membership\n",
    "# List anything kept inside [] separated by comma\n",
    "# List is a collection of heterogeneous data type\n",
    "# List can have duplicate elements\n",
    "# List is mutable object\n",
    "    # item assignment\n",
    "    # changes are done to same existing object\n",
    "# List supports +ve and -ve indexing both\n",
    "\n",
    "# lst = [10,10.20, 10+20j, 'Python', True, None, [1,2,3], (1,2,3), {1:100, 'a':200, 'b':'Python', 10+20j:10.20}]\n",
    "# print(lst)\n",
    "\n",
    "# lst = [10,20,1,20,100,20,1,30,10,20,2]\n",
    "# print(lst)\n",
    "\n",
    "# lst = [10,10.20, 10+20j, 'Python', True, None, [1,2,3], (1,2,3), {1:100, 'a':200, 'b':'Python', 10+20j:10.20}]\n",
    "# print(lst, id(lst))\n",
    "# lst[0] = 111\n",
    "# print(lst, id(lst))\n",
    "\n",
    "\n",
    "\n"
   ]
  },
  {
   "cell_type": "code",
   "execution_count": 155,
   "metadata": {
    "ExecuteTime": {
     "end_time": "2021-03-14T06:18:21.941571Z",
     "start_time": "2021-03-14T06:18:21.932253Z"
    }
   },
   "outputs": [
    {
     "ename": "SyntaxError",
     "evalue": "invalid syntax (<string>, line 1)",
     "output_type": "error",
     "traceback": [
      "Traceback \u001b[0;36m(most recent call last)\u001b[0m:\n",
      "  File \u001b[1;32m\"/Library/Frameworks/Python.framework/Versions/3.8/lib/python3.8/site-packages/IPython/core/interactiveshell.py\"\u001b[0m, line \u001b[1;32m3427\u001b[0m, in \u001b[1;35mrun_code\u001b[0m\n    exec(code_obj, self.user_global_ns, self.user_ns)\n",
      "\u001b[0;36m  File \u001b[0;32m\"<ipython-input-155-924a76836e5c>\"\u001b[0;36m, line \u001b[0;32m30\u001b[0;36m, in \u001b[0;35m<module>\u001b[0;36m\u001b[0m\n\u001b[0;31m    eval('a=10')\u001b[0m\n",
      "\u001b[0;36m  File \u001b[0;32m\"<string>\"\u001b[0;36m, line \u001b[0;32m1\u001b[0m\n\u001b[0;31m    a=10\u001b[0m\n\u001b[0m     ^\u001b[0m\n\u001b[0;31mSyntaxError\u001b[0m\u001b[0;31m:\u001b[0m invalid syntax\n"
     ]
    }
   ],
   "source": [
    "# Creation of list\n",
    "# lst = [10,10.20, 10+20j, 'Python', True, None, [1,2,3], (1,2,3), {1:100, 'a':200, 'b':'Python', 10+20j:10.20}]\n",
    "# print(lst, type(lst))\n",
    "\n",
    "#Using list function\n",
    "# print(list('Python'))\n",
    "# print(list([10,10,20,10+20j,100,True, None,'Python']))\n",
    "# print(list((10,10,20,10+20j,100,True, None,'Python')))\n",
    "# print(list({1:100, 'a':200, 'b':'Python', 10+20j:10.20}))\n",
    "# print(list(enumerate('Python')))\n",
    "\n",
    "# Wrong input\n",
    "# list(10)\n",
    "\n",
    "# Taking input list from user\n",
    "# lst = eval(input('Enter a list: '))\n",
    "# print(lst,type(lst))\n",
    "\n",
    "# using split\n",
    "# my_str = 'peter piper picked a peck of pickled peppers.'\n",
    "# print(my_str.split())\n",
    "\n",
    "# Using list comprehenson - \n",
    "# Syntax - [expr for loop if cond]\n",
    "# creat a list of all even numbers from 1, 100\n",
    "# print([ele for ele in range(2, 101, 2)])\n",
    "# print([ele for ele in range(1, 101, ) if ele%2 == 0])\n",
    "\n",
    "\n",
    "eval('102+20')\n",
    "\n"
   ]
  },
  {
   "cell_type": "code",
   "execution_count": 164,
   "metadata": {
    "ExecuteTime": {
     "end_time": "2021-03-14T06:26:06.460008Z",
     "start_time": "2021-03-14T06:26:06.448046Z"
    }
   },
   "outputs": [
    {
     "name": "stdout",
     "output_type": "stream",
     "text": [
      "[10, 20, 30, 40, 1, 2, 3, 4]\n",
      "[10, 20, 30, 40]\n",
      "[1, 2, 3, 4]\n"
     ]
    }
   ],
   "source": [
    "# Basic operation - indexing, slicing, membership, concatenation, repetition\n",
    "\n",
    "lst = [ele for ele in range(2, 101, 2)]\n",
    "# # Accessing 1st element\n",
    "# print(lst[0])\n",
    "# print(lst[-len(lst)])\n",
    "\n",
    "# # Accessing last element\n",
    "# print(lst[-1])\n",
    "# print(lst[len(lst)-1])\n",
    "\n",
    "# Slicing\n",
    "# print(lst[::-1])\n",
    "\n",
    "# print(lst[30:10:-1])\n",
    "\n",
    "# print(lst[10:30:-1])\n",
    "\n",
    "# Concatenation= +\n",
    "# Both operand should be list\n",
    "lst = [10,20,30,40] \n",
    "lst1 = [1,2,3,4]\n",
    "print(lst + lst1)\n",
    "print(lst)\n",
    "print(lst1)\n",
    "# lst + ['Python']\n",
    "\n",
    "# lst = lst + lst1\n",
    "# print(lst)\n",
    "\n",
    "\n",
    "# Repetition = *\n",
    "# One operand should be list and other should be int\n",
    "\n",
    "# print(lst * 4)\n",
    "\n",
    "# Membership\n",
    "# 10 in lst\n",
    "# 10 not in lst\n",
    "# 1 in lst\n",
    "\n",
    "\n"
   ]
  },
  {
   "cell_type": "code",
   "execution_count": 156,
   "metadata": {
    "ExecuteTime": {
     "end_time": "2021-03-14T06:18:46.228283Z",
     "start_time": "2021-03-14T06:18:46.222105Z"
    }
   },
   "outputs": [
    {
     "name": "stdout",
     "output_type": "stream",
     "text": [
      "['__add__', '__class__', '__contains__', '__delattr__', '__delitem__', '__dir__', '__doc__', '__eq__', '__format__', '__ge__', '__getattribute__', '__getitem__', '__gt__', '__hash__', '__iadd__', '__imul__', '__init__', '__init_subclass__', '__iter__', '__le__', '__len__', '__lt__', '__mul__', '__ne__', '__new__', '__reduce__', '__reduce_ex__', '__repr__', '__reversed__', '__rmul__', '__setattr__', '__setitem__', '__sizeof__', '__str__', '__subclasshook__', 'append', 'clear', 'copy', 'count', 'extend', 'index', 'insert', 'pop', 'remove', 'reverse', 'sort']\n"
     ]
    }
   ],
   "source": [
    "# List methods\n",
    "print(dir(list))\n",
    "\n",
    "# 'clear', 'copy', 'count', 'index', 'pop', 'remove', 'reverse', 'sort'"
   ]
  },
  {
   "cell_type": "code",
   "execution_count": 171,
   "metadata": {
    "ExecuteTime": {
     "end_time": "2021-03-14T06:30:49.336968Z",
     "start_time": "2021-03-14T06:30:49.331377Z"
    }
   },
   "outputs": [],
   "source": [
    "# to add element inside a list - append, insert, extend\n",
    "\n",
    "# Signature: lst.append(object, /)\n",
    "# Docstring: Append object to the end of the list.\n",
    "\n",
    "lst = [10,20,30,40]\n",
    "lst1 = [1,2,3,4]\n",
    "# lst.append(111)\n",
    "# print(lst)\n",
    "\n",
    "# lst.append([1,2,3,4])\n",
    "# print(lst)\n",
    "\n",
    "\n",
    "# Signature: lst.extend(iterable, /)\n",
    "# Docstring: Extend list by appending elements from the iterable.\n",
    "# updating lst1 in lst - extend\n",
    "# lst.extend(lst1)\n",
    "# print(lst)\n",
    "# print(lst1)\n",
    "\n",
    "\n",
    "# insert - Signature: lst.insert(index, object, /)\n",
    "# Docstring: Insert object before index.\n",
    "\n",
    "# lst.insert(2, [111,222])\n",
    "# print(lst)\n",
    "\n",
    "# lst1.insert(2, 111)\n",
    "# lst.extend(lst1)\n",
    "# print(lst)\n",
    "\n",
    "\n"
   ]
  },
  {
   "cell_type": "code",
   "execution_count": null,
   "metadata": {},
   "outputs": [],
   "source": []
  },
  {
   "cell_type": "code",
   "execution_count": null,
   "metadata": {},
   "outputs": [],
   "source": []
  },
  {
   "cell_type": "code",
   "execution_count": null,
   "metadata": {},
   "outputs": [],
   "source": []
  },
  {
   "cell_type": "code",
   "execution_count": null,
   "metadata": {},
   "outputs": [],
   "source": []
  },
  {
   "cell_type": "code",
   "execution_count": null,
   "metadata": {},
   "outputs": [],
   "source": []
  },
  {
   "cell_type": "code",
   "execution_count": null,
   "metadata": {},
   "outputs": [],
   "source": []
  },
  {
   "cell_type": "code",
   "execution_count": null,
   "metadata": {},
   "outputs": [],
   "source": []
  },
  {
   "cell_type": "code",
   "execution_count": null,
   "metadata": {},
   "outputs": [],
   "source": []
  },
  {
   "cell_type": "code",
   "execution_count": null,
   "metadata": {},
   "outputs": [],
   "source": []
  },
  {
   "cell_type": "code",
   "execution_count": null,
   "metadata": {},
   "outputs": [],
   "source": []
  },
  {
   "cell_type": "code",
   "execution_count": null,
   "metadata": {},
   "outputs": [],
   "source": []
  },
  {
   "cell_type": "code",
   "execution_count": null,
   "metadata": {},
   "outputs": [],
   "source": []
  },
  {
   "cell_type": "code",
   "execution_count": null,
   "metadata": {},
   "outputs": [],
   "source": []
  },
  {
   "cell_type": "code",
   "execution_count": null,
   "metadata": {},
   "outputs": [],
   "source": []
  },
  {
   "cell_type": "code",
   "execution_count": null,
   "metadata": {},
   "outputs": [],
   "source": []
  },
  {
   "cell_type": "code",
   "execution_count": null,
   "metadata": {},
   "outputs": [],
   "source": []
  },
  {
   "cell_type": "code",
   "execution_count": null,
   "metadata": {},
   "outputs": [],
   "source": []
  },
  {
   "cell_type": "code",
   "execution_count": null,
   "metadata": {},
   "outputs": [],
   "source": []
  },
  {
   "cell_type": "code",
   "execution_count": null,
   "metadata": {},
   "outputs": [],
   "source": []
  },
  {
   "cell_type": "code",
   "execution_count": null,
   "metadata": {},
   "outputs": [],
   "source": []
  },
  {
   "cell_type": "code",
   "execution_count": null,
   "metadata": {},
   "outputs": [],
   "source": []
  },
  {
   "cell_type": "code",
   "execution_count": null,
   "metadata": {},
   "outputs": [],
   "source": []
  },
  {
   "cell_type": "code",
   "execution_count": null,
   "metadata": {},
   "outputs": [],
   "source": []
  },
  {
   "cell_type": "code",
   "execution_count": null,
   "metadata": {},
   "outputs": [],
   "source": []
  },
  {
   "cell_type": "code",
   "execution_count": null,
   "metadata": {},
   "outputs": [],
   "source": []
  },
  {
   "cell_type": "code",
   "execution_count": null,
   "metadata": {},
   "outputs": [],
   "source": []
  },
  {
   "cell_type": "code",
   "execution_count": null,
   "metadata": {},
   "outputs": [],
   "source": []
  },
  {
   "cell_type": "code",
   "execution_count": null,
   "metadata": {},
   "outputs": [],
   "source": []
  }
 ],
 "metadata": {
  "kernelspec": {
   "display_name": "Python 3",
   "language": "python",
   "name": "python3"
  },
  "language_info": {
   "codemirror_mode": {
    "name": "ipython",
    "version": 3
   },
   "file_extension": ".py",
   "mimetype": "text/x-python",
   "name": "python",
   "nbconvert_exporter": "python",
   "pygments_lexer": "ipython3",
   "version": "3.8.2"
  },
  "latex_envs": {
   "LaTeX_envs_menu_present": true,
   "autoclose": false,
   "autocomplete": true,
   "bibliofile": "biblio.bib",
   "cite_by": "apalike",
   "current_citInitial": 1,
   "eqLabelWithNumbers": true,
   "eqNumInitial": 1,
   "hotkeys": {
    "equation": "Ctrl-E",
    "itemize": "Ctrl-I"
   },
   "labels_anchors": false,
   "latex_user_defs": false,
   "report_style_numbering": false,
   "user_envs_cfg": false
  },
  "varInspector": {
   "cols": {
    "lenName": 16,
    "lenType": 16,
    "lenVar": 40
   },
   "kernels_config": {
    "python": {
     "delete_cmd_postfix": "",
     "delete_cmd_prefix": "del ",
     "library": "var_list.py",
     "varRefreshCmd": "print(var_dic_list())"
    },
    "r": {
     "delete_cmd_postfix": ") ",
     "delete_cmd_prefix": "rm(",
     "library": "var_list.r",
     "varRefreshCmd": "cat(var_dic_list()) "
    }
   },
   "types_to_exclude": [
    "module",
    "function",
    "builtin_function_or_method",
    "instance",
    "_Feature"
   ],
   "window_display": false
  }
 },
 "nbformat": 4,
 "nbformat_minor": 2
}
