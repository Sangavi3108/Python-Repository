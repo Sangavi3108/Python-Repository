{
 "cells": [
  {
   "cell_type": "code",
   "execution_count": null,
   "metadata": {},
   "outputs": [],
   "source": [
    "VCS - Version Control System"
   ]
  },
  {
   "cell_type": "code",
   "execution_count": null,
   "metadata": {},
   "outputs": [],
   "source": [
    "Git - VCS - Local system\n",
    "GitHub - Cloud Repository - Implements Git"
   ]
  },
  {
   "cell_type": "code",
   "execution_count": null,
   "metadata": {},
   "outputs": [],
   "source": [
    "Types of VCS\n",
    "    Centralized - Central Server\n",
    "    Distributed - Every node is connected to each other (Server is optional) - Git"
   ]
  },
  {
   "cell_type": "code",
   "execution_count": null,
   "metadata": {},
   "outputs": [],
   "source": [
    "Repository\n",
    "    Local - Local System - .git\n",
    "    Cloud - GitHub\n",
    "Working Directory\n",
    "Staging Area - When we add the file from working directory to tacked staus\n",
    "Local Repository\n",
    "Commit - Saving the changes\n",
    "Push - Saving teh code from local to cloud\n",
    "Pull - bronging the changes from cloud to local"
   ]
  },
  {
   "cell_type": "code",
   "execution_count": null,
   "metadata": {},
   "outputs": [],
   "source": [
    "# Os Commands:-\n",
    "pwd -> Present Working directory\n",
    "ls -> lists all files and folders in currnet directory\n",
    "ls -al -> lists all files and folders in currnet directory including hiiden files\n",
    "cd .. -> Move one directory back\n",
    "cd Directory_Name/Path -> Move to Specified directory availbale in CWD\n",
    "mkdir Directory_Name -> Creates a directory with specified name\n",
    "mv 'src directory name' 'dst directory name' - moves\n",
    "rmdir Dir_name - removes directory\n",
    "\n",
    "\n",
    "# Git Commands:-\n",
    "For set up\n",
    "git config --global user.name User_name_in_quotation_if_space_in_name\n",
    "git config --global user.email User_email_id\n",
    "git config --global core.autocrlf true(Win)/input(Mac)\n",
    "git config --global --list\n",
    "\n",
    "\n",
    "git clone Repo_link -> Clones the repository from cloud to your local system\n",
    "git status - to check the status of the repo\n",
    "git add Dir_name/FileName_with_Extension - Move the file to staging area\n",
    "git commit - m 'msg' - move the file to local repo with the msg\n",
    "git push - push the code to cloud repo (Will ask for credentail while doing first time)\n",
    "gil pull - pulling all the changes from your cloud repo to local repo\n",
    "\n",
    "\n",
    "# File realted operation\n",
    "To open a file from CLI - vim filename.ext\n",
    "to go into insert mode - press 'i'\n",
    "to save and exit - press - 'esc' , :wq\n",
    "\n",
    "\n",
    "\n",
    "\n"
   ]
  },
  {
   "cell_type": "code",
   "execution_count": null,
   "metadata": {},
   "outputs": [],
   "source": [
    "# Local Repo -> Cloud"
   ]
  },
  {
   "cell_type": "code",
   "execution_count": null,
   "metadata": {},
   "outputs": [],
   "source": [
    "vigneshs-MacBook-Air% mkdir My_Project\n",
    "vigneshs-MacBook-Air% pwd\n",
    "/Users/vigneshkarthick/Desktop\n",
    "vigneshs-MacBook-Air% cd My_Project\n",
    "vigneshs-MacBook-Air% pwd\n",
    "/Users/vigneshkarthick/Desktop/My_Project\n",
    "vigneshs-MacBook-Air% ls\n",
    "vigneshs-MacBook-Air% ls -al\n",
    "total 0\n",
    "drwxr-xr-x   2 vigneshkarthick  staff    64 Mar 20 14:21 .\n",
    "drwx------+ 72 vigneshkarthick  staff  2304 Mar 20 14:21 ..\n",
    "vigneshs-MacBook-Air% git init\n",
    "Initialized empty Git repository in /Users/vigneshkarthick/Desktop/My_Project/.git/\n",
    "vigneshs-MacBook-Air% ls -al\n",
    "total 0\n",
    "drwxr-xr-x   3 vigneshkarthick  staff    96 Mar 20 14:25 .\n",
    "drwx------+ 72 vigneshkarthick  staff  2304 Mar 20 14:21 ..\n",
    "drwxr-xr-x   9 vigneshkarthick  staff   288 Mar 20 14:25 .git\n",
    "vigneshs-MacBook-Air% open .git\n",
    "vigneshs-MacBook-Air% open .git\n",
    "vigneshs-MacBook-Air% git config --global --list\n",
    "user.name=Abhishek\n",
    "user.email=ibuddhagupta@gmail.com\n",
    "core.editor=mate -w\n",
    "core.autocrlf=input\n",
    "vigneshs-MacBook-Air% pwd\n",
    "/Users/vigneshkarthick\n",
    "vigneshs-MacBook-Air% cd Desktop\n",
    "vigneshs-MacBook-Air% cd My_Project\n",
    "vigneshs-MacBook-Air% ls\n",
    "config  f1.py\n",
    "vigneshs-MacBook-Air% echo 'Hello World' > f2.py\n",
    "vigneshs-MacBook-Air% ls\n",
    "config  f1.py   f2.py\n",
    "vigneshs-MacBook-Air% cat f1.py\n",
    "vigneshs-MacBook-Air% cat f2.py\n",
    "Hello World\n",
    "vigneshs-MacBook-Air% echo 'This is Python class' >> f2.py\n",
    "vigneshs-MacBook-Air% cat f2.py\n",
    "Hello World\n",
    "This is Python class\n",
    "vigneshs-MacBook-Air% echo 'This is Java Class' >> f3.txt\n",
    "vigneshs-MacBook-Air% ls\n",
    "config  f1.py   f2.py   f3.txt\n",
    "vigneshs-MacBook-Air% cat f3.txt\n",
    "This is Java Class\n",
    "vigneshs-MacBook-Air% vim f4.html\n",
    "\n",
    "vigneshs-MacBook-Air% git status\n",
    "On branch master\n",
    "\n",
    "No commits yet\n",
    "\n",
    "Untracked files:\n",
    "  (use \"git add <file>...\" to include in what will be committed)\n",
    "        .DS_Store\n",
    "        config\n",
    "        f1.py\n",
    "        f2.py\n",
    "        f3.py\n",
    "        f3.txt\n",
    "        f4.html\n",
    "\n",
    "nothing added to commit but untracked files present (use \"git add\" to track)\n",
    "vigneshs-MacBook-Air% git add f4.html\n",
    "vigneshs-MacBook-Air% git status\n",
    "On branch master\n",
    "\n",
    "No commits yet\n",
    "\n",
    "Changes to be committed:\n",
    "  (use \"git rm --cached <file>...\" to unstage)\n",
    "        new file:   f4.html\n",
    "\n",
    "Untracked files:\n",
    "  (use \"git add <file>...\" to include in what will be committed)\n",
    "        .DS_Store\n",
    "        config\n",
    "        f1.py\n",
    "        f2.py\n",
    "        f3.py\n",
    "        f3.txt\n",
    "\n",
    "vigneshs-MacBook-Air% git add f3.txt config\n",
    "vigneshs-MacBook-Air% git status\n",
    "On branch master\n",
    "\n",
    "No commits yet\n",
    "\n",
    "Changes to be committed:\n",
    "  (use \"git rm --cached <file>...\" to unstage)\n",
    "        new file:   config\n",
    "        new file:   f3.txt\n",
    "        new file:   f4.html\n",
    "\n",
    "Untracked files:\n",
    "  (use \"git add <file>...\" to include in what will be committed)\n",
    "        .DS_Store\n",
    "        f1.py\n",
    "        f2.py\n",
    "        f3.py\n",
    "\n",
    "vigneshs-MacBook-Air% git add *.py\n",
    "vigneshs-MacBook-Air% git status\n",
    "On branch master\n",
    "\n",
    "No commits yet\n",
    "\n",
    "Changes to be committed:\n",
    "  (use \"git rm --cached <file>...\" to unstage)\n",
    "        new file:   config\n",
    "        new file:   f1.py\n",
    "        new file:   f2.py\n",
    "        new file:   f3.py\n",
    "        new file:   f3.txt\n",
    "        new file:   f4.html\n",
    "\n",
    "Untracked files:\n",
    "  (use \"git add <file>...\" to include in what will be committed)\n",
    "        .DS_Store\n",
    "\n",
    "vigneshs-MacBook-Air% git add .\n",
    "vigneshs-MacBook-Air% git status\n",
    "On branch master\n",
    "\n",
    "No commits yet\n",
    "\n",
    "Changes to be committed:\n",
    "  (use \"git rm --cached <file>...\" to unstage)\n",
    "        new file:   .DS_Store\n",
    "        new file:   config\n",
    "        new file:   f1.py\n",
    "        new file:   f2.py\n",
    "        new file:   f3.py\n",
    "        new file:   f3.txt\n",
    "        new file:   f4.html\n",
    "\n",
    "vigneshs-MacBook-Air% git commit -m 'First commit'\n",
    "[master (root-commit) 2d6e540] First commit\n",
    " 7 files changed, 8 insertions(+)\n",
    " create mode 100644 .DS_Store\n",
    " create mode 100644 config\n",
    " create mode 100644 f1.py\n",
    " create mode 100644 f2.py\n",
    " create mode 100644 f3.py\n",
    " create mode 100644 f3.txt\n",
    " create mode 100644 f4.html\n",
    "vigneshs-MacBook-Air% git status\n",
    "On branch master\n",
    "nothing to commit, working tree clean\n",
    "\n",
    "vigneshs-MacBook-Air% open .git\n",
    "vigneshs-MacBook-Air% git remote add origin https://github.com/DataScienceLearnbay/LB_DSC_14_Mar_WKND.git\n",
    "vigneshs-MacBook-Air% git rmeote -v\n",
    "git: 'rmeote' is not a git command. See 'git --help'.\n",
    "\n",
    "The most similar command is\n",
    "        remote\n",
    "vigneshs-MacBook-Air% git remote -v\n",
    "origin  https://github.com/DataScienceLearnbay/LB_DSC_14_Mar_WKND.git (fetch)\n",
    "origin  https://github.com/DataScienceLearnbay/LB_DSC_14_Mar_WKND.git (push)\n",
    "vigneshs-MacBook-Air% git push -f origin master\n",
    "Username for 'https://github.com': learnbay.datascience@gmail.com\n",
    "Password for 'https://learnbay.datascience@gmail.com@github.com':\n",
    "remote: Invalid username or password.\n",
    "fatal: Authentication failed for 'https://github.com/DataScienceLearnbay/LB_DSC_14_Mar_WKND.git/'\n",
    "vigneshs-MacBook-Air% git push -f origin master\n",
    "Username for 'https://github.com': datascience.learnbay@gmail.com\n",
    "Password for 'https://datascience.learnbay@gmail.com@github.com':\n",
    "Enumerating objects: 7, done.\n",
    "Counting objects: 100% (7/7), done.\n",
    "Delta compression using up to 4 threads\n",
    "Compressing objects: 100% (3/3), done.\n",
    "Writing objects: 100% (7/7), 656 bytes | 164.00 KiB/s, done.\n",
    "Total 7 (delta 0), reused 0 (delta 0), pack-reused 0\n",
    "To https://github.com/DataScienceLearnbay/LB_DSC_14_Mar_WKND.git\n",
    " * [new branch]      master -> master\n",
    "vigneshs-MacBook-Air%"
   ]
  },
  {
   "cell_type": "code",
   "execution_count": null,
   "metadata": {},
   "outputs": [],
   "source": []
  },
  {
   "cell_type": "code",
   "execution_count": null,
   "metadata": {},
   "outputs": [],
   "source": []
  },
  {
   "cell_type": "code",
   "execution_count": null,
   "metadata": {},
   "outputs": [],
   "source": []
  },
  {
   "cell_type": "code",
   "execution_count": null,
   "metadata": {},
   "outputs": [],
   "source": []
  },
  {
   "cell_type": "code",
   "execution_count": null,
   "metadata": {},
   "outputs": [],
   "source": []
  },
  {
   "cell_type": "code",
   "execution_count": null,
   "metadata": {},
   "outputs": [],
   "source": []
  },
  {
   "cell_type": "code",
   "execution_count": null,
   "metadata": {},
   "outputs": [],
   "source": []
  },
  {
   "cell_type": "code",
   "execution_count": null,
   "metadata": {},
   "outputs": [],
   "source": []
  },
  {
   "cell_type": "code",
   "execution_count": null,
   "metadata": {},
   "outputs": [],
   "source": []
  },
  {
   "cell_type": "code",
   "execution_count": null,
   "metadata": {},
   "outputs": [],
   "source": []
  },
  {
   "cell_type": "code",
   "execution_count": null,
   "metadata": {},
   "outputs": [],
   "source": []
  },
  {
   "cell_type": "code",
   "execution_count": null,
   "metadata": {},
   "outputs": [],
   "source": []
  },
  {
   "cell_type": "code",
   "execution_count": null,
   "metadata": {},
   "outputs": [],
   "source": []
  },
  {
   "cell_type": "code",
   "execution_count": null,
   "metadata": {},
   "outputs": [],
   "source": []
  },
  {
   "cell_type": "code",
   "execution_count": null,
   "metadata": {},
   "outputs": [],
   "source": []
  },
  {
   "cell_type": "code",
   "execution_count": null,
   "metadata": {},
   "outputs": [],
   "source": []
  },
  {
   "cell_type": "code",
   "execution_count": null,
   "metadata": {},
   "outputs": [],
   "source": []
  },
  {
   "cell_type": "code",
   "execution_count": null,
   "metadata": {},
   "outputs": [],
   "source": []
  },
  {
   "cell_type": "code",
   "execution_count": null,
   "metadata": {},
   "outputs": [],
   "source": []
  },
  {
   "cell_type": "code",
   "execution_count": null,
   "metadata": {},
   "outputs": [],
   "source": []
  },
  {
   "cell_type": "code",
   "execution_count": null,
   "metadata": {},
   "outputs": [],
   "source": []
  },
  {
   "cell_type": "code",
   "execution_count": null,
   "metadata": {},
   "outputs": [],
   "source": []
  },
  {
   "cell_type": "code",
   "execution_count": null,
   "metadata": {},
   "outputs": [],
   "source": []
  },
  {
   "cell_type": "code",
   "execution_count": null,
   "metadata": {},
   "outputs": [],
   "source": []
  },
  {
   "cell_type": "code",
   "execution_count": null,
   "metadata": {},
   "outputs": [],
   "source": []
  },
  {
   "cell_type": "code",
   "execution_count": null,
   "metadata": {},
   "outputs": [],
   "source": []
  },
  {
   "cell_type": "code",
   "execution_count": null,
   "metadata": {},
   "outputs": [],
   "source": []
  },
  {
   "cell_type": "code",
   "execution_count": null,
   "metadata": {},
   "outputs": [],
   "source": []
  },
  {
   "cell_type": "code",
   "execution_count": null,
   "metadata": {},
   "outputs": [],
   "source": []
  },
  {
   "cell_type": "code",
   "execution_count": null,
   "metadata": {},
   "outputs": [],
   "source": []
  },
  {
   "cell_type": "code",
   "execution_count": null,
   "metadata": {},
   "outputs": [],
   "source": []
  },
  {
   "cell_type": "code",
   "execution_count": null,
   "metadata": {},
   "outputs": [],
   "source": []
  },
  {
   "cell_type": "code",
   "execution_count": null,
   "metadata": {},
   "outputs": [],
   "source": []
  },
  {
   "cell_type": "code",
   "execution_count": null,
   "metadata": {},
   "outputs": [],
   "source": []
  },
  {
   "cell_type": "code",
   "execution_count": null,
   "metadata": {},
   "outputs": [],
   "source": []
  },
  {
   "cell_type": "code",
   "execution_count": null,
   "metadata": {},
   "outputs": [],
   "source": []
  },
  {
   "cell_type": "code",
   "execution_count": null,
   "metadata": {},
   "outputs": [],
   "source": []
  },
  {
   "cell_type": "code",
   "execution_count": null,
   "metadata": {},
   "outputs": [],
   "source": []
  },
  {
   "cell_type": "code",
   "execution_count": null,
   "metadata": {},
   "outputs": [],
   "source": []
  },
  {
   "cell_type": "code",
   "execution_count": null,
   "metadata": {},
   "outputs": [],
   "source": []
  },
  {
   "cell_type": "code",
   "execution_count": null,
   "metadata": {},
   "outputs": [],
   "source": []
  },
  {
   "cell_type": "code",
   "execution_count": null,
   "metadata": {},
   "outputs": [],
   "source": []
  },
  {
   "cell_type": "code",
   "execution_count": null,
   "metadata": {},
   "outputs": [],
   "source": []
  },
  {
   "cell_type": "code",
   "execution_count": null,
   "metadata": {},
   "outputs": [],
   "source": []
  },
  {
   "cell_type": "code",
   "execution_count": null,
   "metadata": {},
   "outputs": [],
   "source": []
  },
  {
   "cell_type": "code",
   "execution_count": null,
   "metadata": {},
   "outputs": [],
   "source": []
  },
  {
   "cell_type": "code",
   "execution_count": null,
   "metadata": {},
   "outputs": [],
   "source": []
  },
  {
   "cell_type": "code",
   "execution_count": null,
   "metadata": {},
   "outputs": [],
   "source": []
  }
 ],
 "metadata": {
  "kernelspec": {
   "display_name": "Python 3",
   "language": "python",
   "name": "python3"
  },
  "language_info": {
   "codemirror_mode": {
    "name": "ipython",
    "version": 3
   },
   "file_extension": ".py",
   "mimetype": "text/x-python",
   "name": "python",
   "nbconvert_exporter": "python",
   "pygments_lexer": "ipython3",
   "version": "3.8.2"
  },
  "latex_envs": {
   "LaTeX_envs_menu_present": true,
   "autoclose": false,
   "autocomplete": true,
   "bibliofile": "biblio.bib",
   "cite_by": "apalike",
   "current_citInitial": 1,
   "eqLabelWithNumbers": true,
   "eqNumInitial": 1,
   "hotkeys": {
    "equation": "Ctrl-E",
    "itemize": "Ctrl-I"
   },
   "labels_anchors": false,
   "latex_user_defs": false,
   "report_style_numbering": false,
   "user_envs_cfg": false
  },
  "varInspector": {
   "cols": {
    "lenName": 16,
    "lenType": 16,
    "lenVar": 40
   },
   "kernels_config": {
    "python": {
     "delete_cmd_postfix": "",
     "delete_cmd_prefix": "del ",
     "library": "var_list.py",
     "varRefreshCmd": "print(var_dic_list())"
    },
    "r": {
     "delete_cmd_postfix": ") ",
     "delete_cmd_prefix": "rm(",
     "library": "var_list.r",
     "varRefreshCmd": "cat(var_dic_list()) "
    }
   },
   "types_to_exclude": [
    "module",
    "function",
    "builtin_function_or_method",
    "instance",
    "_Feature"
   ],
   "window_display": false
  }
 },
 "nbformat": 4,
 "nbformat_minor": 2
}
