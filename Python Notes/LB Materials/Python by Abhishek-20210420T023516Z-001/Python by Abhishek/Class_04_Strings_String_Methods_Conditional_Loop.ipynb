{
 "cells": [
  {
   "cell_type": "markdown",
   "metadata": {},
   "source": [
    "# String"
   ]
  },
  {
   "cell_type": "code",
   "execution_count": 29,
   "metadata": {
    "ExecuteTime": {
     "end_time": "2021-04-03T07:55:28.205730Z",
     "start_time": "2021-04-03T07:55:28.195828Z"
    }
   },
   "outputs": [],
   "source": [
    "# String - Anything kept inside '...', \"...\", '''...''', \"\"\"...\"\"\".\n",
    "\n",
    "# my_str = 'Python'\n",
    "# print(my_str, type(my_str))\n",
    "\n",
    "# my_str = \"Python\"\n",
    "# print(my_str, type(my_str))\n",
    "\n",
    "# my_str = \"\"\"Python\"\"\"\n",
    "# print(my_str, type(my_str))\n",
    "\n",
    "# my_str = '''Python'''\n",
    "# print(my_str, type(my_str))\n",
    "\n",
    "# my_str = \"This is Python's class\"\n",
    "# print(my_str, type(my_str))\n",
    "\n",
    "# my_str = 'This is \"Python\" class'\n",
    "# print(my_str, type(my_str))\n",
    "\n",
    "# my_str = '''This is \"Python\" and 'Java' class'''\n",
    "# print(my_str, type(my_str))\n",
    "\n",
    "\n",
    "# Single and double quotations are used to define a single line string\n",
    "# my_str = '''This \n",
    "# is \n",
    "# Python \n",
    "# class'''\n",
    "# print(my_str)\n",
    "\n",
    "def add():\n",
    "    '''This is a function which takes 2 anumbers as arguments and returns the \n",
    "        1. summation of both.\n",
    "        2. Subtraction both\n",
    "        3. product of both'''\n",
    "    a = int(input('Enter First Number: '))\n",
    "    b = int(input('Enter second number'))\n",
    "    return a+b\n",
    "\n",
    "def my_func():\n",
    "    '''Hello'''\n",
    "    pass\n",
    "    "
   ]
  },
  {
   "cell_type": "code",
   "execution_count": 13,
   "metadata": {
    "ExecuteTime": {
     "end_time": "2021-04-03T07:44:42.871874Z",
     "start_time": "2021-04-03T07:44:42.864978Z"
    }
   },
   "outputs": [
    {
     "name": "stdout",
     "output_type": "stream",
     "text": [
      "Help on function add in module __main__:\n",
      "\n",
      "add(a, b)\n",
      "    This is a function which takes 2 anumbers as arguments and returns the summation of both.\n",
      "\n"
     ]
    }
   ],
   "source": [
    "help(add)"
   ]
  },
  {
   "cell_type": "code",
   "execution_count": 25,
   "metadata": {
    "ExecuteTime": {
     "end_time": "2021-04-03T07:52:09.859480Z",
     "start_time": "2021-04-03T07:52:09.852682Z"
    }
   },
   "outputs": [
    {
     "name": "stdout",
     "output_type": "stream",
     "text": [
      "This is a function which takes 2 anumbers as arguments and returns the \n",
      "        1. summation of both.\n",
      "        2. Subtraction both\n",
      "        3. product of both\n",
      "Hello\n"
     ]
    }
   ],
   "source": [
    "print(add.__doc__)\n",
    "print(my_func.__doc__)"
   ]
  },
  {
   "cell_type": "code",
   "execution_count": 26,
   "metadata": {
    "ExecuteTime": {
     "end_time": "2021-04-03T07:53:33.635418Z",
     "start_time": "2021-04-03T07:53:33.629482Z"
    }
   },
   "outputs": [
    {
     "name": "stdout",
     "output_type": "stream",
     "text": [
      "['__annotations__', '__call__', '__class__', '__closure__', '__code__', '__defaults__', '__delattr__', '__dict__', '__dir__', '__doc__', '__eq__', '__format__', '__ge__', '__get__', '__getattribute__', '__globals__', '__gt__', '__hash__', '__init__', '__init_subclass__', '__kwdefaults__', '__le__', '__lt__', '__module__', '__name__', '__ne__', '__new__', '__qualname__', '__reduce__', '__reduce_ex__', '__repr__', '__setattr__', '__sizeof__', '__str__', '__subclasshook__']\n"
     ]
    }
   ],
   "source": [
    "print(dir(add))"
   ]
  },
  {
   "cell_type": "code",
   "execution_count": 65,
   "metadata": {
    "ExecuteTime": {
     "end_time": "2021-04-03T08:31:50.825683Z",
     "start_time": "2021-04-03T08:31:50.817296Z"
    }
   },
   "outputs": [
    {
     "name": "stdout",
     "output_type": "stream",
     "text": [
      "Bangalore Bangalore Bangalore \n"
     ]
    }
   ],
   "source": [
    "# String is a seq - \n",
    "    # Indexing, Slicing, Concatenation, Repetition, Membership, len\n",
    "    # String supports +ve and -ve indexing both\n",
    "    # +ve index starts from 0 from LHS\n",
    "    # -ve index starts from -1 from RHS\n",
    "    \n",
    "# indexing - Accessing one element at a time\n",
    "# Synatx - my_str[index]\n",
    "\n",
    "my_str = 'Python'\n",
    "# print(my_str[0], 0)\n",
    "# print(my_str[1], 1)\n",
    "# print(my_str[2], 2)\n",
    "# print(my_str[3], 3)\n",
    "# print(my_str[4], 4)\n",
    "# print(my_str[5], 5)\n",
    "# print(my_str[6], 6)\n",
    "\n",
    "# print(my_str[-1], -1)\n",
    "# print(my_str[-2], -2)\n",
    "# print(my_str[-3], -3)\n",
    "# print(my_str[-4], -4)\n",
    "# print(my_str[-5], -5)\n",
    "# print(my_str[-6], -6)\n",
    "# print(my_str[-7], -7)\n",
    "\n",
    "# length\n",
    "# print(len(my_str))\n",
    "\n",
    "# slicing - taking a piece out\n",
    "# Syntax - my_str[start_index:stop_index:step]\n",
    "\n",
    "# Start and stop and step are optional\n",
    "\n",
    "my_str = 'This is Python class'\n",
    "# print(my_str[::])\n",
    "# print(my_str[0:len(my_str):1])\n",
    "\n",
    "# step size - slicing every 2nd element\n",
    "# print(my_str[::2])\n",
    "\n",
    "# Slicing every 2nd element starting from i\n",
    "# print(my_str[2:-4:2])\n",
    "\n",
    "\n",
    "# In slicing - string will be sliced till the (stop_index -1)\n",
    "# Stop index is exclusive\n",
    "# print(my_str[2:-3:2])\n",
    "\n",
    "\n",
    "# Slice 'Python' from my_str\n",
    "# print(my_str[8:14])\n",
    "\n",
    "# slicing in reverse order - step should be negative\n",
    "# print(my_str[::-1])\n",
    "# print(my_str[len(my_str):-len(my_str)-1:-1])\n",
    "# print(my_str[len(my_str)::-1])\n",
    "\n",
    "# Slice Python in reverse order using negatve index\n",
    "# print(my_str[-7:6:-1])\n",
    "\n",
    "# Conclusion 1 - Forward Direction, start index shuld be on left side compared to yourr stop index, step is +ve\n",
    "# Conclusion 2 - Reverse Direction, start index shuld be on right side compared to yourr stop index, step is -ve\n",
    "\n",
    "# Concatenation - Combining two string\n",
    "# We use + operator\n",
    "# Bith the operand should be string type\n",
    "city = 'Bangalore '\n",
    "country = 'India'\n",
    "# print(city + ' ' + country)\n",
    "\n",
    "# print('Python' + 10)\n",
    "# print('Python' + [10,20])\n",
    "\n",
    "\n",
    "\n",
    "\n",
    "# and Repetition - Repeting a string\n",
    "# We use * operator\n",
    "# One of the operand should be string type and other should be int type\n",
    "print(city * 3)\n",
    "# print(city * 3.0)\n",
    "\n",
    "\n",
    "\n"
   ]
  },
  {
   "cell_type": "code",
   "execution_count": 50,
   "metadata": {
    "ExecuteTime": {
     "end_time": "2021-04-03T08:22:45.476021Z",
     "start_time": "2021-04-03T08:22:45.466167Z"
    }
   },
   "outputs": [
    {
     "name": "stdout",
     "output_type": "stream",
     "text": [
      "ssalc nohtyP si sihT\n"
     ]
    }
   ],
   "source": [
    "print(my_str[len(my_str):-len(my_str)-1:-1])"
   ]
  },
  {
   "cell_type": "code",
   "execution_count": 67,
   "metadata": {
    "ExecuteTime": {
     "end_time": "2021-04-03T08:32:51.943230Z",
     "start_time": "2021-04-03T08:32:51.932744Z"
    }
   },
   "outputs": [
    {
     "name": "stdout",
     "output_type": "stream",
     "text": [
      "False\n",
      "True\n"
     ]
    }
   ],
   "source": [
    "# my_str = ''\n",
    "# print(bool(my_str))\n",
    "\n",
    "# my_str = ' '\n",
    "# print(bool(my_str))"
   ]
  },
  {
   "cell_type": "code",
   "execution_count": 71,
   "metadata": {
    "ExecuteTime": {
     "end_time": "2021-04-03T08:37:49.931751Z",
     "start_time": "2021-04-03T08:37:49.924346Z"
    }
   },
   "outputs": [
    {
     "name": "stdout",
     "output_type": "stream",
     "text": [
      "Hello\n"
     ]
    }
   ],
   "source": [
    "# Conditional statent - if, elif, else\n",
    "\n",
    "# Case 1\n",
    "# if cond:\n",
    "#     stat1\n",
    "#     stat2\n",
    "#     stat3\n",
    "#     stat4\n",
    "\n",
    "# Case 2\n",
    "# if cond:\n",
    "#     stat1\n",
    "#     stat2\n",
    "#     stat3\n",
    "#     stat4\n",
    "# else:\n",
    "#     stat5\n",
    "#     stat6\n",
    "#     stat7\n",
    "#     stat8\n",
    "\n",
    "# Case 3\n",
    "# if cond:\n",
    "#     stat1\n",
    "#     stat2\n",
    "#     stat3\n",
    "#     stat4\n",
    "# elif cond:\n",
    "#     stat_el_1\n",
    "#     stat_el_2\n",
    "#     stat_el_3\n",
    "#     stat_el_4\n",
    "# else:\n",
    "#     stat5\n",
    "#     stat6\n",
    "#     stat7\n",
    "#     stat8\n",
    "    \n",
    "    \n",
    "# if 10<20:\n",
    "#     print('hello')\n",
    "\n",
    "\n",
    "# if not \"\":\n",
    "#     print('Hello')\n",
    "\n",
    "\n"
   ]
  },
  {
   "cell_type": "code",
   "execution_count": 78,
   "metadata": {
    "ExecuteTime": {
     "end_time": "2021-04-03T08:47:12.111757Z",
     "start_time": "2021-04-03T08:47:12.099923Z"
    }
   },
   "outputs": [
    {
     "name": "stdout",
     "output_type": "stream",
     "text": [
      "T\n",
      "hh\n",
      "iii\n",
      "ssss\n",
      "     \n",
      "iiiiii\n",
      "sssssss\n",
      "        \n",
      "PPPPPPPPP\n",
      "yyyyyyyyyy\n",
      "ttttttttttt\n",
      "hhhhhhhhhhhh\n",
      "ooooooooooooo\n",
      "nnnnnnnnnnnnnn\n",
      "               \n",
      "cccccccccccccccc\n",
      "lllllllllllllllll\n",
      "aaaaaaaaaaaaaaaaaa\n",
      "sssssssssssssssssss\n",
      "ssssssssssssssssssss\n"
     ]
    }
   ],
   "source": [
    "# for loop - \n",
    "# Syantx - \n",
    "# for var in seq:\n",
    "#     stat1\n",
    "#     stat2\n",
    "#     stat3\n",
    "#     stat4\n",
    "my_str = 'This is Python class'\n",
    "factor = 0\n",
    "for a in range(len(:\n",
    "    factor += 1\n",
    "    print(a * factor)\n",
    "    \n",
    "# iterator - function\n",
    "    \n",
    "\n",
    "\n"
   ]
  },
  {
   "cell_type": "code",
   "execution_count": 79,
   "metadata": {
    "ExecuteTime": {
     "end_time": "2021-04-03T08:48:35.657897Z",
     "start_time": "2021-04-03T08:48:35.648684Z"
    }
   },
   "outputs": [
    {
     "name": "stdout",
     "output_type": "stream",
     "text": [
      "P\n",
      "y\n",
      "t\n",
      "h\n",
      "o\n",
      "n\n"
     ]
    }
   ],
   "source": [
    "for a in 'Python':\n",
    "    print(a)"
   ]
  },
  {
   "cell_type": "code",
   "execution_count": 81,
   "metadata": {
    "ExecuteTime": {
     "end_time": "2021-04-03T08:49:24.750556Z",
     "start_time": "2021-04-03T08:49:24.743394Z"
    }
   },
   "outputs": [
    {
     "name": "stdout",
     "output_type": "stream",
     "text": [
      "0\n",
      "1\n",
      "2\n",
      "3\n",
      "4\n",
      "5\n"
     ]
    }
   ],
   "source": [
    "for a in range(len('Python')):\n",
    "    print(a)"
   ]
  },
  {
   "cell_type": "code",
   "execution_count": 85,
   "metadata": {
    "ExecuteTime": {
     "end_time": "2021-04-03T08:50:53.751283Z",
     "start_time": "2021-04-03T08:50:53.742244Z"
    }
   },
   "outputs": [
    {
     "data": {
      "text/plain": [
       "[0, 1, 2, 3, 4, 5, 6, 7, 8, 9]"
      ]
     },
     "execution_count": 85,
     "metadata": {},
     "output_type": "execute_result"
    }
   ],
   "source": [
    "# range(start, stop, step)\n",
    "\n",
    "# print(list(range(0, 10)))\n",
    "\n",
    "list(range(10))\n"
   ]
  },
  {
   "cell_type": "code",
   "execution_count": 89,
   "metadata": {
    "ExecuteTime": {
     "end_time": "2021-04-03T09:09:48.713670Z",
     "start_time": "2021-04-03T09:09:48.708990Z"
    }
   },
   "outputs": [],
   "source": [
    "# string methods\n",
    "# print(dir(my_str))\n",
    "\n",
    "# 'center', 'encode',  'expandtabs',  'format', 'format_map',\n",
    "#  'join', 'ljust', 'lstrip', 'maketrans', 'partition', \n",
    "# 'replace', 'rjust', 'rpartition', 'rsplit', 'rstrip', 'split', 'splitlines', \n",
    "# 'strip',  'translate', 'zfill'\n",
    "\n"
   ]
  },
  {
   "cell_type": "code",
   "execution_count": 88,
   "metadata": {
    "ExecuteTime": {
     "end_time": "2021-04-03T08:58:32.117979Z",
     "start_time": "2021-04-03T08:58:32.114221Z"
    }
   },
   "outputs": [],
   "source": [
    "# help(str)"
   ]
  },
  {
   "cell_type": "code",
   "execution_count": 95,
   "metadata": {
    "ExecuteTime": {
     "end_time": "2021-04-03T09:12:37.203056Z",
     "start_time": "2021-04-03T09:12:37.191033Z"
    }
   },
   "outputs": [
    {
     "name": "stdout",
     "output_type": "stream",
     "text": [
      "THIS IS PYTHON CLASS\n",
      "this is python class\n",
      "this is python class\n",
      "this is python class\n"
     ]
    }
   ],
   "source": [
    "# capitalize, casefold, 'swapcase', 'title', 'lower', 'upper',\n",
    "\n",
    "# capitalize\n",
    "my_str = 'this is python class'\n",
    "# print(my_str.capitalize())\n",
    "# print(my_str.title())\n",
    "print(my_str.upper())\n"
   ]
  },
  {
   "cell_type": "code",
   "execution_count": 96,
   "metadata": {
    "ExecuteTime": {
     "end_time": "2021-04-03T09:13:39.043405Z",
     "start_time": "2021-04-03T09:13:39.036369Z"
    }
   },
   "outputs": [
    {
     "name": "stdout",
     "output_type": "stream",
     "text": [
      "This is python class\n",
      "this is python class\n",
      "this is python class\n"
     ]
    }
   ],
   "source": [
    "my_str = 'THIS IS PYTHON CLASS'\n",
    "print(my_str.capitalize())\n",
    "print(my_str.lower())\n",
    "print(my_str.casefold())"
   ]
  },
  {
   "cell_type": "code",
   "execution_count": 98,
   "metadata": {
    "ExecuteTime": {
     "end_time": "2021-04-03T09:14:54.997574Z",
     "start_time": "2021-04-03T09:14:54.989220Z"
    }
   },
   "outputs": [
    {
     "name": "stdout",
     "output_type": "stream",
     "text": [
      "fließen\n",
      "fliessen\n"
     ]
    }
   ],
   "source": [
    "my_str = 'fließen'\n",
    "print(my_str.lower())\n",
    "print(my_str.casefold())"
   ]
  },
  {
   "cell_type": "code",
   "execution_count": 99,
   "metadata": {
    "ExecuteTime": {
     "end_time": "2021-04-03T09:16:04.421864Z",
     "start_time": "2021-04-03T09:16:04.411972Z"
    }
   },
   "outputs": [
    {
     "name": "stdout",
     "output_type": "stream",
     "text": [
      "tHIS iS pYTHON cLASS\n"
     ]
    }
   ],
   "source": [
    "my_str = 'This Is Python Class'\n",
    "print(my_str.swapcase())"
   ]
  },
  {
   "cell_type": "code",
   "execution_count": 101,
   "metadata": {
    "ExecuteTime": {
     "end_time": "2021-04-03T09:17:39.963314Z",
     "start_time": "2021-04-03T09:17:39.957069Z"
    }
   },
   "outputs": [
    {
     "name": "stdout",
     "output_type": "stream",
     "text": [
      "tHIS IS PYTHON CLASS\n"
     ]
    }
   ],
   "source": [
    "# Python is functional programming language\n",
    "# Function is treated as first class citizen\n",
    "\n",
    "my_str = 'this is python class'\n",
    "print(my_str.capitalize().swapcase())\n",
    "\n"
   ]
  },
  {
   "cell_type": "code",
   "execution_count": 111,
   "metadata": {
    "ExecuteTime": {
     "end_time": "2021-04-03T09:25:32.177683Z",
     "start_time": "2021-04-03T09:25:32.170180Z"
    }
   },
   "outputs": [
    {
     "name": "stdout",
     "output_type": "stream",
     "text": [
      "True\n",
      "True\n",
      "False\n"
     ]
    }
   ],
   "source": [
    "# startswith, endswith\n",
    "\n",
    "my_str = 'this is python class'\n",
    "# print(my_str.startswith('t'))\n",
    "# print(my_str.startswith('thi'))\n",
    "# print(my_str.startswith('This'))\n",
    "\n",
    "# print(my_str.endswith('s'))\n",
    "# print(my_str.endswith('lass'))\n",
    "# print(my_str.endswith('Class'))\n",
    "\n",
    "# print(my_str.startswith('p', 8))\n",
    "# print(my_str.startswith('pyth', 8))\n",
    "# print(my_str.startswith('Pyth', 8))\n",
    "\n",
    "print(my_str.endswith('n', 0, 14))\n",
    "print(my_str.endswith('thon', 8, 14))\n",
    "print(my_str.endswith('Thon', 8, 14))\n"
   ]
  },
  {
   "cell_type": "code",
   "execution_count": 127,
   "metadata": {
    "ExecuteTime": {
     "end_time": "2021-04-03T09:38:25.634210Z",
     "start_time": "2021-04-03T09:38:25.624395Z"
    }
   },
   "outputs": [
    {
     "data": {
      "text/plain": [
       "-1"
      ]
     },
     "execution_count": 127,
     "metadata": {},
     "output_type": "execute_result"
    }
   ],
   "source": [
    "# count, index, find, rfind, rindex\n",
    "\n",
    "my_str = 'peter piper picked a peck of pickled peppers'\n",
    "# print(my_str.count('p'))\n",
    "# print(my_str.count('pe'))\n",
    "# print(my_str.count('pi'))\n",
    "\n",
    "# print(my_str.count('p', 9))\n",
    "# print(my_str.count('pe', 7, 35))\n",
    "# print(my_str.count('pi', 0, 35))\n",
    "\n",
    "\n",
    "\n",
    "# Docstring:\n",
    "# S.find(sub[, start[, end]]) -> int\n",
    "\n",
    "# Return the lowest index in S where substring sub is found,\n",
    "# such that sub is contained within S[start:end].  Optional\n",
    "# arguments start and end are interpreted as in slice notation.\n",
    "\n",
    "# Return -1 on failure.\n",
    "\n",
    "# my_str.find('t')\n",
    "# my_str.find('pick')\n",
    "# my_str.find('pick', 14, 35)\n",
    "# my_str.find('pick', 14, 20)\n",
    "\n",
    "\n",
    "\n",
    "# Docstring:\n",
    "# S.rfind(sub[, start[, end]]) -> int\n",
    "\n",
    "# Return the highest index in S where substring sub is found,\n",
    "# such that sub is contained within S[start:end].  Optional\n",
    "# arguments start and end are interpreted as in slice notation.\n",
    "\n",
    "# Return -1 on failure.\n",
    "\n",
    "# my_str.rfind('p')\n",
    "# my_str.rfind('pick')\n",
    "# my_str.find('pick', 14, 35)\n",
    "# my_str.find('pick', 14, 20)\n",
    "\n",
    "\n",
    "\n",
    "\n",
    "\n",
    "\n",
    "\n",
    "\n",
    "\n"
   ]
  },
  {
   "cell_type": "code",
   "execution_count": 137,
   "metadata": {
    "ExecuteTime": {
     "end_time": "2021-04-03T09:41:17.455268Z",
     "start_time": "2021-04-03T09:41:17.450253Z"
    }
   },
   "outputs": [],
   "source": [
    "# index\n",
    "# Docstring:\n",
    "# S.index(sub[, start[, end]]) -> int\n",
    "\n",
    "# Return the lowest index in S where substring sub is found,\n",
    "# such that sub is contained within S[start:end].  Optional\n",
    "# arguments start and end are interpreted as in slice notation.\n",
    "\n",
    "# Raises ValueError when the substring is not found.\n",
    "\n",
    "my_str = 'peter piper picked a peck of pickled peppers'\n",
    "# my_str.index('t')\n",
    "# my_str.index('pick')\n",
    "# my_str.index('pick', 14, 35)\n",
    "# my_str.index('pick', 14, 20)\n",
    "\n",
    "# Docstring:\n",
    "# S.rindex(sub[, start[, end]]) -> int\n",
    "\n",
    "# Return the highest index in S where substring sub is found,\n",
    "# such that sub is contained within S[start:end].  Optional\n",
    "# arguments start and end are interpreted as in slice notation.\n",
    "\n",
    "# Raises ValueError when the substring is not found.\n",
    "\n",
    "# my_str.rindex('p')\n",
    "# my_str.rindex('pick')\n",
    "# my_str.rindex('pick', 14, 35)\n",
    "# my_str.rindex('pick', 14, 20)\n"
   ]
  },
  {
   "cell_type": "code",
   "execution_count": 174,
   "metadata": {
    "ExecuteTime": {
     "end_time": "2021-04-03T10:08:22.877390Z",
     "start_time": "2021-04-03T10:08:22.867639Z"
    }
   },
   "outputs": [
    {
     "name": "stdout",
     "output_type": "stream",
     "text": [
      "True\n"
     ]
    }
   ],
   "source": [
    "  \n",
    "# 'isprintable',\n",
    "\n",
    "my_str1 = 'Python'\n",
    "my_str2 = '3Python163'\n",
    "my_str3 = '16325863'\n",
    "my_str4 = 'Python163$$$%&'\n",
    "\n",
    "\n",
    "# isalnum()\n",
    "# Signature: my_str1.isalnum()\n",
    "# Docstring:\n",
    "# Return True if the string is an alpha-numeric string, False otherwise.\n",
    "\n",
    "# A string is alpha-numeric if all characters in the string are alpha-numeric and\n",
    "# there is at least one character in the string.\n",
    "\n",
    "# print(my_str1.isalnum())\n",
    "# print(my_str2.isalnum())\n",
    "# print(my_str3.isalnum())\n",
    "# print(my_str4.isalnum())\n",
    "\n",
    "\n",
    "\n",
    "# isalpha()\n",
    "# Signature: my_str1.isalpha()\n",
    "# Docstring:\n",
    "# Return True if the string is an alphabetic string, False otherwise.\n",
    "\n",
    "# A string is alphabetic if all characters in the string are alphabetic and there\n",
    "# is at least one character in the string.\n",
    "# print(my_str1.isalpha())\n",
    "# print(my_str2.isalpha())\n",
    "# print(my_str3.isalpha())\n",
    "# print(my_str4.isalpha())\n",
    "\n",
    "\n",
    "\n",
    "\n",
    "# isnumeric()\n",
    "# Signature: my_str.isnumeric()\n",
    "# Docstring:\n",
    "# Return True if the string is a numeric string, False otherwise.\n",
    "\n",
    "# A string is numeric if all characters in the string are numeric and there is at\n",
    "# least one character in the string.\n",
    "# print(my_str1.isnumeric())\n",
    "# print(my_str3.isnumeric())\n",
    "\n",
    "\n",
    "\n",
    "\n",
    "# Signature: my_str.islower()\n",
    "# Docstring:\n",
    "# Return True if the string is a lowercase string, False otherwise.\n",
    "\n",
    "# A string is lowercase if all cased characters in the string are lowercase and\n",
    "# there is at least one cased character in the string.\n",
    "\n",
    "\n",
    "\n",
    "# Signature: my_str.isupper()\n",
    "# Docstring:\n",
    "# Return True if the string is an uppercase string, False otherwise.\n",
    "\n",
    "# A string is uppercase if all cased characters in the string are uppercase and\n",
    "# there is at least one cased character in the string.\n",
    "\n",
    "\n",
    "\n",
    "\n",
    "# Signature: my_str.istitle()\n",
    "# Docstring:\n",
    "# Return True if the string is a title-cased string, False otherwise.\n",
    "\n",
    "# In a title-cased string, upper- and title-case characters may only\n",
    "# follow uncased characters and lowercase characters only cased ones.\n",
    "\n",
    "\n",
    "\n",
    "# my_str4.islower()\n",
    "\n",
    "\n",
    "\n",
    "# ' '\n",
    "# \\n\n",
    "# \\t\n",
    "# \\v\n",
    "# \\f\n",
    "\n",
    "# my_str5 = '\\n\\t \\v\\f'\n",
    "# my_str6 = 'a\\n\\t \\v\\f9'\n",
    "# print(my_str5.isspace())\n",
    "# print(my_str6.isspace())\n",
    "\n",
    "\n",
    "# 'isascii', \n",
    "# Signature: my_str.isascii()\n",
    "# Docstring:\n",
    "# Return True if all characters in the string are ASCII, False otherwise.\n",
    "\n",
    "# ASCII characters have code points in the range U+0000-U+007F.\n",
    "# Empty string is ASCII too.\n",
    "# my_str = 'fließen'\n",
    "# print(my_str.isascii())\n",
    "\n",
    "\n",
    "# isidentifier - \n",
    "# Signature: my_str.isidentifier()\n",
    "# Docstring:\n",
    "# Return True if the string is a valid Python identifier, False otherwise.\n",
    "\n",
    "# Call keyword.iskeyword(s) to test whether string s is a reserved identifier,\n",
    "# such as \"def\" or \"class\".\n",
    "\n",
    "# Exceptions - for keywords also it returns True \n",
    "\n",
    "# print('num'.isidentifier())\n",
    "# print('num1'.isidentifier())\n",
    "# print('1num'.isidentifier())\n",
    "# print('num$'.isidentifier())\n",
    "# # print('for'.isidentifier())\n",
    "\n",
    "# import keyword\n",
    "# print(keyword.iskeyword('for'))\n",
    "# print(keyword.iskeyword('For'))\n",
    "\n",
    "\n",
    "# isprintable\n",
    "\n",
    "# my_str = 'Hello\\nWorld'\n",
    "# my_str.isprintable()\n",
    "\n",
    "# my_str = r'Hello\\nWorld'\n",
    "# my_str.isprintable()\n",
    "\n",
    "# '10+20'.isprintable()\n",
    "\n",
    "my_str = 'Hello World'\n",
    "print(my_str.isprintable())\n",
    "\n",
    "\n",
    "\n"
   ]
  },
  {
   "cell_type": "code",
   "execution_count": 169,
   "metadata": {
    "ExecuteTime": {
     "end_time": "2021-04-03T10:06:10.438303Z",
     "start_time": "2021-04-03T10:06:10.432182Z"
    }
   },
   "outputs": [
    {
     "name": "stdout",
     "output_type": "stream",
     "text": [
      "Hello\n",
      "World\n"
     ]
    }
   ],
   "source": [
    "my_str = 'Hello\\nWorld'\n",
    "print(my_str)"
   ]
  },
  {
   "cell_type": "code",
   "execution_count": 170,
   "metadata": {
    "ExecuteTime": {
     "end_time": "2021-04-03T10:06:30.605689Z",
     "start_time": "2021-04-03T10:06:30.601255Z"
    }
   },
   "outputs": [
    {
     "name": "stdout",
     "output_type": "stream",
     "text": [
      "Hello\\nWorld\n"
     ]
    }
   ],
   "source": [
    "my_str = r'Hello\\nWorld'\n",
    "print(my_str)"
   ]
  },
  {
   "cell_type": "code",
   "execution_count": null,
   "metadata": {},
   "outputs": [],
   "source": []
  },
  {
   "cell_type": "code",
   "execution_count": null,
   "metadata": {},
   "outputs": [],
   "source": []
  },
  {
   "cell_type": "code",
   "execution_count": null,
   "metadata": {},
   "outputs": [],
   "source": []
  },
  {
   "cell_type": "code",
   "execution_count": null,
   "metadata": {},
   "outputs": [],
   "source": []
  },
  {
   "cell_type": "code",
   "execution_count": null,
   "metadata": {},
   "outputs": [],
   "source": []
  },
  {
   "cell_type": "code",
   "execution_count": null,
   "metadata": {},
   "outputs": [],
   "source": []
  },
  {
   "cell_type": "code",
   "execution_count": null,
   "metadata": {},
   "outputs": [],
   "source": []
  },
  {
   "cell_type": "code",
   "execution_count": null,
   "metadata": {},
   "outputs": [],
   "source": []
  },
  {
   "cell_type": "code",
   "execution_count": null,
   "metadata": {},
   "outputs": [],
   "source": []
  },
  {
   "cell_type": "code",
   "execution_count": null,
   "metadata": {},
   "outputs": [],
   "source": []
  },
  {
   "cell_type": "code",
   "execution_count": null,
   "metadata": {},
   "outputs": [],
   "source": []
  },
  {
   "cell_type": "code",
   "execution_count": null,
   "metadata": {},
   "outputs": [],
   "source": []
  },
  {
   "cell_type": "code",
   "execution_count": null,
   "metadata": {},
   "outputs": [],
   "source": []
  },
  {
   "cell_type": "code",
   "execution_count": null,
   "metadata": {},
   "outputs": [],
   "source": []
  },
  {
   "cell_type": "code",
   "execution_count": null,
   "metadata": {},
   "outputs": [],
   "source": []
  },
  {
   "cell_type": "code",
   "execution_count": null,
   "metadata": {},
   "outputs": [],
   "source": []
  },
  {
   "cell_type": "code",
   "execution_count": null,
   "metadata": {},
   "outputs": [],
   "source": []
  },
  {
   "cell_type": "code",
   "execution_count": null,
   "metadata": {},
   "outputs": [],
   "source": []
  },
  {
   "cell_type": "code",
   "execution_count": null,
   "metadata": {},
   "outputs": [],
   "source": []
  },
  {
   "cell_type": "code",
   "execution_count": null,
   "metadata": {},
   "outputs": [],
   "source": []
  },
  {
   "cell_type": "code",
   "execution_count": null,
   "metadata": {},
   "outputs": [],
   "source": []
  }
 ],
 "metadata": {
  "kernelspec": {
   "display_name": "Python 3",
   "language": "python",
   "name": "python3"
  },
  "language_info": {
   "codemirror_mode": {
    "name": "ipython",
    "version": 3
   },
   "file_extension": ".py",
   "mimetype": "text/x-python",
   "name": "python",
   "nbconvert_exporter": "python",
   "pygments_lexer": "ipython3",
   "version": "3.8.2"
  },
  "latex_envs": {
   "LaTeX_envs_menu_present": true,
   "autoclose": false,
   "autocomplete": true,
   "bibliofile": "biblio.bib",
   "cite_by": "apalike",
   "current_citInitial": 1,
   "eqLabelWithNumbers": true,
   "eqNumInitial": 1,
   "hotkeys": {
    "equation": "Ctrl-E",
    "itemize": "Ctrl-I"
   },
   "labels_anchors": false,
   "latex_user_defs": false,
   "report_style_numbering": false,
   "user_envs_cfg": false
  },
  "varInspector": {
   "cols": {
    "lenName": 16,
    "lenType": 16,
    "lenVar": 40
   },
   "kernels_config": {
    "python": {
     "delete_cmd_postfix": "",
     "delete_cmd_prefix": "del ",
     "library": "var_list.py",
     "varRefreshCmd": "print(var_dic_list())"
    },
    "r": {
     "delete_cmd_postfix": ") ",
     "delete_cmd_prefix": "rm(",
     "library": "var_list.r",
     "varRefreshCmd": "cat(var_dic_list()) "
    }
   },
   "types_to_exclude": [
    "module",
    "function",
    "builtin_function_or_method",
    "instance",
    "_Feature"
   ],
   "window_display": false
  }
 },
 "nbformat": 4,
 "nbformat_minor": 2
}
