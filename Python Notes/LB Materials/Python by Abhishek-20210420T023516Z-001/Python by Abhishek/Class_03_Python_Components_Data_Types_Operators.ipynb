{
 "cells": [
  {
   "cell_type": "code",
   "execution_count": null,
   "metadata": {},
   "outputs": [],
   "source": [
    "# Python Programming Components\n",
    "# Python Data Types\n",
    "# Operators"
   ]
  },
  {
   "cell_type": "code",
   "execution_count": 4,
   "metadata": {
    "ExecuteTime": {
     "end_time": "2021-03-27T07:41:53.277387Z",
     "start_time": "2021-03-27T07:41:51.966697Z"
    }
   },
   "outputs": [
    {
     "name": "stdout",
     "output_type": "stream",
     "text": [
      "Enter the radius of circle: 4\n",
      "50.24\n"
     ]
    }
   ],
   "source": [
    "# Python Programming Components\n",
    "PI = 3.14\n",
    "radius = int(input('Enter the radius of circle: '))\n",
    "area = PI * radius * radius\n",
    "print(area)\n"
   ]
  },
  {
   "cell_type": "code",
   "execution_count": null,
   "metadata": {},
   "outputs": [],
   "source": [
    "# PI - Constant - Value which does not change in aprogram\n",
    "# While writing cnstant name in your program you should use all the leets in capital case"
   ]
  },
  {
   "cell_type": "code",
   "execution_count": null,
   "metadata": {},
   "outputs": [],
   "source": [
    "# radius, area - variable - value which may change during a program\n",
    "# Conventaion to write the varaible is all letter should be in small case"
   ]
  },
  {
   "cell_type": "code",
   "execution_count": 20,
   "metadata": {
    "ExecuteTime": {
     "end_time": "2021-03-27T08:04:05.911393Z",
     "start_time": "2021-03-27T08:04:05.897752Z"
    }
   },
   "outputs": [
    {
     "name": "stdout",
     "output_type": "stream",
     "text": [
      "4\n",
      "1\n",
      "1\n",
      "Engine Started\n",
      "4\n",
      "1\n",
      "2\n",
      "Engine Started\n"
     ]
    }
   ],
   "source": [
    "# take the details of five students(st_name, st_id, st_marks) save the informations in a dictionary with respect to every student\n",
    "\n",
    "# Identifier - any name that we use in a python program \n",
    "    # variable, constant, function, class, object\n",
    "    \n",
    "# age = int(input('Enter your age: '))\n",
    "# PI = 3.14\n",
    "# def my_func(param):\n",
    "#     pass\n",
    "\n",
    "# class My_First_Class:\n",
    "#     pass\n",
    "\n",
    "# obj = My_First_Class()\n",
    "\n",
    "# Class is blueprint/abstract idea\n",
    "# object is an instance of the class\n",
    "\n",
    "# class Car:\n",
    "#     def __init__(self, w, e, s):\n",
    "#         self.wheels = w\n",
    "#         self.steering = s\n",
    "#         self.engine = e\n",
    "        \n",
    "#     def start_engine(self):\n",
    "#         print('Engine Started')\n",
    "        \n",
    "#     def stop_engine(self):\n",
    "#         print('Engine Stopped')\n",
    "\n",
    "# ms = Car(4, 1, 1)\n",
    "# print(ms.wheels)\n",
    "# print(ms.engine)\n",
    "# print(ms.steering)\n",
    "# ms.start_engine()\n",
    "\n",
    "# ta = Car(4,1,2)\n",
    "# print(ta.wheels)\n",
    "# print(ta.engine)\n",
    "# print(ta.steering)\n",
    "# ta.start_engine()\n",
    "\n",
    "# Rules \n",
    "    1. Allowed characters - A-Z, a-z,0-9,_\n",
    "    2. Not allowed characters - Special Characters\n",
    "    3. For class Pascal case notation.\n",
    "    4. Identifier is case sensitive\n",
    "    5. Reserved words should not be used as an identifier\n",
    "    6. You should avoid writng any identifier that starts and ends with __\n",
    "\n",
    "\n",
    "\n"
   ]
  },
  {
   "cell_type": "code",
   "execution_count": 26,
   "metadata": {
    "ExecuteTime": {
     "end_time": "2021-03-27T08:16:42.784204Z",
     "start_time": "2021-03-27T08:16:42.776399Z"
    }
   },
   "outputs": [
    {
     "name": "stdout",
     "output_type": "stream",
     "text": [
      "[]\n"
     ]
    }
   ],
   "source": [
    "# write a program which gives below output using loop\n",
    "inp_str = 'This is Python class '\n",
    "# out_lst = ['This', 'is', 'Python', 'class']\n",
    "out_str = ''\n",
    "out_lst = []\n",
    "# for i in inp_str:\n",
    "#     if i == ' ':\n",
    "#         out_lst.append(out_str)\n",
    "#         out_str = ''\n",
    "#     else:\n",
    "#         out_str += i\n",
    "print(out_lst)\n",
    "\n"
   ]
  },
  {
   "cell_type": "code",
   "execution_count": null,
   "metadata": {},
   "outputs": [],
   "source": [
    "# For , if - Control structure\n",
    "# Blocks can be created using indentation (spaces)\n",
    "\n",
    "for, if, elif, else, while, with, def, class, try, except, finally, else"
   ]
  },
  {
   "cell_type": "code",
   "execution_count": null,
   "metadata": {},
   "outputs": [],
   "source": [
    "# a sinle line of code is a statement and also statement never returns any value"
   ]
  },
  {
   "cell_type": "code",
   "execution_count": 7,
   "metadata": {
    "ExecuteTime": {
     "end_time": "2021-03-27T07:53:07.592801Z",
     "start_time": "2021-03-27T07:53:07.589509Z"
    }
   },
   "outputs": [],
   "source": [
    "inp_str = 'This is Python class '"
   ]
  },
  {
   "cell_type": "code",
   "execution_count": 8,
   "metadata": {
    "ExecuteTime": {
     "end_time": "2021-03-27T07:53:13.550590Z",
     "start_time": "2021-03-27T07:53:13.545000Z"
    }
   },
   "outputs": [],
   "source": [
    "out_str = ''"
   ]
  },
  {
   "cell_type": "code",
   "execution_count": 9,
   "metadata": {
    "ExecuteTime": {
     "end_time": "2021-03-27T07:53:19.850895Z",
     "start_time": "2021-03-27T07:53:19.841712Z"
    }
   },
   "outputs": [],
   "source": [
    "out_lst = []"
   ]
  },
  {
   "cell_type": "code",
   "execution_count": 12,
   "metadata": {
    "ExecuteTime": {
     "end_time": "2021-03-27T07:53:34.793789Z",
     "start_time": "2021-03-27T07:53:34.788685Z"
    }
   },
   "outputs": [],
   "source": [
    "for i in inp_str:\n",
    "    if i == ' ':\n",
    "        out_lst.append(out_str)\n",
    "        out_str = ''\n",
    "    else:\n",
    "        out_str += i"
   ]
  },
  {
   "cell_type": "code",
   "execution_count": 13,
   "metadata": {
    "ExecuteTime": {
     "end_time": "2021-03-27T07:54:10.291991Z",
     "start_time": "2021-03-27T07:54:10.230638Z"
    }
   },
   "outputs": [
    {
     "data": {
      "text/plain": [
       "30"
      ]
     },
     "execution_count": 13,
     "metadata": {},
     "output_type": "execute_result"
    }
   ],
   "source": [
    "# Expression - Always give the result\n",
    "10+20"
   ]
  },
  {
   "cell_type": "code",
   "execution_count": 14,
   "metadata": {
    "ExecuteTime": {
     "end_time": "2021-03-27T07:54:13.995088Z",
     "start_time": "2021-03-27T07:54:13.985985Z"
    }
   },
   "outputs": [
    {
     "data": {
      "text/plain": [
       "'Python'"
      ]
     },
     "execution_count": 14,
     "metadata": {},
     "output_type": "execute_result"
    }
   ],
   "source": [
    "'Python'"
   ]
  },
  {
   "cell_type": "code",
   "execution_count": 15,
   "metadata": {
    "ExecuteTime": {
     "end_time": "2021-03-27T07:54:22.683084Z",
     "start_time": "2021-03-27T07:54:22.674280Z"
    }
   },
   "outputs": [
    {
     "data": {
      "text/plain": [
       "'Pythonclass'"
      ]
     },
     "execution_count": 15,
     "metadata": {},
     "output_type": "execute_result"
    }
   ],
   "source": [
    "'Python' + 'class'"
   ]
  },
  {
   "cell_type": "code",
   "execution_count": 21,
   "metadata": {
    "ExecuteTime": {
     "end_time": "2021-03-27T08:07:52.270736Z",
     "start_time": "2021-03-27T08:07:52.265044Z"
    }
   },
   "outputs": [
    {
     "name": "stdout",
     "output_type": "stream",
     "text": [
      "10\n",
      "100\n"
     ]
    }
   ],
   "source": [
    "num = 10\n",
    "Num = 100\n",
    "print(num)\n",
    "print(Num)"
   ]
  },
  {
   "cell_type": "code",
   "execution_count": 22,
   "metadata": {
    "ExecuteTime": {
     "end_time": "2021-03-27T08:08:50.097932Z",
     "start_time": "2021-03-27T08:08:50.089375Z"
    }
   },
   "outputs": [
    {
     "name": "stdout",
     "output_type": "stream",
     "text": [
      "['False', 'None', 'True', 'and', 'as', 'assert', 'async', 'await', 'break', 'class', 'continue', 'def', 'del', 'elif', 'else', 'except', 'finally', 'for', 'from', 'global', 'if', 'import', 'in', 'is', 'lambda', 'nonlocal', 'not', 'or', 'pass', 'raise', 'return', 'try', 'while', 'with', 'yield']\n"
     ]
    }
   ],
   "source": [
    "import keyword\n",
    "print(keyword.kwlist)\n",
    "\n",
    "# ['False', 'None', 'True', 'and', 'as', 'assert', 'async', 'await', 'break', 'class', 'continue', 'def', \n",
    "#  'del', 'elif', 'else', 'except', 'finally', 'for', 'from', 'global', 'if', 'import', 'in', 'is', 'lambda',\n",
    "#  'nonlocal', 'not', 'or', 'pass', 'raise', 'return', 'try', 'while', 'with', 'yield']"
   ]
  },
  {
   "cell_type": "code",
   "execution_count": 24,
   "metadata": {
    "ExecuteTime": {
     "end_time": "2021-03-27T08:09:25.812563Z",
     "start_time": "2021-03-27T08:09:25.799586Z"
    }
   },
   "outputs": [
    {
     "ename": "SyntaxError",
     "evalue": "invalid syntax (<ipython-input-24-c8b25f047245>, line 2)",
     "output_type": "error",
     "traceback": [
      "\u001b[0;36m  File \u001b[0;32m\"<ipython-input-24-c8b25f047245>\"\u001b[0;36m, line \u001b[0;32m2\u001b[0m\n\u001b[0;31m    if = 100\u001b[0m\n\u001b[0m       ^\u001b[0m\n\u001b[0;31mSyntaxError\u001b[0m\u001b[0;31m:\u001b[0m invalid syntax\n"
     ]
    }
   ],
   "source": [
    "# for = 100\n",
    "# if = 100"
   ]
  },
  {
   "cell_type": "code",
   "execution_count": 25,
   "metadata": {
    "ExecuteTime": {
     "end_time": "2021-03-27T08:11:30.041116Z",
     "start_time": "2021-03-27T08:11:30.027829Z"
    }
   },
   "outputs": [
    {
     "name": "stdout",
     "output_type": "stream",
     "text": [
      "['__abs__', '__add__', '__and__', '__bool__', '__ceil__', '__class__', '__delattr__', '__dir__', '__divmod__', '__doc__', '__eq__', '__float__', '__floor__', '__floordiv__', '__format__', '__ge__', '__getattribute__', '__getnewargs__', '__gt__', '__hash__', '__index__', '__init__', '__init_subclass__', '__int__', '__invert__', '__le__', '__lshift__', '__lt__', '__mod__', '__mul__', '__ne__', '__neg__', '__new__', '__or__', '__pos__', '__pow__', '__radd__', '__rand__', '__rdivmod__', '__reduce__', '__reduce_ex__', '__repr__', '__rfloordiv__', '__rlshift__', '__rmod__', '__rmul__', '__ror__', '__round__', '__rpow__', '__rrshift__', '__rshift__', '__rsub__', '__rtruediv__', '__rxor__', '__setattr__', '__sizeof__', '__str__', '__sub__', '__subclasshook__', '__truediv__', '__trunc__', '__xor__', 'as_integer_ratio', 'bit_length', 'conjugate', 'denominator', 'from_bytes', 'imag', 'numerator', 'real', 'to_bytes']\n"
     ]
    }
   ],
   "source": [
    "print(dir(int))"
   ]
  },
  {
   "cell_type": "code",
   "execution_count": null,
   "metadata": {},
   "outputs": [],
   "source": [
    "# Valus is literal\n",
    "#     Integers - 10, 0, -10\n",
    "#     Float - 10.20, -10.20\n",
    "#     complex - 10+20j, 10-20j\n",
    "#     Boolean - True, False\n",
    "#     String - '...',\"...\",'''...''', \"\"\"...\"\"\""
   ]
  },
  {
   "cell_type": "code",
   "execution_count": null,
   "metadata": {},
   "outputs": [],
   "source": [
    "# Comments - \n",
    "\n",
    "\n"
   ]
  },
  {
   "cell_type": "code",
   "execution_count": null,
   "metadata": {},
   "outputs": [],
   "source": [
    "# Python Data Types -\n",
    "    Fundamental - int, float, complex, boolean, string, None\n",
    "    Derived - list, tuple, set, dictionary, range, frozenset, bytes, bytearray"
   ]
  },
  {
   "cell_type": "code",
   "execution_count": 100,
   "metadata": {
    "ExecuteTime": {
     "end_time": "2021-03-27T09:29:47.211946Z",
     "start_time": "2021-03-27T09:29:47.198077Z"
    }
   },
   "outputs": [
    {
     "name": "stdout",
     "output_type": "stream",
     "text": [
      "12\n"
     ]
    }
   ],
   "source": [
    "# Fundamental\n",
    "# Integers - any value without a decimal point\n",
    "# e.g = 10, -10, 0\n",
    "import sys\n",
    "num = 1000000000\n",
    "# print(num)\n",
    "# print('Type of num - ', type(num))\n",
    "# print('address of num - ', id(num))\n",
    "# print('size of num - ', sys.getsizeof(num), 'byte')\n",
    "\n",
    "# Operations on Integers\n",
    "# Arithmetic Operators - +, -, *, /(Float), //(Floor), **(Exponent), %(Modulo)\n",
    "# num1 = 10\n",
    "# num2 = 3\n",
    "# # print(num1 / num2)     # Float division\n",
    "# # print(num1 // num2)    # Floor division\n",
    "# # print(num1**num2)      # Exponent\n",
    "# print(num1%num2)         # remainder\n",
    "\n",
    "# round(11/3, 2)\n",
    "\n",
    "# Bitwise Operations - &, |, ^, ~, <<, >>\n",
    "# These operation can be performed only on integers\n",
    "# It works on bits\n",
    "\n",
    "# & Truth Table\n",
    "# 0 & 0 = 0\n",
    "# 0 & 1 = 0\n",
    "# 1 & 0 = 0\n",
    "# 1 & 1 = 1\n",
    "\n",
    "# | Truth Table\n",
    "# 0 | 0 = 0\n",
    "# 0 | 1 = 1\n",
    "# 1 | 0 = 1\n",
    "# 1 | 1 = 1\n",
    "\n",
    "# ^ Truth Table\n",
    "# 0 ^ 0 = 0\n",
    "# 0 ^ 1 = 1\n",
    "# 1 ^ 0 = 1\n",
    "# 1 ^ 1 = 0\n",
    "\n",
    "# print(38 & 116)\n",
    "# print(37 | 47)\n",
    "# print(37 ^ 47)\n",
    "\n",
    "# print(bin(47))\n",
    "\n",
    "# 37 = 100101\n",
    "# 47 = 101111\n",
    "# -------------\n",
    "# &  = 100101\n",
    "# |  = 101111\n",
    "# ^  = 1010\n",
    "\n",
    "\n",
    "# Bitwise negation \n",
    "# ~n = -(n+1)\n",
    "\n",
    "# print(~20)\n",
    "# print(~True)\n",
    "# print(~-9)\n",
    "\n",
    "\n",
    "# << - Left shift operation - (num1 << num2)\n",
    "# Converting num1 to binary and shift the bits towards left side by a number equals num2\n",
    "# Step - 1 convert the numner to be shifted to binary\n",
    "# Step -2 use 32/64 bit notation to represnet the number\n",
    "# Step - 3 remove the specified no of bits from ledt side\n",
    "# Step -4 add specified no of zeros on right side\n",
    "# STep - 5 get the equivalent decimal num.\n",
    "\n",
    "\n",
    "# print(bin(67))\n",
    "\n",
    "# 67 = 00000000000000000000100001100000\n",
    "\n",
    "# print(67 << 5)\n",
    "# print(0b100001100000)\n",
    "\n",
    "# print(67*(2**5))\n",
    "\n",
    "\n",
    "# Note - left shift is equivalent to (multiplication of the num1 by 2^num2)\n",
    "# (num1<<num2) == (num1 * (2**num2))\n",
    "\n",
    "\n",
    "# >> - Right shift operation - (num1 >> num2)\n",
    "# Converting num1 to binary and shift the bits towards Right side by a number equals num2\n",
    "# Step - 1 - convert the numner to be shifted to binary\n",
    "# Step -2 - use 32/64 bit notation to represnet the number\n",
    "# Step - 3 - remove the specified no of bits from right side\n",
    "# Step -4 - add specified no of zeros on left side\n",
    "# STep - 5 - get the equivalent decimal num.\n",
    "# print(67 >> 3)\n",
    "\n",
    "# 67 = 00000000000000000000000000001000\n",
    "# print(0b1000)\n",
    "\n",
    "# Note - Right shift is equivalent to (Division of the num1 by 2^num2)\n",
    "# (num1>>num2) == (num1 // (2**num2))\n",
    "# print(67//(2**3))\n",
    "\n",
    "# Logical operation - and, or, not\n",
    "# and Truth table - False\n",
    "# True and True = True\n",
    "# True and False = False\n",
    "# False and True = False\n",
    "# False and False = False\n",
    "\n",
    "# or Truth table - True\n",
    "# True or True = True\n",
    "# True or False = True\n",
    "# False or True = True\n",
    "# False or False = False\n",
    "\n",
    "# not Truth Table\n",
    "# not True = False\n",
    "# not False = True\n",
    "\n",
    "# print((10 == 20) and (10 < 20))\n",
    "# print(False and True)\n",
    "\n",
    "# A and B - result is A if A is False else B\n",
    "# A or B - result is A if A is True else B\n",
    "\n",
    "\n",
    "# numbers - 0 is always False rest all True\n",
    "# print(bool(-10))\n",
    "\n",
    "# print(35 and 20)\n",
    "# print(0 and 20)\n",
    "# print(0.01 and 0)\n",
    "\n",
    "# print(35 or 20)\n",
    "\n",
    "# Comaprsion operator - <, >, >=, <=\n",
    "# int and float and compared but no other data types can be compared together\n",
    "# Alway returns boolean value\n",
    "\n",
    "# print(10<20)\n",
    "# print(10 < 20.30)\n",
    "\n",
    "# print(10 < 10+20j)\n",
    "# print(65 <= 'A')\n",
    "\n",
    "# Equality operator - ==, !=\n",
    "# Return boolean value\n",
    "# Can work between different data types\n",
    "# print('A' == 65)\n",
    "# print('A' == 'a')\n",
    "# print('Python' == 'Python')\n",
    "# print('Python' == 'python')\n",
    "\n",
    "\n",
    "# Membership - worls on iterable - str,list, tuple, dict\n",
    "# in , not in\n",
    "\n",
    "# print(10 in [10,20,30,40])\n",
    "# print(10 not in [10,20,30,40])\n",
    "\n",
    "# print(1 in {1:100, 2:29, 3:300})\n",
    "# print(29 in {1:100, 2:29, 3:300})\n",
    "\n",
    "# lst_name = ['ABC','MNO','PQR']\n",
    "# tpl_id = (102, 103, 101)\n",
    "\n",
    "d = {101:'ABC', 102:'MNO', 103:'PQR'}\n",
    "\n",
    "\n",
    "\n",
    "\n",
    "\n",
    "#  key:value\n",
    "#   1    100\n",
    "#   2    29\n",
    "#   3    300\n",
    "\n",
    "\n",
    "# Identity Operator - is, is not\n",
    "# They return Boolean value - True or False\n",
    "# Compares the memory address\n",
    "# a = 10\n",
    "# b = 10\n",
    "# print(a==b)\n",
    "# print(a is b)\n",
    "# print(id(a))\n",
    "# print(id(b))\n",
    "\n",
    "# a = 1000\n",
    "# b = 1000\n",
    "# print(a==b)\n",
    "# print(a is b)\n",
    "# print(id(a))\n",
    "# print(id(b))\n",
    "\n",
    "# Object reusability - \n",
    "# int - -5 to 256\n",
    "# True, False, None\n",
    "# strings - A-Z, a-z, 0-9, _\n",
    "\n",
    "\n",
    "# Assignment and Compound Assignment operation\n",
    "\n",
    "# a = 10\n",
    "# b = 'Python'\n",
    "\n",
    "# Compound assignment - +=, -=, *=, /=, //=, **=, %=, &=, |=, ^=, ~=, <<=, >>=\n",
    "a = 10\n",
    "# Want to add 2 to a and assign the result i.e. 12 to a again\n",
    "# a += 2                             # a = a+ 2\n",
    "# print(a)\n",
    "\n"
   ]
  },
  {
   "cell_type": "code",
   "execution_count": 41,
   "metadata": {
    "ExecuteTime": {
     "end_time": "2021-03-27T08:30:06.135328Z",
     "start_time": "2021-03-27T08:30:06.126292Z"
    }
   },
   "outputs": [
    {
     "data": {
      "text/plain": [
       "3"
      ]
     },
     "execution_count": 41,
     "metadata": {},
     "output_type": "execute_result"
    }
   ],
   "source": [
    "# import math\n",
    "# math.floor(3.9)\n",
    "# math.floor(3.01)"
   ]
  },
  {
   "cell_type": "code",
   "execution_count": 106,
   "metadata": {
    "ExecuteTime": {
     "end_time": "2021-03-27T09:36:42.110973Z",
     "start_time": "2021-03-27T09:36:42.096752Z"
    }
   },
   "outputs": [
    {
     "name": "stdout",
     "output_type": "stream",
     "text": [
      "1.0872365736857236e+30\n",
      "1.0872365736857236e+30\n"
     ]
    }
   ],
   "source": [
    "# Float values - Any number with a decimal point \n",
    "num1 = 1087236573685723657236672368457.209275293658732465734685734\n",
    "num2 = 1087236573685723657236672368458.2092752936587324657346857341\n",
    "print(num1)\n",
    "print(num2)\n",
    "\n",
    "# print(num)\n",
    "# print('Type is - ', type(num))\n",
    "# print('Address is - ', id(num))\n",
    "# print('size is - ', sys.getsizeof(num))\n",
    "\n",
    "\n",
    "# Operations - \n",
    "# Bitwise operation will not work\n",
    "\n",
    "# rest all operators will be working\n",
    "\n",
    "\n",
    "\n",
    "\n",
    "\n",
    "\n"
   ]
  },
  {
   "cell_type": "code",
   "execution_count": 107,
   "metadata": {
    "ExecuteTime": {
     "end_time": "2021-03-27T09:40:19.010035Z",
     "start_time": "2021-03-27T09:40:18.995882Z"
    }
   },
   "outputs": [
    {
     "name": "stdout",
     "output_type": "stream",
     "text": [
      "(10+20j)\n",
      "<class 'complex'>\n",
      "4686551280\n",
      "32\n",
      "10.0\n",
      "20.0\n"
     ]
    }
   ],
   "source": [
    "# Complex - Any number a+bj\n",
    "# where a is real\n",
    "# and b is imaginary\n",
    "# j is sqrt(-1)\n",
    "\n",
    "# a = 10+20j\n",
    "# print(a)\n",
    "# print(type(a))\n",
    "# print(id(a))\n",
    "# print(sys.getsizeof(a))\n",
    "# print(a.real)\n",
    "# print(a.imag)\n",
    "\n",
    "# operation - Modulo operationwill not work\n",
    "# Bit wise and compariosn operation will not work\n",
    "\n"
   ]
  },
  {
   "cell_type": "code",
   "execution_count": null,
   "metadata": {},
   "outputs": [],
   "source": [
    "# Boolean - True, False\n",
    "# True == 1\n",
    "# False == 0\n",
    "\n",
    "# Int - 0 is always False and rest all are True\n",
    "# Float - 0.0000000000000000000000 is always False and rest all are True\n",
    "# Complex - 0+0j is always False rest all True\n",
    "# None is always False\n",
    "# String - \"\" is always False rest all True\n",
    "# list, tuple, set, dict - [], (), set(), {} - always False rest all True\n",
    "\n",
    "\n",
    "\n",
    "\n"
   ]
  },
  {
   "cell_type": "code",
   "execution_count": 144,
   "metadata": {
    "ExecuteTime": {
     "end_time": "2021-03-27T09:55:29.813306Z",
     "start_time": "2021-03-27T09:55:29.805147Z"
    }
   },
   "outputs": [
    {
     "data": {
      "text/plain": [
       "'21'"
      ]
     },
     "execution_count": 144,
     "metadata": {},
     "output_type": "execute_result"
    }
   ],
   "source": [
    "# Type casting - int, float, complex, bool, str\n",
    "\n",
    "# which all data type are accepted in int\n",
    "# print(int(10))\n",
    "# print(int('10'))\n",
    "# print(int(10.20))\n",
    "# print(int(True))\n",
    "# print(int(0b10101))\n",
    "\n",
    "# print(int('10.20'))\n",
    "# print(int(10+20j))\n",
    "# print(int('A'))\n",
    "# print(int('True'))\n",
    "# print(int('0b1010'))\n",
    "\n",
    "# which all data type are accepted in float\n",
    "# print(float(10))\n",
    "# print(float('10'))\n",
    "# print(float(10.20))\n",
    "# print(float(True))\n",
    "# print(float(0b10101))\n",
    "# print(float('10.20'))\n",
    "\n",
    "\n",
    "# print(float(10+20j))\n",
    "# print(float('A'))\n",
    "# print(float('True'))\n",
    "# print(float('0b1010'))\n",
    "\n",
    "\n",
    "# which all data type are accepted in complex\n",
    "# complex(num) - num+0j\n",
    "# complex(num1, num2) - num1+num2j\n",
    "\n",
    "# If first value is string then second value will not be taken\n",
    "# If second args can never be string\n",
    "# print(complex(10))\n",
    "# print(complex('10'))\n",
    "# print(complex(0b1010))\n",
    "# print(complex(True))\n",
    "\n",
    "# print(complex(10,20))\n",
    "# print(complex('10',20)) # TypeError: complex() can't take second arg if first is a string\n",
    "# print(complex(10,'20')) # TypeError: complex() second arg can't be a string\n",
    "\n",
    "# bool(any value) - True/False\n",
    "# print(bool(10))\n",
    "# print(bool(''))\n",
    "# print(bool(' '))\n",
    "# print(bool([]))\n",
    "# print(bool(None))\n",
    "# print(bool([None]))\n",
    "\n",
    "# str() - can take any value and coinverts it to string data type\n",
    "str(0b10101)\n",
    "# str(True)\n"
   ]
  },
  {
   "cell_type": "code",
   "execution_count": 143,
   "metadata": {
    "ExecuteTime": {
     "end_time": "2021-03-27T09:55:24.076339Z",
     "start_time": "2021-03-27T09:55:24.070764Z"
    }
   },
   "outputs": [
    {
     "name": "stdout",
     "output_type": "stream",
     "text": [
      "21\n"
     ]
    }
   ],
   "source": [
    "a = 0b10101\n",
    "print(a)"
   ]
  },
  {
   "cell_type": "code",
   "execution_count": 159,
   "metadata": {
    "ExecuteTime": {
     "end_time": "2021-03-27T10:03:01.203568Z",
     "start_time": "2021-03-27T10:02:57.994850Z"
    }
   },
   "outputs": [
    {
     "name": "stdout",
     "output_type": "stream",
     "text": [
      "Enter a list: [10,20,30]\n",
      "[10, 20, 30] <class 'list'>\n"
     ]
    }
   ],
   "source": [
    "# Input function - used to take the input from user\n",
    "\n",
    "# a = input('ENter your name: ')\n",
    "# print(a, type(a))\n",
    "\n",
    "# b = eval(input('ENter your age: '))\n",
    "# print(b, type(b))\n",
    "\n",
    "\n",
    "# lst = list(input('Enter a list: '))\n",
    "# print(lst, type(lst))\n",
    "\n",
    "lst = eval(input('Enter a list: '))\n",
    "print(lst, type(lst))\n",
    "\n",
    "\n"
   ]
  },
  {
   "cell_type": "code",
   "execution_count": 155,
   "metadata": {
    "ExecuteTime": {
     "end_time": "2021-03-27T10:00:56.373369Z",
     "start_time": "2021-03-27T10:00:56.363490Z"
    }
   },
   "outputs": [
    {
     "name": "stdout",
     "output_type": "stream",
     "text": [
      "<class 'float'> 9.7\n"
     ]
    }
   ],
   "source": [
    "# eval function evaluates an expression\n",
    "# It parses the expression and executes \n",
    "# The expression should be passed in string format\n",
    "a = eval('-10.30+20')\n",
    "print(type(a), a)"
   ]
  },
  {
   "cell_type": "code",
   "execution_count": 156,
   "metadata": {
    "ExecuteTime": {
     "end_time": "2021-03-27T10:01:48.476501Z",
     "start_time": "2021-03-27T10:01:48.471395Z"
    }
   },
   "outputs": [],
   "source": [
    "inp = [10,20,30]\n",
    "out = [10,20,30]"
   ]
  },
  {
   "cell_type": "code",
   "execution_count": 158,
   "metadata": {
    "ExecuteTime": {
     "end_time": "2021-03-27T10:02:06.089647Z",
     "start_time": "2021-03-27T10:02:06.082651Z"
    }
   },
   "outputs": [
    {
     "data": {
      "text/plain": [
       "['P', 'y', 't', 'h', 'o', 'n']"
      ]
     },
     "execution_count": 158,
     "metadata": {},
     "output_type": "execute_result"
    }
   ],
   "source": [
    "list('Python')"
   ]
  },
  {
   "cell_type": "code",
   "execution_count": 166,
   "metadata": {
    "ExecuteTime": {
     "end_time": "2021-03-27T10:09:47.192590Z",
     "start_time": "2021-03-27T10:09:47.185683Z"
    }
   },
   "outputs": [
    {
     "name": "stdout",
     "output_type": "stream",
     "text": [
      "10\n",
      "20\n",
      "30\n",
      "40\n"
     ]
    }
   ],
   "source": [
    "# Output - print - prints some value on the screen\n",
    "\n",
    "# print(10,20,30,40)  # defaut separator is space\n",
    "print(10,20,30,40, sep = '\\n')\n"
   ]
  },
  {
   "cell_type": "code",
   "execution_count": 164,
   "metadata": {
    "ExecuteTime": {
     "end_time": "2021-03-27T10:09:24.679519Z",
     "start_time": "2021-03-27T10:09:24.669580Z"
    }
   },
   "outputs": [
    {
     "name": "stdout",
     "output_type": "stream",
     "text": [
      "10\t20\t30\t40\t"
     ]
    }
   ],
   "source": [
    "print(10, end = '\\t')\n",
    "print(20, end = '\\t')\n",
    "print(30, end = '\\t')\n",
    "print(40, end = '\\t')"
   ]
  },
  {
   "cell_type": "code",
   "execution_count": 172,
   "metadata": {
    "ExecuteTime": {
     "end_time": "2021-03-27T10:16:12.680780Z",
     "start_time": "2021-03-27T10:16:12.677303Z"
    }
   },
   "outputs": [],
   "source": [
    "# Output formatting\n",
    "\n",
    "# num1 = int(input('Enter 1st number: '))\n",
    "# num2 = int(input('Enter 2nd number: '))\n",
    "# res = num1 + num2\n",
    "# print(f'the sum of {num1} and {num2} is {res}')\n",
    "\n"
   ]
  },
  {
   "cell_type": "code",
   "execution_count": null,
   "metadata": {},
   "outputs": [],
   "source": []
  },
  {
   "cell_type": "code",
   "execution_count": null,
   "metadata": {},
   "outputs": [],
   "source": []
  },
  {
   "cell_type": "code",
   "execution_count": null,
   "metadata": {},
   "outputs": [],
   "source": []
  },
  {
   "cell_type": "code",
   "execution_count": null,
   "metadata": {},
   "outputs": [],
   "source": []
  },
  {
   "cell_type": "code",
   "execution_count": null,
   "metadata": {},
   "outputs": [],
   "source": []
  },
  {
   "cell_type": "code",
   "execution_count": null,
   "metadata": {},
   "outputs": [],
   "source": []
  },
  {
   "cell_type": "code",
   "execution_count": null,
   "metadata": {},
   "outputs": [],
   "source": []
  },
  {
   "cell_type": "code",
   "execution_count": null,
   "metadata": {},
   "outputs": [],
   "source": []
  },
  {
   "cell_type": "code",
   "execution_count": null,
   "metadata": {},
   "outputs": [],
   "source": []
  },
  {
   "cell_type": "code",
   "execution_count": null,
   "metadata": {},
   "outputs": [],
   "source": []
  },
  {
   "cell_type": "code",
   "execution_count": null,
   "metadata": {},
   "outputs": [],
   "source": []
  },
  {
   "cell_type": "code",
   "execution_count": null,
   "metadata": {},
   "outputs": [],
   "source": []
  },
  {
   "cell_type": "code",
   "execution_count": null,
   "metadata": {},
   "outputs": [],
   "source": []
  },
  {
   "cell_type": "code",
   "execution_count": null,
   "metadata": {},
   "outputs": [],
   "source": []
  },
  {
   "cell_type": "code",
   "execution_count": null,
   "metadata": {},
   "outputs": [],
   "source": []
  },
  {
   "cell_type": "code",
   "execution_count": null,
   "metadata": {},
   "outputs": [],
   "source": []
  },
  {
   "cell_type": "code",
   "execution_count": null,
   "metadata": {},
   "outputs": [],
   "source": []
  },
  {
   "cell_type": "code",
   "execution_count": null,
   "metadata": {},
   "outputs": [],
   "source": []
  },
  {
   "cell_type": "code",
   "execution_count": null,
   "metadata": {},
   "outputs": [],
   "source": []
  },
  {
   "cell_type": "code",
   "execution_count": null,
   "metadata": {},
   "outputs": [],
   "source": []
  },
  {
   "cell_type": "code",
   "execution_count": null,
   "metadata": {},
   "outputs": [],
   "source": []
  }
 ],
 "metadata": {
  "kernelspec": {
   "display_name": "Python 3",
   "language": "python",
   "name": "python3"
  },
  "language_info": {
   "codemirror_mode": {
    "name": "ipython",
    "version": 3
   },
   "file_extension": ".py",
   "mimetype": "text/x-python",
   "name": "python",
   "nbconvert_exporter": "python",
   "pygments_lexer": "ipython3",
   "version": "3.8.2"
  },
  "latex_envs": {
   "LaTeX_envs_menu_present": true,
   "autoclose": false,
   "autocomplete": true,
   "bibliofile": "biblio.bib",
   "cite_by": "apalike",
   "current_citInitial": 1,
   "eqLabelWithNumbers": true,
   "eqNumInitial": 1,
   "hotkeys": {
    "equation": "Ctrl-E",
    "itemize": "Ctrl-I"
   },
   "labels_anchors": false,
   "latex_user_defs": false,
   "report_style_numbering": false,
   "user_envs_cfg": false
  },
  "varInspector": {
   "cols": {
    "lenName": 16,
    "lenType": 16,
    "lenVar": 40
   },
   "kernels_config": {
    "python": {
     "delete_cmd_postfix": "",
     "delete_cmd_prefix": "del ",
     "library": "var_list.py",
     "varRefreshCmd": "print(var_dic_list())"
    },
    "r": {
     "delete_cmd_postfix": ") ",
     "delete_cmd_prefix": "rm(",
     "library": "var_list.r",
     "varRefreshCmd": "cat(var_dic_list()) "
    }
   },
   "types_to_exclude": [
    "module",
    "function",
    "builtin_function_or_method",
    "instance",
    "_Feature"
   ],
   "window_display": false
  }
 },
 "nbformat": 4,
 "nbformat_minor": 2
}
