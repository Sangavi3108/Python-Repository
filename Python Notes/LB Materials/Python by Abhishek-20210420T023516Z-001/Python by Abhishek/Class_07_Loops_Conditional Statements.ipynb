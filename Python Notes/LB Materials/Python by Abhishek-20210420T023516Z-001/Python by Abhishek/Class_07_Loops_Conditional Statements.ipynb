{
 "cells": [
  {
   "cell_type": "code",
   "execution_count": 4,
   "metadata": {
    "ExecuteTime": {
     "end_time": "2021-04-11T07:45:55.250281Z",
     "start_time": "2021-04-11T07:45:52.011201Z"
    }
   },
   "outputs": [
    {
     "name": "stdout",
     "output_type": "stream",
     "text": [
      "Enter 1st number: 200\n",
      "Enter 2nd number: 100\n",
      "num1-num2 100\n"
     ]
    }
   ],
   "source": [
    "# Conditional Statement - if, elif, else\n",
    "\n",
    "num1 = int(input('Enter 1st number: '))\n",
    "num2 = int(input('Enter 2nd number: '))\n",
    "if num1>num2:\n",
    "    print('num1-num2', num1-num2)\n",
    "else:\n",
    "    print('num2-num1',num2-num1)\n",
    "\n"
   ]
  },
  {
   "cell_type": "code",
   "execution_count": 8,
   "metadata": {
    "ExecuteTime": {
     "end_time": "2021-04-11T07:50:17.692128Z",
     "start_time": "2021-04-11T07:50:15.404095Z"
    }
   },
   "outputs": [
    {
     "name": "stdout",
     "output_type": "stream",
     "text": [
      "Enter 1st number: 100\n",
      "Enter 2nd number: 2\n",
      "num1 = 100 is greater than num2 = 2\n"
     ]
    }
   ],
   "source": [
    "# Find the largest of two numbers\n",
    "\n",
    "num1 = int(input('Enter 1st number: '))\n",
    "num2 = int(input('Enter 2nd number: '))\n",
    "if num1>num2:\n",
    "    print(f'num1 = {num1} is greater than num2 = {num2}')\n",
    "else:\n",
    "    print(f'num1 = {num1} is less than num2 = {num2}')"
   ]
  },
  {
   "cell_type": "code",
   "execution_count": 11,
   "metadata": {
    "ExecuteTime": {
     "end_time": "2021-04-11T07:55:18.078928Z",
     "start_time": "2021-04-11T07:55:10.075349Z"
    }
   },
   "outputs": [
    {
     "name": "stdout",
     "output_type": "stream",
     "text": [
      "Enter your name: Ragini\n",
      "Enter the subject: Java\n",
      "Enter the company namer: Learnbay\n",
      "Hello! My Name is Ragini and I am Java Trainer at Learnbay\n"
     ]
    }
   ],
   "source": [
    "name = input('Enter your name: ')\n",
    "sub = input('Enter the subject: ')\n",
    "company = input('Enter the company namer: ')\n",
    "print(f'Hello! My Name is {name} and I am {sub} Trainer at Learnbay')"
   ]
  },
  {
   "cell_type": "code",
   "execution_count": 16,
   "metadata": {
    "ExecuteTime": {
     "end_time": "2021-04-11T08:00:41.069241Z",
     "start_time": "2021-04-11T08:00:38.941924Z"
    }
   },
   "outputs": [
    {
     "name": "stdout",
     "output_type": "stream",
     "text": [
      "Enter a number:98\n",
      "98 is even number\n"
     ]
    }
   ],
   "source": [
    "# Take a number from user and find whether that number is even or odd\n",
    "\n",
    "num1 = int(input(\"Enter a number:\"))\n",
    "if num1 % 2 ==0:\n",
    "    print(f'{num1} is even number')\n",
    "else:\n",
    "    print(f'{num1} is not even number')\n",
    "\n",
    "\n",
    "\n"
   ]
  },
  {
   "cell_type": "code",
   "execution_count": 17,
   "metadata": {
    "ExecuteTime": {
     "end_time": "2021-04-11T08:07:19.460470Z",
     "start_time": "2021-04-11T08:07:14.443222Z"
    }
   },
   "outputs": [
    {
     "name": "stdout",
     "output_type": "stream",
     "text": [
      "Enter 1st number: 100\n",
      "Enter 2nd number: 200\n",
      "Enter 3rd number: 3\n",
      "num2 = 200 is greater than  num1 = 100 and num3 = 3\n"
     ]
    }
   ],
   "source": [
    "# take 3 numbers from the user and find the largest number\n",
    "\n",
    "num1 = int(input('Enter 1st number: '))\n",
    "num2 = int(input('Enter 2nd number: '))\n",
    "num3 = int(input('Enter 3rd number: '))\n",
    "if (num1 > num2) and (num1 > num3):\n",
    "    print(f'num1 = {num1} is greater than  num2 = {num2} and num3 = {num3}')\n",
    "if (num2 > num3) and (num2 > num1):\n",
    "    print(f'num2 = {num2} is greater than  num1 = {num1} and num3 = {num3}')\n",
    "if (num3 > num2) and (num3 > num1):\n",
    "    print(f'num3 = {num3} is greater than  num2 = {num2} and num1 = {num1}')\n",
    "\n"
   ]
  },
  {
   "cell_type": "code",
   "execution_count": 19,
   "metadata": {
    "ExecuteTime": {
     "end_time": "2021-04-11T08:09:55.722391Z",
     "start_time": "2021-04-11T08:09:51.556675Z"
    }
   },
   "outputs": [
    {
     "name": "stdout",
     "output_type": "stream",
     "text": [
      "Enter 1st number: 10\n",
      "Enter 2nd number: 100\n",
      "Enter 3rd number: 1000\n",
      "num3 = 1000 is greater than  num2 = 100 and num1 = 10\n"
     ]
    }
   ],
   "source": [
    "num1 = int(input('Enter 1st number: '))\n",
    "num2 = int(input('Enter 2nd number: '))\n",
    "num3 = int(input('Enter 3rd number: '))\n",
    "if (num1 > num2) and (num1 > num3):\n",
    "    print(f'num1 = {num1} is greater than  num2 = {num2} and num3 = {num3}')\n",
    "elif (num2 > num3):\n",
    "    print(f'num2 = {num2} is greater than  num1 = {num1} and num3 = {num3}')\n",
    "else:\n",
    "    print(f'num3 = {num3} is greater than  num2 = {num2} and num1 = {num1}')"
   ]
  },
  {
   "cell_type": "code",
   "execution_count": 22,
   "metadata": {
    "ExecuteTime": {
     "end_time": "2021-04-11T08:16:04.023262Z",
     "start_time": "2021-04-11T08:16:01.865224Z"
    }
   },
   "outputs": [
    {
     "name": "stdout",
     "output_type": "stream",
     "text": [
      "Enter 1st number: 6\n",
      "Six\n",
      "NMumber is outside of range\n"
     ]
    }
   ],
   "source": [
    "# Take any number between (0-9) and print the number in word format - if elif, else, \n",
    "num1 = int(input('Enter 1st number: '))\n",
    "if num1 == 0:\n",
    "    print('Zero')\n",
    "if num1 == 1:\n",
    "    print('One')\n",
    "if num1 == 2:\n",
    "    print('Two')\n",
    "if num1 == 3:\n",
    "    print('Three')\n",
    "if num1 == 4:\n",
    "    print('Four')\n",
    "if num1 == 5:\n",
    "    print('Five')\n",
    "if num1 == 6:\n",
    "    print('Six')\n",
    "if num1 == 7:\n",
    "    print('Seven')\n",
    "if num1 == 8:\n",
    "    print('Eight')\n",
    "if num1 == 9:\n",
    "    print('Nine')\n",
    "else:\n",
    "    print('Number is outside of range')\n",
    "    "
   ]
  },
  {
   "cell_type": "code",
   "execution_count": null,
   "metadata": {},
   "outputs": [],
   "source": [
    "num1 = int(input('Enter 1st number: '))\n",
    "if num1 == 0:\n",
    "    print('Zero')\n",
    "elif num1 == 1:\n",
    "    print('One')\n",
    "elif num1 == 2:\n",
    "    print('Two')\n",
    "elif num1 == 3:\n",
    "    print('Three')\n",
    "elif num1 == 4:\n",
    "    print('Four')\n",
    "elif num1 == 5:\n",
    "    print('Five')\n",
    "elif num1 == 6:\n",
    "    print('Six')\n",
    "elif num1 == 7:\n",
    "    print('Seven')\n",
    "elif num1 == 8:\n",
    "    print('Eight')\n",
    "elif num1 == 9:\n",
    "    print('Nine')\n",
    "else:\n",
    "    print('Number is outside of range')"
   ]
  },
  {
   "cell_type": "code",
   "execution_count": 27,
   "metadata": {
    "ExecuteTime": {
     "end_time": "2021-04-11T08:27:37.273160Z",
     "start_time": "2021-04-11T08:27:26.834952Z"
    }
   },
   "outputs": [
    {
     "name": "stdout",
     "output_type": "stream",
     "text": [
      "2004\n",
      "leap year\n"
     ]
    }
   ],
   "source": [
    "# Take an year as input from user and print whether the year is leap year or not?\n",
    "\n",
    "# If an year is divisiblke by 4 , then check the divisibility by 100 and if it is divisible than check the divisibility by 400 and if it is divisible then we can say uear is leap year - 1600, 2000\n",
    "# If an year is divisiblke by 4 , then check the divisibility by 100 and if it is divisible than check the divisibility by 400 and if it is not divisible then we can say year is not leap year - 1900, 1800\n",
    "# If an year is divisiblke by 4 , then check the divisibility by 100 and if it is not divisible then we can say year is leap year - 2004, 2020\n",
    "# If an year is not divisiblke by 4 , then we can say year is not leap year - 1999\n",
    "\n",
    "a = int(input())\n",
    "if(a % 400 == 0 or ( (a % 100 != 0) and(a % 4 == 0))) :\n",
    "    print('leap year')\n",
    "else :\n",
    "    print('not leap year')\n",
    "\n",
    "1800   False - Not a leap year\n",
    "1600   True or False = True - Leap Year\n",
    "2004   False or True = True - Leap Year\n",
    "1999   False or False = False - Not a leap year\n"
   ]
  },
  {
   "cell_type": "code",
   "execution_count": null,
   "metadata": {},
   "outputs": [],
   "source": [
    "year = int(input('Enter year'))\n",
    "\n",
    "if (year % 4) == 0:\n",
    "    if (year % 100) == 0:\n",
    "        if (year % 400) == 0:\n",
    "            print(f\"{year} is  leap year\")\n",
    "        else:\n",
    "            print(f\"{year} is not  leap year\")\n",
    "    else:\n",
    "        print(f\"{year} is a leap year\")\n",
    "else:\n",
    "    print(f\"{year} is not  leap year\")\n",
    "    \n",
    "    \n",
    "1800   if True -> if True -> if False -> 1800 is not leap year\n",
    "1600   if True -> if True -> if True -> 1600 is leap Year\n",
    "2004   if True -> if False ->  2004 is leap year\n",
    "1999   if False -> 1999 is not leap year\n"
   ]
  },
  {
   "cell_type": "code",
   "execution_count": 41,
   "metadata": {
    "ExecuteTime": {
     "end_time": "2021-04-11T08:45:59.716298Z",
     "start_time": "2021-04-11T08:45:57.632968Z"
    }
   },
   "outputs": [
    {
     "name": "stdout",
     "output_type": "stream",
     "text": [
      "Enter Year: 1999\n",
      "1999 is not a Leap Year\n"
     ]
    }
   ],
   "source": [
    "year = int(input(\"Enter Year: \"))\n",
    "\n",
    "if year % 4 == 0 and year % 100 != 0:\n",
    "    print(year, \"is a Leap Year\")\n",
    "elif year % 400 ==0:\n",
    "    print(year, \"is a Leap Year\")\n",
    "# elif year % 100 == 0:\n",
    "#     print(year, \"is not a Leap Year\")\n",
    "else:\n",
    "    print(year, \"is not a Leap Year\")\n",
    "    \n",
    "# 1800   if False -> elif false -> elif True -> 1800 is not leap year\n",
    "# 1600   if False -> elif True -> 1600 is leap Year\n",
    "# 2004   if True -> 2004 is leap year\n",
    "# 1999   if False -> elif False -> elif False -> else -> 1999 is not leap year"
   ]
  },
  {
   "cell_type": "code",
   "execution_count": 1,
   "metadata": {
    "ExecuteTime": {
     "end_time": "2021-04-11T09:01:06.779779Z",
     "start_time": "2021-04-11T09:00:57.396421Z"
    }
   },
   "outputs": [
    {
     "name": "stdout",
     "output_type": "stream",
     "text": [
      "Enter your password: Hello\n",
      "Wrong Password \n",
      "Renter the password:- Python\n",
      "Wrong Password \n",
      "Renter the password:- Password\n",
      "Logged in successfully\n"
     ]
    }
   ],
   "source": [
    "# Loops \n",
    "#     for \n",
    "#     while\n",
    "\n",
    "pwd = input('Enter your password: ')\n",
    "while True:\n",
    "    if pwd == 'Password':\n",
    "        print('Logged in successfully')\n",
    "        break\n",
    "    else:\n",
    "        print('Wrong Password ')\n",
    "        pwd = input('Renter the password:- ')\n"
   ]
  },
  {
   "cell_type": "code",
   "execution_count": 3,
   "metadata": {
    "ExecuteTime": {
     "end_time": "2021-04-11T09:02:22.877423Z",
     "start_time": "2021-04-11T09:02:22.869247Z"
    }
   },
   "outputs": [
    {
     "name": "stdout",
     "output_type": "stream",
     "text": [
      "Hi\n",
      "Hi\n",
      "Hi\n",
      "Hi\n",
      "Hi\n",
      "Hi\n",
      "Hi\n",
      "Hi\n",
      "Hi\n",
      "Hi\n"
     ]
    }
   ],
   "source": [
    "for i in range(10):\n",
    "    print('Hi')\n"
   ]
  },
  {
   "cell_type": "code",
   "execution_count": 6,
   "metadata": {
    "ExecuteTime": {
     "end_time": "2021-04-11T09:11:12.194081Z",
     "start_time": "2021-04-11T09:11:12.184197Z"
    }
   },
   "outputs": [
    {
     "data": {
      "text/plain": [
       "[0, 1, 2, 3, 4, 5, 6, 7, 8, 9]"
      ]
     },
     "execution_count": 6,
     "metadata": {},
     "output_type": "execute_result"
    }
   ],
   "source": [
    "list(range(10))"
   ]
  },
  {
   "cell_type": "code",
   "execution_count": 25,
   "metadata": {
    "ExecuteTime": {
     "end_time": "2021-04-11T09:25:55.700686Z",
     "start_time": "2021-04-11T09:25:55.678160Z"
    }
   },
   "outputs": [
    {
     "name": "stdout",
     "output_type": "stream",
     "text": [
      "10\n",
      "20\n",
      "30\n",
      "\n",
      "40\n",
      "50\n",
      "60\n",
      "\n",
      "70\n",
      "80\n",
      "90\n",
      "\n"
     ]
    }
   ],
   "source": [
    "# Syantx of for loop\n",
    "# When the number of iterations are fixed or you know the number of iterations in advance\n",
    "\n",
    "# for var in iterable:\n",
    "#     stat\n",
    "#     stat\n",
    "#     stat\n",
    "#     stat\n",
    "\n",
    "\n",
    "# for i in range(10):\n",
    "#     print(i**2)\n",
    "\n",
    "# for i in range(10):\n",
    "#     name = input(f'Enter the name of user{i+1}: ')\n",
    "#     mob = input(f'Enter the mob no of user{i+1}: ')\n",
    "#     print(f'Name of user{i+1} is {name} and mobile no is {mob}')\n",
    "\n",
    "\n",
    "# for i in 'Python':\n",
    "#     print(i)\n",
    "# print('Loop Execution completed')\n",
    "\n",
    "# for var in [10,20,30,40]:\n",
    "#     print(var ** 2)\n",
    "\n",
    "# for var in (10,20,30,40):\n",
    "#     print(var ** 2)\n",
    "\n",
    "# d = {1: 100, 10.20:10+20j, 'a':'Python', (1,2,3):[10,20,30,40], None: False}\n",
    "# for var in d:\n",
    "#     print(var,'-->',d[var])\n",
    "#     print()\n",
    "\n",
    "\n",
    "\n",
    "# d = {1: 100, 10.20:10+20j, 'a':'Python', (1,2,3):[10,20,30,40], None: False}\n",
    "# for k,v in d.items():\n",
    "#     print(k,v)\n",
    "\n",
    "# lst = [10,10.20, 10+20j, 'Python', None, True]\n",
    "# for i,v in enumerate(lst):\n",
    "#     print(i)\n",
    "#     print(v)\n",
    "#     print()\n",
    "\n",
    "# lst = [[10,20,30],[40,50,60],[70,80,90]]\n",
    "# for i in lst:\n",
    "#     for j in i:\n",
    "#         print(j)\n",
    "#     print()\n",
    "\n",
    "\n",
    "my_str = 'This is Python class'\n",
    "output1:- 'class Python is This'\n",
    "output2:- 'sihT si nohtyP ssalc'\n",
    "\n",
    "inp_str = 'peter piper picked a peck of pickled peppers'\n",
    "sub_str = 'peck'\n",
    "new_str = 'pack'\n",
    "output:- 'peter piper picked a pack of pickled peppers'\n",
    "\n",
    "\n",
    "\n",
    "\n",
    "\n",
    "\n",
    "    "
   ]
  },
  {
   "cell_type": "code",
   "execution_count": 42,
   "metadata": {
    "ExecuteTime": {
     "end_time": "2021-04-11T10:03:35.638866Z",
     "start_time": "2021-04-11T10:03:35.628822Z"
    }
   },
   "outputs": [
    {
     "data": {
      "text/plain": [
       "[-1, -2, -3, -4]"
      ]
     },
     "execution_count": 42,
     "metadata": {},
     "output_type": "execute_result"
    }
   ],
   "source": [
    "# my_str = 'This is Python class'\n",
    "# word = ''\n",
    "# out_lst = []\n",
    "# for i in range(len(my_str)):\n",
    "#     if my_str[i] == ' ':\n",
    "#         out_lst += [word]\n",
    "#         word = ''\n",
    "#     elif i == len(my_str)-1:\n",
    "#         word += my_str[i]\n",
    "#         out_lst += [word]\n",
    "#     else:\n",
    "#         word += my_str[i]\n",
    "# rev_str = ''\n",
    "# for ele in range(-1, -len(out_lst)-1, -1):\n",
    "#     if i == -1:\n",
    "#         rev_str += out_lst[ele]\n",
    "#     else:\n",
    "#         rev_str = rev_str + ' ' + out_lst[ele]\n",
    "# print(rev_str)\n",
    "\n",
    "# list(range(-1, -len(out_lst)-1, -1))\n",
    "\n",
    "\n"
   ]
  },
  {
   "cell_type": "code",
   "execution_count": null,
   "metadata": {},
   "outputs": [],
   "source": [
    "inp_str = 'peter piper picked a peck of pickled peppers'\n",
    "sub_str = 'peck'\n",
    "new_str = 'pack'\n",
    "output = 'peter piper picked a pack of pickled peppers'"
   ]
  },
  {
   "cell_type": "code",
   "execution_count": 50,
   "metadata": {
    "ExecuteTime": {
     "end_time": "2021-04-11T10:19:10.905519Z",
     "start_time": "2021-04-11T10:19:10.893211Z"
    }
   },
   "outputs": [
    {
     "name": "stdout",
     "output_type": "stream",
     "text": [
      "*\n",
      "**\n",
      "***\n",
      "****\n",
      "*****\n"
     ]
    }
   ],
   "source": [
    "# Syntx for while loop\n",
    "# When the number of iterations are not known or if you want to execute the code untill a condition is satisfied\n",
    "\n",
    "# Initialization\n",
    "# Condition checking\n",
    "# Incrmenet/Decrement\n",
    "\n",
    "\n",
    "\n",
    "# timer = 0\n",
    "# while timer <= 10:\n",
    "#     print('Hi')\n",
    "#     timer += 1\n",
    "\n",
    "\n",
    "my_str = 'Python'\n",
    "# output\n",
    "# P\n",
    "# yy\n",
    "# ttt\n",
    "# hhhh\n",
    "# ooooo\n",
    "# nnnnnn\n",
    "\n",
    "# ind = 0\n",
    "# while ind < len(my_str):\n",
    "#     print(my_str[ind] * (ind +1))\n",
    "#     ind += 1\n",
    "\n",
    "\n",
    "# *\n",
    "# **\n",
    "# ***\n",
    "# ****\n",
    "# *****\n",
    "\n",
    "# j = 1\n",
    "# for i in range(5):\n",
    "#     print('*'*j)\n",
    "#     j += 1\n",
    "\n",
    "# ind = 0\n",
    "\n",
    "# while ind < 5:\n",
    "#     print('*' * (ind+1))\n",
    "#     ind += 1\n",
    "\n",
    "\n",
    "\n",
    "# For loop\n",
    "\n",
    " *****\n",
    "*     *\n",
    "*     *\n",
    "*******\n",
    "*     *\n",
    "*     *\n",
    "*     *\n",
    "\n",
    "\n",
    "\n",
    "\n",
    "\n",
    "\n"
   ]
  },
  {
   "cell_type": "code",
   "execution_count": 39,
   "metadata": {
    "ExecuteTime": {
     "end_time": "2021-04-11T09:32:18.574173Z",
     "start_time": "2021-04-11T09:32:18.561044Z"
    }
   },
   "outputs": [
    {
     "name": "stdout",
     "output_type": "stream",
     "text": [
      "['__and__', '__class__', '__contains__', '__delattr__', '__dir__', '__doc__', '__eq__', '__format__', '__ge__', '__getattribute__', '__gt__', '__hash__', '__init__', '__init_subclass__', '__iter__', '__le__', '__len__', '__lt__', '__ne__', '__new__', '__or__', '__rand__', '__reduce__', '__reduce_ex__', '__repr__', '__reversed__', '__ror__', '__rsub__', '__rxor__', '__setattr__', '__sizeof__', '__str__', '__sub__', '__subclasshook__', '__xor__', 'isdisjoint']\n",
      "1 100\n",
      "10.2 (10+20j)\n",
      "a Python\n",
      "(1, 2, 3) [10, 20, 30, 40]\n",
      "None False\n"
     ]
    }
   ],
   "source": [
    "d = {1: 100, 10.20:10+20j, 'a':'Python', (1,2,3):[10,20,30,40], None: False}\n",
    "print(dir(d.items()))\n",
    "var = list(d.items())\n",
    "# print(var)\n",
    "a,b,c,d,e = var\n",
    "a1, a2 = a\n",
    "b1, b2 = b\n",
    "c1, c2 = c\n",
    "d1, d2 = d\n",
    "e1, e2 = e\n",
    "\n",
    "\n",
    "print(a1, a2)\n",
    "print(b1, b2)\n",
    "print(c1, c2)\n",
    "print(d1, d2)\n",
    "print(e1, e2)\n",
    "\n"
   ]
  },
  {
   "cell_type": "code",
   "execution_count": 36,
   "metadata": {
    "ExecuteTime": {
     "end_time": "2021-04-11T09:31:48.183283Z",
     "start_time": "2021-04-11T09:31:48.167821Z"
    }
   },
   "outputs": [
    {
     "ename": "AttributeError",
     "evalue": "'tuple' object has no attribute 'items'",
     "output_type": "error",
     "traceback": [
      "\u001b[0;31m---------------------------------------------------------------------------\u001b[0m",
      "\u001b[0;31mAttributeError\u001b[0m                            Traceback (most recent call last)",
      "\u001b[0;32m<ipython-input-36-d3cc251bdd5f>\u001b[0m in \u001b[0;36m<module>\u001b[0;34m\u001b[0m\n\u001b[0;32m----> 1\u001b[0;31m \u001b[0mprint\u001b[0m\u001b[0;34m(\u001b[0m\u001b[0mdir\u001b[0m\u001b[0;34m(\u001b[0m\u001b[0md\u001b[0m\u001b[0;34m.\u001b[0m\u001b[0mitems\u001b[0m\u001b[0;34m)\u001b[0m\u001b[0;34m)\u001b[0m\u001b[0;34m\u001b[0m\u001b[0;34m\u001b[0m\u001b[0m\n\u001b[0m\u001b[1;32m      2\u001b[0m \u001b[0;34m\u001b[0m\u001b[0m\n\u001b[1;32m      3\u001b[0m \u001b[0;34m\u001b[0m\u001b[0m\n",
      "\u001b[0;31mAttributeError\u001b[0m: 'tuple' object has no attribute 'items'"
     ]
    }
   ],
   "source": [
    "print(dir(d.items))\n",
    "\n",
    "\n"
   ]
  },
  {
   "cell_type": "code",
   "execution_count": 58,
   "metadata": {
    "ExecuteTime": {
     "end_time": "2021-04-11T10:32:43.658991Z",
     "start_time": "2021-04-11T10:32:43.641493Z"
    }
   },
   "outputs": [
    {
     "name": "stdout",
     "output_type": "stream",
     "text": [
      "0 --> 11\n",
      "0 --> 22\n",
      "0 --> 44\n",
      "1 --> 11\n",
      "1 --> 22\n",
      "1 --> 44\n",
      "2 --> 11\n",
      "2 --> 22\n",
      "2 --> 44\n",
      "3 --> 11\n",
      "3 --> 22\n",
      "3 --> 44\n",
      "4 --> 11\n",
      "4 --> 22\n",
      "4 --> 44\n"
     ]
    }
   ],
   "source": [
    "# break - Exit the loop\n",
    "# continue - to skip the current iteration\n",
    "\n",
    "\n",
    "# for i in range(10):\n",
    "#     if i == 7:\n",
    "#         break\n",
    "#     else:\n",
    "#         print(i)\n",
    "\n",
    "\n",
    "# ind = 0\n",
    "# while ind < 10:\n",
    "#     if ind == 7:\n",
    "#         break\n",
    "#     else:\n",
    "#         print(ind)\n",
    "#     ind+=1\n",
    "\n",
    "# for i in range(5):\n",
    "#     for j in [11,22,33,44]:\n",
    "#         if j == 33:\n",
    "#             break\n",
    "#         else:\n",
    "#             print(i, '-->', j)\n",
    "\n",
    "\n",
    "# continue\n",
    "# for i in range(10):\n",
    "#     if i == 7:\n",
    "#         continue\n",
    "        \n",
    "#     else:\n",
    "#         print(i)\n",
    "        \n",
    "\n",
    "# ind = 0\n",
    "# while ind < 10:\n",
    "#     if ind == 7:\n",
    "#         ind+=1\n",
    "#         continue\n",
    "#     else:\n",
    "#         print(ind)\n",
    "#         ind+=1\n",
    "\n",
    "\n",
    "# for i in range(5):\n",
    "#     for j in [11,22,33,44]:\n",
    "#         if j == 33:\n",
    "#             continue\n",
    "#         else:\n",
    "#             print(i, '-->', j)\n",
    "    \n",
    "\n",
    "\n",
    "\n",
    "\n",
    "\n"
   ]
  },
  {
   "cell_type": "code",
   "execution_count": null,
   "metadata": {},
   "outputs": [],
   "source": []
  },
  {
   "cell_type": "code",
   "execution_count": null,
   "metadata": {},
   "outputs": [],
   "source": []
  },
  {
   "cell_type": "code",
   "execution_count": null,
   "metadata": {},
   "outputs": [],
   "source": []
  },
  {
   "cell_type": "code",
   "execution_count": null,
   "metadata": {},
   "outputs": [],
   "source": []
  },
  {
   "cell_type": "code",
   "execution_count": null,
   "metadata": {},
   "outputs": [],
   "source": []
  },
  {
   "cell_type": "code",
   "execution_count": null,
   "metadata": {},
   "outputs": [],
   "source": []
  },
  {
   "cell_type": "code",
   "execution_count": null,
   "metadata": {},
   "outputs": [],
   "source": []
  },
  {
   "cell_type": "code",
   "execution_count": null,
   "metadata": {},
   "outputs": [],
   "source": []
  },
  {
   "cell_type": "code",
   "execution_count": null,
   "metadata": {},
   "outputs": [],
   "source": []
  },
  {
   "cell_type": "code",
   "execution_count": null,
   "metadata": {},
   "outputs": [],
   "source": []
  },
  {
   "cell_type": "code",
   "execution_count": null,
   "metadata": {},
   "outputs": [],
   "source": []
  },
  {
   "cell_type": "code",
   "execution_count": null,
   "metadata": {},
   "outputs": [],
   "source": []
  },
  {
   "cell_type": "code",
   "execution_count": null,
   "metadata": {},
   "outputs": [],
   "source": []
  },
  {
   "cell_type": "code",
   "execution_count": null,
   "metadata": {},
   "outputs": [],
   "source": []
  },
  {
   "cell_type": "code",
   "execution_count": null,
   "metadata": {},
   "outputs": [],
   "source": []
  },
  {
   "cell_type": "code",
   "execution_count": null,
   "metadata": {},
   "outputs": [],
   "source": []
  },
  {
   "cell_type": "code",
   "execution_count": null,
   "metadata": {},
   "outputs": [],
   "source": []
  },
  {
   "cell_type": "code",
   "execution_count": null,
   "metadata": {},
   "outputs": [],
   "source": []
  },
  {
   "cell_type": "code",
   "execution_count": null,
   "metadata": {},
   "outputs": [],
   "source": []
  },
  {
   "cell_type": "code",
   "execution_count": null,
   "metadata": {},
   "outputs": [],
   "source": []
  },
  {
   "cell_type": "code",
   "execution_count": null,
   "metadata": {},
   "outputs": [],
   "source": []
  },
  {
   "cell_type": "code",
   "execution_count": null,
   "metadata": {},
   "outputs": [],
   "source": []
  },
  {
   "cell_type": "code",
   "execution_count": null,
   "metadata": {},
   "outputs": [],
   "source": []
  },
  {
   "cell_type": "code",
   "execution_count": null,
   "metadata": {},
   "outputs": [],
   "source": []
  },
  {
   "cell_type": "code",
   "execution_count": null,
   "metadata": {},
   "outputs": [],
   "source": []
  },
  {
   "cell_type": "code",
   "execution_count": null,
   "metadata": {},
   "outputs": [],
   "source": []
  },
  {
   "cell_type": "code",
   "execution_count": null,
   "metadata": {},
   "outputs": [],
   "source": []
  },
  {
   "cell_type": "code",
   "execution_count": null,
   "metadata": {},
   "outputs": [],
   "source": []
  },
  {
   "cell_type": "code",
   "execution_count": null,
   "metadata": {},
   "outputs": [],
   "source": []
  },
  {
   "cell_type": "code",
   "execution_count": null,
   "metadata": {},
   "outputs": [],
   "source": []
  },
  {
   "cell_type": "code",
   "execution_count": null,
   "metadata": {},
   "outputs": [],
   "source": []
  },
  {
   "cell_type": "code",
   "execution_count": null,
   "metadata": {},
   "outputs": [],
   "source": []
  },
  {
   "cell_type": "code",
   "execution_count": null,
   "metadata": {},
   "outputs": [],
   "source": []
  },
  {
   "cell_type": "code",
   "execution_count": null,
   "metadata": {},
   "outputs": [],
   "source": []
  },
  {
   "cell_type": "code",
   "execution_count": null,
   "metadata": {},
   "outputs": [],
   "source": []
  },
  {
   "cell_type": "code",
   "execution_count": null,
   "metadata": {},
   "outputs": [],
   "source": []
  },
  {
   "cell_type": "code",
   "execution_count": null,
   "metadata": {},
   "outputs": [],
   "source": []
  },
  {
   "cell_type": "code",
   "execution_count": null,
   "metadata": {},
   "outputs": [],
   "source": []
  },
  {
   "cell_type": "code",
   "execution_count": null,
   "metadata": {},
   "outputs": [],
   "source": []
  },
  {
   "cell_type": "code",
   "execution_count": null,
   "metadata": {},
   "outputs": [],
   "source": []
  },
  {
   "cell_type": "code",
   "execution_count": null,
   "metadata": {},
   "outputs": [],
   "source": []
  },
  {
   "cell_type": "code",
   "execution_count": null,
   "metadata": {},
   "outputs": [],
   "source": []
  },
  {
   "cell_type": "code",
   "execution_count": null,
   "metadata": {},
   "outputs": [],
   "source": []
  },
  {
   "cell_type": "code",
   "execution_count": null,
   "metadata": {},
   "outputs": [],
   "source": []
  },
  {
   "cell_type": "code",
   "execution_count": null,
   "metadata": {},
   "outputs": [],
   "source": []
  },
  {
   "cell_type": "code",
   "execution_count": null,
   "metadata": {},
   "outputs": [],
   "source": []
  },
  {
   "cell_type": "code",
   "execution_count": null,
   "metadata": {},
   "outputs": [],
   "source": []
  },
  {
   "cell_type": "code",
   "execution_count": null,
   "metadata": {},
   "outputs": [],
   "source": []
  },
  {
   "cell_type": "code",
   "execution_count": null,
   "metadata": {},
   "outputs": [],
   "source": []
  },
  {
   "cell_type": "code",
   "execution_count": null,
   "metadata": {},
   "outputs": [],
   "source": []
  }
 ],
 "metadata": {
  "kernelspec": {
   "display_name": "Python 3",
   "language": "python",
   "name": "python3"
  },
  "language_info": {
   "codemirror_mode": {
    "name": "ipython",
    "version": 3
   },
   "file_extension": ".py",
   "mimetype": "text/x-python",
   "name": "python",
   "nbconvert_exporter": "python",
   "pygments_lexer": "ipython3",
   "version": "3.8.2"
  },
  "latex_envs": {
   "LaTeX_envs_menu_present": true,
   "autoclose": false,
   "autocomplete": true,
   "bibliofile": "biblio.bib",
   "cite_by": "apalike",
   "current_citInitial": 1,
   "eqLabelWithNumbers": true,
   "eqNumInitial": 1,
   "hotkeys": {
    "equation": "Ctrl-E",
    "itemize": "Ctrl-I"
   },
   "labels_anchors": false,
   "latex_user_defs": false,
   "report_style_numbering": false,
   "user_envs_cfg": false
  },
  "varInspector": {
   "cols": {
    "lenName": 16,
    "lenType": 16,
    "lenVar": 40
   },
   "kernels_config": {
    "python": {
     "delete_cmd_postfix": "",
     "delete_cmd_prefix": "del ",
     "library": "var_list.py",
     "varRefreshCmd": "print(var_dic_list())"
    },
    "r": {
     "delete_cmd_postfix": ") ",
     "delete_cmd_prefix": "rm(",
     "library": "var_list.r",
     "varRefreshCmd": "cat(var_dic_list()) "
    }
   },
   "types_to_exclude": [
    "module",
    "function",
    "builtin_function_or_method",
    "instance",
    "_Feature"
   ],
   "window_display": false
  }
 },
 "nbformat": 4,
 "nbformat_minor": 2
}
