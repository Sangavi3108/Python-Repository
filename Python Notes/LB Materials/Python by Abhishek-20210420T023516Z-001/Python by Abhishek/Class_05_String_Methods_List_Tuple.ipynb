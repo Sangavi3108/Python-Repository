{
 "cells": [
  {
   "cell_type": "code",
   "execution_count": 15,
   "metadata": {
    "ExecuteTime": {
     "end_time": "2021-04-04T07:45:29.838942Z",
     "start_time": "2021-04-04T07:45:29.828980Z"
    }
   },
   "outputs": [
    {
     "name": "stdout",
     "output_type": "stream",
     "text": [
      "Python 6\n",
      "++Python++\n"
     ]
    }
   ],
   "source": [
    "# center\n",
    "# Signature: my_str.center(width, fillchar=' ', /)\n",
    "# Docstring:\n",
    "# Return a centered string of length width.\n",
    "\n",
    "# Padding is done using the specified fill character (default is a space).\n",
    "\n",
    "my_str = 'Python'\n",
    "\n",
    "print(my_str.center(6, '+'),len(my_str.center(6)))\n",
    "my_str='Python'\n",
    "print(my_str.center(10,'+'))\n"
   ]
  },
  {
   "cell_type": "code",
   "execution_count": 72,
   "metadata": {
    "ExecuteTime": {
     "end_time": "2021-04-04T08:20:59.633864Z",
     "start_time": "2021-04-04T08:20:59.617733Z"
    }
   },
   "outputs": [
    {
     "ename": "TypeError",
     "evalue": "ljust() takes no keyword arguments",
     "output_type": "error",
     "traceback": [
      "\u001b[0;31m---------------------------------------------------------------------------\u001b[0m",
      "\u001b[0;31mTypeError\u001b[0m                                 Traceback (most recent call last)",
      "\u001b[0;32m<ipython-input-72-017b06e6b3aa>\u001b[0m in \u001b[0;36m<module>\u001b[0;34m\u001b[0m\n\u001b[1;32m     13\u001b[0m \u001b[0;31m# Padding is done using the specified fill character (default is a space).\u001b[0m\u001b[0;34m\u001b[0m\u001b[0;34m\u001b[0m\u001b[0;34m\u001b[0m\u001b[0m\n\u001b[1;32m     14\u001b[0m \u001b[0;34m\u001b[0m\u001b[0m\n\u001b[0;32m---> 15\u001b[0;31m \u001b[0mmy_str\u001b[0m\u001b[0;34m.\u001b[0m\u001b[0mljust\u001b[0m\u001b[0;34m(\u001b[0m\u001b[0;36m10\u001b[0m\u001b[0;34m,\u001b[0m \u001b[0mfillchar\u001b[0m\u001b[0;34m=\u001b[0m\u001b[0;34m'-'\u001b[0m\u001b[0;34m)\u001b[0m\u001b[0;34m\u001b[0m\u001b[0;34m\u001b[0m\u001b[0m\n\u001b[0m",
      "\u001b[0;31mTypeError\u001b[0m: ljust() takes no keyword arguments"
     ]
    }
   ],
   "source": [
    "# ljust\n",
    "# Signature: my_str.ljust(width, fillchar=' ', /)\n",
    "# Docstring:\n",
    "# Return a left-justified string of length width.\n",
    "\n",
    "# Padding is done using the specified fill character (default is a space).\n",
    "\n",
    "# rjust\n",
    "# Signature: my_str.rjust(width, fillchar=' ', /)\n",
    "# Docstring:\n",
    "# Return a right-justified string of length width.\n",
    "\n",
    "# Padding is done using the specified fill character (default is a space).\n",
    "\n",
    "my_str.ljust(10, '-')"
   ]
  },
  {
   "cell_type": "code",
   "execution_count": null,
   "metadata": {},
   "outputs": [],
   "source": [
    "# strip, split, join, replace\n"
   ]
  },
  {
   "cell_type": "code",
   "execution_count": 21,
   "metadata": {
    "ExecuteTime": {
     "end_time": "2021-04-04T07:50:41.705358Z",
     "start_time": "2021-04-04T07:50:41.689518Z"
    }
   },
   "outputs": [
    {
     "data": {
      "text/plain": [
       "'8888888888888888This 8888888is 888888888Python class'"
      ]
     },
     "execution_count": 21,
     "metadata": {},
     "output_type": "execute_result"
    }
   ],
   "source": [
    "# strip, lstrip, rstrip\n",
    "\n",
    "my_str = '8888888888888888This 8888888is 888888888Python class8888888888888'\n",
    "my_str.strip('8')\n",
    "\n",
    "my_str.lstrip('8')\n",
    "\n",
    "my_str.rstrip('8')\n",
    "\n",
    "\n"
   ]
  },
  {
   "cell_type": "code",
   "execution_count": 34,
   "metadata": {
    "ExecuteTime": {
     "end_time": "2021-04-04T08:00:07.997658Z",
     "start_time": "2021-04-04T08:00:07.989258Z"
    }
   },
   "outputs": [
    {
     "data": {
      "text/plain": [
       "['This', 'is', 'Python', 'class']"
      ]
     },
     "execution_count": 34,
     "metadata": {},
     "output_type": "execute_result"
    }
   ],
   "source": [
    "# split-\n",
    "# Signature: my_str.split(sep=None, maxsplit=-1)\n",
    "# Docstring:\n",
    "# Return a list of the words in the string, using sep as the delimiter string.\n",
    "\n",
    "# sep\n",
    "#   The delimiter according which to split the string.\n",
    "#   None (the default value) means split according to any whitespace,\n",
    "#   and discard empty strings from the result.\n",
    "# maxsplit\n",
    "#   Maximum number of splits to do.\n",
    "#   -1 (the default value) means no limit.\n",
    "\n",
    "my_str = '            This        is        Python class          '\n",
    "my_str.strip().split(maxsplit = 6)\n",
    "\n"
   ]
  },
  {
   "cell_type": "code",
   "execution_count": 71,
   "metadata": {
    "ExecuteTime": {
     "end_time": "2021-04-04T08:20:13.603853Z",
     "start_time": "2021-04-04T08:20:13.589901Z"
    }
   },
   "outputs": [
    {
     "data": {
      "text/plain": [
       "'This is Python class'"
      ]
     },
     "execution_count": 71,
     "metadata": {},
     "output_type": "execute_result"
    }
   ],
   "source": [
    "# join\n",
    "\n",
    "my_str = '            This        is        Python     class          '\n",
    "' '.join(my_str.strip().split(maxsplit = -1))\n",
    "\n",
    "my_lst = my_str.strip().split()\n",
    "' '.join(my_lst)\n",
    "\n",
    "my_str.split()"
   ]
  },
  {
   "cell_type": "code",
   "execution_count": 32,
   "metadata": {
    "ExecuteTime": {
     "end_time": "2021-04-04T07:58:02.486037Z",
     "start_time": "2021-04-04T07:58:02.476218Z"
    }
   },
   "outputs": [
    {
     "name": "stdout",
     "output_type": "stream",
     "text": [
      "Help on method_descriptor:\n",
      "\n",
      "join(self, iterable, /)\n",
      "    Concatenate any number of strings.\n",
      "    \n",
      "    The string whose method is called is inserted in between each given string.\n",
      "    The result is returned as a new string.\n",
      "    \n",
      "    Example: '.'.join(['ab', 'pq', 'rs']) -> 'ab.pq.rs'\n",
      "\n"
     ]
    }
   ],
   "source": [
    "help(str.join)"
   ]
  },
  {
   "cell_type": "code",
   "execution_count": 40,
   "metadata": {
    "ExecuteTime": {
     "end_time": "2021-04-04T08:02:26.621765Z",
     "start_time": "2021-04-04T08:02:26.610786Z"
    }
   },
   "outputs": [
    {
     "data": {
      "text/plain": [
       "'CISCOHPSAMSUNGIBM'"
      ]
     },
     "execution_count": 40,
     "metadata": {},
     "output_type": "execute_result"
    }
   ],
   "source": [
    "lst_vendors = ['CISCO', 'HP', 'SAMSUNG', 'IBM']\n",
    "''.join(lst_vendors)"
   ]
  },
  {
   "cell_type": "code",
   "execution_count": 70,
   "metadata": {
    "ExecuteTime": {
     "end_time": "2021-04-04T08:19:59.463667Z",
     "start_time": "2021-04-04T08:19:59.459333Z"
    }
   },
   "outputs": [
    {
     "name": "stdout",
     "output_type": "stream",
     "text": [
      "This  is  Python  class\n"
     ]
    }
   ],
   "source": [
    "# expandtabs\n",
    "\n",
    "my_str = 'This\\tis\\tPython\\tclass'\n",
    "print(my_str.expandtabs(tabsize=2))\n",
    "\n"
   ]
  },
  {
   "cell_type": "code",
   "execution_count": 61,
   "metadata": {
    "ExecuteTime": {
     "end_time": "2021-04-04T08:11:09.699131Z",
     "start_time": "2021-04-04T08:11:09.688961Z"
    }
   },
   "outputs": [
    {
     "name": "stdout",
     "output_type": "stream",
     "text": [
      "This\tis\tPython\tclass\n"
     ]
    }
   ],
   "source": [
    "print(my_str)"
   ]
  },
  {
   "cell_type": "code",
   "execution_count": 62,
   "metadata": {
    "ExecuteTime": {
     "end_time": "2021-04-04T08:12:25.313528Z",
     "start_time": "2021-04-04T08:12:25.308305Z"
    }
   },
   "outputs": [
    {
     "data": {
      "text/plain": [
       "'zeter zizer zicked a zeck of zickled zezzers'"
      ]
     },
     "execution_count": 62,
     "metadata": {},
     "output_type": "execute_result"
    }
   ],
   "source": [
    "# Signature: my_str.replace(old, new, count=-1, /)\n",
    "# Docstring:\n",
    "# Return a copy with all occurrences of substring old replaced by new.\n",
    "\n",
    "#   count\n",
    "#     Maximum number of occurrences to replace.\n",
    "#     -1 (the default value) means replace all occurrences.\n",
    "\n",
    "# If the optional argument count is given, only the first count occurrences are\n",
    "# replaced.\n",
    "\n",
    "my_str = 'peter piper picked a peck of pickled peppers'\n",
    "my_str.replace('p', 'z')"
   ]
  },
  {
   "cell_type": "code",
   "execution_count": 138,
   "metadata": {
    "ExecuteTime": {
     "end_time": "2021-04-04T09:41:28.581789Z",
     "start_time": "2021-04-04T09:41:28.577548Z"
    }
   },
   "outputs": [
    {
     "name": "stdout",
     "output_type": "stream",
     "text": [
      "seter siser sicked the peck of pickled peppers\n"
     ]
    }
   ],
   "source": [
    "a = 'peter piper picked the peck of pickled peppers'\n",
    "print(a.replace('p', 's', 4))"
   ]
  },
  {
   "cell_type": "code",
   "execution_count": 68,
   "metadata": {
    "ExecuteTime": {
     "end_time": "2021-04-04T08:18:29.106626Z",
     "start_time": "2021-04-04T08:18:29.097337Z"
    }
   },
   "outputs": [
    {
     "data": {
      "text/plain": [
       "['This is Python class.\\n', 'This is Learnbay class.']"
      ]
     },
     "execution_count": 68,
     "metadata": {},
     "output_type": "execute_result"
    }
   ],
   "source": [
    "# Signature: my_str.splitlines(keepends=False)\n",
    "# Docstring:\n",
    "# Return a list of the lines in the string, breaking at line boundaries.\n",
    "\n",
    "# Line breaks are not included in the resulting list unless keepends is given and\n",
    "# true.\n",
    "\n",
    "my_str = 'This is Python class.\\nThis is Learnbay class.'\n",
    "my_str.splitlines(keepends = False)\n",
    "my_str.splitlines(keepends = True)\n"
   ]
  },
  {
   "cell_type": "code",
   "execution_count": 74,
   "metadata": {
    "ExecuteTime": {
     "end_time": "2021-04-04T08:25:23.353799Z",
     "start_time": "2021-04-04T08:25:23.341998Z"
    }
   },
   "outputs": [
    {
     "data": {
      "text/plain": [
       "['Th', ' ', ' Python class']"
      ]
     },
     "execution_count": 74,
     "metadata": {},
     "output_type": "execute_result"
    }
   ],
   "source": [
    "# my_str = 'This is Python class'\n",
    "# # out_lst = ['This', 'is', 'Python class']\n",
    "# my_str.split('is')"
   ]
  },
  {
   "cell_type": "code",
   "execution_count": 78,
   "metadata": {
    "ExecuteTime": {
     "end_time": "2021-04-04T08:28:06.437985Z",
     "start_time": "2021-04-04T08:28:06.432313Z"
    }
   },
   "outputs": [
    {
     "data": {
      "text/plain": [
       "('abc', '@', 'gmail@com')"
      ]
     },
     "execution_count": 78,
     "metadata": {},
     "output_type": "execute_result"
    }
   ],
   "source": [
    "# Signature: my_str.partition(sep, /)\n",
    "# Docstring:\n",
    "# Partition the string into three parts using the given separator.\n",
    "\n",
    "# This will search for the separator in the string.  If the separator is found,\n",
    "# returns a 3-tuple containing the part before the separator, the separator\n",
    "# itself, and the part after it.\n",
    "\n",
    "# If the separator is not found, returns a 3-tuple containing the original string\n",
    "# and two empty strings.\n",
    "\n",
    "my_str = 'abc@gmail@com'\n",
    "my_str.partition('@')"
   ]
  },
  {
   "cell_type": "markdown",
   "metadata": {},
   "source": [
    "# List"
   ]
  },
  {
   "cell_type": "code",
   "execution_count": null,
   "metadata": {},
   "outputs": [],
   "source": [
    "# List is a seq\n",
    "#     Indexing, slicing, concatenation, Repetition, length, membership\n",
    "# List - anything kept inside [] separated by comma\n",
    "# List is a collection of heterogeneous element\n",
    "# List can have duplicates\n",
    "# List is mutable - shallow copy and deepcopy\n",
    "\n"
   ]
  },
  {
   "cell_type": "code",
   "execution_count": 95,
   "metadata": {
    "ExecuteTime": {
     "end_time": "2021-04-04T08:42:57.040552Z",
     "start_time": "2021-04-04T08:42:57.023951Z"
    }
   },
   "outputs": [
    {
     "data": {
      "text/plain": [
       "['peter', 'piper', 'picked', 'the', 'peck', 'of', 'pickled', 'peppers']"
      ]
     },
     "execution_count": 95,
     "metadata": {},
     "output_type": "execute_result"
    }
   ],
   "source": [
    "# Creating a list\n",
    "lst = [10,10.20, 10+20j, 'Python', None, True, [1,2,3], (11,22,33), 10, 10.20, 'Python']\n",
    "# print(lst, type(lst))\n",
    "\n",
    "# empty list\n",
    "# lst = list()\n",
    "# print(lst, type(lst))\n",
    "\n",
    "# lst = []\n",
    "# print(lst, type(lst))\n",
    "\n",
    "# taking a list as input from user\n",
    "# lst = eval(input('Enter a list: '))\n",
    "# print(lst, type(lst))\n",
    "\n",
    "\n",
    "# Using list function\n",
    "# print(list('Python'))\n",
    "# print(list([1,2,3,4,5]))\n",
    "# print(list((1,2,3,4,5)))\n",
    "# print(list(lst))\n",
    "\n",
    "# # list(10)\n",
    "# tpl = (1,2,3,4,5)\n",
    "# print(tpl, type(tpl))\n",
    "\n",
    "# Using split\n",
    "# a = 'peter piper picked the peck of pickled peppers'\n",
    "# a.split()\n",
    "\n",
    "\n"
   ]
  },
  {
   "cell_type": "code",
   "execution_count": 132,
   "metadata": {
    "ExecuteTime": {
     "end_time": "2021-04-04T09:26:49.522778Z",
     "start_time": "2021-04-04T09:26:49.508009Z"
    }
   },
   "outputs": [
    {
     "data": {
      "text/plain": [
       "['pqrst', 'abcde', 'mnop']"
      ]
     },
     "execution_count": 132,
     "metadata": {},
     "output_type": "execute_result"
    }
   ],
   "source": [
    "# List supports +ve and -ve indexing both\n",
    "# syntax of indexing and slicing are same as string\n",
    "\n",
    "lst = [10,10.20, 10+20j, 'Python', None, True, [1,2,3], (11,22,33), 10, 10.20, 'Python']\n",
    "# print('First Element: ', lst[0])\n",
    "# print('First Element: ', lst[-len(lst)])\n",
    "\n",
    "# print('Last Element: ', lst[-1])\n",
    "# print('Last Element: ', lst[len(lst)-1])\n",
    "\n",
    "# Slicing\n",
    "# print(lst[3:6])\n",
    "# print(lst[-6:-3:1])\n",
    "\n",
    "\n",
    "# Concatenation - +\n",
    "# Both operands should be list\n",
    "# This does not make any changes to existing list rather it creates a new list\n",
    "\n",
    "lst1 = [10,20,30]\n",
    "# lst2 = [1,2,3]\n",
    "# print(lst1 + lst2)\n",
    "# print(lst1)\n",
    "# print(lst2)\n",
    "\n",
    "\n",
    "# Repetition - *\n",
    "# One of the operand should be list and other should be integer\n",
    "\n",
    "# print(lst1 * 5)\n",
    "# print(lst1)\n",
    "\n",
    "# List creation using list comprehension\n",
    "# [expr for loop if cond]\n",
    "# [expr for loop]\n",
    "\n",
    "\n",
    "# lst = [10,11,12,1,3,14,15,16,17,18,19]\n",
    "# create a list of element of all even number from given list\n",
    "# [ele for ele in lst if ele%2 == 0]\n",
    "\n",
    "# create alist of double of each nuber from given list\n",
    "# [ele*2 for ele in lst]\n",
    "\n",
    "# [ele**2 for ele in lst]\n",
    "\n",
    "\n",
    "\n",
    "lst_email = ['abc@gmail.com', 'xyz@hotmail.com', 'pqrst@yahoo.com', 'abcde@rediffmail.com', 'mnop@gamil.com']\n",
    "# create a list of username using list comprehension\n",
    "[ele.split('@')[0] for ele in lst_email]\n",
    "[ele[:ele.index('@')] for ele in lst_email if len(ele[:ele.index('@')])>3]\n",
    "\n"
   ]
  },
  {
   "cell_type": "code",
   "execution_count": 101,
   "metadata": {
    "ExecuteTime": {
     "end_time": "2021-04-04T08:45:55.647281Z",
     "start_time": "2021-04-04T08:45:55.641513Z"
    }
   },
   "outputs": [
    {
     "data": {
      "text/plain": [
       "30"
      ]
     },
     "execution_count": 101,
     "metadata": {},
     "output_type": "execute_result"
    }
   ],
   "source": [
    "eval('10+20')"
   ]
  },
  {
   "cell_type": "code",
   "execution_count": 100,
   "metadata": {
    "ExecuteTime": {
     "end_time": "2021-04-04T08:45:28.027004Z",
     "start_time": "2021-04-04T08:45:28.018673Z"
    }
   },
   "outputs": [
    {
     "data": {
      "text/plain": [
       "'10+20'"
      ]
     },
     "execution_count": 100,
     "metadata": {},
     "output_type": "execute_result"
    }
   ],
   "source": [
    "'10+20'"
   ]
  },
  {
   "cell_type": "code",
   "execution_count": 106,
   "metadata": {
    "ExecuteTime": {
     "end_time": "2021-04-04T08:47:23.135055Z",
     "start_time": "2021-04-04T08:47:23.124505Z"
    }
   },
   "outputs": [
    {
     "data": {
      "text/plain": [
       "['[', '1', ',', '2', ',', '3', ',', '4', ']']"
      ]
     },
     "execution_count": 106,
     "metadata": {},
     "output_type": "execute_result"
    }
   ],
   "source": [
    "list('[1,2,3,4]')"
   ]
  },
  {
   "cell_type": "code",
   "execution_count": 125,
   "metadata": {
    "ExecuteTime": {
     "end_time": "2021-04-04T09:13:37.562778Z",
     "start_time": "2021-04-04T09:13:37.544930Z"
    }
   },
   "outputs": [
    {
     "name": "stdout",
     "output_type": "stream",
     "text": [
      "[10, 20, 30, 40] 4710238656\n",
      "[260, 20, 30, 40] 4710238656\n",
      "Python 4493178416\n",
      "Jython 4710009264\n"
     ]
    }
   ],
   "source": [
    "# List is mutable\n",
    "\n",
    "\n",
    "\n",
    "\n",
    "# How to check whether an element is mutable or not?\n",
    "    # if changes are done in sam eobject then it is mutable\n",
    "    # If object supports item assignment then also it is mutable\n",
    "\n",
    "lst = [10,20,30,40]\n",
    "print(lst, id(lst))\n",
    "lst[0] = 260\n",
    "print(lst, id(lst))\n",
    "\n",
    "\n",
    "# String is immutable\n",
    "my_str = 'Python'\n",
    "print(my_str, id(my_str))\n",
    "# my_str[0] = 'J'\n",
    "my_str = my_str.replace('P', 'J')\n",
    "print(my_str, id(my_str))\n",
    "\n",
    "\n",
    "\n",
    "\n"
   ]
  },
  {
   "cell_type": "code",
   "execution_count": 122,
   "metadata": {
    "ExecuteTime": {
     "end_time": "2021-04-04T09:08:55.674473Z",
     "start_time": "2021-04-04T09:08:55.666919Z"
    }
   },
   "outputs": [
    {
     "name": "stdout",
     "output_type": "stream",
     "text": [
      "Python\n",
      "4493178416\n",
      "4493655984 P\n",
      "4495004336 y\n",
      "4492469488 t\n"
     ]
    }
   ],
   "source": [
    "my_str = 'Python'\n",
    "print(my_str)\n",
    "print(id(my_str))\n",
    "print(id(my_str[0]), my_str[0])\n",
    "print(id(my_str[1]), my_str[1])\n",
    "print(id(my_str[2]), my_str[2])"
   ]
  },
  {
   "cell_type": "code",
   "execution_count": 123,
   "metadata": {
    "ExecuteTime": {
     "end_time": "2021-04-04T09:10:11.202435Z",
     "start_time": "2021-04-04T09:10:11.194516Z"
    }
   },
   "outputs": [
    {
     "name": "stdout",
     "output_type": "stream",
     "text": [
      "PVM 4710218800\n",
      "P 4493655984\n"
     ]
    }
   ],
   "source": [
    "my_str1 = 'PVM'\n",
    "print(my_str1, id(my_str1))\n",
    "print(my_str1[0], id(my_str1[0]))"
   ]
  },
  {
   "cell_type": "code",
   "execution_count": 150,
   "metadata": {
    "ExecuteTime": {
     "end_time": "2021-04-04T09:46:53.513990Z",
     "start_time": "2021-04-04T09:46:53.506972Z"
    }
   },
   "outputs": [
    {
     "name": "stdout",
     "output_type": "stream",
     "text": [
      "[10, 10.2, (10+20j), '33', 'Python', None, True]\n"
     ]
    }
   ],
   "source": [
    "# List methods\n",
    "# print(dir(list))\n",
    "\n",
    "#  'copy',  \n",
    "\n",
    "# Inserting an element - append, insert, extend\n",
    "lst = [10,10.20, 10+20j, 'Python', None, True]\n",
    "\n",
    "# append\n",
    "# Signature: lst.append(object, /)\n",
    "# Docstring: Append object to the end of the list.\n",
    "# print(lst, id(lst))\n",
    "# lst.append(111)\n",
    "# print(lst, id(lst))\n",
    "\n",
    "# lst.append([1,2,3,4])\n",
    "# print(lst)\n",
    "\n",
    "# extend\n",
    "# Signature: lst.extend(iterable, /)\n",
    "# Docstring: Extend list by appending elements from the iterable.\n",
    "    \n",
    "# lst1 = [1,2,3,4]\n",
    "# print(lst + lst1)\n",
    "# print(lst)\n",
    "# print(lst1)\n",
    "# lst.extend(lst1)\n",
    "# print(lst)\n",
    "# print(lst1)\n",
    "\n",
    "# lst.extend('Python')\n",
    "# print(lst)\n",
    "\n",
    "# insert\n",
    "# Signature: lst.insert(index, object, /)\n",
    "# Docstring: Insert object before index.\n",
    "\n",
    "\n",
    "# lst.insert(3, '3'*2)\n",
    "# print(lst)\n",
    "\n",
    "\n",
    "\n"
   ]
  },
  {
   "cell_type": "code",
   "execution_count": 160,
   "metadata": {
    "ExecuteTime": {
     "end_time": "2021-04-04T09:53:08.678421Z",
     "start_time": "2021-04-04T09:53:08.665703Z"
    }
   },
   "outputs": [
    {
     "name": "stdout",
     "output_type": "stream",
     "text": [
      "[]\n"
     ]
    }
   ],
   "source": [
    "# Removing  element from the list - pop(), pop(index), remove(val), clear()\n",
    "lst = [10,10.20, 10+20j, 'Python', None, True, 111]\n",
    "\n",
    "\n",
    "# pop()\n",
    "# Signature: lst.pop(index=-1, /)\n",
    "# Docstring:\n",
    "# Remove and return item at index (default last).\n",
    "\n",
    "# Raises IndexError if list is empty or index is out of range.\n",
    "# lst.pop()\n",
    "# print(lst)\n",
    "\n",
    "# pop(index)\n",
    "# print(lst.pop(3))\n",
    "# print(lst)\n",
    "\n",
    "# remove(val)\n",
    "# Signature: lst.remove(value, /)\n",
    "# Docstring:\n",
    "# Remove first occurrence of value.\n",
    "\n",
    "# Raises ValueError if the value is not present.\n",
    "\n",
    "# lst.remove(111)\n",
    "# print(lst)\n",
    "\n",
    "# lst = [10,1,20,10,220,30,10,2,20,22]\n",
    "# lst.remove(10)\n",
    "# print(lst)\n",
    "\n",
    "\n",
    "# lst.remove(False)\n",
    "\n",
    "# clear()\n",
    "# Signature: lst.clear()\n",
    "# Docstring: Remove all items from list.\n",
    "# lst.clear()\n",
    "# print(lst)\n",
    "\n",
    "\n",
    "\n"
   ]
  },
  {
   "cell_type": "code",
   "execution_count": 168,
   "metadata": {
    "ExecuteTime": {
     "end_time": "2021-04-04T09:56:02.852594Z",
     "start_time": "2021-04-04T09:56:02.847535Z"
    }
   },
   "outputs": [],
   "source": [
    "# 'count',  'index',\n",
    "\n",
    "lst = [10,1,2,20,1,30,3,4,50,1,40,30,10,1,200,1,209,1]\n",
    "\n",
    "# count\n",
    "# Signature: lst.count(value, /)\n",
    "# Docstring: Return number of occurrences of value.\n",
    "# print(lst.count(1))\n",
    "\n",
    "# index()\n",
    "# Signature: lst.index(value, start=0, stop=9223372036854775807, /)\n",
    "# Docstring:\n",
    "# Return first index of value.\n",
    "\n",
    "# Raises ValueError if the value is not present.\n",
    "# lst.index(30)\n",
    "\n",
    "# lst.index(False)\n",
    "\n",
    "\n"
   ]
  },
  {
   "cell_type": "code",
   "execution_count": 179,
   "metadata": {
    "ExecuteTime": {
     "end_time": "2021-04-04T10:00:08.047436Z",
     "start_time": "2021-04-04T10:00:08.036937Z"
    }
   },
   "outputs": [
    {
     "name": "stdout",
     "output_type": "stream",
     "text": [
      "[1, 1, 1, 1, 1, 1, 2, 3, 4, 10, 10, 20.4, 30, 30.9, 40, 50, 200, 209]\n"
     ]
    }
   ],
   "source": [
    "#  'reverse', 'sort'\n",
    "\n",
    "# lst = [10,1,2,20,1,30,3,4,50,1,40,30,10,1,200,1,209,1]\n",
    "# lst.reverse()\n",
    "# print(lst)\n",
    "\n",
    "# lst1 = [10,10.20, 10+20j, 'Python', None, True, 111]\n",
    "# lst1.reverse()\n",
    "# print(lst1)\n",
    "\n",
    "\n",
    "# Sort\n",
    "# Signature: lst.sort(*, key=None, reverse=False)\n",
    "# Docstring:\n",
    "# Sort the list in ascending order and return None.\n",
    "\n",
    "# The sort is in-place (i.e. the list itself is modified) and stable (i.e. the\n",
    "# order of two equal elements is maintained).\n",
    "\n",
    "# If a key function is given, apply it once to each list item and sort them,\n",
    "# ascending or descending, according to their function values.\n",
    "\n",
    "# The reverse flag can be set to sort in descending order.\n",
    "\n",
    "lst = [10,1,2,20.40,1,30.90,3,4,50,1,40,30,10,1,200,1,209,1]\n",
    "lst.sort()                 # Ascending\n",
    "print(lst)\n",
    "\n",
    "# lst.sort(reverse = True)     # Descending\n",
    "# print(lst) \n",
    "\n",
    "# lst1 = [10,10.20, 10+20j, 'Python', None, True, 111]\n",
    "# lst1.sort()    # Error\n",
    "\n"
   ]
  },
  {
   "cell_type": "code",
   "execution_count": 136,
   "metadata": {
    "ExecuteTime": {
     "end_time": "2021-04-04T09:29:31.271354Z",
     "start_time": "2021-04-04T09:29:31.261443Z"
    }
   },
   "outputs": [
    {
     "data": {
      "text/plain": [
       "['pqrst', 'abcde', 'mnop']"
      ]
     },
     "execution_count": 136,
     "metadata": {},
     "output_type": "execute_result"
    }
   ],
   "source": [
    "lst_email = ['abc@gmail.com', 'xyz@hotmail.com', 'pqrst@yahoo.com', 'abcde@rediffmail.com', 'mnop@gamil.com']\n",
    "# [ele.split('@')[0] for ele in lst_email]\n",
    "[ele[:ele.index('@')] for ele in lst_email if len(ele[:ele.index('@')])>3]"
   ]
  },
  {
   "cell_type": "code",
   "execution_count": 190,
   "metadata": {
    "ExecuteTime": {
     "end_time": "2021-04-04T10:11:33.700474Z",
     "start_time": "2021-04-04T10:11:33.690810Z"
    }
   },
   "outputs": [
    {
     "name": "stdout",
     "output_type": "stream",
     "text": [
      "[10, 20, 30, [444, 50], 60]\n",
      "[10, 20, 30, [40, 50], 60]\n"
     ]
    }
   ],
   "source": [
    "# 'copy', \n",
    "\n",
    "lst = [10,20,30,40,50]\n",
    "lst1 = lst                   # Aliasing - giving a different to an exiting object\n",
    "# print(lst is lst1)\n",
    "# print(lst == lst1)\n",
    "# print(id(lst))\n",
    "# print(id(lst1))\n",
    "# lst1[1] = 111\n",
    "# print(lst)\n",
    "# print(lst1)\n",
    "\n",
    "\n",
    "# Shallow copy - copy, slicing\n",
    "# lst = [10,20,30,40,50]\n",
    "# lst1 = lst.copy()\n",
    "# print(lst is lst1)\n",
    "# print(lst == lst1)\n",
    "# print(id(lst))\n",
    "# print(id(lst1))\n",
    "\n",
    "# lst1[0] = 111\n",
    "# print(lst)\n",
    "# print(lst1)\n",
    "\n",
    "lst = [10,20,30,[40,50], 60]\n",
    "lst1 = lst[::]\n",
    "# print(lst[-2], id(lst[-2]))\n",
    "# print(lst1[-2], id(lst1[-2]))\n",
    "\n",
    "# print(lst is lst1)\n",
    "# print(lst == lst1)\n",
    "# print(id(lst))\n",
    "# print(id(lst1))\n",
    "\n",
    "# lst1[-2][0] = 444\n",
    "# print(lst)\n",
    "# print(lst1)\n",
    "\n",
    "\n",
    "# Deepcopy\n",
    "from copy import deepcopy\n",
    "lst = [10,20,30,[40,50], 60]\n",
    "lst1 = deepcopy(lst)\n",
    "print(lst is lst1)\n",
    "print(lst[-2] is lst1[-2])\n",
    "print(id(lst[-2]))\n",
    "print(id(lst1[-2]))\n",
    "\n",
    "lst1[-2][0] = 444\n",
    "print(lst1)\n",
    "print(lst)\n",
    "\n",
    "\n",
    "\n",
    "\n",
    "\n"
   ]
  },
  {
   "cell_type": "code",
   "execution_count": null,
   "metadata": {},
   "outputs": [],
   "source": [
    "# Tuple"
   ]
  },
  {
   "cell_type": "code",
   "execution_count": null,
   "metadata": {},
   "outputs": [],
   "source": []
  },
  {
   "cell_type": "code",
   "execution_count": null,
   "metadata": {},
   "outputs": [],
   "source": []
  },
  {
   "cell_type": "code",
   "execution_count": null,
   "metadata": {},
   "outputs": [],
   "source": []
  },
  {
   "cell_type": "code",
   "execution_count": null,
   "metadata": {},
   "outputs": [],
   "source": []
  },
  {
   "cell_type": "code",
   "execution_count": null,
   "metadata": {},
   "outputs": [],
   "source": []
  },
  {
   "cell_type": "code",
   "execution_count": null,
   "metadata": {},
   "outputs": [],
   "source": []
  },
  {
   "cell_type": "code",
   "execution_count": null,
   "metadata": {},
   "outputs": [],
   "source": []
  },
  {
   "cell_type": "code",
   "execution_count": null,
   "metadata": {},
   "outputs": [],
   "source": []
  },
  {
   "cell_type": "code",
   "execution_count": null,
   "metadata": {},
   "outputs": [],
   "source": []
  },
  {
   "cell_type": "code",
   "execution_count": null,
   "metadata": {},
   "outputs": [],
   "source": []
  },
  {
   "cell_type": "code",
   "execution_count": null,
   "metadata": {},
   "outputs": [],
   "source": []
  },
  {
   "cell_type": "code",
   "execution_count": null,
   "metadata": {},
   "outputs": [],
   "source": []
  },
  {
   "cell_type": "code",
   "execution_count": null,
   "metadata": {},
   "outputs": [],
   "source": []
  },
  {
   "cell_type": "code",
   "execution_count": null,
   "metadata": {},
   "outputs": [],
   "source": []
  },
  {
   "cell_type": "code",
   "execution_count": null,
   "metadata": {},
   "outputs": [],
   "source": []
  },
  {
   "cell_type": "code",
   "execution_count": null,
   "metadata": {},
   "outputs": [],
   "source": []
  },
  {
   "cell_type": "code",
   "execution_count": null,
   "metadata": {},
   "outputs": [],
   "source": []
  },
  {
   "cell_type": "code",
   "execution_count": null,
   "metadata": {},
   "outputs": [],
   "source": []
  },
  {
   "cell_type": "code",
   "execution_count": null,
   "metadata": {},
   "outputs": [],
   "source": []
  },
  {
   "cell_type": "code",
   "execution_count": null,
   "metadata": {},
   "outputs": [],
   "source": []
  },
  {
   "cell_type": "code",
   "execution_count": null,
   "metadata": {},
   "outputs": [],
   "source": []
  },
  {
   "cell_type": "code",
   "execution_count": null,
   "metadata": {},
   "outputs": [],
   "source": []
  },
  {
   "cell_type": "code",
   "execution_count": null,
   "metadata": {},
   "outputs": [],
   "source": []
  },
  {
   "cell_type": "code",
   "execution_count": null,
   "metadata": {},
   "outputs": [],
   "source": []
  },
  {
   "cell_type": "code",
   "execution_count": null,
   "metadata": {},
   "outputs": [],
   "source": []
  },
  {
   "cell_type": "code",
   "execution_count": null,
   "metadata": {},
   "outputs": [],
   "source": []
  },
  {
   "cell_type": "code",
   "execution_count": null,
   "metadata": {},
   "outputs": [],
   "source": []
  },
  {
   "cell_type": "code",
   "execution_count": null,
   "metadata": {},
   "outputs": [],
   "source": []
  },
  {
   "cell_type": "code",
   "execution_count": null,
   "metadata": {},
   "outputs": [],
   "source": []
  },
  {
   "cell_type": "code",
   "execution_count": null,
   "metadata": {},
   "outputs": [],
   "source": []
  },
  {
   "cell_type": "code",
   "execution_count": null,
   "metadata": {},
   "outputs": [],
   "source": []
  },
  {
   "cell_type": "code",
   "execution_count": null,
   "metadata": {},
   "outputs": [],
   "source": []
  },
  {
   "cell_type": "code",
   "execution_count": null,
   "metadata": {},
   "outputs": [],
   "source": []
  }
 ],
 "metadata": {
  "kernelspec": {
   "display_name": "Python 3",
   "language": "python",
   "name": "python3"
  },
  "language_info": {
   "codemirror_mode": {
    "name": "ipython",
    "version": 3
   },
   "file_extension": ".py",
   "mimetype": "text/x-python",
   "name": "python",
   "nbconvert_exporter": "python",
   "pygments_lexer": "ipython3",
   "version": "3.8.2"
  },
  "latex_envs": {
   "LaTeX_envs_menu_present": true,
   "autoclose": false,
   "autocomplete": true,
   "bibliofile": "biblio.bib",
   "cite_by": "apalike",
   "current_citInitial": 1,
   "eqLabelWithNumbers": true,
   "eqNumInitial": 1,
   "hotkeys": {
    "equation": "Ctrl-E",
    "itemize": "Ctrl-I"
   },
   "labels_anchors": false,
   "latex_user_defs": false,
   "report_style_numbering": false,
   "user_envs_cfg": false
  },
  "varInspector": {
   "cols": {
    "lenName": 16,
    "lenType": 16,
    "lenVar": 40
   },
   "kernels_config": {
    "python": {
     "delete_cmd_postfix": "",
     "delete_cmd_prefix": "del ",
     "library": "var_list.py",
     "varRefreshCmd": "print(var_dic_list())"
    },
    "r": {
     "delete_cmd_postfix": ") ",
     "delete_cmd_prefix": "rm(",
     "library": "var_list.r",
     "varRefreshCmd": "cat(var_dic_list()) "
    }
   },
   "types_to_exclude": [
    "module",
    "function",
    "builtin_function_or_method",
    "instance",
    "_Feature"
   ],
   "window_display": false
  }
 },
 "nbformat": 4,
 "nbformat_minor": 2
}
