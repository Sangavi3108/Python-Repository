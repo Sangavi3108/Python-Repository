{
 "cells": [
  {
   "cell_type": "code",
   "execution_count": 1,
   "metadata": {
    "ExecuteTime": {
     "end_time": "2021-04-10T07:36:07.510762Z",
     "start_time": "2021-04-10T07:36:07.485372Z"
    }
   },
   "outputs": [
    {
     "data": {
      "text/plain": [
       "True"
      ]
     },
     "execution_count": 1,
     "metadata": {},
     "output_type": "execute_result"
    }
   ],
   "source": [
    "'A' < 'a'"
   ]
  },
  {
   "cell_type": "code",
   "execution_count": 2,
   "metadata": {
    "ExecuteTime": {
     "end_time": "2021-04-10T07:36:16.934729Z",
     "start_time": "2021-04-10T07:36:16.929172Z"
    }
   },
   "outputs": [
    {
     "name": "stdout",
     "output_type": "stream",
     "text": [
      "65\n"
     ]
    }
   ],
   "source": [
    "print(ord('A'))"
   ]
  },
  {
   "cell_type": "code",
   "execution_count": 3,
   "metadata": {
    "ExecuteTime": {
     "end_time": "2021-04-10T07:36:22.038008Z",
     "start_time": "2021-04-10T07:36:22.027029Z"
    }
   },
   "outputs": [
    {
     "name": "stdout",
     "output_type": "stream",
     "text": [
      "97\n"
     ]
    }
   ],
   "source": [
    "print(ord('a'))"
   ]
  },
  {
   "cell_type": "code",
   "execution_count": 5,
   "metadata": {
    "ExecuteTime": {
     "end_time": "2021-04-10T07:37:15.626170Z",
     "start_time": "2021-04-10T07:37:15.613293Z"
    }
   },
   "outputs": [
    {
     "data": {
      "text/plain": [
       "[40, 30, 20, 10]"
      ]
     },
     "execution_count": 5,
     "metadata": {},
     "output_type": "execute_result"
    }
   ],
   "source": [
    "lst = [10,20,30,40]\n",
    "lst.reverse()\n",
    "lst"
   ]
  },
  {
   "cell_type": "code",
   "execution_count": 13,
   "metadata": {
    "ExecuteTime": {
     "end_time": "2021-04-10T07:40:03.454981Z",
     "start_time": "2021-04-10T07:40:03.440777Z"
    }
   },
   "outputs": [
    {
     "data": {
      "text/plain": [
       "'Class Python'"
      ]
     },
     "execution_count": 13,
     "metadata": {},
     "output_type": "execute_result"
    }
   ],
   "source": [
    "my_str = 'Python Class'\n",
    "my_lst = reversed(my_str.split())\n",
    "' '.join(my_lst)\n",
    "# \" \".join([i[::-1] for i in my_str.split()])"
   ]
  },
  {
   "cell_type": "code",
   "execution_count": 18,
   "metadata": {
    "ExecuteTime": {
     "end_time": "2021-04-10T07:43:15.972773Z",
     "start_time": "2021-04-10T07:43:15.962155Z"
    }
   },
   "outputs": [],
   "source": [
    "# parameter - variable name - it can refer to value - This is given while defining the function\n",
    "# argument - value - This is given while calling the function\n",
    "\n",
    "# def add(*num2):\n",
    "#     return sum(num2)\n",
    "\n",
    "# add(10,20, 30, 40)\n",
    "\n"
   ]
  },
  {
   "cell_type": "code",
   "execution_count": 29,
   "metadata": {
    "ExecuteTime": {
     "end_time": "2021-04-10T07:55:19.611477Z",
     "start_time": "2021-04-10T07:55:19.596853Z"
    }
   },
   "outputs": [
    {
     "name": "stdout",
     "output_type": "stream",
     "text": [
      "0\n",
      "6\n",
      "12\n",
      "21\n",
      "29\n",
      "37\n"
     ]
    }
   ],
   "source": [
    "#Write a python program to find below output (implements rjust and ljust):-\n",
    "\n",
    "#Input:- 'Peter Piper Picked A Peck Of Pickled Peppers.', sub_str = 'Peck', \n",
    "#Output:- '*********************Peck********************'\n",
    "\n",
    "inp_str = 'Peter Piper Picked A Peck Of Pickled Peppers.'\n",
    "sub_str = 'Peck'\n",
    "# sub_str.center(len(inp_str), '*')\n",
    "\n",
    "# sub_str.rjust(inp_str.index(sub_str)+len(sub_str), '*').ljust(len(inp_str), '*')\n",
    "\n",
    "# for i in range(len(inp_str)):\n",
    "#     if inp_str[i] == \"P\":\n",
    "#         print(i)\n",
    "\n",
    "\n",
    "\n",
    "\n",
    "\n"
   ]
  },
  {
   "cell_type": "code",
   "execution_count": 26,
   "metadata": {
    "ExecuteTime": {
     "end_time": "2021-04-10T07:50:41.431976Z",
     "start_time": "2021-04-10T07:50:41.421011Z"
    }
   },
   "outputs": [
    {
     "data": {
      "text/plain": [
       "'Peck******'"
      ]
     },
     "execution_count": 26,
     "metadata": {},
     "output_type": "execute_result"
    }
   ],
   "source": [
    "sub_str.ljust(10, '*')"
   ]
  },
  {
   "cell_type": "code",
   "execution_count": 32,
   "metadata": {
    "ExecuteTime": {
     "end_time": "2021-04-10T07:57:29.834528Z",
     "start_time": "2021-04-10T07:57:29.828648Z"
    }
   },
   "outputs": [],
   "source": [
    "# ~True\n",
    "\n",
    "\n",
    "# ~num = -(num+1)"
   ]
  },
  {
   "cell_type": "code",
   "execution_count": 34,
   "metadata": {
    "ExecuteTime": {
     "end_time": "2021-04-10T07:58:31.462843Z",
     "start_time": "2021-04-10T07:58:31.453832Z"
    }
   },
   "outputs": [
    {
     "name": "stdout",
     "output_type": "stream",
     "text": [
      "[10, 20, 30, 40]\n",
      "10\n",
      "40\n"
     ]
    }
   ],
   "source": [
    "# lst = [10,20,30,40]\n",
    "# print(lst)\n",
    "# print(lst[0])\n",
    "# print(lst[-1])"
   ]
  },
  {
   "cell_type": "code",
   "execution_count": 36,
   "metadata": {
    "ExecuteTime": {
     "end_time": "2021-04-10T07:59:30.922332Z",
     "start_time": "2021-04-10T07:59:30.916506Z"
    }
   },
   "outputs": [
    {
     "name": "stdout",
     "output_type": "stream",
     "text": [
      "[1, 2, 3, 4]\n",
      "3\n"
     ]
    }
   ],
   "source": [
    "# lst = [10,20,30, [1,2,3,4], 40]\n",
    "# print(lst[3])\n",
    "# print(lst[3][2])"
   ]
  },
  {
   "cell_type": "code",
   "execution_count": 40,
   "metadata": {
    "ExecuteTime": {
     "end_time": "2021-04-10T08:00:13.833101Z",
     "start_time": "2021-04-10T08:00:13.822768Z"
    }
   },
   "outputs": [
    {
     "name": "stdout",
     "output_type": "stream",
     "text": [
      "Python\n",
      "o\n"
     ]
    }
   ],
   "source": [
    "lst = [1,2,3,'Python', 5]\n",
    "print(lst[3])\n",
    "print(lst[3][-2])"
   ]
  },
  {
   "cell_type": "code",
   "execution_count": 41,
   "metadata": {
    "ExecuteTime": {
     "end_time": "2021-04-10T08:01:08.157287Z",
     "start_time": "2021-04-10T08:01:08.126334Z"
    }
   },
   "outputs": [
    {
     "data": {
      "text/plain": [
       "'0b1010000'"
      ]
     },
     "execution_count": 41,
     "metadata": {},
     "output_type": "execute_result"
    }
   ],
   "source": [
    "bin(80)"
   ]
  },
  {
   "cell_type": "code",
   "execution_count": 49,
   "metadata": {
    "ExecuteTime": {
     "end_time": "2021-04-10T08:10:57.073931Z",
     "start_time": "2021-04-10T08:10:57.063637Z"
    }
   },
   "outputs": [],
   "source": [
    "a = int"
   ]
  },
  {
   "cell_type": "markdown",
   "metadata": {},
   "source": [
    "# Tuple "
   ]
  },
  {
   "cell_type": "code",
   "execution_count": 42,
   "metadata": {
    "ExecuteTime": {
     "end_time": "2021-04-10T08:03:30.093183Z",
     "start_time": "2021-04-10T08:03:30.086680Z"
    }
   },
   "outputs": [
    {
     "name": "stdout",
     "output_type": "stream",
     "text": [
      "(10, 20, 30, 40) <class 'tuple'>\n"
     ]
    }
   ],
   "source": [
    "tpl = (10,20,30,40)\n",
    "print(tpl, type(tpl))"
   ]
  },
  {
   "cell_type": "code",
   "execution_count": 43,
   "metadata": {
    "ExecuteTime": {
     "end_time": "2021-04-10T08:04:15.332749Z",
     "start_time": "2021-04-10T08:04:15.316732Z"
    }
   },
   "outputs": [
    {
     "name": "stdout",
     "output_type": "stream",
     "text": [
      "(10, 20, 30, 40, 50) <class 'tuple'>\n"
     ]
    }
   ],
   "source": [
    "tpl = 10,20,30,40,50\n",
    "print(tpl, type(tpl))"
   ]
  },
  {
   "cell_type": "code",
   "execution_count": 44,
   "metadata": {
    "ExecuteTime": {
     "end_time": "2021-04-10T08:05:06.584101Z",
     "start_time": "2021-04-10T08:05:06.578423Z"
    }
   },
   "outputs": [
    {
     "name": "stdout",
     "output_type": "stream",
     "text": [
      "(10,) <class 'tuple'>\n"
     ]
    }
   ],
   "source": [
    "tpl = 10,\n",
    "print(tpl, type(tpl))"
   ]
  },
  {
   "cell_type": "code",
   "execution_count": 45,
   "metadata": {
    "ExecuteTime": {
     "end_time": "2021-04-10T08:05:32.373500Z",
     "start_time": "2021-04-10T08:05:32.361041Z"
    }
   },
   "outputs": [
    {
     "name": "stdout",
     "output_type": "stream",
     "text": [
      "10 <class 'int'>\n"
     ]
    }
   ],
   "source": [
    "tpl = (10)\n",
    "print(tpl, type(tpl))"
   ]
  },
  {
   "cell_type": "code",
   "execution_count": 1,
   "metadata": {
    "ExecuteTime": {
     "end_time": "2021-04-10T08:11:19.965872Z",
     "start_time": "2021-04-10T08:11:19.944089Z"
    }
   },
   "outputs": [
    {
     "name": "stdout",
     "output_type": "stream",
     "text": [
      "(10, 'Python', (10+20j), 10.2, [10, 20, 30]) <class 'tuple'>\n"
     ]
    }
   ],
   "source": [
    "# Tuple can have duplicate values\n",
    "# Tuple is a collection of heterogeneous elements\n",
    "# tpl = 10,20,30,40,20,300,20,1,20,100,20,40,20\n",
    "# print(tpl, type(tpl))\n",
    "\n",
    "tpl = 10, 'Python', 10+20j, 10.20, [10,20,30]\n",
    "print(tpl,type(tpl))\n"
   ]
  },
  {
   "cell_type": "code",
   "execution_count": 8,
   "metadata": {
    "ExecuteTime": {
     "end_time": "2021-04-10T08:23:40.152786Z",
     "start_time": "2021-04-10T08:23:40.148321Z"
    }
   },
   "outputs": [],
   "source": [
    "tpl = 10, 'Python', 10+20j, 10.20, [10,20,30]\n",
    "# print(tpl, type(tpl))\n",
    "# tpl[0] = 111\n",
    "# print(tpl, type(tpl))"
   ]
  },
  {
   "cell_type": "code",
   "execution_count": 7,
   "metadata": {
    "ExecuteTime": {
     "end_time": "2021-04-10T08:23:33.135357Z",
     "start_time": "2021-04-10T08:23:33.119745Z"
    }
   },
   "outputs": [],
   "source": [
    "tpl = 10, 'Python', 10+20j, 10.20, [10,20,30]\n",
    "# print(tpl, type(tpl), id(tpl))\n",
    "# tpl[-1] = 111\n",
    "# print(tpl, type(tpl), id(tpl))"
   ]
  },
  {
   "cell_type": "code",
   "execution_count": 6,
   "metadata": {
    "ExecuteTime": {
     "end_time": "2021-04-10T08:23:17.887179Z",
     "start_time": "2021-04-10T08:23:17.874601Z"
    }
   },
   "outputs": [
    {
     "name": "stdout",
     "output_type": "stream",
     "text": [
      "(10, 20, 30, (1, 2, 3, 4), 50) <class 'tuple'>\n"
     ]
    }
   ],
   "source": [
    "# nested Tuple\n",
    "\n",
    "# tpl = (10,20,30, (1,2,3,4), 50)\n",
    "# print(tpl, type(tpl))\n"
   ]
  },
  {
   "cell_type": "code",
   "execution_count": 10,
   "metadata": {
    "ExecuteTime": {
     "end_time": "2021-04-10T08:28:12.606492Z",
     "start_time": "2021-04-10T08:28:12.599959Z"
    }
   },
   "outputs": [
    {
     "name": "stdout",
     "output_type": "stream",
     "text": [
      "4470907152\n",
      "4470907216\n"
     ]
    }
   ],
   "source": [
    "# Thonny - which implementation of Python\n",
    "\n",
    "a = 1000\n",
    "b = 1000\n",
    "print(id(a))\n",
    "print(id(b))\n"
   ]
  },
  {
   "cell_type": "code",
   "execution_count": 13,
   "metadata": {
    "ExecuteTime": {
     "end_time": "2021-04-10T08:30:03.050512Z",
     "start_time": "2021-04-10T08:30:03.044737Z"
    }
   },
   "outputs": [],
   "source": [
    "# a = 999999\n",
    "# b = 999999\n",
    "# print(a is b)\n",
    "# print(id(a))\n",
    "# print(id(b))"
   ]
  },
  {
   "cell_type": "code",
   "execution_count": 15,
   "metadata": {
    "ExecuteTime": {
     "end_time": "2021-04-10T08:31:08.544857Z",
     "start_time": "2021-04-10T08:31:08.524884Z"
    }
   },
   "outputs": [],
   "source": [
    "# lst = [10,20,30,(1,2,3), 40]\n",
    "# lst[0] = 111\n",
    "# lst[-2][0] = 90"
   ]
  },
  {
   "cell_type": "code",
   "execution_count": 21,
   "metadata": {
    "ExecuteTime": {
     "end_time": "2021-04-10T08:34:58.096570Z",
     "start_time": "2021-04-10T08:34:58.091029Z"
    }
   },
   "outputs": [
    {
     "name": "stdout",
     "output_type": "stream",
     "text": [
      "(1, 2, 3, 4, 1, 2, 3, 4, 1, 2, 3, 4, 1, 2, 3, 4, 1, 2, 3, 4)\n"
     ]
    }
   ],
   "source": [
    "# Basic Operation\n",
    "tpl = (10,20,30,40,50,60)\n",
    "# print(tpl[0])\n",
    "# print(tpl[-1])\n",
    "# print(tpl[len(tpl)-1])\n",
    "# print(tpl[-len(tpl)])\n",
    "\n",
    "\n",
    "# print(tpl[-5:-2:-1])\n",
    "# print(tpl[-2:-5:-1])\n",
    "\n",
    "\n",
    "# print((1,2,3,4)+(10,20,30,40))\n",
    "\n",
    "# print((1,2,3,4)*5)\n",
    "\n",
    "\n",
    "\n",
    "\n",
    "\n"
   ]
  },
  {
   "cell_type": "code",
   "execution_count": 23,
   "metadata": {
    "ExecuteTime": {
     "end_time": "2021-04-10T08:40:28.091797Z",
     "start_time": "2021-04-10T08:40:28.086789Z"
    }
   },
   "outputs": [],
   "source": [
    "# Methods on tuple\n",
    "# print(dir(tuple))\n",
    "\n",
    "# 'count', 'index'\n",
    "\n",
    "\n",
    "\n"
   ]
  },
  {
   "cell_type": "code",
   "execution_count": 26,
   "metadata": {
    "ExecuteTime": {
     "end_time": "2021-04-10T08:41:55.173034Z",
     "start_time": "2021-04-10T08:41:55.162590Z"
    }
   },
   "outputs": [
    {
     "name": "stdout",
     "output_type": "stream",
     "text": [
      "[10, 20, 30, 1, 2, 3, 4] <class 'list'>\n",
      "(10, 20, 30, 1, 2, 3, 4) <class 'tuple'>\n"
     ]
    }
   ],
   "source": [
    "# Converting to list\n",
    "tpl = (10,20,30, 1,2,3,4)\n",
    "lst = list(tpl)\n",
    "print(lst, type(lst))\n",
    "print(tpl, type(tpl))"
   ]
  },
  {
   "cell_type": "code",
   "execution_count": 28,
   "metadata": {
    "ExecuteTime": {
     "end_time": "2021-04-10T08:42:23.282802Z",
     "start_time": "2021-04-10T08:42:23.273976Z"
    }
   },
   "outputs": [
    {
     "name": "stdout",
     "output_type": "stream",
     "text": [
      "(10, 20, 30, 1, 2, 3, 4)\n"
     ]
    }
   ],
   "source": [
    "tpl = tuple(lst)\n",
    "print(tpl)"
   ]
  },
  {
   "cell_type": "code",
   "execution_count": 29,
   "metadata": {
    "ExecuteTime": {
     "end_time": "2021-04-10T08:43:10.606491Z",
     "start_time": "2021-04-10T08:43:10.593515Z"
    }
   },
   "outputs": [
    {
     "name": "stdout",
     "output_type": "stream",
     "text": [
      "('P', 'y', 't', 'h', 'o', 'n')\n",
      "(1, 2, 3, 4)\n",
      "(102, 30, 40)\n",
      "(1, 2, 3, 4)\n"
     ]
    }
   ],
   "source": [
    "# tuple()\n",
    "print(tuple('Python'))\n",
    "print(tuple((1,2,3,4)))\n",
    "print(tuple([102,30,40]))\n",
    "print(tuple({1:100, 2:200, 3:300, 4:400}))\n"
   ]
  },
  {
   "cell_type": "code",
   "execution_count": 30,
   "metadata": {
    "ExecuteTime": {
     "end_time": "2021-04-10T08:45:31.988349Z",
     "start_time": "2021-04-10T08:45:31.962248Z"
    }
   },
   "outputs": [
    {
     "data": {
      "text/plain": [
       "('ABC', 30, 560102)"
      ]
     },
     "execution_count": 30,
     "metadata": {},
     "output_type": "execute_result"
    }
   ],
   "source": [
    "tpl = ('ABC', 20, 560102)\n",
    "lst = list(tpl)\n",
    "lst[1] = 30\n",
    "tuple(lst)"
   ]
  },
  {
   "cell_type": "code",
   "execution_count": 31,
   "metadata": {
    "ExecuteTime": {
     "end_time": "2021-04-10T08:46:59.790035Z",
     "start_time": "2021-04-10T08:46:54.764327Z"
    }
   },
   "outputs": [
    {
     "name": "stdout",
     "output_type": "stream",
     "text": [
      "Enter a tuple: (1,2,3,4,5)\n",
      "(1, 2, 3, 4, 5) <class 'tuple'>\n"
     ]
    }
   ],
   "source": [
    "# taking tuple as input from user\n",
    "tpl = eval(input('Enter a tuple: '))\n",
    "print(tpl, type(tpl))"
   ]
  },
  {
   "cell_type": "code",
   "execution_count": 35,
   "metadata": {
    "ExecuteTime": {
     "end_time": "2021-04-10T08:48:20.125005Z",
     "start_time": "2021-04-10T08:48:16.298039Z"
    }
   },
   "outputs": [
    {
     "name": "stdout",
     "output_type": "stream",
     "text": [
      "Enter a tuple: (1,2,3,4)\n",
      "('(', '1', ',', '2', ',', '3', ',', '4', ')') <class 'tuple'>\n"
     ]
    }
   ],
   "source": [
    "tpl = tuple(input('Enter a tuple: '))\n",
    "print(tpl, type(tpl))"
   ]
  },
  {
   "cell_type": "code",
   "execution_count": 32,
   "metadata": {
    "ExecuteTime": {
     "end_time": "2021-04-10T08:47:48.480280Z",
     "start_time": "2021-04-10T08:47:48.465101Z"
    }
   },
   "outputs": [
    {
     "data": {
      "text/plain": [
       "['P', 'y', 't', 'h', 'o', 'n']"
      ]
     },
     "execution_count": 32,
     "metadata": {},
     "output_type": "execute_result"
    }
   ],
   "source": [
    "list('Python')"
   ]
  },
  {
   "cell_type": "code",
   "execution_count": 34,
   "metadata": {
    "ExecuteTime": {
     "end_time": "2021-04-10T08:48:11.920222Z",
     "start_time": "2021-04-10T08:48:11.909469Z"
    }
   },
   "outputs": [
    {
     "data": {
      "text/plain": [
       "('(', '1', '0', ',', '2', '0', ',', '3', '0', ',', '4', '0', ')')"
      ]
     },
     "execution_count": 34,
     "metadata": {},
     "output_type": "execute_result"
    }
   ],
   "source": [
    "tuple('(10,20,30,40)')"
   ]
  },
  {
   "cell_type": "code",
   "execution_count": 48,
   "metadata": {
    "ExecuteTime": {
     "end_time": "2021-04-10T08:57:25.905105Z",
     "start_time": "2021-04-10T08:57:25.898238Z"
    }
   },
   "outputs": [
    {
     "name": "stdout",
     "output_type": "stream",
     "text": [
      "P y t h o n\n"
     ]
    }
   ],
   "source": [
    "# Tuple packing - \n",
    "# a = 10\n",
    "# b = 20\n",
    "# c =10+20\n",
    "# d = 40\n",
    "# e = 50\n",
    "# tpl = a,b,c,d,e\n",
    "# print(tpl, type(tpl))\n",
    "\n",
    "\n",
    "# and Unpacking\n",
    "    # No of variable should match the no of element\n",
    "    # It can neither be extra not less\n",
    "\n",
    "\n",
    "# tpl = 1,2,3,4,5\n",
    "# m,n,o,p,q = tpl\n",
    "# print(m,n,o,p,q)\n",
    "\n",
    "len((10,20,30,40,50, 'Pytin'))\n",
    "\n",
    "\n",
    "# Tuple comprehension - Generator - Function\n",
    "\n",
    "# lst = [10,20,30,40,[1,2,3,4]]\n",
    "# a,b,c,d,e = lst\n",
    "# print(a)\n",
    "# print(b)\n",
    "# print(c)\n",
    "# print(d)\n",
    "# print(e)\n",
    "\n",
    "\n",
    "a,b,c,d,e,f = 'Python'\n",
    "print(a, b,c,d,e,f)\n",
    "\n",
    "\n",
    "\n",
    "\n",
    "\n",
    "\n",
    "\n"
   ]
  },
  {
   "cell_type": "code",
   "execution_count": 52,
   "metadata": {
    "ExecuteTime": {
     "end_time": "2021-04-10T08:59:11.727227Z",
     "start_time": "2021-04-10T08:59:11.715457Z"
    }
   },
   "outputs": [
    {
     "data": {
      "text/plain": [
       "list"
      ]
     },
     "execution_count": 52,
     "metadata": {},
     "output_type": "execute_result"
    }
   ],
   "source": [
    "type(eval('10+20'))\n",
    "type(eval('[1,2,3,4]'))"
   ]
  },
  {
   "cell_type": "code",
   "execution_count": 110,
   "metadata": {
    "ExecuteTime": {
     "end_time": "2021-04-10T09:56:13.172381Z",
     "start_time": "2021-04-10T09:56:13.011498Z"
    }
   },
   "outputs": [
    {
     "name": "stdout",
     "output_type": "stream",
     "text": [
      "(1, ('Mary', 90)) (2, ('John', 99)) (3, ('Smith', 98)) (4, ('Amit', 97))\n"
     ]
    }
   ],
   "source": [
    "# Dictionary - Collection of Key value pair\n",
    "\n",
    "# Sequence type\n",
    "#     index - every value/element is mapped to a index\n",
    "#     to get any element we can get it using indexing operation\n",
    "\n",
    "st_name = ['Mary', 'John', 'Smith', 'Amit', 'Purva']\n",
    "st_roll = ['M101', 'J102', 'S103', 'A104', 'P105']\n",
    "st_marks = [90, 99, 98, 97, 96]\n",
    "\n",
    "\n",
    "# mapping - Data Structure\n",
    "# Synatx = {key1:value1, key2:value2, key3:value3}\n",
    "\n",
    "\n",
    "\n",
    "\n",
    "# st_info = {'M101':['Mary', 90], \n",
    "#            'J102':['John', 99], \n",
    "#            'S103':['Smith', 98], \n",
    "#            'A104':['Amit', 97], \n",
    "#            'P105':['Purva', 96]}\n",
    "\n",
    "# # print(st_info)\n",
    "# print(st_info['S103'])\n",
    "\n",
    "    \n",
    "# stu_info={1:['Mary'],\n",
    "#          2:['John',88],\n",
    "#          3:['Smi5th',49],\n",
    "#          4:['Amit',80],\n",
    "#          5:['Purva',70]}\n",
    "# print(stu_info)\n",
    "# print(stu_info[1])\n",
    "\n",
    "\n",
    "# st_info = {'M101':{'st_name':'Mary', 'st_marks':90}, \n",
    "#            'J102':{'st_name':'John', 'st_marks':99}, \n",
    "#            'S103':{'st_name':'Smith','st_marks':98}, \n",
    "#            'A104':{'st_name':'Amit', 'st_marks':97}, \n",
    "#            'P105':{'st_name':'Purva','st_marks':96}}\n",
    "\n",
    "# # print(st_info)\n",
    "# print(st_info['S103']['st_marks'])\n",
    "\n",
    "\n",
    "# Dictionary is not a seq - Indexing, Slicing, Concatenation, Repetition\n",
    "# key should be immutable and values canbe anything\n",
    "# Key can not be duplicated but value can be\n",
    "# Dictionary is mutable\n",
    "\n",
    "# d = {1:'Python', (1,2,3):[10,20,30]}\n",
    "\n",
    "\n",
    "# d = {2:200, 3:300, True: 200, 1: 100}\n",
    "# print(d)\n",
    "\n",
    "# Creating a dictionary\n",
    "# Using eval()\n",
    "# my_dict = eval(input('Enter a dictionary: '))\n",
    "# print(my_dict)\n",
    "\n",
    "\n",
    "# dict()\n",
    "# print(dict([(1,100),('a', 'Python'),(10.20, 10+20j),((1,2,3), [10,20,30])]))\n",
    "\n",
    "\n",
    "# st_name = ['Mary', 'John', 'Smith', 'Amit', 'Purva']\n",
    "# dict(enumerate(st_name))\n",
    "\n",
    "import pandas as pd\n",
    "bike_data = pd.read_csv('citibike_tripdata.csv')\n",
    "# dict(enumerate(list(bike_data['start station name'])))\n",
    "\n",
    "# dict(zip(list(bike_data['start station id']), tuple(bike_data['start station name'])))\n",
    "\n",
    "print(*(zip([1,2,3,4,5], zip(['Mary', 'John', 'Smith', 'Amit', 'Purva'], (90, 99, 98, 97)))))\n",
    "\n",
    "# print(*range(0,10))\n",
    "\n",
    "# a = 'Python'\n",
    "# print(*a)\n",
    "\n",
    "# print(*{10,20,30,40})\n",
    "\n",
    "# for i in range(0,10):print(i, end = ' ')\n",
    "\n",
    "\n"
   ]
  },
  {
   "cell_type": "code",
   "execution_count": 79,
   "metadata": {
    "ExecuteTime": {
     "end_time": "2021-04-10T09:37:30.316041Z",
     "start_time": "2021-04-10T09:37:30.307159Z"
    }
   },
   "outputs": [
    {
     "data": {
      "text/plain": [
       "[0, 1, 2, 3, 4, 5, 6, 7, 8, 9]"
      ]
     },
     "execution_count": 79,
     "metadata": {},
     "output_type": "execute_result"
    }
   ],
   "source": [
    "list(range(10))"
   ]
  },
  {
   "cell_type": "code",
   "execution_count": 127,
   "metadata": {
    "ExecuteTime": {
     "end_time": "2021-04-10T10:07:37.965494Z",
     "start_time": "2021-04-10T10:07:37.954904Z"
    }
   },
   "outputs": [
    {
     "name": "stdout",
     "output_type": "stream",
     "text": [
      "{'M101': {'st_name': 'Mary', 'st_marks': 90}, 'J102': {'st_name': 'John', 'st_marks': 99}, 'S103': {'st_name': 'Smith', 'st_marks': 98}, 'A104': {'st_name': 'Amit', 'st_marks': 97}, 'P105': {'st_name': 'Purva', 'st_marks': 96}, 1: 100, 2: 200, 3: 30, 4: 400}\n"
     ]
    }
   ],
   "source": [
    "# Methods on dictionary\n",
    "# print(dir(dict))\n",
    "\n",
    "# 'copy',\n",
    "\n",
    "st_info = {'M101':{'st_name':'Mary', 'st_marks':90}, \n",
    "           'J102':{'st_name':'John', 'st_marks':99}, \n",
    "           'S103':{'st_name':'Smith','st_marks':98}, \n",
    "           'A104':{'st_name':'Amit', 'st_marks':97}, \n",
    "           'P105':{'st_name':'Purva','st_marks':96}}\n",
    "# print(st_info['A104']['st_marks'])\n",
    "# print(st_info['M104']['st_marks'])     # KeyError: 'M104'\n",
    "\n",
    "# 'get',\n",
    "# Signature: st_info.get(key, default=None, /)\n",
    "# Docstring: Return the value for key if key is in the dictionary, else default.\n",
    "\n",
    "# print(st_info.get('M101'))\n",
    "# print(st_info.get('A101'))\n",
    "# print(st_info.get('A101', 'This key is not present in the dictionary'))\n",
    "# print(st_info)\n",
    "\n",
    "\n",
    "# 'setdefault',\n",
    "# Signature: st_info.setdefault(key, default=None, /)\n",
    "# Docstring:\n",
    "# Insert key with a value of default if key is not in the dictionary.\n",
    "\n",
    "# Return the value for key if key is in the dictionary, else default.\n",
    "\n",
    "\n",
    "# print(st_info.setdefault('M101'))\n",
    "# # print(st_info.setdefault('A101'))\n",
    "# print(st_info.setdefault('A101', 'This key is not present in the dictionary'))\n",
    "# print(st_info)\n",
    "\n",
    "\n",
    "# 'update', - equivalent to extend method\n",
    "# d = {1:100, 2:200, 3:30, 4:400}\n",
    "# st_info.update(d)\n",
    "# print(st_info)\n",
    "\n",
    "\n"
   ]
  },
  {
   "cell_type": "code",
   "execution_count": 135,
   "metadata": {
    "ExecuteTime": {
     "end_time": "2021-04-10T10:14:35.489050Z",
     "start_time": "2021-04-10T10:14:35.476313Z"
    }
   },
   "outputs": [
    {
     "name": "stdout",
     "output_type": "stream",
     "text": [
      "{}\n"
     ]
    }
   ],
   "source": [
    "# 'pop', 'popitem', clear\n",
    "\n",
    "st_info = {'M101':{'st_name':'Mary', 'st_marks':90}, \n",
    "           'J102':{'st_name':'John', 'st_marks':99}, \n",
    "           'S103':{'st_name':'Smith','st_marks':98}, \n",
    "           'A104':{'st_name':'Amit', 'st_marks':97}, \n",
    "           'P105':{'st_name':'Purva','st_marks':96}}\n",
    "\n",
    "\n",
    "# pop\n",
    "# Docstring:\n",
    "# D.pop(k[,d]) -> v, remove specified key and return the corresponding value.\n",
    "# If key is not found, d is returned if given, otherwise KeyError is raised\n",
    "\n",
    "\n",
    "# st_info.pop('A104')\n",
    "# print(st_info)\n",
    "\n",
    "# st_info.pop('A101')\n",
    "# print(st_info)\n",
    "\n",
    "# print(st_info.pop('A101', 'This key is not present'))\n",
    "# print(st_info)\n",
    "\n",
    "\n",
    "# popitem\n",
    "# Signature: st_info.popitem()\n",
    "# Docstring:\n",
    "# Remove and return a (key, value) pair as a 2-tuple.\n",
    "\n",
    "# Pairs are returned in LIFO (last-in, first-out) order.\n",
    "# Raises KeyError if the dict is empty.\n",
    "\n",
    "# st_info.popitem()\n",
    "# print(st_info)\n",
    "\n",
    "\n",
    "# clear - clear the dictionary and keeps the dictionary empty\n",
    "# st_info.clear()\n",
    "# print(st_info)\n",
    "\n",
    "\n"
   ]
  },
  {
   "cell_type": "code",
   "execution_count": 138,
   "metadata": {
    "ExecuteTime": {
     "end_time": "2021-04-10T10:15:37.954382Z",
     "start_time": "2021-04-10T10:15:37.948020Z"
    }
   },
   "outputs": [
    {
     "name": "stdout",
     "output_type": "stream",
     "text": [
      "dict_items([('M101', {'st_name': 'Mary', 'st_marks': 90}), ('J102', {'st_name': 'John', 'st_marks': 99}), ('S103', {'st_name': 'Smith', 'st_marks': 98}), ('A104', {'st_name': 'Amit', 'st_marks': 97}), ('P105', {'st_name': 'Purva', 'st_marks': 96})])\n"
     ]
    }
   ],
   "source": [
    "# 'items', 'keys',   'values'\n",
    "\n",
    "st_info = {'M101':{'st_name':'Mary', 'st_marks':90}, \n",
    "           'J102':{'st_name':'John', 'st_marks':99}, \n",
    "           'S103':{'st_name':'Smith','st_marks':98}, \n",
    "           'A104':{'st_name':'Amit', 'st_marks':97}, \n",
    "           'P105':{'st_name':'Purva','st_marks':96}}\n",
    "\n",
    "# print(st_info.keys())\n",
    "# print(st_info.values())\n",
    "\n",
    "# print(st_info.items())\n",
    "\n"
   ]
  },
  {
   "cell_type": "code",
   "execution_count": 141,
   "metadata": {
    "ExecuteTime": {
     "end_time": "2021-04-10T10:19:02.333706Z",
     "start_time": "2021-04-10T10:19:02.327588Z"
    }
   },
   "outputs": [
    {
     "name": "stdout",
     "output_type": "stream",
     "text": [
      "{10: None, 20: None, 30: None, 40: None, 50: None}\n"
     ]
    }
   ],
   "source": [
    "#  'fromkeys', \n",
    "# Signature: d.fromkeys(iterable, value=None, /)\n",
    "# Docstring: Create a new dictionary with keys from iterable and values set to value.\n",
    "\n",
    "d = {}\n",
    "d = d.fromkeys([10,20,30,40,50])\n",
    "print(d)\n",
    "\n"
   ]
  },
  {
   "cell_type": "code",
   "execution_count": 142,
   "metadata": {
    "ExecuteTime": {
     "end_time": "2021-04-10T10:20:30.549465Z",
     "start_time": "2021-04-10T10:20:30.539475Z"
    }
   },
   "outputs": [
    {
     "data": {
      "text/plain": [
       "{2: 4, 4: 16, 6: 36, 8: 64, 10: 100}"
      ]
     },
     "execution_count": 142,
     "metadata": {},
     "output_type": "execute_result"
    }
   ],
   "source": [
    "# Dictionary Comprehension - Creates a dictionary\n",
    "# Syantx - {key:expr for loop if cond}\n",
    "\n",
    "# {i:i**2 for i in range(2,11, 2)}\n",
    "\n"
   ]
  },
  {
   "cell_type": "code",
   "execution_count": 144,
   "metadata": {
    "ExecuteTime": {
     "end_time": "2021-04-10T10:23:05.286022Z",
     "start_time": "2021-04-10T10:23:05.133946Z"
    }
   },
   "outputs": [
    {
     "data": {
      "text/plain": [
       "{10: 33, 20: 33, 30: 33}"
      ]
     },
     "execution_count": 144,
     "metadata": {},
     "output_type": "execute_result"
    }
   ],
   "source": [
    "import pandas as pd\n",
    "bike_data = pd.read_csv('citibike_tripdata.csv')\n",
    "# dict(enumerate(list(bike_data['start station name'])))\n",
    "\n",
    "# dict(zip(list(bike_data['start station id']), tuple(bike_data['start station name'])))\n",
    "\n",
    "# {i:j for i in bike_data['start station id'] for j in bike_data['start station name']}\n",
    "\n",
    "# {i:j for i in [10,20,30] for j in [11,22,33]}\n",
    "\n",
    "\n"
   ]
  },
  {
   "cell_type": "code",
   "execution_count": null,
   "metadata": {},
   "outputs": [],
   "source": [
    "lst = [1,2,3]\n",
    "lst1 = ['s1', 's2', 's3']\n",
    "\n",
    "print({lst[i]: lst1[i] for i in range(len(lst))})"
   ]
  },
  {
   "cell_type": "code",
   "execution_count": 147,
   "metadata": {
    "ExecuteTime": {
     "end_time": "2021-04-10T10:28:45.337888Z",
     "start_time": "2021-04-10T10:28:45.325407Z"
    }
   },
   "outputs": [
    {
     "data": {
      "text/plain": [
       "[2, 4, 6, 8, 10]"
      ]
     },
     "execution_count": 147,
     "metadata": {},
     "output_type": "execute_result"
    }
   ],
   "source": [
    "list(range(2, 11, 2))"
   ]
  },
  {
   "cell_type": "code",
   "execution_count": null,
   "metadata": {},
   "outputs": [],
   "source": []
  },
  {
   "cell_type": "code",
   "execution_count": null,
   "metadata": {},
   "outputs": [],
   "source": []
  },
  {
   "cell_type": "code",
   "execution_count": null,
   "metadata": {},
   "outputs": [],
   "source": []
  },
  {
   "cell_type": "code",
   "execution_count": null,
   "metadata": {},
   "outputs": [],
   "source": []
  },
  {
   "cell_type": "code",
   "execution_count": null,
   "metadata": {},
   "outputs": [],
   "source": []
  },
  {
   "cell_type": "code",
   "execution_count": null,
   "metadata": {},
   "outputs": [],
   "source": []
  },
  {
   "cell_type": "code",
   "execution_count": null,
   "metadata": {},
   "outputs": [],
   "source": []
  },
  {
   "cell_type": "code",
   "execution_count": null,
   "metadata": {},
   "outputs": [],
   "source": []
  },
  {
   "cell_type": "code",
   "execution_count": null,
   "metadata": {},
   "outputs": [],
   "source": []
  },
  {
   "cell_type": "code",
   "execution_count": null,
   "metadata": {},
   "outputs": [],
   "source": []
  },
  {
   "cell_type": "code",
   "execution_count": null,
   "metadata": {},
   "outputs": [],
   "source": []
  },
  {
   "cell_type": "code",
   "execution_count": null,
   "metadata": {},
   "outputs": [],
   "source": []
  },
  {
   "cell_type": "code",
   "execution_count": null,
   "metadata": {},
   "outputs": [],
   "source": []
  },
  {
   "cell_type": "code",
   "execution_count": null,
   "metadata": {},
   "outputs": [],
   "source": []
  },
  {
   "cell_type": "code",
   "execution_count": null,
   "metadata": {},
   "outputs": [],
   "source": []
  },
  {
   "cell_type": "code",
   "execution_count": null,
   "metadata": {},
   "outputs": [],
   "source": []
  },
  {
   "cell_type": "code",
   "execution_count": null,
   "metadata": {},
   "outputs": [],
   "source": []
  },
  {
   "cell_type": "code",
   "execution_count": null,
   "metadata": {},
   "outputs": [],
   "source": []
  },
  {
   "cell_type": "code",
   "execution_count": null,
   "metadata": {},
   "outputs": [],
   "source": []
  },
  {
   "cell_type": "code",
   "execution_count": null,
   "metadata": {},
   "outputs": [],
   "source": []
  },
  {
   "cell_type": "code",
   "execution_count": null,
   "metadata": {},
   "outputs": [],
   "source": []
  },
  {
   "cell_type": "code",
   "execution_count": null,
   "metadata": {},
   "outputs": [],
   "source": []
  },
  {
   "cell_type": "code",
   "execution_count": null,
   "metadata": {},
   "outputs": [],
   "source": []
  },
  {
   "cell_type": "code",
   "execution_count": null,
   "metadata": {},
   "outputs": [],
   "source": []
  },
  {
   "cell_type": "code",
   "execution_count": null,
   "metadata": {},
   "outputs": [],
   "source": []
  },
  {
   "cell_type": "code",
   "execution_count": null,
   "metadata": {},
   "outputs": [],
   "source": []
  },
  {
   "cell_type": "code",
   "execution_count": null,
   "metadata": {},
   "outputs": [],
   "source": []
  },
  {
   "cell_type": "code",
   "execution_count": null,
   "metadata": {},
   "outputs": [],
   "source": []
  }
 ],
 "metadata": {
  "kernelspec": {
   "display_name": "Python 3",
   "language": "python",
   "name": "python3"
  },
  "language_info": {
   "codemirror_mode": {
    "name": "ipython",
    "version": 3
   },
   "file_extension": ".py",
   "mimetype": "text/x-python",
   "name": "python",
   "nbconvert_exporter": "python",
   "pygments_lexer": "ipython3",
   "version": "3.8.2"
  },
  "latex_envs": {
   "LaTeX_envs_menu_present": true,
   "autoclose": false,
   "autocomplete": true,
   "bibliofile": "biblio.bib",
   "cite_by": "apalike",
   "current_citInitial": 1,
   "eqLabelWithNumbers": true,
   "eqNumInitial": 1,
   "hotkeys": {
    "equation": "Ctrl-E",
    "itemize": "Ctrl-I"
   },
   "labels_anchors": false,
   "latex_user_defs": false,
   "report_style_numbering": false,
   "user_envs_cfg": false
  },
  "varInspector": {
   "cols": {
    "lenName": 16,
    "lenType": 16,
    "lenVar": 40
   },
   "kernels_config": {
    "python": {
     "delete_cmd_postfix": "",
     "delete_cmd_prefix": "del ",
     "library": "var_list.py",
     "varRefreshCmd": "print(var_dic_list())"
    },
    "r": {
     "delete_cmd_postfix": ") ",
     "delete_cmd_prefix": "rm(",
     "library": "var_list.r",
     "varRefreshCmd": "cat(var_dic_list()) "
    }
   },
   "types_to_exclude": [
    "module",
    "function",
    "builtin_function_or_method",
    "instance",
    "_Feature"
   ],
   "window_display": false
  }
 },
 "nbformat": 4,
 "nbformat_minor": 2
}
