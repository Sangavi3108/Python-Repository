{
 "cells": [
  {
   "cell_type": "code",
   "execution_count": 1,
   "metadata": {},
   "outputs": [
    {
     "name": "stdout",
     "output_type": "stream",
     "text": [
      "[120, 140, 90, 45, 29, 9] <class 'list'>\n",
      "[9, 29, 45, 90, 120, 140]\n",
      "140\n"
     ]
    }
   ],
   "source": [
    "l = [120, 140 , 90, 45, 29 , 9]\n",
    "print(l, type(l))\n",
    "l.sort()\n",
    "print(l)\n",
    "print(l[len(l)-1])"
   ]
  },
  {
   "cell_type": "code",
   "execution_count": 2,
   "metadata": {
    "scrolled": true
   },
   "outputs": [
    {
     "name": "stdout",
     "output_type": "stream",
     "text": [
      "[1, 2, 3, 4, 5, 6, 7, 8, 9, 10, 11, 12, 13, 14, 15, 16, 17, 18, 19, 20, 21, 22, 23, 24, 25, 26, 27, 28, 29, 30, 31, 32, 33, 34, 35, 36, 37, 38, 39, 40, 41, 42, 43, 44, 45, 46, 47, 48, 49]\n",
      "Even List [2, 4, 6, 8, 10, 12, 14, 16, 18, 20, 22, 24, 26, 28, 30, 32, 34, 36, 38, 40, 42, 44, 46, 48]\n",
      "Odd List [1, 3, 5, 7, 9, 11, 13, 15, 17, 19, 21, 23, 25, 27, 29, 31, 33, 35, 37, 39, 41, 43, 45, 47, 49]\n"
     ]
    }
   ],
   "source": [
    "l1 = [i for i in range (1,50)]\n",
    "print(l1)\n",
    "le = []\n",
    "lo = []\n",
    "for i in l1:\n",
    "    if(i % 2 == 0):\n",
    "        le.append(i)\n",
    "    else:\n",
    "        lo.append(i)\n",
    "print(\"Even List\",le)\n",
    "print(\"Odd List\",lo)"
   ]
  },
  {
   "cell_type": "code",
   "execution_count": 3,
   "metadata": {},
   "outputs": [
    {
     "name": "stdout",
     "output_type": "stream",
     "text": [
      "['Namespaces.', 'Python', 'supports', 'nested', 'namespaces.', 'Theoretically', 'you', 'can', 'endlessly', 'nest', 'namespaces.', 'As', \"I've\", 'already', 'mentioned,', 'namespaces', 'are', 'basically', 'dictionaries', 'of', 'names', 'and', 'references', 'to', 'corresponding', 'objects']\n",
      "6\n",
      "26\n",
      "This is the Longest word ' Theoretically '. The length of the word is 13\n"
     ]
    }
   ],
   "source": [
    "str1 = \"Namespaces. Python supports nested namespaces. Theoretically you can endlessly nest namespaces. As I've already mentioned, namespaces are basically dictionaries of names and references to corresponding objects\"\n",
    "l2 = str1.split()\n",
    "print(l2)\n",
    "max = 0 \n",
    "longest = \"\"\n",
    "print(len(l2[1]))\n",
    "print(len(l2))\n",
    "for i in range(0,len(l2)):\n",
    "    if(len(l2[i])>max):\n",
    "        max = len(l2[i])\n",
    "        longest = l2[i]\n",
    "print(\"This is the Longest word '\",longest, \"'. The length of the word is\",\n",
    "      len(longest))"
   ]
  },
  {
   "cell_type": "code",
   "execution_count": 4,
   "metadata": {},
   "outputs": [
    {
     "name": "stdout",
     "output_type": "stream",
     "text": [
      "[(1, 1), (2, 4), (3, 9), (4, 16), (5, 25), (6, 36), (7, 49), (8, 64), (9, 81), (10, 100), (11, 121)] <class 'list'>\n",
      "<class 'tuple'>\n"
     ]
    }
   ],
   "source": [
    "lsts = [(i,i*i) for i in range(1,12)]\n",
    "print(lsts,type(lsts))\n",
    "print(type(lsts[1]))"
   ]
  },
  {
   "cell_type": "code",
   "execution_count": 5,
   "metadata": {},
   "outputs": [
    {
     "name": "stdout",
     "output_type": "stream",
     "text": [
      "[1, 2, 3, 4, 5, 6, 7, 8, 9, 0, 1, 2, 3, 4, 5, 6, 7, 8, 9, 1, 2, 3, 1, 2, 3, 1, 2, 3]\n",
      "28\n",
      "[(1, 5), (2, 5), (3, 5), (4, 2), (5, 2), (6, 2), (7, 2), (8, 2), (9, 2), (0, 1), (1, 5), (2, 5), (3, 5), (4, 2), (5, 2), (6, 2), (7, 2), (8, 2), (9, 2), (1, 5), (2, 5), (3, 5), (1, 5), (2, 5), (3, 5), (1, 5), (2, 5), (3, 5)]\n",
      "[1, 2, 3, 4, 5, 6, 7, 8, 9, 0]\n",
      "[0, 1, 2, 3, 4, 5, 6, 7, 8, 9]\n",
      "[1, 2, 3, 4, 5, 6, 7, 8, 9, 0]\n"
     ]
    }
   ],
   "source": [
    "#Using if condition\n",
    "dr = [1,2,3,4,5,6,7,8,9,0,1,2,3,4,5,6,7,8,9,1,2,3,1,2,3,1,2,3]\n",
    "print(dr)\n",
    "print(len(dr))\n",
    "nwl = []\n",
    "print([(dr[i],dr.count(dr[i])) for i in range(0,len(dr))])\n",
    "for i in dr: \n",
    "    if i not in nwl: \n",
    "        nwl.append(i) \n",
    "print(nwl)\n",
    "#Using set\n",
    "nl = list(set(dr))\n",
    "print(nl)\n",
    "\n",
    "#Using List Comprehension\n",
    "nl1= [] \n",
    "[nl1.append(x) for x in dr if x not in nl1] \n",
    "print(nl1)"
   ]
  },
  {
   "cell_type": "code",
   "execution_count": 7,
   "metadata": {},
   "outputs": [
    {
     "name": "stdout",
     "output_type": "stream",
     "text": [
      "Not Present\n",
      "{'brand': 'Galaxy', 'model': 'S20'}\n"
     ]
    }
   ],
   "source": [
    "mydict = {\n",
    "\"Apple\": {\n",
    "    \"brand\" :\"iPhone\",\n",
    "    \"model\": \"iPhone 11\"\n",
    "    },\n",
    "  \"Samsung\": {\n",
    "    \"brand\" :\"Galaxy\",\n",
    "    \"model\": \"S20\"\n",
    "    },\n",
    "    \"OnePlus\":\n",
    "    {\n",
    "    \"brand\" :\"OnePlus\",\n",
    "    \"model\": \"7T\"\n",
    "    }\n",
    "}\n",
    "\n",
    "print(mydict.get(\"Nokia\",\"Not Present\"))\n",
    "print(mydict.get(\"Samsung\",\"Not Present\"))"
   ]
  },
  {
   "cell_type": "code",
   "execution_count": 8,
   "metadata": {},
   "outputs": [
    {
     "name": "stdout",
     "output_type": "stream",
     "text": [
      "1500\n"
     ]
    }
   ],
   "source": [
    "dict = {'a': 1000, 'b':200, 'c':300} \n",
    "sum = 0\n",
    "for i in dict.values(): \n",
    "    sum = sum + i \n",
    "print(sum)"
   ]
  },
  {
   "cell_type": "code",
   "execution_count": 9,
   "metadata": {},
   "outputs": [
    {
     "name": "stdout",
     "output_type": "stream",
     "text": [
      "1000\n",
      "key not found\n",
      "{'b': 200, 'c': 300}\n"
     ]
    }
   ],
   "source": [
    "dict = {'a': 1000, 'b':200, 'c':300} \n",
    "print(dict.pop('a',\"key not found\"))\n",
    "print(dict.pop('d',\"key not found\"))\n",
    "print(dict)"
   ]
  },
  {
   "cell_type": "code",
   "execution_count": 10,
   "metadata": {},
   "outputs": [
    {
     "name": "stdout",
     "output_type": "stream",
     "text": [
      "Apple Sells {'brand': 'iPhone', 'model': 'iPhone 11'}\n",
      "Samsung Sells {'brand': 'Galaxy', 'model': 'S20'}\n",
      "OnePlus Sells {'brand': 'OnePlus', 'model': '7T'}\n"
     ]
    }
   ],
   "source": [
    "for Brand, value in mydict.items():\n",
    "     print(Brand, 'Sells', mydict[Brand])"
   ]
  },
  {
   "cell_type": "markdown",
   "metadata": {},
   "source": [
    "# dict1 = OrderedDict(sorted(dict.items()))\n",
    "\n",
    "to sort a dictionary"
   ]
  },
  {
   "cell_type": "code",
   "execution_count": 11,
   "metadata": {},
   "outputs": [
    {
     "name": "stdout",
     "output_type": "stream",
     "text": [
      "OrderedDict([(1, 100), (2, 200), (3, 300), (4, 400), (5, 500), (6, 600), (10, 1000)])\n"
     ]
    }
   ],
   "source": [
    "from collections import OrderedDict\n",
    "dict = {5:500,4:400,3:300,2:200,1:100,10:1000,6:600}\n",
    "dict1 = OrderedDict(sorted(dict.items())) \n",
    "print(dict1) \n",
    "    "
   ]
  },
  {
   "cell_type": "code",
   "execution_count": null,
   "metadata": {},
   "outputs": [],
   "source": []
  },
  {
   "cell_type": "code",
   "execution_count": null,
   "metadata": {},
   "outputs": [],
   "source": []
  }
 ],
 "metadata": {
  "kernelspec": {
   "display_name": "Python 3",
   "language": "python",
   "name": "python3"
  },
  "language_info": {
   "codemirror_mode": {
    "name": "ipython",
    "version": 3
   },
   "file_extension": ".py",
   "mimetype": "text/x-python",
   "name": "python",
   "nbconvert_exporter": "python",
   "pygments_lexer": "ipython3",
   "version": "3.8.5"
  }
 },
 "nbformat": 4,
 "nbformat_minor": 4
}
