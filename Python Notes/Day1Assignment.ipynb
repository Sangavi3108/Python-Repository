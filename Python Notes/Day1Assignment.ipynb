{
 "cells": [
  {
   "cell_type": "markdown",
   "metadata": {},
   "source": [
    "# Basic Programs"
   ]
  },
  {
   "cell_type": "code",
   "execution_count": null,
   "metadata": {},
   "outputs": [],
   "source": [
    "print(\"Hello World!\")"
   ]
  },
  {
   "cell_type": "code",
   "execution_count": null,
   "metadata": {},
   "outputs": [],
   "source": [
    "a = 10 \n",
    "print(a,type(a))\n",
    "a = 10.2\n",
    "print(a,type(a))\n",
    "a = False\n",
    "print(a,type(a))\n",
    "a = \"Hello World\"\n",
    "print(a,type(a))\n"
   ]
  },
  {
   "cell_type": "code",
   "execution_count": null,
   "metadata": {},
   "outputs": [],
   "source": [
    "# Area of a Triangle\n",
    "height = int(input(\"Enter the Height of the triangle :  \"))\n",
    "base = int(input(\"Enter the Base of the triangle :  \"))\n",
    "area = (height * base)/2\n",
    "print('Area is ' , area)"
   ]
  },
  {
   "cell_type": "code",
   "execution_count": null,
   "metadata": {},
   "outputs": [],
   "source": [
    "#Swap two variables\n",
    "a = 10 \n",
    "b = 15 \n",
    "print(\"Before Swapping\" , a , b)\n",
    "c = a\n",
    "a = b\n",
    "b = c\n",
    "print(\"After Swapping\" , a , b)"
   ]
  },
  {
   "cell_type": "code",
   "execution_count": null,
   "metadata": {},
   "outputs": [],
   "source": [
    "#+ve or -ve number\n",
    "a = int(input(\" Enter any number : \"))\n",
    "if (a > 0):\n",
    "    print(\"+ve number\")\n",
    "else: \n",
    "    if(a < 0):\n",
    "        print(\"-ve number\")\n",
    "    else:\n",
    "        print(\"a is Zero\")"
   ]
  },
  {
   "cell_type": "code",
   "execution_count": null,
   "metadata": {},
   "outputs": [],
   "source": [
    "#Even or odd\n",
    "a = int(input(\"Enter any number\"))\n",
    "if (a%2 == 0):\n",
    "    print(\"The number is Even\")\n",
    "else:\n",
    "    print(\"The number is Odd\")"
   ]
  },
  {
   "cell_type": "code",
   "execution_count": null,
   "metadata": {},
   "outputs": [],
   "source": [
    "#PrintOddNumbers in a given range\n",
    "a = int(input(\"Enter the range min: \"))\n",
    "b = int(input(\"Enter the range max: \"))\n",
    "for x in range(a,b):\n",
    "    if(x%2 ==0):\n",
    "        print(\" \")\n",
    "    else:\n",
    "        print(x)\n",
    "        \n",
    "    "
   ]
  },
  {
   "cell_type": "code",
   "execution_count": null,
   "metadata": {},
   "outputs": [],
   "source": [
    "#Factorial\n",
    "a = int(input(\"Enter a num: \"))\n",
    "for x in range(1,a):\n",
    "    print(a,\" * \", x ,\" =\")\n",
    "    a = x * a\n",
    "    print(a)\n",
    "print(a)"
   ]
  },
  {
   "cell_type": "code",
   "execution_count": null,
   "metadata": {},
   "outputs": [],
   "source": [
    "#Reversal of a number\n",
    "a = int(input(\"Enter a num: \"))\n",
    "rev = 0\n",
    "while(a!=0):\n",
    "    rem = a % 10\n",
    "    rev = rev * 10 + rem\n",
    "    a = a // 10\n",
    "print(rev)"
   ]
  },
  {
   "cell_type": "code",
   "execution_count": null,
   "metadata": {},
   "outputs": [],
   "source": [
    "n = int(input(\"Please Enter any Number: \"))\n",
    "sum = 0\n",
    "for x in range(1,n+1):\n",
    "    sum = sum + x\n",
    "print(\"The Sum of Natural Numbers from 1 to\", n, 'is', sum)"
   ]
  },
  {
   "cell_type": "markdown",
   "metadata": {},
   "source": [
    "# String Assignment"
   ]
  },
  {
   "cell_type": "code",
   "execution_count": null,
   "metadata": {},
   "outputs": [],
   "source": [
    "stra = \"Sangavi\"\n",
    "str1 = \"\" \n",
    "for i in stra:\n",
    "    str1 = i + str1\n",
    "    print(i)\n",
    "    print(str1)\n",
    "    \n",
    "print(str1)\n",
    "\n",
    "#print(a[::-1])"
   ]
  },
  {
   "cell_type": "code",
   "execution_count": null,
   "metadata": {},
   "outputs": [],
   "source": [
    "#Palindrome or not\n",
    "a = \"Sangavi\"\n",
    "print(a[::-1])\n",
    "b = a[::-1]\n",
    "if(a==b):\n",
    "  print(\"palindrome\")\n",
    "else:\n",
    "  print(\"Not palindrome\")"
   ]
  },
  {
   "cell_type": "code",
   "execution_count": null,
   "metadata": {},
   "outputs": [],
   "source": [
    "print(a.replace('a',\"$\"))"
   ]
  },
  {
   "cell_type": "code",
   "execution_count": null,
   "metadata": {},
   "outputs": [],
   "source": [
    "count =0\n",
    "for x in a:\n",
    "  if (x == 'a'or x=='e' or x=='i' or x =='o' or x=='u'):\n",
    "    count = count + 1\n",
    "print(count) "
   ]
  },
  {
   "cell_type": "code",
   "execution_count": null,
   "metadata": {},
   "outputs": [],
   "source": [
    "lena = 0\n",
    "lenb = 0\n",
    "b = \"janani Damu\"\n",
    "for x in a:\n",
    "  lena = lena + 1\n",
    "for y in b:\n",
    "  lenb = lenb + 1\n",
    "print(lena)\n",
    "print(lenb)\n",
    "if (lena>lenb):\n",
    "  print(\"String one is longer\")\n",
    "else:\n",
    "  if(lenb>lena):\n",
    "    print(\"String 2 is longer\")\n",
    "  else:\n",
    "    print(\"Both the strings are equal\")\n"
   ]
  },
  {
   "cell_type": "code",
   "execution_count": null,
   "metadata": {},
   "outputs": [],
   "source": [
    "a = \"SangAvi31\"\n",
    "num = 0\n",
    "alp = 0\n",
    "lc = 0\n",
    "for x in a:\n",
    "  if(x.isalpha()):\n",
    "    alp = alp + 1 \n",
    "  if(x.isnumeric()):\n",
    "    num = num + 1\n",
    "  if(x.islower()):\n",
    "    lc = lc + 1\n",
    "print(\"Alpha\",alp,\"Numbers\",num, \"Lower\" , lc)"
   ]
  },
  {
   "cell_type": "code",
   "execution_count": 2,
   "metadata": {},
   "outputs": [
    {
     "name": "stdout",
     "output_type": "stream",
     "text": [
      "Enter the StringSangavi\n",
      "Present\n"
     ]
    }
   ],
   "source": [
    "a = \"My name is Sangavi Damodaran\"\n",
    "b = str(input(\"Enter the String: \"))\n",
    "if(a.find(b) != -1):\n",
    "  print(\"Present\")\n",
    "else:\n",
    "  print(\"Not Present\")"
   ]
  },
  {
   "cell_type": "code",
   "execution_count": null,
   "metadata": {},
   "outputs": [],
   "source": []
  },
  {
   "cell_type": "code",
   "execution_count": null,
   "metadata": {},
   "outputs": [],
   "source": []
  }
 ],
 "metadata": {
  "kernelspec": {
   "display_name": "Python 3",
   "language": "python",
   "name": "python3"
  },
  "language_info": {
   "codemirror_mode": {
    "name": "ipython",
    "version": 3
   },
   "file_extension": ".py",
   "mimetype": "text/x-python",
   "name": "python",
   "nbconvert_exporter": "python",
   "pygments_lexer": "ipython3",
   "version": "3.8.5"
  }
 },
 "nbformat": 4,
 "nbformat_minor": 4
}
