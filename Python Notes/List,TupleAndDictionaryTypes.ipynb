{
 "cells": [
  {
   "cell_type": "code",
   "execution_count": 2,
   "metadata": {},
   "outputs": [
    {
     "name": "stdout",
     "output_type": "stream",
     "text": [
      "['peter', 'piper', 'picked', 'a', 'peck', 'of', 'pickled', 'peppers']\n"
     ]
    },
    {
     "data": {
      "text/plain": [
       "'retep repip dekcip a kcep fo delkcip sreppep'"
      ]
     },
     "execution_count": 2,
     "metadata": {},
     "output_type": "execute_result"
    }
   ],
   "source": [
    "input1 = \"peter piper picked a peck of pickled peppers\"\n",
    "print(input1.split())\n",
    "[i[::-1] for i in input1.split()]\n",
    "' '.join( [i[::-1] for i in input1.split()] )"
   ]
  },
  {
   "cell_type": "code",
   "execution_count": 8,
   "metadata": {},
   "outputs": [
    {
     "data": {
      "text/plain": [
       "'peppers pickled of peck a picked piper peter'"
      ]
     },
     "execution_count": 8,
     "metadata": {},
     "output_type": "execute_result"
    }
   ],
   "source": [
    "input = \"peter piper picked a peck of pickled peppers\"\n",
    "\" \".join(input.split()[::-1])"
   ]
  },
  {
   "cell_type": "markdown",
   "metadata": {},
   "source": [
    "# List Data type\n",
    "1. list is a sequence\n",
    "2. lis is ordered collection of elements\n",
    "3. positive index starts from zero from left\n",
    "4. Negative index starts from -1 from right\n",
    "5. Supports indexing and Slicing\n",
    "6. List is mutable , allows assignment and chnages are kept in same object\n",
    "7. Allows duplicate elements\n",
    "8. it can hold any value\n"
   ]
  },
  {
   "cell_type": "code",
   "execution_count": 4,
   "metadata": {},
   "outputs": [
    {
     "name": "stdout",
     "output_type": "stream",
     "text": [
      "[10, 20, 20, 50, 100, 120, 130] <class 'list'> 2369842766656\n"
     ]
    }
   ],
   "source": [
    "lst = [10,20,20,50,100,120,130]\n",
    "print(lst,type(lst),id(lst))"
   ]
  },
  {
   "cell_type": "code",
   "execution_count": 5,
   "metadata": {},
   "outputs": [
    {
     "name": "stdout",
     "output_type": "stream",
     "text": [
      "130\n",
      "130\n",
      "10\n",
      "10\n",
      "20\n",
      "120\n"
     ]
    }
   ],
   "source": [
    "### INDEXING \n",
    "\n",
    "# To access Last element\n",
    "print(lst[len(lst)-1])\n",
    "print(lst[-1])\n",
    "\n",
    "\n",
    "# To access first element\n",
    "print(lst[0])\n",
    "print(lst[-len(lst)])\n",
    "\n",
    "#To access any element in the middle\n",
    "print(lst[2])\n",
    "print(lst[-2])"
   ]
  },
  {
   "cell_type": "code",
   "execution_count": 6,
   "metadata": {},
   "outputs": [
    {
     "name": "stdout",
     "output_type": "stream",
     "text": [
      "[{1: 10, 2: 20, 3: 30}, {1: 100, 2: 200, 3: 300}, {1: 1000, 2: 2000, 3: 3000}]\n",
      "[(1, 2, 3), (4, 5, 6), (7, 8, 9)]\n",
      "[{'b', 'a', 'c'}, {'f'}, {'g', 'h'}]\n"
     ]
    }
   ],
   "source": [
    "### Any value type\n",
    "\n",
    "lsta = [{1:10,2:20,3:30},{1:100,2:200,3:300},{1:1000,2:2000,3:3000}]\n",
    "print(lsta)\n",
    "\n",
    "lstb = [(1,2,3),(4,5,6),(7,8,9)]\n",
    "print(lstb)\n",
    "\n",
    "lstc = [{'a','b','c'},{\"f\"},{'g','h'}]\n",
    "print(lstc)\n"
   ]
  },
  {
   "cell_type": "code",
   "execution_count": 7,
   "metadata": {},
   "outputs": [
    {
     "name": "stdout",
     "output_type": "stream",
     "text": [
      "[130, 120, 100, 50, 20, 20, 10]\n",
      "[130, 100, 20, 10]\n",
      "[10, 20, 100, 130]\n",
      "[20, 50, 100, 120]\n"
     ]
    }
   ],
   "source": [
    "##Slicing - to acess multiple values at time\n",
    "#lst[start:stop:step]\n",
    "\n",
    "print(lst[::-1])# To reverse\n",
    "print(lst[::-2])# Skips one element and prints in reverse\n",
    "print(lst[::2])# skips one element - forward\n",
    "print(lst[2:len(lst)-1:1])#From third element, till len -1 "
   ]
  },
  {
   "cell_type": "code",
   "execution_count": 8,
   "metadata": {},
   "outputs": [
    {
     "name": "stdout",
     "output_type": "stream",
     "text": [
      "[10, 20, 20, 50, 100, 120, 130, 140, 150, 160]\n",
      "[10, 20, 20, 50, 100, 120, 130, 10, 20, 20, 50, 100, 120, 130]\n"
     ]
    }
   ],
   "source": [
    "#Concatination and Repetation\n",
    "# both should be of list type\n",
    "print(lst + [140,150,160])\n",
    "\n",
    "\n",
    "# one list and one number\n",
    "print(lst * 2)"
   ]
  },
  {
   "cell_type": "code",
   "execution_count": 9,
   "metadata": {},
   "outputs": [
    {
     "name": "stdout",
     "output_type": "stream",
     "text": [
      "True\n",
      "False\n",
      "[10, 20, 20, 50, 100, 120, 130]\n",
      "[10, 20, 20, 50, 100, 120, 130]\n",
      "True\n",
      "False\n"
     ]
    }
   ],
   "source": [
    "# Membership and identity \n",
    "\n",
    "print(120 in lst)\n",
    "print(17 in lst)\n",
    "lst1 = lst\n",
    "lst2 = lst[::]\n",
    "print(lst1)\n",
    "print(lst2)\n",
    "print(lst is lst1)\n",
    "print(lst is lst2)"
   ]
  },
  {
   "cell_type": "code",
   "execution_count": 10,
   "metadata": {},
   "outputs": [
    {
     "name": "stdout",
     "output_type": "stream",
     "text": [
      "[[1, 2, 3], [4, 5, [6, 7, 8, [9, 10]]]]\n",
      "5\n",
      "7\n",
      "10\n",
      "9\n"
     ]
    }
   ],
   "source": [
    "#Nested list\n",
    "nl = [[1,2,3],[4,5,[6,7,8,[9,10]]]]\n",
    "print(nl)\n",
    "print(nl[1][1])#5\n",
    "print(nl[1][2][1])#7\n",
    "print(nl[1][2][3][1])#10\n",
    "print(nl[-1][-1][-1][0])#9"
   ]
  },
  {
   "cell_type": "markdown",
   "metadata": {},
   "source": [
    "# ListMethods\n",
    "## print(dir(lst))\n",
    "### 'append','clear', 'copy', 'count', 'extend', 'index', 'insert', 'pop', 'remove', 'reverse', 'sort'\n"
   ]
  },
  {
   "cell_type": "code",
   "execution_count": 11,
   "metadata": {},
   "outputs": [
    {
     "name": "stdout",
     "output_type": "stream",
     "text": [
      "[10, 20, 20, 50, 100, 120, 130, 160]\n",
      "[10, 20, 20, 50, 100, 120, 130, 160, [170, 180, 190]]\n",
      "[10, 20, 20, 50, 100, 120, 130, 160, [170, 180, 190], 200, 220, 230]\n",
      "[200, 220, 230]\n",
      "[10, 20, 20, 50, 100, 70, 120, 130, 160, [170, 180, 190], 200, 220, 230]\n"
     ]
    }
   ],
   "source": [
    "# append , extend , insert - to add elements in the list\n",
    "\n",
    "lst.append(160)\n",
    "print(lst)\n",
    "lst.append([170,180,190])#appends it as one element \n",
    "print(lst)\n",
    "\n",
    "lst1 = [200,220,230]\n",
    "lst.extend(lst1)\n",
    "print(lst)#updated\n",
    "print(lst1)#new object\n",
    "lst.insert(5,70)\n",
    "print(lst)"
   ]
  },
  {
   "cell_type": "code",
   "execution_count": 12,
   "metadata": {},
   "outputs": [
    {
     "name": "stdout",
     "output_type": "stream",
     "text": [
      "[10, 20, 20, 50, 100, 70, 120, 130, 160, [170, 180, 190], 200, 220]\n",
      "[10, 20, 20, 50, 100, 120, 130, 160, [170, 180, 190], 200, 220]\n"
     ]
    }
   ],
   "source": [
    "#Removing an element \n",
    "#pop\n",
    "lst.pop()#removes last element by default\n",
    "print(lst)\n",
    "lst.pop(5)\n",
    "print(lst)"
   ]
  },
  {
   "cell_type": "code",
   "execution_count": 13,
   "metadata": {},
   "outputs": [
    {
     "name": "stdout",
     "output_type": "stream",
     "text": [
      "2\n",
      "[10, 20, 50, 100, 120, 130, 160, [170, 180, 190], 200, 220]\n",
      "1\n",
      "5\n"
     ]
    }
   ],
   "source": [
    "#count()\n",
    "print(lst.count(20))\n",
    "\n",
    "#remove\n",
    "lst.remove(20)\n",
    "print(lst)\n",
    "\n",
    "#index\n",
    "print(lst.index(20))\n",
    "print(lst.index(130,4,8))#returns index of 130 between 5 to 9 element \n",
    "lst = [10,20,20,50,100,120,130]\n",
    "# clear\n",
    "#print(lst.clear())\n"
   ]
  },
  {
   "cell_type": "code",
   "execution_count": 14,
   "metadata": {},
   "outputs": [
    {
     "name": "stdout",
     "output_type": "stream",
     "text": [
      "[130, 120, 100, 50, 20, 20, 10]\n",
      "[10, 20, 20, 50, 100, 120, 130]\n",
      "[130, 120, 100, 50, 20, 20, 10]\n"
     ]
    }
   ],
   "source": [
    "# Reversal and sort\n",
    "lst.reverse()\n",
    "print(lst)\n",
    "\n",
    "#sort\n",
    "lst.sort()#Ascending by default\n",
    "print(lst)\n",
    "lst.sort(reverse = True)#desc\n",
    "print(lst)\n",
    "lst.sort()"
   ]
  },
  {
   "cell_type": "code",
   "execution_count": 15,
   "metadata": {},
   "outputs": [
    {
     "name": "stdout",
     "output_type": "stream",
     "text": [
      "2369842582080 2369842582080\n",
      "[10, 20, 20, 50, 100, 120, 130] [10, 20, 20, 50, 100, 120, 130]\n",
      "2369842582080 2369842582080\n",
      "[10, 20, 20, 50, 100, 120] [10, 20, 20, 50, 100, 120]\n"
     ]
    }
   ],
   "source": [
    "# copying\n",
    "# Aliasing\n",
    "lst1 = lst \n",
    "print(id(lst),id(lst1))\n",
    "print(lst,lst1)\n",
    "lst.pop() # removes from lst1 also\n",
    "print(id(lst),id(lst1))\n",
    "print(lst,lst1)#both are same so changes will be made to both the lists\n"
   ]
  },
  {
   "cell_type": "code",
   "execution_count": 19,
   "metadata": {},
   "outputs": [
    {
     "name": "stdout",
     "output_type": "stream",
     "text": [
      "2369842582080 2369842627392\n",
      "2369842582080 2369842627392\n",
      "[10, 20, 20, 50, 100, [140, 150, 160]] [10, 20, 20, 50, 100, [140, 150, 160], [140, 150, 160]]\n"
     ]
    }
   ],
   "source": [
    "#Shadow copy\n",
    "lst1 = lst[::1]\n",
    "print(id(lst),id(lst1))\n",
    "lst.pop()\n",
    "print(id(lst),id(lst1))\n",
    "print(lst,lst1)#Different ids , so changes will be made to one list only\n",
    "lst.append([140,150,160])"
   ]
  },
  {
   "cell_type": "code",
   "execution_count": 20,
   "metadata": {},
   "outputs": [
    {
     "name": "stdout",
     "output_type": "stream",
     "text": [
      "2369842582080 2369842323968\n",
      "[10, 20, 20, 50, 100, [140, 150, 160], [140, 150, 160], [140, 150, 160]] [10, 15, 20, 50, 100, [140, 150, 160], [140, 150, 160], [140, 150, 160]]\n",
      "140710286997952\n",
      "140710286997952\n",
      "140710286993792 140710286993632\n",
      "140710286993792 140710286993792\n",
      "2369843488128 2369843488128\n"
     ]
    }
   ],
   "source": [
    "# copy\n",
    "lst2 = lst.copy()\n",
    "lst2[1] = 15\n",
    "print(id(lst),id(lst2))#ids will be Different\n",
    "print(lst,lst2)#Though the contents are same\n",
    "print(id(lst[7][1]))\n",
    "print(id(lst2[7][1]))#Same for sublists\n",
    "print(id(lst[1]),id(lst2[1]))#differs since we assigned 15 to lst2[1]\n",
    "print(id(lst[2]),id(lst2[2]))#Same for elements of the list\n",
    "print(id(lst[7]),id(lst2[7]))\n",
    "\n",
    "# check deep copy"
   ]
  },
  {
   "cell_type": "code",
   "execution_count": 27,
   "metadata": {},
   "outputs": [
    {
     "name": "stdout",
     "output_type": "stream",
     "text": [
      "[0, 2, 4, 6, 8, 10, 12, 14, 16, 18, 20, 22, 24, 26, 28, 30, 32, 34, 36, 38, 40, 42, 44, 46, 48]\n",
      "[2, 4, 6, 8, 10, 12, 14, 16, 18, 20, 22, 24, 26, 28, 30, 32, 34, 36, 38, 40, 42, 44, 46, 48]\n",
      "[1, 3, 5, 7, 9, 11, 13, 15, 17, 19, 21, 23, 25, 27, 29, 31, 33, 35, 37, 39, 41, 43, 45, 47]\n",
      "[4, 16, 36, 64, 100, 144, 196, 256, 324, 400, 484, 576, 676, 784, 900, 1024, 1156, 1296, 1444, 1600, 1764, 1936, 2116, 2304]\n"
     ]
    }
   ],
   "source": [
    "lsteven = []\n",
    "for i in range(0,50):\n",
    "  if(i % 2 == 0):\n",
    "    lsteven.append(i)\n",
    "print(lsteven)\n",
    "\n",
    "# the same result\n",
    "print([i for i in range(2,50) if i % 2 == 0])\n",
    "print([i-1 for i in range(2,50) if i % 2 == 0])\n",
    "print([i**2 for i in range(2,50) if i % 2 == 0])"
   ]
  },
  {
   "cell_type": "code",
   "execution_count": 31,
   "metadata": {},
   "outputs": [
    {
     "name": "stdout",
     "output_type": "stream",
     "text": [
      "[[0, 0, 0, 0], [0, 1, 2, 3], [0, 2, 4, 6], [0, 3, 6, 9]]\n",
      "[[[0, 0, 0], [0, 0, 0], [0, 0, 0], [0, 0, 0], [0, 0, 0], [1, 1, 1], [2, 2, 2], [3, 3, 3], [0, 0, 0], [2, 2, 2], [4, 4, 4], [6, 6, 6], [0, 0, 0], [3, 3, 3], [6, 6, 6], [9, 9, 9]]]\n"
     ]
    }
   ],
   "source": [
    "\n",
    "print([[i*j for j in range(4)]for i in range(4)])\n",
    "print([[[i*j for k in range(3)]for j in range(4) for i in range(4)]])\n"
   ]
  },
  {
   "cell_type": "markdown",
   "metadata": {},
   "source": [
    "# Tuple data type\n",
    "Tuples are immutable, you cant append\n",
    "## print(dir(tuple))\n",
    "### ['count', 'index']\n"
   ]
  },
  {
   "cell_type": "code",
   "execution_count": 36,
   "metadata": {},
   "outputs": [
    {
     "name": "stdout",
     "output_type": "stream",
     "text": [
      "(1, 2, 3)\n",
      "1 2 3\n",
      "(1, 2, 3, 4)\n",
      "4\n",
      "1\n",
      "3\n"
     ]
    }
   ],
   "source": [
    "#Packing and Unpackig\n",
    "\n",
    "tpl = (1,2,3)\n",
    "print(tpl)\n",
    "a,b ,c = tpl\n",
    "print(a,b,c)\n",
    "d =4\n",
    "tpl1 = a ,b , c ,d\n",
    "print(tpl1)\n",
    "print(tpl1[3])\n",
    "print(tpl.count(1))#Number of occurrences\n",
    "print(tpl[2])"
   ]
  },
  {
   "cell_type": "code",
   "execution_count": null,
   "metadata": {},
   "outputs": [],
   "source": []
  }
 ],
 "metadata": {
  "kernelspec": {
   "display_name": "Python 3",
   "language": "python",
   "name": "python3"
  },
  "language_info": {
   "codemirror_mode": {
    "name": "ipython",
    "version": 3
   },
   "file_extension": ".py",
   "mimetype": "text/x-python",
   "name": "python",
   "nbconvert_exporter": "python",
   "pygments_lexer": "ipython3",
   "version": "3.8.5"
  }
 },
 "nbformat": 4,
 "nbformat_minor": 4
}
