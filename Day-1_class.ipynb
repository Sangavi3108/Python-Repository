{
 "cells": [
  {
   "cell_type": "code",
   "execution_count": 1,
   "metadata": {},
   "outputs": [
    {
     "name": "stdout",
     "output_type": "stream",
     "text": [
      "10\n",
      "0b1010\n",
      "0o23\n",
      "83\n",
      "0x53\n",
      "0x78\n",
      "0x28\n",
      "40\n"
     ]
    }
   ],
   "source": [
    "# This is day one class - induction \n",
    "a = 0B1010\n",
    "print(a)\n",
    "a = 10\n",
    "print (bin(a))\n",
    "a =19\n",
    "print(oct(a))\n",
    "a = 0O123\n",
    "print(a)\n",
    "print(hex(a))\n",
    "a=120\n",
    "print(hex(a))\n",
    "a=hex(0b101000)\n",
    "print(a)\n",
    "a = eval(a)\n",
    "print(a)"
   ]
  },
  {
   "cell_type": "code",
   "execution_count": 2,
   "metadata": {},
   "outputs": [
    {
     "name": "stdout",
     "output_type": "stream",
     "text": [
      "<class 'float'>\n",
      "<class 'float'>\n"
     ]
    }
   ],
   "source": [
    "# complex types\n",
    "a = 10 + 20j;\n",
    "print(type(a.real))\n",
    "print(type(a.imag))\n",
    "#help(complex)"
   ]
  },
  {
   "cell_type": "code",
   "execution_count": null,
   "metadata": {},
   "outputs": [],
   "source": [
    "#How to get input from the user in python\n",
    "age = int(input('Enter your age:  '))\n",
    "print (age,type(age))"
   ]
  },
  {
   "cell_type": "code",
   "execution_count": null,
   "metadata": {},
   "outputs": [],
   "source": []
  }
 ],
 "metadata": {
  "kernelspec": {
   "display_name": "Python 3",
   "language": "python",
   "name": "python3"
  },
  "language_info": {
   "codemirror_mode": {
    "name": "ipython",
    "version": 3
   },
   "file_extension": ".py",
   "mimetype": "text/x-python",
   "name": "python",
   "nbconvert_exporter": "python",
   "pygments_lexer": "ipython3",
   "version": "3.8.5"
  }
 },
 "nbformat": 4,
 "nbformat_minor": 4
}
